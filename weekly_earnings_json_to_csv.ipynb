{
 "cells": [
  {
   "cell_type": "code",
   "execution_count": 1,
   "metadata": {},
   "outputs": [
    {
     "name": "stdout",
     "output_type": "stream",
     "text": [
      "\n",
      "CommandNotFoundError: Your shell has not been properly configured to use 'conda activate'.\n",
      "To initialize your shell, run\n",
      "\n",
      "    $ conda init <SHELL_NAME>\n",
      "\n",
      "Currently supported shells are:\n",
      "  - bash\n",
      "  - fish\n",
      "  - tcsh\n",
      "  - xonsh\n",
      "  - zsh\n",
      "  - powershell\n",
      "\n",
      "See 'conda init --help' for more information and options.\n",
      "\n",
      "IMPORTANT: You may need to close and restart your shell after running 'conda init'.\n",
      "\n",
      "\n"
     ]
    }
   ],
   "source": [
    "!conda activate THE_ONE\n",
    "from IPython.core.interactiveshell import InteractiveShell\n",
    "InteractiveShell.ast_node_interactivity =  \"all\""
   ]
  },
  {
   "cell_type": "code",
   "execution_count": 2,
   "metadata": {},
   "outputs": [],
   "source": [
    "# load the json /data/weekly_earnings.json to a pandas dataframe, save to /data/weekly_earnings.csv\n",
    "# import necessary libraries\n",
    "import pandas as pd\n",
    "import json\n",
    "\n",
    "# open and load the json file\n",
    "with open('data/weekly_earnings.json') as f:\n",
    "    d = json.load(f)\n",
    "    \n",
    "# define the data path: data_path\n",
    "data_path = 'data/'\n",
    "\n",
    "# make a directory for the data cleaned: data_cleaned_path\n",
    "data_cleaned_path = 'data_cleaned/'\n",
    "# system command: mkdir\n",
    "# check if the directory exists, if not, create it; if yes, do nothing\n",
    "!mkdir -p $data_cleaned_path\n",
    "\n",
    "\n"
   ]
  },
  {
   "attachments": {},
   "cell_type": "markdown",
   "metadata": {},
   "source": [
    "# Part 1: read json and convert to the csv file"
   ]
  },
  {
   "cell_type": "code",
   "execution_count": 3,
   "metadata": {},
   "outputs": [],
   "source": [
    "# convert the json file to a pandas dataframe\n",
    "# record the keys as the column names\n",
    "# record the values as the rows\n",
    "# record_path is the path to the \"data\" key\n",
    "df = pd.json_normalize(d, record_path='data')\n"
   ]
  },
  {
   "cell_type": "code",
   "execution_count": 4,
   "metadata": {},
   "outputs": [],
   "source": [
    "# json file structure:\n",
    "\n",
    "# {\n",
    "#   \"meta\" : {\n",
    "#     \"view\" : {\n",
    "#       \"id\" : \"gjxb-ck3u\",\n",
    "#       \"name\" : \"Average Weekly Earnings\",\n",
    "#       \"attribution\" : \"Statistics Canada\",\n",
    "#       \"attributionLink\" : \"http://www5.statcan.gc.ca/cansim/a26?lang=eng&retrLang=eng&id=2810026&paSer=&pattern=&stByVal=1&p1=1&p2=-1&tabMode=dataTable&csid=\",\n",
    "#       \"averageRating\" : 0,\n",
    "#       \"createdAt\" : 1391094794,\n",
    "#       \"description\" : \"Average weekly earnings are derived by dividing total weekly earnings (including overtime earnings) by the number of employees. This data is compiled from the Survey of Employment, Payrolls and Hours which is a business census of non-farm payroll employees.\",\n",
    "#       \"displayType\" : \"table\",\n",
    "#       \"downloadCount\" : 569,\n",
    "#       \"indexUpdatedAt\" : 1435600866,\n",
    "#       \"newBackend\" : false,\n",
    "#       \"numberOfComments\" : 0,\n",
    "#       \"oid\" : 7258663,\n",
    "#       \"publicationAppendEnabled\" : false,\n",
    "#       \"publicationDate\" : 1391795164,\n",
    "#       \"publicationGroup\" : 1460088,\n",
    "#       \"publicationStage\" : \"published\",\n",
    "#       \"rowClass\" : \"\",\n",
    "#       \"rowsUpdatedAt\" : 1435599444,\n",
    "#       \"rowsUpdatedBy\" : \"us8s-63ci\",\n",
    "#       \"state\" : \"normal\",\n",
    "#       \"tableId\" : 1460088,\n",
    "#       \"totalTimesRated\" : 0,\n",
    "#       \"viewCount\" : 366766,\n",
    "#       \"viewLastModified\" : 1392925564,\n",
    "#       \"viewType\" : \"tabular\",\n",
    "#       \"columns\" : [ {\n",
    "#         \"id\" : -1,\n",
    "#         \"name\" : \"sid\",\n",
    "#         \"dataTypeName\" : \"meta_data\",\n",
    "#         \"fieldName\" : \":sid\",\n",
    "#         \"position\" : 0,\n",
    "#         \"renderTypeName\" : \"meta_data\",\n",
    "#         \"format\" : {\n",
    "#         }\n",
    "#       }, {\n",
    "#         \"id\" : -1,\n",
    "#         \"name\" : \"id\",\n",
    "#         \"dataTypeName\" : \"meta_data\",\n",
    "#         \"fieldName\" : \":id\",\n",
    "#         \"position\" : 0,\n",
    "#         \"renderTypeName\" : \"meta_data\",\n",
    "#         \"format\" : {\n",
    "#         }\n",
    "#       }, {\n",
    "#         \"id\" : -1,\n",
    "#         \"name\" : \"position\",\n",
    "#         \"dataTypeName\" : \"meta_data\",\n",
    "#         \"fieldName\" : \":position\",\n",
    "#         \"position\" : 0,\n",
    "#         \"renderTypeName\" : \"meta_data\",\n",
    "#         \"format\" : {\n",
    "#         }\n",
    "#       }, {\n",
    "#         \"id\" : -1,\n",
    "#         \"name\" : \"created_at\",\n",
    "#         \"dataTypeName\" : \"meta_data\",\n",
    "#         \"fieldName\" : \":created_at\",\n",
    "#         \"position\" : 0,\n",
    "#         \"renderTypeName\" : \"meta_data\",\n",
    "#         \"format\" : {\n",
    "#         }\n",
    "#       }, {\n",
    "#         \"id\" : -1,\n",
    "#         \"name\" : \"created_meta\",\n",
    "#         \"dataTypeName\" : \"meta_data\",\n",
    "#         \"fieldName\" : \":created_meta\",\n",
    "#         \"position\" : 0,\n",
    "#         \"renderTypeName\" : \"meta_data\",\n",
    "#         \"format\" : {\n",
    "#         }\n",
    "#       }, {\n",
    "#         \"id\" : -1,\n",
    "#         \"name\" : \"updated_at\",\n",
    "#         \"dataTypeName\" : \"meta_data\",\n",
    "#         \"fieldName\" : \":updated_at\",\n",
    "#         \"position\" : 0,\n",
    "#         \"renderTypeName\" : \"meta_data\",\n",
    "#         \"format\" : {\n",
    "#         }\n",
    "#       }, {\n",
    "#         \"id\" : -1,\n",
    "#         \"name\" : \"updated_meta\",\n",
    "#         \"dataTypeName\" : \"meta_data\",\n",
    "#         \"fieldName\" : \":updated_meta\",\n",
    "#         \"position\" : 0,\n",
    "#         \"renderTypeName\" : \"meta_data\",\n",
    "#         \"format\" : {\n",
    "#         }\n",
    "#       }, {\n",
    "#         \"id\" : -1,\n",
    "#         \"name\" : \"meta\",\n",
    "#         \"dataTypeName\" : \"meta_data\",\n",
    "#         \"fieldName\" : \":meta\",\n",
    "#         \"position\" : 0,\n",
    "#         \"renderTypeName\" : \"meta_data\",\n",
    "#         \"format\" : {\n",
    "#         }\n",
    "#       }, {\n",
    "#         \"id\" : 131248874,\n",
    "#         \"name\" : \"When\",\n",
    "#         \"dataTypeName\" : \"calendar_date\",\n",
    "#         \"fieldName\" : \"when\",\n",
    "#         \"position\" : 1,\n",
    "#         \"renderTypeName\" : \"calendar_date\",\n",
    "#         \"tableColumnId\" : 17874417,\n",
    "#         \"width\" : 160,\n",
    "#         \"cachedContents\" : {\n",
    "#           \"non_null\" : 172,\n",
    "#           \"smallest\" : \"2001-01-01T00:00:00\",\n",
    "#           \"null\" : 0,\n",
    "#           \"largest\" : \"2015-04-01T00:00:00\",\n",
    "#           \"top\" : [ {\n",
    "#             \"count\" : 20,\n",
    "#             \"item\" : \"2014-09-01T00:00:00\"\n",
    "#           }, {\n",
    "#             \"count\" : 19,\n",
    "#             \"item\" : \"2014-10-01T00:00:00\"\n",
    "#           }, {\n",
    "#             \"count\" : 18,\n",
    "#             \"item\" : \"2014-11-01T00:00:00\"\n",
    "#           }, {\n",
    "#             \"count\" : 17,\n",
    "#             \"item\" : \"2014-12-01T00:00:00\"\n",
    "#           }, {\n",
    "#             \"count\" : 16,\n",
    "#             \"item\" : \"2015-01-01T00:00:00\"\n",
    "#           }, {\n",
    "#             \"count\" : 15,\n",
    "#             \"item\" : \"2015-02-01T00:00:00\"\n",
    "#           }, {\n",
    "#             \"count\" : 14,\n",
    "#             \"item\" : \"2015-03-01T00:00:00\"\n",
    "#           }, {\n",
    "#             \"count\" : 13,\n",
    "#             \"item\" : \"2015-04-01T00:00:00\"\n",
    "#           } ]\n",
    "#         },\n",
    "#         \"format\" : {\n",
    "#           \"view\" : \"date\",\n",
    "#           \"align\" : \"left\"\n",
    "#         }\n",
    "#       }, {\n",
    "#         \"id\" : 131248875,\n",
    "#         \"name\" : \"NAICS\",\n",
    "#         \"dataTypeName\" : \"text\",\n",
    "#         \"fieldName\" : \"naics\",\n",
    "#         \"position\" : 2,\n",
    "#         \"renderTypeName\" : \"text\",\n",
    "#         \"tableColumnId\" : 17874418,\n",
    "#         \"width\" : 160,\n",
    "#         \"cachedContents\" : {\n",
    "#           \"non_null\" : 172,\n",
    "#           \"smallest\" : \"Industrial aggregate excluding unclassified businesses\",\n",
    "#           \"null\" : 0,\n",
    "#           \"largest\" : \"Industrial aggregate excluding unclassified businesses\",\n",
    "#           \"top\" : [ {\n",
    "#             \"count\" : 20,\n",
    "#             \"item\" : \"Industrial aggregate excluding unclassified businesses\"\n",
    "#           } ]\n",
    "#         },\n",
    "#         \"format\" : {\n",
    "#         }\n",
    "#       }, {\n",
    "#         \"id\" : 131248876,\n",
    "#         \"name\" : \"Alberta\",\n",
    "#         \"dataTypeName\" : \"number\",\n",
    "#         \"fieldName\" : \"alberta\",\n",
    "#         \"position\" : 3,\n",
    "#         \"renderTypeName\" : \"number\",\n",
    "#         \"tableColumnId\" : 17874419,\n",
    "#         \"width\" : 184,\n",
    "#         \"cachedContents\" : {\n",
    "#           \"non_null\" : 172,\n",
    "#           \"smallest\" : \"664.45\",\n",
    "#           \"sum\" : \"154961.85\",\n",
    "#           \"null\" : 0,\n",
    "#           \"average\" : \"900.9409883720930\",\n",
    "#           \"largest\" : \"1176.32\",\n",
    "#           \"top\" : [ {\n",
    "#             \"count\" : 20,\n",
    "#             \"item\" : \"1159.89\"\n",
    "#           }, {\n",
    "#             \"count\" : 19,\n",
    "#             \"item\" : \"1163.69\"\n",
    "#           }, {\n",
    "#             \"count\" : 18,\n",
    "#             \"item\" : \"1160.77\"\n",
    "#           }, {\n",
    "#             \"count\" : 17,\n",
    "#             \"item\" : \"1159.60\"\n",
    "#           }, {\n",
    "#             \"count\" : 16,\n",
    "#             \"item\" : \"1158.79\"\n",
    "#           }, {\n",
    "#             \"count\" : 15,\n",
    "#             \"item\" : \"1176.32\"\n",
    "#           }, {\n",
    "#             \"count\" : 14,\n",
    "#             \"item\" : \"1173.23\"\n",
    "#           }, {\n",
    "#             \"count\" : 13,\n",
    "#             \"item\" : \"1150.61\"\n",
    "#           } ]\n",
    "#         },\n",
    "#         \"format\" : {\n",
    "#           \"precisionStyle\" : \"standard\",\n",
    "#           \"precision\" : \"2\",\n",
    "#           \"align\" : \"right\",\n",
    "#           \"noCommas\" : \"false\"\n",
    "#         }\n",
    "#       }, {\n",
    "#         \"id\" : 131248877,\n",
    "#         \"name\" : \"BritishColumbia\",\n",
    "#         \"dataTypeName\" : \"number\",\n",
    "#         \"fieldName\" : \"britishcolumbia\",\n",
    "#         \"position\" : 4,\n",
    "#         \"renderTypeName\" : \"number\",\n",
    "#         \"tableColumnId\" : 17874420,\n",
    "#         \"width\" : 280,\n",
    "#         \"cachedContents\" : {\n",
    "#           \"non_null\" : 172,\n",
    "#           \"smallest\" : \"653.23\",\n",
    "#           \"sum\" : \"133555.31\",\n",
    "#           \"null\" : 0,\n",
    "#           \"average\" : \"776.4843604651163\",\n",
    "#           \"largest\" : \"919.20\",\n",
    "#           \"top\" : [ {\n",
    "#             \"count\" : 20,\n",
    "#             \"item\" : \"896.29\"\n",
    "#           }, {\n",
    "#             \"count\" : 19,\n",
    "#             \"item\" : \"901.86\"\n",
    "#           }, {\n",
    "#             \"count\" : 18,\n",
    "#             \"item\" : \"902.69\"\n",
    "#           }, {\n",
    "#             \"count\" : 17,\n",
    "#             \"item\" : \"904.11\"\n",
    "#           }, {\n",
    "#             \"count\" : 16,\n",
    "#             \"item\" : \"911.57\"\n",
    "#           }, {\n",
    "#             \"count\" : 15,\n",
    "#             \"item\" : \"919.20\"\n",
    "#           }, {\n",
    "#             \"count\" : 14,\n",
    "#             \"item\" : \"911.73\"\n",
    "#           }, {\n",
    "#             \"count\" : 13,\n",
    "#             \"item\" : \"899.15\"\n",
    "#           } ]\n",
    "#         },\n",
    "#         \"format\" : {\n",
    "#           \"precisionStyle\" : \"standard\",\n",
    "#           \"precision\" : \"2\",\n",
    "#           \"align\" : \"right\",\n",
    "#           \"noCommas\" : \"false\"\n",
    "#         }\n",
    "#       }, {\n",
    "#         \"id\" : 131248878,\n",
    "#         \"name\" : \"Canada\",\n",
    "#         \"dataTypeName\" : \"number\",\n",
    "#         \"fieldName\" : \"canada\",\n",
    "#         \"position\" : 5,\n",
    "#         \"renderTypeName\" : \"number\",\n",
    "#         \"tableColumnId\" : 17874421,\n",
    "#         \"width\" : 172,\n",
    "#         \"cachedContents\" : {\n",
    "#           \"non_null\" : 172,\n",
    "#           \"smallest\" : \"650.02\",\n",
    "#           \"sum\" : \"137122.90\",\n",
    "#           \"null\" : 0,\n",
    "#           \"average\" : \"797.2261627906977\",\n",
    "#           \"largest\" : \"957.80\",\n",
    "#           \"top\" : [ {\n",
    "#             \"count\" : 20,\n",
    "#             \"item\" : \"934.74\"\n",
    "#           }, {\n",
    "#             \"count\" : 19,\n",
    "#             \"item\" : \"940.68\"\n",
    "#           }, {\n",
    "#             \"count\" : 18,\n",
    "#             \"item\" : \"937.83\"\n",
    "#           }, {\n",
    "#             \"count\" : 17,\n",
    "#             \"item\" : \"948.40\"\n",
    "#           }, {\n",
    "#             \"count\" : 16,\n",
    "#             \"item\" : \"944.98\"\n",
    "#           }, {\n",
    "#             \"count\" : 15,\n",
    "#             \"item\" : \"957.80\"\n",
    "#           }, {\n",
    "#             \"count\" : 14,\n",
    "#             \"item\" : \"956.50\"\n",
    "#           }, {\n",
    "#             \"count\" : 13,\n",
    "#             \"item\" : \"954.70\"\n",
    "#           } ]\n",
    "#         },\n",
    "#         \"format\" : {\n",
    "#           \"precisionStyle\" : \"standard\",\n",
    "#           \"precision\" : \"2\",\n",
    "#           \"align\" : \"right\",\n",
    "#           \"noCommas\" : \"false\"\n",
    "#         }\n",
    "#       }, {\n",
    "#         \"id\" : 131248879,\n",
    "#         \"name\" : \"Manitoba\",\n",
    "#         \"dataTypeName\" : \"number\",\n",
    "#         \"fieldName\" : \"manitoba\",\n",
    "#         \"position\" : 6,\n",
    "#         \"renderTypeName\" : \"number\",\n",
    "#         \"tableColumnId\" : 17874422,\n",
    "#         \"width\" : 196,\n",
    "#         \"cachedContents\" : {\n",
    "#           \"non_null\" : 172,\n",
    "#           \"smallest\" : \"571.84\",\n",
    "#           \"sum\" : \"124970.50\",\n",
    "#           \"null\" : 0,\n",
    "#           \"average\" : \"726.5726744186047\",\n",
    "#           \"largest\" : \"886.94\",\n",
    "#           \"top\" : [ {\n",
    "#             \"count\" : 20,\n",
    "#             \"item\" : \"869.33\"\n",
    "#           }, {\n",
    "#             \"count\" : 19,\n",
    "#             \"item\" : \"872.41\"\n",
    "#           }, {\n",
    "#             \"count\" : 18,\n",
    "#             \"item\" : \"862.07\"\n",
    "#           }, {\n",
    "#             \"count\" : 17,\n",
    "#             \"item\" : \"886.94\"\n",
    "#           }, {\n",
    "#             \"count\" : 16,\n",
    "#             \"item\" : \"875.17\"\n",
    "#           }, {\n",
    "#             \"count\" : 15,\n",
    "#             \"item\" : \"873.35\"\n",
    "#           }, {\n",
    "#             \"count\" : 14,\n",
    "#             \"item\" : \"865.29\"\n",
    "#           }, {\n",
    "#             \"count\" : 13,\n",
    "#             \"item\" : \"864.69\"\n",
    "#           } ]\n",
    "#         },\n",
    "#         \"format\" : {\n",
    "#           \"precisionStyle\" : \"standard\",\n",
    "#           \"precision\" : \"2\",\n",
    "#           \"align\" : \"right\",\n",
    "#           \"noCommas\" : \"false\"\n",
    "#         }\n",
    "#       }, {\n",
    "#         \"id\" : 131248880,\n",
    "#         \"name\" : \"NewBrunswick\",\n",
    "#         \"dataTypeName\" : \"number\",\n",
    "#         \"fieldName\" : \"newbrunswick\",\n",
    "#         \"position\" : 7,\n",
    "#         \"renderTypeName\" : \"number\",\n",
    "#         \"tableColumnId\" : 17874423,\n",
    "#         \"width\" : 244,\n",
    "#         \"cachedContents\" : {\n",
    "#           \"non_null\" : 172,\n",
    "#           \"smallest\" : \"578.44\",\n",
    "#           \"sum\" : \"122782.43\",\n",
    "#           \"null\" : 0,\n",
    "#           \"average\" : \"713.8513372093023\",\n",
    "#           \"largest\" : \"864.81\",\n",
    "#           \"top\" : [ {\n",
    "#             \"count\" : 20,\n",
    "#             \"item\" : \"836.43\"\n",
    "#           }, {\n",
    "#             \"count\" : 19,\n",
    "#             \"item\" : \"838.49\"\n",
    "#           }, {\n",
    "#             \"count\" : 18,\n",
    "#             \"item\" : \"838.71\"\n",
    "#           }, {\n",
    "#             \"count\" : 17,\n",
    "#             \"item\" : \"856.35\"\n",
    "#           }, {\n",
    "#             \"count\" : 16,\n",
    "#             \"item\" : \"842.03\"\n",
    "#           }, {\n",
    "#             \"count\" : 15,\n",
    "#             \"item\" : \"854.39\"\n",
    "#           }, {\n",
    "#             \"count\" : 14,\n",
    "#             \"item\" : \"848.22\"\n",
    "#           }, {\n",
    "#             \"count\" : 13,\n",
    "#             \"item\" : \"864.81\"\n",
    "#           } ]\n",
    "#         },\n",
    "#         \"format\" : {\n",
    "#           \"precisionStyle\" : \"standard\",\n",
    "#           \"precision\" : \"2\",\n",
    "#           \"align\" : \"right\",\n",
    "#           \"noCommas\" : \"false\"\n",
    "#         }\n",
    "#       }, {\n",
    "#         \"id\" : 131248881,\n",
    "#         \"name\" : \"NewfoundlandAndLabrador\",\n",
    "#         \"dataTypeName\" : \"number\",\n",
    "#         \"fieldName\" : \"newfoundlandandlabrador\",\n",
    "#         \"position\" : 8,\n",
    "#         \"renderTypeName\" : \"number\",\n",
    "#         \"tableColumnId\" : 17874424,\n",
    "#         \"width\" : 376,\n",
    "#         \"cachedContents\" : {\n",
    "#           \"non_null\" : 172,\n",
    "#           \"smallest\" : \"585.27\",\n",
    "#           \"sum\" : \"133323.97\",\n",
    "#           \"null\" : 0,\n",
    "#           \"average\" : \"775.1393604651163\",\n",
    "#           \"largest\" : \"1022.75\",\n",
    "#           \"top\" : [ {\n",
    "#             \"count\" : 20,\n",
    "#             \"item\" : \"997.27\"\n",
    "#           }, {\n",
    "#             \"count\" : 19,\n",
    "#             \"item\" : \"1001.57\"\n",
    "#           }, {\n",
    "#             \"count\" : 18,\n",
    "#             \"item\" : \"1007.37\"\n",
    "#           }, {\n",
    "#             \"count\" : 17,\n",
    "#             \"item\" : \"1006.98\"\n",
    "#           }, {\n",
    "#             \"count\" : 16,\n",
    "#             \"item\" : \"1007.20\"\n",
    "#           }, {\n",
    "#             \"count\" : 15,\n",
    "#             \"item\" : \"1015.85\"\n",
    "#           }, {\n",
    "#             \"count\" : 14,\n",
    "#             \"item\" : \"1022.75\"\n",
    "#           }, {\n",
    "#             \"count\" : 13,\n",
    "#             \"item\" : \"1019.61\"\n",
    "#           } ]\n",
    "#         },\n",
    "#         \"format\" : {\n",
    "#           \"precisionStyle\" : \"standard\",\n",
    "#           \"precision\" : \"2\",\n",
    "#           \"align\" : \"right\",\n",
    "#           \"noCommas\" : \"false\"\n",
    "#         }\n",
    "#       }, {\n",
    "#         \"id\" : 131248882,\n",
    "#         \"name\" : \"NovaScotia\",\n",
    "#         \"dataTypeName\" : \"number\",\n",
    "#         \"fieldName\" : \"novascotia\",\n",
    "#         \"position\" : 9,\n",
    "#         \"renderTypeName\" : \"number\",\n",
    "#         \"tableColumnId\" : 17874425,\n",
    "#         \"width\" : 220,\n",
    "#         \"cachedContents\" : {\n",
    "#           \"non_null\" : 172,\n",
    "#           \"smallest\" : \"567.96\",\n",
    "#           \"sum\" : \"120969.54\",\n",
    "#           \"null\" : 0,\n",
    "#           \"average\" : \"703.3112790697674\",\n",
    "#           \"largest\" : \"836.76\",\n",
    "#           \"top\" : [ {\n",
    "#             \"count\" : 20,\n",
    "#             \"item\" : \"811.21\"\n",
    "#           }, {\n",
    "#             \"count\" : 19,\n",
    "#             \"item\" : \"820.12\"\n",
    "#           }, {\n",
    "#             \"count\" : 18,\n",
    "#             \"item\" : \"816.48\"\n",
    "#           }, {\n",
    "#             \"count\" : 17,\n",
    "#             \"item\" : \"836.76\"\n",
    "#           }, {\n",
    "#             \"count\" : 16,\n",
    "#             \"item\" : \"830.52\"\n",
    "#           }, {\n",
    "#             \"count\" : 15,\n",
    "#             \"item\" : \"829.09\"\n",
    "#           }, {\n",
    "#             \"count\" : 14,\n",
    "#             \"item\" : \"823.01\"\n",
    "#           }, {\n",
    "#             \"count\" : 13,\n",
    "#             \"item\" : \"835.31\"\n",
    "#           } ]\n",
    "#         },\n",
    "#         \"format\" : {\n",
    "#           \"precisionStyle\" : \"standard\",\n",
    "#           \"precision\" : \"2\",\n",
    "#           \"align\" : \"right\",\n",
    "#           \"noCommas\" : \"false\"\n",
    "#         }\n",
    "#       }, {\n",
    "#         \"id\" : 131248883,\n",
    "#         \"name\" : \"Ontario\",\n",
    "#         \"dataTypeName\" : \"number\",\n",
    "#         \"fieldName\" : \"ontario\",\n",
    "#         \"position\" : 10,\n",
    "#         \"renderTypeName\" : \"number\",\n",
    "#         \"tableColumnId\" : 17874426,\n",
    "#         \"width\" : 184,\n",
    "#         \"cachedContents\" : {\n",
    "#           \"non_null\" : 172,\n",
    "#           \"smallest\" : \"688.27\",\n",
    "#           \"sum\" : \"141783.66\",\n",
    "#           \"null\" : 0,\n",
    "#           \"average\" : \"824.3236046511628\",\n",
    "#           \"largest\" : \"969.17\",\n",
    "#           \"top\" : [ {\n",
    "#             \"count\" : 20,\n",
    "#             \"item\" : \"935.30\"\n",
    "#           }, {\n",
    "#             \"count\" : 19,\n",
    "#             \"item\" : \"936.71\"\n",
    "#           }, {\n",
    "#             \"count\" : 18,\n",
    "#             \"item\" : \"938.67\"\n",
    "#           }, {\n",
    "#             \"count\" : 17,\n",
    "#             \"item\" : \"950.38\"\n",
    "#           }, {\n",
    "#             \"count\" : 16,\n",
    "#             \"item\" : \"951.10\"\n",
    "#           }, {\n",
    "#             \"count\" : 15,\n",
    "#             \"item\" : \"969.17\"\n",
    "#           }, {\n",
    "#             \"count\" : 14,\n",
    "#             \"item\" : \"968.75\"\n",
    "#           }, {\n",
    "#             \"count\" : 13,\n",
    "#             \"item\" : \"964.80\"\n",
    "#           } ]\n",
    "#         },\n",
    "#         \"format\" : {\n",
    "#           \"precisionStyle\" : \"standard\",\n",
    "#           \"precision\" : \"2\",\n",
    "#           \"align\" : \"right\",\n",
    "#           \"noCommas\" : \"false\"\n",
    "#         }\n",
    "#       }, {\n",
    "#         \"id\" : 131248884,\n",
    "#         \"name\" : \"PrinceEdwardIsland\",\n",
    "#         \"dataTypeName\" : \"number\",\n",
    "#         \"fieldName\" : \"princeedwardisland\",\n",
    "#         \"position\" : 11,\n",
    "#         \"renderTypeName\" : \"number\",\n",
    "#         \"tableColumnId\" : 17874427,\n",
    "#         \"width\" : 316,\n",
    "#         \"cachedContents\" : {\n",
    "#           \"non_null\" : 172,\n",
    "#           \"smallest\" : \"509.55\",\n",
    "#           \"sum\" : \"113128.15\",\n",
    "#           \"null\" : 0,\n",
    "#           \"average\" : \"657.7218023255814\",\n",
    "#           \"largest\" : \"809.92\",\n",
    "#           \"top\" : [ {\n",
    "#             \"count\" : 20,\n",
    "#             \"item\" : \"757.86\"\n",
    "#           }, {\n",
    "#             \"count\" : 19,\n",
    "#             \"item\" : \"774.24\"\n",
    "#           }, {\n",
    "#             \"count\" : 18,\n",
    "#             \"item\" : \"782.53\"\n",
    "#           }, {\n",
    "#             \"count\" : 17,\n",
    "#             \"item\" : \"803.66\"\n",
    "#           }, {\n",
    "#             \"count\" : 16,\n",
    "#             \"item\" : \"794.39\"\n",
    "#           }, {\n",
    "#             \"count\" : 15,\n",
    "#             \"item\" : \"792.26\"\n",
    "#           }, {\n",
    "#             \"count\" : 14,\n",
    "#             \"item\" : \"800.10\"\n",
    "#           }, {\n",
    "#             \"count\" : 13,\n",
    "#             \"item\" : \"809.92\"\n",
    "#           } ]\n",
    "#         },\n",
    "#         \"format\" : {\n",
    "#           \"precisionStyle\" : \"standard\",\n",
    "#           \"precision\" : \"2\",\n",
    "#           \"align\" : \"right\",\n",
    "#           \"noCommas\" : \"false\"\n",
    "#         }\n",
    "#       }, {\n",
    "#         \"id\" : 131248885,\n",
    "#         \"name\" : \"Quebec\",\n",
    "#         \"dataTypeName\" : \"number\",\n",
    "#         \"fieldName\" : \"quebec\",\n",
    "#         \"position\" : 12,\n",
    "#         \"renderTypeName\" : \"number\",\n",
    "#         \"tableColumnId\" : 17874428,\n",
    "#         \"width\" : 172,\n",
    "#         \"cachedContents\" : {\n",
    "#           \"non_null\" : 172,\n",
    "#           \"smallest\" : \"618.90\",\n",
    "#           \"sum\" : \"127414.77\",\n",
    "#           \"null\" : 0,\n",
    "#           \"average\" : \"740.7835465116279\",\n",
    "#           \"largest\" : \"881.27\",\n",
    "#           \"top\" : [ {\n",
    "#             \"count\" : 20,\n",
    "#             \"item\" : \"842.92\"\n",
    "#           }, {\n",
    "#             \"count\" : 19,\n",
    "#             \"item\" : \"858.82\"\n",
    "#           }, {\n",
    "#             \"count\" : 18,\n",
    "#             \"item\" : \"844.51\"\n",
    "#           }, {\n",
    "#             \"count\" : 17,\n",
    "#             \"item\" : \"862.12\"\n",
    "#           }, {\n",
    "#             \"count\" : 16,\n",
    "#             \"item\" : \"846.73\"\n",
    "#           }, {\n",
    "#             \"count\" : 15,\n",
    "#             \"item\" : \"857.53\"\n",
    "#           }, {\n",
    "#             \"count\" : 14,\n",
    "#             \"item\" : \"861.10\"\n",
    "#           }, {\n",
    "#             \"count\" : 13,\n",
    "#             \"item\" : \"881.27\"\n",
    "#           } ]\n",
    "#         },\n",
    "#         \"format\" : {\n",
    "#           \"precisionStyle\" : \"standard\",\n",
    "#           \"precision\" : \"2\",\n",
    "#           \"align\" : \"right\",\n",
    "#           \"noCommas\" : \"false\"\n",
    "#         }\n",
    "#       }, {\n",
    "#         \"id\" : 131248886,\n",
    "#         \"name\" : \"Saskatchewan\",\n",
    "#         \"dataTypeName\" : \"number\",\n",
    "#         \"fieldName\" : \"saskatchewan\",\n",
    "#         \"position\" : 13,\n",
    "#         \"renderTypeName\" : \"number\",\n",
    "#         \"tableColumnId\" : 17874429,\n",
    "#         \"width\" : 244,\n",
    "#         \"cachedContents\" : {\n",
    "#           \"non_null\" : 172,\n",
    "#           \"smallest\" : \"587.41\",\n",
    "#           \"sum\" : \"133112.72\",\n",
    "#           \"null\" : 0,\n",
    "#           \"average\" : \"773.9111627906977\",\n",
    "#           \"largest\" : \"992.31\",\n",
    "#           \"top\" : [ {\n",
    "#             \"count\" : 20,\n",
    "#             \"item\" : \"979.19\"\n",
    "#           }, {\n",
    "#             \"count\" : 19,\n",
    "#             \"item\" : \"984.95\"\n",
    "#           }, {\n",
    "#             \"count\" : 18,\n",
    "#             \"item\" : \"992.31\"\n",
    "#           }, {\n",
    "#             \"count\" : 17,\n",
    "#             \"item\" : \"991.30\"\n",
    "#           }, {\n",
    "#             \"count\" : 16,\n",
    "#             \"item\" : \"982.60\"\n",
    "#           }, {\n",
    "#             \"count\" : 15,\n",
    "#             \"item\" : \"991.21\"\n",
    "#           }, {\n",
    "#             \"count\" : 14,\n",
    "#             \"item\" : \"988.79\"\n",
    "#           }, {\n",
    "#             \"count\" : 13,\n",
    "#             \"item\" : \"977.35\"\n",
    "#           } ]\n",
    "#         },\n",
    "#         \"format\" : {\n",
    "#           \"precisionStyle\" : \"standard\",\n",
    "#           \"precision\" : \"2\",\n",
    "#           \"align\" : \"right\",\n",
    "#           \"noCommas\" : \"false\"\n",
    "#         }\n",
    "#       } ],\n",
    "#       \"grants\" : [ {\n",
    "#         \"inherited\" : false,\n",
    "#         \"type\" : \"viewer\",\n",
    "#         \"flags\" : [ \"public\" ]\n",
    "#       } ],\n",
    "#       \"metadata\" : {\n",
    "#         \"custom_fields\" : {\n",
    "#           \"API & Download Information\" : {\n",
    "#             \"Available Download Formats\" : \"CSV, JSON, PDF, RDF, RSS, XLS, XLSX, XML\",\n",
    "#             \"API Access Endpoint\" : \"http://data.iae.alberta.ca/resource/gjxb-ck3u.json\",\n",
    "#             \"Dataset API Format\" : \"SODA\"\n",
    "#           },\n",
    "#           \"Creator Information\" : {\n",
    "#             \"Creator Website URL\" : \"http://www.statcan.gc.ca/start-debut-eng.html\",\n",
    "#             \"Creator Phone Number\" : \"1-800-263-1136\",\n",
    "#             \"Creator Email\" : \"infostats@statcan.gc.ca\"\n",
    "#           },\n",
    "#           \"Dataset Information\" : {\n",
    "#             \"Sensitivity\" : \"Unrestricted\",\n",
    "#             \"Secondary Data Provided By\" : \"\",\n",
    "#             \"Attribution Source\" : \"Adapted from Statistics Canada, Cansim table 281-0026, This does not constitute an endorsement by Statistics Canada of this product.\",\n",
    "#             \"Alternate Title\" : \"Average Weekly Earnings\",\n",
    "#             \"DatasetId\" : \"gjxb-ck3u\",\n",
    "#             \"Language\" : \"en-ca\",\n",
    "#             \"Frequency\" : \"Monthly\",\n",
    "#             \"Secondary Source Link\" : \"\",\n",
    "#             \"Time Coverage\" : \"since Jan 1991\"\n",
    "#           },\n",
    "#           \"Publisher Information\" : {\n",
    "#             \"Publisher Phone Number\" : \"780-415-4880\",\n",
    "#             \"Publisher Website URL\" : \"http://iae.alberta.ca\",\n",
    "#             \"Publisher Email\" : \"michael.parkatti@gov.ab.ca\"\n",
    "#           },\n",
    "#           \"Usage\" : {\n",
    "#             \"Usage Consideration\" : \"See attachment for usage\"\n",
    "#           }\n",
    "#         },\n",
    "#         \"renderTypeConfig\" : {\n",
    "#           \"visible\" : {\n",
    "#             \"table\" : true\n",
    "#           }\n",
    "#         },\n",
    "#         \"availableDisplayTypes\" : [ \"table\", \"fatrow\", \"page\" ],\n",
    "#         \"jsonQuery\" : {\n",
    "#           \"order\" : [ {\n",
    "#             \"ascending\" : true,\n",
    "#             \"columnFieldName\" : \"when\"\n",
    "#           } ]\n",
    "#         },\n",
    "#         \"rdfSubject\" : \"0\",\n",
    "#         \"attachments\" : [ {\n",
    "#           \"assetId\" : \"q0xKwd5SdcbrI_921oszuHshnMeQLuwtjtYEfg7emC8\",\n",
    "#           \"blobId\" : \"\",\n",
    "#           \"name\" : \"Usage Considerations - Average Weekly Earnings.pdf\",\n",
    "#           \"filename\" : \"Usage Considerations - Average Weekly Earnings.pdf\"\n",
    "#         } ],\n",
    "#         \"rowIdentifier\" : \"0\",\n",
    "#         \"rdfClass\" : \"\"\n",
    "#       },\n",
    "#       \"owner\" : {\n",
    "#         \"id\" : \"us8s-63ci\",\n",
    "#         \"displayName\" : \"Government of Alberta\",\n",
    "#         \"roleName\" : \"administrator\",\n",
    "#         \"screenName\" : \"Government of Alberta\",\n",
    "#         \"rights\" : [ \"create_datasets\", \"edit_others_datasets\", \"edit_sdp\", \"edit_site_theme\", \"moderate_comments\", \"manage_users\", \"chown_datasets\", \"edit_nominations\", \"approve_nominations\", \"feature_items\", \"federations\", \"manage_stories\", \"manage_approval\", \"change_configurations\", \"view_domain\", \"view_others_datasets\", \"edit_pages\", \"create_pages\", \"view_goals\", \"view_dashboards\", \"edit_goals\", \"edit_dashboards\", \"create_dashboards\" ]\n",
    "#       },\n",
    "#       \"query\" : {\n",
    "#         \"orderBys\" : [ {\n",
    "#           \"ascending\" : true,\n",
    "#           \"expression\" : {\n",
    "#             \"columnId\" : 131248874,\n",
    "#             \"type\" : \"column\"\n",
    "#           }\n",
    "#         } ]\n",
    "#       },\n",
    "#       \"rights\" : [ \"read\" ],\n",
    "#       \"sortBys\" : [ {\n",
    "#         \"id\" : 0,\n",
    "#         \"viewColumnId\" : 131248874,\n",
    "#         \"flags\" : [ \"asc\" ]\n",
    "#       } ],\n",
    "#       \"tableAuthor\" : {\n",
    "#         \"id\" : \"us8s-63ci\",\n",
    "#         \"displayName\" : \"Government of Alberta\",\n",
    "#         \"roleName\" : \"administrator\",\n",
    "#         \"screenName\" : \"Government of Alberta\",\n",
    "#         \"rights\" : [ \"create_datasets\", \"edit_others_datasets\", \"edit_sdp\", \"edit_site_theme\", \"moderate_comments\", \"manage_users\", \"chown_datasets\", \"edit_nominations\", \"approve_nominations\", \"feature_items\", \"federations\", \"manage_stories\", \"manage_approval\", \"change_configurations\", \"view_domain\", \"view_others_datasets\", \"edit_pages\", \"create_pages\", \"view_goals\", \"view_dashboards\", \"edit_goals\", \"edit_dashboards\", \"create_dashboards\" ]\n",
    "#       },\n",
    "#       \"tags\" : [ \"average weekly earnings\", \"average earnings\", \"employment\", \"labour & immigration\" ],\n",
    "#       \"flags\" : [ \"default\" ]\n",
    "#     }\n",
    "#   },\n",
    "#   \"data\" : [ [ 5554, \"8D0D0120-53D5-4A3D-B68F-D5BAFA1B9F24\", 5554, 1435599444, \"710753\", 1435599444, \"710753\", null, \"2001-01-01T00:00:00\", \"Industrial aggregate excluding unclassified businesses\", \"670.54\", \"660.48\", \"658.02\", \"578.95\", \"584.75\", \"594.00\", \"571.28\", \"698.57\", \"535.65\", \"624.81\", \"596.53\" ]\n",
    "# , [ 5555, \"B8156EED-2420-4B71-A56C-57DED1FA7CEC\", 5555, 1435599444, \"710753\", 1435599444, \"710753\", null, \"2001-02-01T00:00:00\", \"Industrial aggregate excluding unclassified businesses\", \"670.52\", \"659.33\", \"655.79\", \"580.63\", \"585.11\", \"591.92\", \"570.06\", \"693.69\", \"532.02\", \"623.93\", \"595.09\" ]\n",
    "# , [ 5556, \"A8D7795E-40FA-4923-AB52-CA8536DAAD7A\", 5556, 1435599444, \"710753\", 1435599444, \"710753\", null, \"2001-03-01T00:00:00\", \"Industrial aggregate excluding unclassified businesses\", \"668.49\", \"654.07\", \"655.88\", \"578.67\", \"584.13\", \"593.47\", \"570.70\", \"697.08\", \"534.71\", \"622.94\", \"589.09\" ]\n",
    "# , [ 5557, \"8373DAD3-2886-4DAD-AFE8-84DB8C0F414E\", 5557, 1435599444, \"710753\", 1435599444, \"710753\", null, \"2001-04-01T00:00:00\", \"Industrial aggregate excluding unclassified businesses\", \"671.71\", \"657.15\", \"654.09\", \"576.36\", \"580.92\", \"591.96\", \"568.70\", \"693.73\", \"522.50\", \"619.12\", \"589.37\" ]\n",
    "# , [ 5558, \"05DB3E97-35EC-4F75-891B-3F6C696CDEE0\", 5558, 1435599444, \"710753\", 1435599444, \"710753\", null, \"2001-05-01T00:00:00\", \"Industrial aggregate excluding unclassified businesses\", \"664.45\", \"653.23\", \"650.02\", \"571.84\", \"578.44\", \"588.19\", \"567.96\", \"688.27\", \"522.31\", \"618.90\", \"587.41\" ]\n",
    "# , [ 5559, \"9F6DC880-A4F1-4149-A43F-23E9E9BF2270\", 5559, 1435599444, \"710753\", 1435599444, \"710753\", null, \"2001-06-01T00:00:00\", \"Industrial aggregate excluding unclassified businesses\", \"675.72\", \"661.49\", \"658.06\", \"588.66\", \"582.79\", \"591.85\", \"576.42\", \"697.37\", \"529.47\", \"623.50\", \"597.65\" ]\n",
    "# , [ 5560, \"0F6988BE-1D70-4546-A854-15C677B99316\", 5560, 1435599444, \"710753\", 1435599444, \"710753\", null, \"2001-07-01T00:00:00\", \"Industrial aggregate excluding unclassified businesses\", \"672.96\", \"655.63\", \"655.38\", \"586.31\", \"580.57\", \"590.91\", \"576.16\", \"696.65\", \"509.55\", \"619.98\", \"590.31\" ]\n",
    "# , [ 5561, \"6BE8C5BD-E455-4573-A299-F41CC57DB7DB\", 5561, 1435599444, \"710753\", 1435599444, \"710753\", null, \"2001-08-01T00:00:00\", \"Industrial aggregate excluding unclassified businesses\", \"673.60\", \"653.55\", \"655.54\", \"592.32\", \"602.85\", \"593.53\", \"579.54\", \"691.09\", \"534.47\", \"625.05\", \"598.63\" ]\n",
    "# , [ 5562, \"9C61FF04-EA5F-4548-9E21-BA4F29B1E325\", 5562, 1435599444, \"710753\", 1435599444, \"710753\", null, \"2001-09-01T00:00:00\", \"Industrial aggregate excluding unclassified businesses\", \"692.18\", \"659.15\", \"660.50\", \"587.73\", \"594.41\", \"600.95\", \"576.75\", \"699.48\", \"531.89\", \"622.17\", \"600.95\" ]\n",
    "# , [ 5563, \"2538F70D-9A3D-45F0-A6BE-4A3744AF6372\", 5563, 1435599444, \"710753\", 1435599444, \"710753\", null, \"2001-10-01T00:00:00\", \"Industrial aggregate excluding unclassified businesses\", \"693.13\", \"664.43\", \"661.11\", \"587.39\", \"595.74\", \"596.49\", \"582.77\", \"697.06\", \"535.24\", \"623.80\", \"603.69\" ]\n",
    "# , [ 5564, \"E29C2CFE-AD1B-4F77-A0B9-86970CB6FA88\", 5564, 1435599444, \"710753\", 1435599444, \"710753\", null, \"2001-11-01T00:00:00\", \"Industrial aggregate excluding unclassified businesses\", \"675.80\", \"655.07\", \"659.65\", \"586.56\", \"598.11\", \"585.27\", \"583.15\", \"701.04\", \"535.62\", \"625.83\", \"590.90\" ]\n",
    "# , [ 5565, \"C056C58D-CAAE-409E-A994-D20291F4F053\", 5565, 1435599444, \"710753\", 1435599444, \"710753\", null, \"2001-12-01T00:00:00\", \"Industrial aggregate excluding unclassified businesses\", \"674.09\", \"658.72\", \"661.38\", \"593.03\", \"602.37\", \"594.03\", \"594.16\", \"697.61\", \"559.80\", \"631.09\", \"605.77\" ]\n",
    "# , [ 5566, \"5ADDCDBD-6B8D-483F-A6F3-B4D9E939BC9A\", 5566, 1435599444, \"710753\", 1435599444, \"710753\", null, \"2002-01-01T00:00:00\", \"Industrial aggregate excluding unclassified businesses\", \"683.11\", \"655.56\", \"664.21\", \"589.62\", \"599.19\", \"599.19\", \"591.75\", \"698.73\", \"562.60\", \"638.98\", \"604.17\" ]\n",
    "# , [ 5567, \"DB96E5DC-002A-4F7A-97F2-7066CCC3E645\", 5567, 1435599444, \"710753\", 1435599444, \"710753\", null, \"2002-02-01T00:00:00\", \"Industrial aggregate excluding unclassified businesses\", \"688.54\", \"665.24\", \"662.65\", \"594.31\", \"596.29\", \"590.37\", \"586.60\", \"699.15\", \"551.04\", \"625.51\", \"599.27\" ]\n",
    "# , [ 5568, \"B905BAA7-40B0-4BE3-9F8C-7F0F079053E1\", 5568, 1435599444, \"710753\", 1435599444, \"710753\", null, \"2002-03-01T00:00:00\", \"Industrial aggregate excluding unclassified businesses\", \"692.57\", \"676.82\", \"666.93\", \"597.55\", \"601.49\", \"600.05\", \"589.95\", \"703.71\", \"565.53\", \"625.05\", \"605.13\" ]\n",
    "# , [ 5569, \"C4EA174C-07F7-456C-8EBF-F1B35A88FED7\", 5569, 1435599444, \"710753\", 1435599444, \"710753\", null, \"2002-04-01T00:00:00\", \"Industrial aggregate excluding unclassified businesses\", \"695.96\", \"679.44\", \"674.60\", \"601.36\", \"604.18\", \"604.78\", \"595.20\", \"711.85\", \"558.95\", \"638.81\", \"611.67\" ]\n",
    "# , [ 5570, \"8BEC0293-0E3F-47A0-A977-EDECC9753D76\", 5570, 1435599444, \"710753\", 1435599444, \"710753\", null, \"2002-05-01T00:00:00\", \"Industrial aggregate excluding unclassified businesses\", \"680.85\", \"666.55\", \"669.81\", \"597.94\", \"603.29\", \"611.06\", \"598.47\", \"706.47\", \"560.30\", \"643.68\", \"598.18\" ]\n",
    "# , [ 5571, \"DAA5936E-C5E0-4D99-A5EF-C160D08C8B36\", 5571, 1435599444, \"710753\", 1435599444, \"710753\", null, \"2002-06-01T00:00:00\", \"Industrial aggregate excluding unclassified businesses\", \"693.46\", \"667.02\", \"671.76\", \"602.12\", \"604.21\", \"607.08\", \"601.48\", \"711.41\", \"562.65\", \"637.10\", \"603.64\" ]\n",
    "# , [ 5572, \"91B8E5AD-A97E-4DA4-A877-5726D1D9D4C8\", 5572, 1435599444, \"710753\", 1435599444, \"710753\", null, \"2002-07-01T00:00:00\", \"Industrial aggregate excluding unclassified businesses\", \"694.92\", \"671.04\", \"675.49\", \"607.44\", \"604.91\", \"607.55\", \"604.48\", \"716.17\", \"540.74\", \"640.26\", \"610.15\" ]\n",
    "# , [ 5573, \"45DF1C45-3292-40B5-B92F-61320156A774\", 5573, 1435599444, \"710753\", 1435599444, \"710753\", null, \"2002-08-01T00:00:00\", \"Industrial aggregate excluding unclassified businesses\", \"684.47\", \"661.43\", \"668.37\", \"603.27\", \"598.43\", \"604.04\", \"593.00\", \"707.61\", \"541.00\", \"637.98\", \"601.88\" ]\n",
    "# , [ 5574, \"BB5173E0-B17E-4222-BC6B-D96E73775778\", 5574, 1435599444, \"710753\", 1435599444, \"710753\", null, \"2002-09-01T00:00:00\", \"Industrial aggregate excluding unclassified businesses\", \"696.89\", \"676.77\", \"674.85\", \"604.20\", \"602.88\", \"612.71\", \"591.76\", \"715.92\", \"549.76\", \"635.00\", \"614.12\" ]\n",
    "# , [ 5575, \"7493CEBA-0C87-4701-A24B-09B5126317E0\", 5575, 1435599444, \"710753\", 1435599444, \"710753\", null, \"2002-10-01T00:00:00\", \"Industrial aggregate excluding unclassified businesses\", \"694.75\", \"666.65\", \"679.36\", \"604.21\", \"614.14\", \"618.29\", \"598.80\", \"718.94\", \"557.49\", \"653.22\", \"610.46\" ]\n",
    "# , [ 5576, \"A56D66E0-061C-4310-89F8-65B4C5AA59E5\", 5576, 1435599444, \"710753\", 1435599444, \"710753\", null, \"2002-11-01T00:00:00\", \"Industrial aggregate excluding unclassified businesses\", \"702.92\", \"682.70\", \"680.13\", \"619.95\", \"609.87\", \"622.08\", \"598.29\", \"719.97\", \"565.05\", \"638.40\", \"619.96\" ]\n",
    "# , [ 5577, \"1F70B3FE-BD5F-4367-8FF2-AD08D4FF0EBD\", 5577, 1435599444, \"710753\", 1435599444, \"710753\", null, \"2002-12-01T00:00:00\", \"Industrial aggregate excluding unclassified businesses\", \"704.60\", \"687.48\", \"686.19\", \"624.44\", \"611.50\", \"629.78\", \"609.86\", \"722.11\", \"578.68\", \"652.01\", \"628.34\" ]\n",
    "# , [ 5578, \"504ADB8F-F66F-4CE5-9087-58822450AA6F\", 5578, 1435599444, \"710753\", 1435599444, \"710753\", null, \"2003-01-01T00:00:00\", \"Industrial aggregate excluding unclassified businesses\", \"703.22\", \"680.11\", \"681.49\", \"617.27\", \"612.60\", \"624.96\", \"607.06\", \"716.52\", \"575.74\", \"647.76\", \"622.08\" ]\n",
    "# , [ 5579, \"1DC723E6-5DD8-4320-9214-BEA738BBDABE\", 5579, 1435599444, \"710753\", 1435599444, \"710753\", null, \"2003-02-01T00:00:00\", \"Industrial aggregate excluding unclassified businesses\", \"721.01\", \"690.65\", \"690.54\", \"618.41\", \"614.48\", \"636.75\", \"607.21\", \"728.11\", \"575.82\", \"651.18\", \"632.02\" ]\n",
    "# , [ 5580, \"552A4EDD-F3F2-405F-989F-DFE7F2A8449F\", 5580, 1435599444, \"710753\", 1435599444, \"710753\", null, \"2003-03-01T00:00:00\", \"Industrial aggregate excluding unclassified businesses\", \"708.69\", \"679.43\", \"682.94\", \"613.23\", \"611.07\", \"629.32\", \"605.46\", \"721.34\", \"564.34\", \"645.06\", \"623.45\" ]\n",
    "# , [ 5581, \"D13C3EEB-7B37-4221-9DCB-068C5CB987B2\", 5581, 1435599444, \"710753\", 1435599444, \"710753\", null, \"2003-04-01T00:00:00\", \"Industrial aggregate excluding unclassified businesses\", \"716.16\", \"685.81\", \"686.99\", \"613.37\", \"615.02\", \"636.17\", \"611.04\", \"723.04\", \"565.33\", \"650.32\", \"631.06\" ]\n",
    "# , [ 5582, \"D2EEFC2A-CA63-451C-981D-A2986EAF1CFD\", 5582, 1435599444, \"710753\", 1435599444, \"710753\", null, \"2003-05-01T00:00:00\", \"Industrial aggregate excluding unclassified businesses\", \"697.56\", \"675.68\", \"683.63\", \"609.06\", \"612.55\", \"641.92\", \"613.51\", \"721.47\", \"569.65\", \"655.06\", \"621.18\" ]\n",
    "# , [ 5583, \"E2B19D27-C5F3-4AD1-9646-ABAF887FA6DC\", 5583, 1435599444, \"710753\", 1435599444, \"710753\", null, \"2003-06-01T00:00:00\", \"Industrial aggregate excluding unclassified businesses\", \"717.20\", \"690.12\", \"692.58\", \"619.38\", \"617.83\", \"648.53\", \"614.96\", \"730.87\", \"571.59\", \"656.80\", \"639.94\" ]\n",
    "# , [ 5584, \"26E62F97-42B8-43B7-8645-2A7A9EE68D4C\", 5584, 1435599444, \"710753\", 1435599444, \"710753\", null, \"2003-07-01T00:00:00\", \"Industrial aggregate excluding unclassified businesses\", \"711.94\", \"672.89\", \"689.06\", \"612.14\", \"620.46\", \"652.13\", \"610.28\", \"725.97\", \"550.70\", \"664.96\", \"624.79\" ]\n",
    "# , [ 5585, \"F8957732-B5CB-45D1-8CE4-D4F315CA30F0\", 5585, 1435599444, \"710753\", 1435599444, \"710753\", null, \"2003-08-01T00:00:00\", \"Industrial aggregate excluding unclassified businesses\", \"721.01\", \"687.68\", \"690.30\", \"621.83\", \"620.38\", \"650.10\", \"611.49\", \"729.97\", \"558.38\", \"648.06\", \"636.91\" ]\n",
    "# , [ 5586, \"69A264CA-263A-4F4F-B81D-7CD2E103FAD3\", 5586, 1435599444, \"710753\", 1435599444, \"710753\", null, \"2003-09-01T00:00:00\", \"Industrial aggregate excluding unclassified businesses\", \"734.12\", \"694.58\", \"698.22\", \"625.76\", \"627.10\", \"642.94\", \"610.00\", \"736.56\", \"575.64\", \"658.48\", \"647.21\" ]\n",
    "# , [ 5587, \"67971CB3-E1CC-44F6-9A3A-D632D7407685\", 5587, 1435599444, \"710753\", 1435599444, \"710753\", null, \"2003-10-01T00:00:00\", \"Industrial aggregate excluding unclassified businesses\", \"716.88\", \"687.63\", \"696.61\", \"623.77\", \"626.28\", \"629.39\", \"609.47\", \"735.77\", \"573.32\", \"667.28\", \"635.79\" ]\n",
    "# , [ 5588, \"CAA6FD86-1647-4932-AFAD-D2E064C01D0A\", 5588, 1435599444, \"710753\", 1435599444, \"710753\", null, \"2003-11-01T00:00:00\", \"Industrial aggregate excluding unclassified businesses\", \"732.11\", \"698.13\", \"699.90\", \"623.69\", \"631.20\", \"643.69\", \"610.64\", \"736.44\", \"580.70\", \"663.95\", \"642.95\" ]\n",
    "# , [ 5589, \"5900E84C-32A3-4D3C-AF30-73B301DAFFB7\", 5589, 1435599444, \"710753\", 1435599444, \"710753\", null, \"2003-12-01T00:00:00\", \"Industrial aggregate excluding unclassified businesses\", \"722.90\", \"687.28\", \"699.47\", \"631.05\", \"623.87\", \"639.71\", \"618.84\", \"736.87\", \"585.19\", \"669.42\", \"645.72\" ]\n",
    "# , [ 5590, \"0ECC4723-579C-4A42-BBCF-00D176A74A37\", 5590, 1435599444, \"710753\", 1435599444, \"710753\", null, \"2004-01-01T00:00:00\", \"Industrial aggregate excluding unclassified businesses\", \"730.59\", \"692.67\", \"702.75\", \"632.77\", \"631.80\", \"646.17\", \"615.09\", \"745.60\", \"590.41\", \"661.51\", \"641.73\" ]\n",
    "# , [ 5591, \"119514FC-09E4-4E3C-B678-96F395075B11\", 5591, 1435599444, \"710753\", 1435599444, \"710753\", null, \"2004-02-01T00:00:00\", \"Industrial aggregate excluding unclassified businesses\", \"740.74\", \"700.11\", \"705.91\", \"632.57\", \"626.71\", \"654.02\", \"611.00\", \"747.62\", \"576.66\", \"663.00\", \"643.18\" ]\n",
    "# , [ 5592, \"31091D72-D642-4205-9D0A-7F7D97A6A3FE\", 5592, 1435599444, \"710753\", 1435599444, \"710753\", null, \"2004-03-01T00:00:00\", \"Industrial aggregate excluding unclassified businesses\", \"746.86\", \"697.32\", \"705.77\", \"629.28\", \"623.13\", \"656.38\", \"617.98\", \"745.37\", \"580.73\", \"663.84\", \"646.91\" ]\n",
    "# , [ 5593, \"746BB6AF-E5C1-4322-AD69-5EFA8333E6C0\", 5593, 1435599444, \"710753\", 1435599444, \"710753\", null, \"2004-04-01T00:00:00\", \"Industrial aggregate excluding unclassified businesses\", \"726.46\", \"689.84\", \"704.91\", \"628.24\", \"621.01\", \"642.10\", \"619.96\", \"748.34\", \"586.30\", \"671.42\", \"635.02\" ]\n",
    "# , [ 5594, \"DFDFDA74-2E50-4C02-9C95-4B9C6AE7F3DD\", 5594, 1435599444, \"710753\", 1435599444, \"710753\", null, \"2004-05-01T00:00:00\", \"Industrial aggregate excluding unclassified businesses\", \"735.63\", \"693.88\", \"709.16\", \"633.74\", \"629.23\", \"671.62\", \"630.93\", \"750.96\", \"606.63\", \"672.21\", \"655.08\" ]\n",
    "# , [ 5595, \"236583AE-5A67-4FF6-84B8-D6ADD44A1782\", 5595, 1435599444, \"710753\", 1435599444, \"710753\", null, \"2004-06-01T00:00:00\", \"Industrial aggregate excluding unclassified businesses\", \"731.50\", \"689.72\", \"707.28\", \"633.04\", \"625.84\", \"658.03\", \"627.55\", \"748.35\", \"589.09\", \"676.27\", \"648.67\" ]\n",
    "# , [ 5596, \"4FCFE844-57D7-412B-B2B8-27B35D601D62\", 5596, 1435599444, \"710753\", 1435599444, \"710753\", null, \"2004-07-01T00:00:00\", \"Industrial aggregate excluding unclassified businesses\", \"731.59\", \"692.59\", \"706.16\", \"631.24\", \"623.59\", \"660.96\", \"627.41\", \"747.80\", \"570.53\", \"671.36\", \"652.82\" ]\n",
    "# , [ 5597, \"899EF3DE-AF8A-4C83-922E-EB3C0C881C4C\", 5597, 1435599444, \"710753\", 1435599444, \"710753\", null, \"2004-08-01T00:00:00\", \"Industrial aggregate excluding unclassified businesses\", \"746.79\", \"699.22\", \"707.49\", \"636.22\", \"621.98\", \"651.47\", \"627.45\", \"745.36\", \"563.70\", \"669.03\", \"656.69\" ]\n",
    "# , [ 5598, \"05C176C8-9EB7-449A-B9F0-C4C2BA542FB3\", 5598, 1435599444, \"710753\", 1435599444, \"710753\", null, \"2004-09-01T00:00:00\", \"Industrial aggregate excluding unclassified businesses\", \"743.73\", \"691.92\", \"711.68\", \"635.10\", \"629.05\", \"649.74\", \"627.34\", \"744.54\", \"577.92\", \"693.36\", \"651.57\" ]\n",
    "# , [ 5599, \"DF676A46-A6E3-4C9E-8DCC-D41CBFEAECCA\", 5599, 1435599444, \"710753\", 1435599444, \"710753\", null, \"2004-10-01T00:00:00\", \"Industrial aggregate excluding unclassified businesses\", \"746.81\", \"706.07\", \"711.51\", \"651.13\", \"632.33\", \"659.98\", \"630.28\", \"750.17\", \"584.74\", \"668.87\", \"662.06\" ]\n",
    "# , [ 5600, \"AD24454F-8F8A-4633-B6AA-55A76051144A\", 5600, 1435599444, \"710753\", 1435599444, \"710753\", null, \"2004-11-01T00:00:00\", \"Industrial aggregate excluding unclassified businesses\", \"761.41\", \"709.57\", \"716.23\", \"648.86\", \"634.31\", \"656.19\", \"627.25\", \"753.11\", \"593.43\", \"673.86\", \"669.35\" ]\n",
    "# , [ 5601, \"91381916-9DFC-437A-A656-808B3BE8FB3E\", 5601, 1435599444, \"710753\", 1435599444, \"710753\", null, \"2004-12-01T00:00:00\", \"Industrial aggregate excluding unclassified businesses\", \"747.23\", \"705.55\", \"720.44\", \"647.95\", \"643.32\", \"659.31\", \"643.97\", \"758.94\", \"607.09\", \"688.18\", \"666.76\" ]\n",
    "# , [ 5602, \"E4D94798-2653-4481-A8F9-602F8663799D\", 5602, 1435599444, \"710753\", 1435599444, \"710753\", null, \"2005-01-01T00:00:00\", \"Industrial aggregate excluding unclassified businesses\", \"764.65\", \"715.99\", \"725.89\", \"658.96\", \"652.63\", \"672.41\", \"647.98\", \"764.64\", \"604.08\", \"681.06\", \"681.22\" ]\n",
    "# , [ 5603, \"E4BBDA62-1993-4A60-958E-0279D898C9CB\", 5603, 1435599444, \"710753\", 1435599444, \"710753\", null, \"2005-02-01T00:00:00\", \"Industrial aggregate excluding unclassified businesses\", \"785.75\", \"726.15\", \"736.62\", \"659.63\", \"654.11\", \"677.05\", \"654.51\", \"776.30\", \"609.09\", \"690.69\", \"680.44\" ]\n",
    "# , [ 5604, \"DBB7FC76-6F71-409D-A2A7-95864E9D013C\", 5604, 1435599444, \"710753\", 1435599444, \"710753\", null, \"2005-03-01T00:00:00\", \"Industrial aggregate excluding unclassified businesses\", \"753.61\", \"701.01\", \"725.46\", \"657.92\", \"649.99\", \"664.54\", \"647.21\", \"763.68\", \"601.43\", \"698.83\", \"660.71\" ]\n",
    "# , [ 5605, \"99B7B90A-C5BA-4852-B616-B1374251242E\", 5605, 1435599444, \"710753\", 1435599444, \"710753\", null, \"2005-04-01T00:00:00\", \"Industrial aggregate excluding unclassified businesses\", \"768.57\", \"723.27\", \"730.08\", \"657.87\", \"650.50\", \"676.23\", \"646.68\", \"773.07\", \"603.32\", \"681.96\", \"669.64\" ]\n",
    "# , [ 5606, \"D1DB23DE-8727-4E73-8A3C-40D1DF0C6CEC\", 5606, 1435599444, \"710753\", 1435599444, \"710753\", null, \"2005-05-01T00:00:00\", \"Industrial aggregate excluding unclassified businesses\", \"777.96\", \"724.58\", \"732.58\", \"660.31\", \"648.88\", \"681.50\", \"654.89\", \"772.70\", \"599.84\", \"685.59\", \"679.13\" ]\n",
    "# , [ 5607, \"6E02651B-09B0-48D9-9264-716DA493FC24\", 5607, 1435599444, \"710753\", 1435599444, \"710753\", null, \"2005-06-01T00:00:00\", \"Industrial aggregate excluding unclassified businesses\", \"769.72\", \"717.59\", \"737.03\", \"668.97\", \"651.25\", \"681.86\", \"658.26\", \"780.19\", \"596.32\", \"700.16\", \"673.19\" ]\n",
    "# , [ 5608, \"265649DE-E7B1-47EB-B966-06C6662659C4\", 5608, 1435599444, \"710753\", 1435599444, \"710753\", null, \"2005-07-01T00:00:00\", \"Industrial aggregate excluding unclassified businesses\", \"774.32\", \"717.79\", \"732.72\", \"664.86\", \"650.55\", \"687.90\", \"655.07\", \"771.46\", \"594.02\", \"694.08\", \"675.98\" ]\n",
    "# , [ 5609, \"909D285D-C33F-48EB-9F4A-3FBFD65BDFD3\", 5609, 1435599444, \"710753\", 1435599444, \"710753\", null, \"2005-08-01T00:00:00\", \"Industrial aggregate excluding unclassified businesses\", \"788.82\", \"721.83\", \"737.25\", \"668.22\", \"650.25\", \"684.16\", \"658.37\", \"775.08\", \"589.19\", \"695.62\", \"685.14\" ]\n",
    "# , [ 5610, \"49ECAC21-F25A-4755-81EA-EB3E01A1D206\", 5610, 1435599444, \"710753\", 1435599444, \"710753\", null, \"2005-09-01T00:00:00\", \"Industrial aggregate excluding unclassified businesses\", \"797.72\", \"732.94\", \"750.15\", \"676.45\", \"662.76\", \"687.48\", \"667.95\", \"789.46\", \"602.71\", \"712.43\", \"685.41\" ]\n",
    "# , [ 5611, \"11D7186E-E369-44A8-8D20-5469BD54D28E\", 5611, 1435599444, \"710753\", 1435599444, \"710753\", null, \"2005-10-01T00:00:00\", \"Industrial aggregate excluding unclassified businesses\", \"806.67\", \"727.07\", \"745.00\", \"672.92\", \"664.33\", \"694.49\", \"665.19\", \"784.10\", \"605.55\", \"697.21\", \"693.74\" ]\n",
    "# , [ 5612, \"25E7B8D5-1DCB-41EA-8E4F-D0866784301C\", 5612, 1435599444, \"710753\", 1435599444, \"710753\", null, \"2005-11-01T00:00:00\", \"Industrial aggregate excluding unclassified businesses\", \"813.68\", \"734.55\", \"744.12\", \"669.69\", \"663.52\", \"689.05\", \"664.16\", \"780.22\", \"611.13\", \"692.79\", \"691.75\" ]\n",
    "# , [ 5613, \"74389658-58C1-4225-AC3E-AB5794CA7F4D\", 5613, 1435599444, \"710753\", 1435599444, \"710753\", null, \"2005-12-01T00:00:00\", \"Industrial aggregate excluding unclassified businesses\", \"795.73\", \"731.04\", \"744.96\", \"671.90\", \"663.38\", \"689.01\", \"665.35\", \"782.10\", \"625.42\", \"703.33\", \"688.49\" ]\n",
    "# , [ 5614, \"E2770A54-5AB8-47A4-95A3-F0A447998600\", 5614, 1435599444, \"710753\", 1435599444, \"710753\", null, \"2006-01-01T00:00:00\", \"Industrial aggregate excluding unclassified businesses\", \"809.20\", \"737.46\", \"745.92\", \"675.30\", \"667.62\", \"696.36\", \"670.78\", \"784.57\", \"624.49\", \"688.28\", \"703.69\" ]\n",
    "# , [ 5615, \"D1F8F5B0-130C-46E1-B346-C16C5D2C6088\", 5615, 1435599444, \"710753\", 1435599444, \"710753\", null, \"2006-02-01T00:00:00\", \"Industrial aggregate excluding unclassified businesses\", \"820.63\", \"745.92\", \"750.88\", \"676.03\", \"667.28\", \"696.93\", \"668.33\", \"787.84\", \"615.44\", \"694.78\", \"697.29\" ]\n",
    "# , [ 5616, \"7A824CBF-5CEC-438D-8F73-C8E219347A62\", 5616, 1435599444, \"710753\", 1435599444, \"710753\", null, \"2006-03-01T00:00:00\", \"Industrial aggregate excluding unclassified businesses\", \"810.53\", \"733.18\", \"750.57\", \"677.82\", \"666.39\", \"697.16\", \"669.46\", \"785.61\", \"619.78\", \"709.13\", \"694.58\" ]\n",
    "# , [ 5617, \"A0B9FA2C-053A-405E-A04D-3228314FC1E3\", 5617, 1435599444, \"710753\", 1435599444, \"710753\", null, \"2006-04-01T00:00:00\", \"Industrial aggregate excluding unclassified businesses\", \"820.94\", \"744.35\", \"750.57\", \"675.59\", \"668.49\", \"706.22\", \"667.61\", \"783.55\", \"621.81\", \"699.77\", \"705.73\" ]\n",
    "# , [ 5618, \"4EA61C5A-0190-41C5-B761-53887DADF79F\", 5618, 1435599444, \"710753\", 1435599444, \"710753\", null, \"2006-05-01T00:00:00\", \"Industrial aggregate excluding unclassified businesses\", \"824.64\", \"748.70\", \"750.35\", \"671.65\", \"666.57\", \"706.87\", \"662.60\", \"782.20\", \"628.00\", \"698.94\", \"702.60\" ]\n",
    "# , [ 5619, \"8CA3CDFB-1A8C-425E-B454-64AA255588BA\", 5619, 1435599444, \"710753\", 1435599444, \"710753\", null, \"2006-06-01T00:00:00\", \"Industrial aggregate excluding unclassified businesses\", \"809.03\", \"742.35\", \"753.77\", \"691.44\", \"671.62\", \"702.87\", \"678.54\", \"784.84\", \"627.40\", \"715.48\", \"707.28\" ]\n",
    "# , [ 5620, \"D710E72B-4A40-4FFD-AE79-7845B8636127\", 5620, 1435599444, \"710753\", 1435599444, \"710753\", null, \"2006-07-01T00:00:00\", \"Industrial aggregate excluding unclassified businesses\", \"817.47\", \"739.37\", \"750.98\", \"680.69\", \"666.76\", \"703.26\", \"675.41\", \"782.64\", \"608.19\", \"707.15\", \"707.14\" ]\n",
    "# , [ 5621, \"7E43B66A-48FC-44D6-A98C-F1658270FEF0\", 5621, 1435599444, \"710753\", 1435599444, \"710753\", null, \"2006-08-01T00:00:00\", \"Industrial aggregate excluding unclassified businesses\", \"817.20\", \"733.75\", \"754.22\", \"678.08\", \"666.59\", \"701.91\", \"677.12\", \"784.06\", \"607.28\", \"722.64\", \"701.03\" ]\n",
    "# , [ 5622, \"4540C46A-58A3-4509-A3F8-DF86C9E202DF\", 5622, 1435599444, \"710753\", 1435599444, \"710753\", null, \"2006-09-01T00:00:00\", \"Industrial aggregate excluding unclassified businesses\", \"827.29\", \"748.30\", \"757.15\", \"694.70\", \"680.08\", \"713.53\", \"675.86\", \"793.66\", \"625.31\", \"700.16\", \"710.12\" ]\n",
    "# , [ 5623, \"7F99932B-DA47-41B4-BE28-FE46909C9A69\", 5623, 1435599444, \"710753\", 1435599444, \"710753\", null, \"2006-10-01T00:00:00\", \"Industrial aggregate excluding unclassified businesses\", \"842.57\", \"751.64\", \"761.69\", \"692.35\", \"680.81\", \"713.90\", \"671.73\", \"796.44\", \"622.92\", \"704.99\", \"717.13\" ]\n",
    "# , [ 5624, \"CB264143-D073-445D-936C-AE439DB10D36\", 5624, 1435599444, \"710753\", 1435599444, \"710753\", null, \"2006-11-01T00:00:00\", \"Industrial aggregate excluding unclassified businesses\", \"822.22\", \"736.59\", \"760.42\", \"689.81\", \"687.34\", \"706.36\", \"677.32\", \"791.94\", \"630.17\", \"726.38\", \"705.60\" ]\n",
    "# , [ 5625, \"3E51E44B-0FCF-43CD-9FB0-08A5AC0B91DC\", 5625, 1435599444, \"710753\", 1435599444, \"710753\", null, \"2006-12-01T00:00:00\", \"Industrial aggregate excluding unclassified businesses\", \"845.36\", \"766.66\", \"773.45\", \"717.12\", \"698.05\", \"726.71\", \"686.59\", \"806.65\", \"647.11\", \"717.51\", \"726.55\" ]\n",
    "# , [ 5626, \"FF942B08-06B3-4781-AF5F-CB24E45AA277\", 5626, 1435599444, \"710753\", 1435599444, \"710753\", null, \"2007-01-01T00:00:00\", \"Industrial aggregate excluding unclassified businesses\", \"854.96\", \"762.68\", \"773.73\", \"707.73\", \"696.82\", \"729.26\", \"681.76\", \"807.77\", \"642.43\", \"714.54\", \"732.72\" ]\n",
    "# , [ 5627, \"C52801CA-38C4-4E62-8250-37877C5D6CA7\", 5627, 1435599444, \"710753\", 1435599444, \"710753\", null, \"2007-02-01T00:00:00\", \"Industrial aggregate excluding unclassified businesses\", \"853.84\", \"758.66\", \"776.53\", \"714.22\", \"700.51\", \"721.53\", \"685.84\", \"809.89\", \"645.75\", \"724.67\", \"732.27\" ]\n",
    "# , [ 5628, \"F161F122-4638-474B-B0E0-B179D4DEDBB3\", 5628, 1435599444, \"710753\", 1435599444, \"710753\", null, \"2007-03-01T00:00:00\", \"Industrial aggregate excluding unclassified businesses\", \"850.70\", \"759.08\", \"784.01\", \"724.61\", \"708.73\", \"731.68\", \"702.86\", \"816.33\", \"661.79\", \"741.70\", \"738.86\" ]\n",
    "# , [ 5629, \"31DB9C5F-E95C-499B-B69C-C005452F86A1\", 5629, 1435599444, \"710753\", 1435599444, \"710753\", null, \"2007-04-01T00:00:00\", \"Industrial aggregate excluding unclassified businesses\", \"857.63\", \"766.23\", \"781.52\", \"719.08\", \"703.84\", \"738.92\", \"689.61\", \"815.20\", \"648.19\", \"728.52\", \"733.57\" ]\n",
    "# , [ 5630, \"23BA11D2-D51C-4E9C-8886-02D2C2175C66\", 5630, 1435599444, \"710753\", 1435599444, \"710753\", null, \"2007-05-01T00:00:00\", \"Industrial aggregate excluding unclassified businesses\", \"849.73\", \"757.83\", \"784.79\", \"711.28\", \"709.09\", \"728.27\", \"701.21\", \"815.04\", \"645.08\", \"752.91\", \"734.84\" ]\n",
    "# , [ 5631, \"ABF0652E-3385-42DB-B120-1F6E210F3853\", 5631, 1435599444, \"710753\", 1435599444, \"710753\", null, \"2007-06-01T00:00:00\", \"Industrial aggregate excluding unclassified businesses\", \"874.78\", \"781.65\", \"792.83\", \"735.08\", \"709.27\", \"740.65\", \"706.09\", \"827.65\", \"644.68\", \"733.70\", \"754.63\" ]\n",
    "# , [ 5632, \"063A9378-DA6E-4DE5-9908-47299CF0066D\", 5632, 1435599444, \"710753\", 1435599444, \"710753\", null, \"2007-07-01T00:00:00\", \"Industrial aggregate excluding unclassified businesses\", \"878.76\", \"770.76\", \"788.23\", \"723.46\", \"699.33\", \"737.91\", \"693.87\", \"819.07\", \"625.36\", \"737.81\", \"746.20\" ]\n",
    "# , [ 5633, \"15E43487-D939-47E8-BA34-1D7D174567E2\", 5633, 1435599444, \"710753\", 1435599444, \"710753\", null, \"2007-08-01T00:00:00\", \"Industrial aggregate excluding unclassified businesses\", \"863.34\", \"761.89\", \"784.12\", \"723.55\", \"701.18\", \"727.78\", \"697.54\", \"814.41\", \"627.68\", \"741.36\", \"739.08\" ]\n",
    "# , [ 5634, \"B633F4AD-C82A-4D90-8913-9652F0C650F9\", 5634, 1435599444, \"710753\", 1435599444, \"710753\", null, \"2007-09-01T00:00:00\", \"Industrial aggregate excluding unclassified businesses\", \"889.34\", \"773.30\", \"790.83\", \"725.99\", \"706.19\", \"740.20\", \"688.71\", \"820.11\", \"637.27\", \"737.29\", \"761.11\" ]\n",
    "# , [ 5635, \"D8087A10-6083-4B34-B482-153D1A7A6B4B\", 5635, 1435599444, \"710753\", 1435599444, \"710753\", null, \"2007-10-01T00:00:00\", \"Industrial aggregate excluding unclassified businesses\", \"898.35\", \"777.97\", \"793.56\", \"732.68\", \"713.49\", \"743.79\", \"686.09\", \"823.31\", \"640.49\", \"734.54\", \"757.42\" ]\n",
    "# , [ 5636, \"9F96EB56-C859-4A53-BD26-D810B7AD9F47\", 5636, 1435599444, \"710753\", 1435599444, \"710753\", null, \"2007-11-01T00:00:00\", \"Industrial aggregate excluding unclassified businesses\", \"886.73\", \"778.59\", \"799.17\", \"739.94\", \"719.72\", \"741.63\", \"699.24\", \"830.69\", \"657.05\", \"748.61\", \"756.88\" ]\n",
    "# , [ 5637, \"8AE19A34-6586-43C4-A130-EF3A0247E7EB\", 5637, 1435599444, \"710753\", 1435599444, \"710753\", null, \"2007-12-01T00:00:00\", \"Industrial aggregate excluding unclassified businesses\", \"890.70\", \"782.80\", \"799.48\", \"736.98\", \"723.41\", \"741.36\", \"702.30\", \"828.37\", \"664.98\", \"746.40\", \"769.23\" ]\n",
    "# , [ 5638, \"F9A4A504-1C0E-4163-98C7-C2DA43D82DC0\", 5638, 1435599444, \"710753\", 1435599444, \"710753\", null, \"2008-01-01T00:00:00\", \"Industrial aggregate excluding unclassified businesses\", \"884.75\", \"769.03\", \"797.52\", \"727.19\", \"717.77\", \"741.54\", \"701.96\", \"829.96\", \"656.31\", \"749.64\", \"758.43\" ]\n",
    "# , [ 5639, \"3A2DE791-DAD0-4D2C-AD3F-21EB4D6FE815\", 5639, 1435599444, \"710753\", 1435599444, \"710753\", null, \"2008-02-01T00:00:00\", \"Industrial aggregate excluding unclassified businesses\", \"922.82\", \"794.93\", \"809.57\", \"752.05\", \"724.79\", \"751.24\", \"703.08\", \"844.43\", \"662.03\", \"735.04\", \"776.17\" ]\n",
    "# , [ 5640, \"F9D51F98-D6EE-4003-A36D-09607F72B10F\", 5640, 1435599444, \"710753\", 1435599444, \"710753\", null, \"2008-03-01T00:00:00\", \"Industrial aggregate excluding unclassified businesses\", \"919.04\", \"788.66\", \"808.43\", \"742.82\", \"721.88\", \"757.38\", \"703.61\", \"836.65\", \"657.41\", \"749.81\", \"774.82\" ]\n",
    "# , [ 5641, \"BD6BA373-66A1-4EB6-86BA-B79E6F691568\", 5641, 1435599444, \"710753\", 1435599444, \"710753\", null, \"2008-04-01T00:00:00\", \"Industrial aggregate excluding unclassified businesses\", \"916.76\", \"792.34\", \"810.42\", \"745.34\", \"722.86\", \"762.49\", \"707.55\", \"837.25\", \"664.16\", \"755.15\", \"781.84\" ]\n",
    "# , [ 5642, \"F9DDDC38-346B-4FFC-B55D-63246A9203A9\", 5642, 1435599444, \"710753\", 1435599444, \"710753\", null, \"2008-05-01T00:00:00\", \"Industrial aggregate excluding unclassified businesses\", \"899.01\", \"785.46\", \"806.89\", \"742.78\", \"726.55\", \"760.89\", \"714.59\", \"834.92\", \"669.08\", \"759.39\", \"769.62\" ]\n",
    "# , [ 5643, \"95534D96-8060-452A-8A5F-CDBEA041611C\", 5643, 1435599444, \"710753\", 1435599444, \"710753\", null, \"2008-06-01T00:00:00\", \"Industrial aggregate excluding unclassified businesses\", \"922.17\", \"792.15\", \"811.88\", \"745.33\", \"724.78\", \"765.74\", \"712.56\", \"842.92\", \"647.95\", \"750.63\", \"784.30\" ]\n",
    "# , [ 5644, \"A1F4BC46-2AB7-49FC-A341-FC3631E889F8\", 5644, 1435599444, \"710753\", 1435599444, \"710753\", null, \"2008-07-01T00:00:00\", \"Industrial aggregate excluding unclassified businesses\", \"905.63\", \"774.61\", \"807.36\", \"737.05\", \"733.85\", \"758.90\", \"720.38\", \"831.80\", \"654.23\", \"768.93\", \"773.56\" ]\n",
    "# , [ 5645, \"BE8B3645-310A-4AE1-9519-7B3833716166\", 5645, 1435599444, \"710753\", 1435599444, \"710753\", null, \"2008-08-01T00:00:00\", \"Industrial aggregate excluding unclassified businesses\", \"922.40\", \"793.14\", \"805.97\", \"746.93\", \"733.82\", \"770.91\", \"715.99\", \"833.26\", \"650.44\", \"736.34\", \"791.19\" ]\n",
    "# , [ 5646, \"3952D978-C446-4534-A8D3-7E1CAC61E71B\", 5646, 1435599444, \"710753\", 1435599444, \"710753\", null, \"2008-09-01T00:00:00\", \"Industrial aggregate excluding unclassified businesses\", \"945.23\", \"799.70\", \"813.15\", \"748.01\", \"732.90\", \"773.05\", \"713.48\", \"838.19\", \"649.94\", \"743.16\", \"796.66\" ]\n",
    "# , [ 5647, \"258C8A4E-774F-494F-873E-FB3296BCBCD7\", 5647, 1435599444, \"710753\", 1435599444, \"710753\", null, \"2008-10-01T00:00:00\", \"Industrial aggregate excluding unclassified businesses\", \"929.89\", \"791.18\", \"817.93\", \"749.84\", \"741.10\", \"774.91\", \"717.62\", \"845.80\", \"664.81\", \"762.61\", \"790.85\" ]\n",
    "# , [ 5648, \"735C8BA5-D4F2-4F8E-BC9E-16EA93F8FB3C\", 5648, 1435599444, \"710753\", 1435599444, \"710753\", null, \"2008-11-01T00:00:00\", \"Industrial aggregate excluding unclassified businesses\", \"952.59\", \"796.00\", \"818.72\", \"747.92\", \"738.73\", \"788.43\", \"716.72\", \"846.39\", \"664.67\", \"749.08\", \"797.31\" ]\n",
    "# , [ 5649, \"0D0813A2-A6E2-41FE-9F24-55FC1D84818D\", 5649, 1435599444, \"710753\", 1435599444, \"710753\", null, \"2008-12-01T00:00:00\", \"Industrial aggregate excluding unclassified businesses\", \"946.64\", \"789.85\", \"814.47\", \"757.94\", \"736.79\", \"780.99\", \"724.78\", \"837.50\", \"681.49\", \"749.77\", \"790.61\" ]\n",
    "# , [ 5650, \"515E7663-F963-4A79-9C00-B9B32C8A071F\", 5650, 1435599444, \"710753\", 1435599444, \"710753\", null, \"2009-01-01T00:00:00\", \"Industrial aggregate excluding unclassified businesses\", \"945.00\", \"792.58\", \"815.09\", \"763.32\", \"742.42\", \"775.89\", \"720.94\", \"842.29\", \"688.51\", \"741.62\", \"797.72\" ]\n",
    "# , [ 5651, \"8E8BAE10-4FDC-4FF3-BF20-BD18D0F40985\", 5651, 1435599444, \"710753\", 1435599444, \"710753\", null, \"2009-02-01T00:00:00\", \"Industrial aggregate excluding unclassified businesses\", \"963.38\", \"793.71\", \"824.64\", \"766.19\", \"745.60\", \"784.47\", \"727.75\", \"853.11\", \"699.09\", \"752.92\", \"797.78\" ]\n",
    "# , [ 5652, \"6824E5F7-072D-4F16-9FC9-4045C8332E76\", 5652, 1435599444, \"710753\", 1435599444, \"710753\", null, \"2009-03-01T00:00:00\", \"Industrial aggregate excluding unclassified businesses\", \"962.10\", \"798.70\", \"824.29\", \"768.18\", \"746.40\", \"799.76\", \"728.00\", \"851.62\", \"694.32\", \"751.39\", \"796.16\" ]\n",
    "# , [ 5653, \"C54B7EA1-3950-4C03-8588-CAA638F7D9AB\", 5653, 1435599444, \"710753\", 1435599444, \"710753\", null, \"2009-04-01T00:00:00\", \"Industrial aggregate excluding unclassified businesses\", \"935.00\", \"788.63\", \"817.56\", \"753.26\", \"741.42\", \"797.85\", \"728.52\", \"847.22\", \"696.95\", \"755.58\", \"783.11\" ]\n",
    "# , [ 5654, \"6E1F0807-B98D-405E-8BDA-45F2E6327614\", 5654, 1435599444, \"710753\", 1435599444, \"710753\", null, \"2009-05-01T00:00:00\", \"Industrial aggregate excluding unclassified businesses\", \"942.96\", \"794.39\", \"815.67\", \"753.14\", \"742.13\", \"805.45\", \"733.46\", \"840.15\", \"695.54\", \"750.67\", \"790.75\" ]\n",
    "# , [ 5655, \"B55F4FFC-CEF0-4487-80C2-6D7B0C62152F\", 5655, 1435599444, \"710753\", 1435599444, \"710753\", null, \"2009-06-01T00:00:00\", \"Industrial aggregate excluding unclassified businesses\", \"952.69\", \"793.85\", \"822.73\", \"762.49\", \"741.58\", \"798.01\", \"733.04\", \"845.78\", \"689.47\", \"766.27\", \"802.48\" ]\n",
    "# , [ 5656, \"877B1A3A-AE27-4DCD-864B-21D2C4A739DD\", 5656, 1435599444, \"710753\", 1435599444, \"710753\", null, \"2009-07-01T00:00:00\", \"Industrial aggregate excluding unclassified businesses\", \"940.03\", \"788.56\", \"819.08\", \"764.90\", \"756.55\", \"803.36\", \"728.98\", \"840.52\", \"686.50\", \"767.99\", \"792.20\" ]\n",
    "# , [ 5657, \"11FC9444-8C33-40E8-ADF1-BF28FCD835BC\", 5657, 1435599444, \"710753\", 1435599444, \"710753\", null, \"2009-08-01T00:00:00\", \"Industrial aggregate excluding unclassified businesses\", \"932.93\", \"785.32\", \"815.98\", \"759.85\", \"749.25\", \"789.07\", \"730.70\", \"841.15\", \"674.05\", \"761.01\", \"796.63\" ]\n",
    "# , [ 5658, \"2E5AD0D7-474C-44BE-B796-B489243DF9EA\", 5658, 1435599444, \"710753\", 1435599444, \"710753\", null, \"2009-09-01T00:00:00\", \"Industrial aggregate excluding unclassified businesses\", \"951.29\", \"797.21\", \"825.84\", \"775.83\", \"762.58\", \"799.43\", \"735.82\", \"850.76\", \"687.65\", \"764.06\", \"811.70\" ]\n",
    "# , [ 5659, \"D6ADAC62-C07B-4EA6-BDF6-71B3834CE2D1\", 5659, 1435599444, \"710753\", 1435599444, \"710753\", null, \"2009-10-01T00:00:00\", \"Industrial aggregate excluding unclassified businesses\", \"947.97\", \"803.06\", \"825.31\", \"778.88\", \"748.29\", \"812.18\", \"714.57\", \"851.96\", \"695.79\", \"760.59\", \"812.38\" ]\n",
    "# , [ 5660, \"AC4CDF31-3665-41AA-935F-898EED6FB707\", 5660, 1435599444, \"710753\", 1435599444, \"710753\", null, \"2009-11-01T00:00:00\", \"Industrial aggregate excluding unclassified businesses\", \"960.62\", \"797.56\", \"828.30\", \"766.44\", \"752.76\", \"822.36\", \"725.05\", \"856.30\", \"687.27\", \"762.12\", \"814.68\" ]\n",
    "# , [ 5661, \"981442D7-99DD-4958-A2AA-A2E51628E49F\", 5661, 1435599444, \"710753\", 1435599444, \"710753\", null, \"2009-12-01T00:00:00\", \"Industrial aggregate excluding unclassified businesses\", \"947.44\", \"809.36\", \"834.32\", \"767.55\", \"758.38\", \"820.61\", \"742.45\", \"865.50\", \"691.88\", \"767.77\", \"825.17\" ]\n",
    "# , [ 5662, \"9A0F674D-3861-4B2E-B1FB-963D721E6E3B\", 5662, 1435599444, \"710753\", 1435599444, \"710753\", null, \"2010-01-01T00:00:00\", \"Industrial aggregate excluding unclassified businesses\", \"961.69\", \"802.01\", \"833.23\", \"764.38\", \"755.16\", \"816.06\", \"737.71\", \"865.90\", \"677.03\", \"759.51\", \"832.46\" ]\n",
    "# , [ 5663, \"C24DD627-F0A2-4A7A-94B5-2EE93A6F7B06\", 5663, 1435599444, \"710753\", 1435599444, \"710753\", null, \"2010-02-01T00:00:00\", \"Industrial aggregate excluding unclassified businesses\", \"984.82\", \"812.78\", \"847.87\", \"776.32\", \"761.98\", \"837.14\", \"756.30\", \"882.54\", \"715.00\", \"770.93\", \"827.17\" ]\n",
    "# , [ 5664, \"C34B42E1-D090-467C-88C0-605FF2C90E42\", 5664, 1435599444, \"710753\", 1435599444, \"710753\", null, \"2010-03-01T00:00:00\", \"Industrial aggregate excluding unclassified businesses\", \"991.31\", \"814.25\", \"845.81\", \"772.40\", \"761.71\", \"836.21\", \"747.40\", \"875.16\", \"711.22\", \"770.79\", \"835.17\" ]\n",
    "# , [ 5665, \"B3D0F107-EB2D-4C8C-8AA7-16D4FD96CB72\", 5665, 1435599444, \"710753\", 1435599444, \"710753\", null, \"2010-04-01T00:00:00\", \"Industrial aggregate excluding unclassified businesses\", \"990.27\", \"814.64\", \"845.36\", \"772.82\", \"763.12\", \"836.03\", \"748.46\", \"871.83\", \"724.46\", \"775.21\", \"835.04\" ]\n",
    "# , [ 5666, \"B2D72BE5-2D3C-47F4-B5B4-F67EE7024CB4\", 5666, 1435599444, \"710753\", 1435599444, \"710753\", null, \"2010-05-01T00:00:00\", \"Industrial aggregate excluding unclassified businesses\", \"983.03\", \"817.80\", \"844.65\", \"770.62\", \"749.74\", \"830.15\", \"756.30\", \"869.84\", \"729.36\", \"779.82\", \"831.17\" ]\n",
    "# , [ 5667, \"51E956A6-5428-4FCE-B38F-CE41779FA606\", 5667, 1435599444, \"710753\", 1435599444, \"710753\", null, \"2010-06-01T00:00:00\", \"Industrial aggregate excluding unclassified businesses\", \"992.43\", \"810.73\", \"851.70\", \"777.77\", \"754.39\", \"836.27\", \"763.68\", \"877.90\", \"707.19\", \"791.92\", \"844.28\" ]\n",
    "# , [ 5668, \"10617BBF-6B59-4024-86F6-0685E852CEC2\", 5668, 1435599444, \"710753\", 1435599444, \"710753\", null, \"2010-07-01T00:00:00\", \"Industrial aggregate excluding unclassified businesses\", \"983.72\", \"818.63\", \"849.38\", \"780.06\", \"753.29\", \"826.95\", \"766.62\", \"877.27\", \"683.01\", \"784.63\", \"834.27\" ]\n",
    "# , [ 5669, \"E336B15B-5BD2-40D4-9F45-C9E9F6D7766B\", 5669, 1435599444, \"710753\", 1435599444, \"710753\", null, \"2010-08-01T00:00:00\", \"Industrial aggregate excluding unclassified businesses\", \"997.12\", \"817.24\", \"852.95\", \"779.57\", \"750.13\", \"834.42\", \"757.10\", \"882.11\", \"679.73\", \"784.93\", \"847.53\" ]\n",
    "# , [ 5670, \"244B82F6-F74C-4202-8367-0A84493CD9D6\", 5670, 1435599444, \"710753\", 1435599444, \"710753\", null, \"2010-09-01T00:00:00\", \"Industrial aggregate excluding unclassified businesses\", \"994.17\", \"819.94\", \"862.50\", \"787.00\", \"763.27\", \"844.44\", \"762.74\", \"898.03\", \"692.13\", \"795.99\", \"846.10\" ]\n",
    "# , [ 5671, \"A5B62350-472C-46E9-9BF9-D40F9AC5282C\", 5671, 1435599444, \"710753\", 1435599444, \"710753\", null, \"2010-10-01T00:00:00\", \"Industrial aggregate excluding unclassified businesses\", \"1007.02\", \"830.21\", \"860.25\", \"795.67\", \"765.73\", \"836.01\", \"759.11\", \"886.04\", \"712.84\", \"789.55\", \"862.21\" ]\n",
    "# , [ 5672, \"B43EF832-C359-443D-ABE9-506D66C2B11C\", 5672, 1435599444, \"710753\", 1435599444, \"710753\", null, \"2010-11-01T00:00:00\", \"Industrial aggregate excluding unclassified businesses\", \"1011.40\", \"824.79\", \"864.23\", \"789.56\", \"769.37\", \"849.03\", \"757.47\", \"891.88\", \"718.23\", \"797.76\", \"859.20\" ]\n",
    "# , [ 5673, \"FE2E4B10-F917-47DC-976C-7F998256E6A5\", 5673, 1435599444, \"710753\", 1435599444, \"710753\", null, \"2010-12-01T00:00:00\", \"Industrial aggregate excluding unclassified businesses\", \"994.73\", \"834.72\", \"868.07\", \"801.81\", \"778.68\", \"856.01\", \"778.99\", \"895.94\", \"732.23\", \"804.14\", \"860.52\" ]\n",
    "# , [ 5674, \"E9CE2172-F34A-4197-9268-67F56E377FAD\", 5674, 1435599444, \"710753\", 1435599444, \"710753\", null, \"2011-01-01T00:00:00\", \"Industrial aggregate excluding unclassified businesses\", \"1030.23\", \"833.90\", \"871.06\", \"796.66\", \"784.91\", \"864.03\", \"755.24\", \"900.04\", \"717.14\", \"791.25\", \"881.43\" ]\n",
    "# , [ 5675, \"7B12A0F2-DDFC-47E5-8536-C60C1AD609C1\", 5675, 1435599444, \"710753\", 1435599444, \"710753\", null, \"2011-02-01T00:00:00\", \"Industrial aggregate excluding unclassified businesses\", \"1042.48\", \"842.21\", \"877.32\", \"800.25\", \"785.16\", \"882.71\", \"760.68\", \"903.91\", \"718.23\", \"800.47\", \"859.99\" ]\n",
    "# , [ 5676, \"27213EBD-90FC-4977-8B1B-C4B30E945E54\", 5676, 1435599444, \"710753\", 1435599444, \"710753\", null, \"2011-03-01T00:00:00\", \"Industrial aggregate excluding unclassified businesses\", \"1027.54\", \"831.42\", \"873.52\", \"797.22\", \"787.89\", \"879.89\", \"764.78\", \"900.66\", \"733.39\", \"802.88\", \"862.46\" ]\n",
    "# , [ 5677, \"DA72DF6E-E207-4909-845C-C489159118C0\", 5677, 1435599444, \"710753\", 1435599444, \"710753\", null, \"2011-04-01T00:00:00\", \"Industrial aggregate excluding unclassified businesses\", \"1032.66\", \"842.27\", \"869.47\", \"799.87\", \"790.98\", \"873.17\", \"761.80\", \"889.91\", \"723.85\", \"793.53\", \"873.00\" ]\n",
    "# , [ 5678, \"295B1713-6642-4144-945F-389614E14422\", 5678, 1435599444, \"710753\", 1435599444, \"710753\", null, \"2011-05-01T00:00:00\", \"Industrial aggregate excluding unclassified businesses\", \"1031.81\", \"844.69\", \"869.04\", \"800.12\", \"782.27\", \"869.87\", \"761.41\", \"889.35\", \"728.64\", \"796.45\", \"849.61\" ]\n",
    "# , [ 5679, \"7AF4E650-D766-4D2F-910C-A18048B44947\", 5679, 1435599444, \"710753\", 1435599444, \"710753\", null, \"2011-06-01T00:00:00\", \"Industrial aggregate excluding unclassified businesses\", \"1024.12\", \"837.09\", \"871.32\", \"801.67\", \"776.84\", \"861.85\", \"773.11\", \"892.24\", \"714.54\", \"809.42\", \"851.75\" ]\n",
    "# , [ 5680, \"5B00A40F-6F7C-4374-87B1-A14D37AD3D81\", 5680, 1435599444, \"710753\", 1435599444, \"710753\", null, \"2011-07-01T00:00:00\", \"Industrial aggregate excluding unclassified businesses\", \"1016.42\", \"828.60\", \"864.90\", \"799.38\", \"780.81\", \"872.43\", \"768.31\", \"882.32\", \"694.13\", \"804.26\", \"865.03\" ]\n",
    "# , [ 5681, \"4E36F785-E3A8-43A5-8F00-8AEE855B53E9\", 5681, 1435599444, \"710753\", 1435599444, \"710753\", null, \"2011-08-01T00:00:00\", \"Industrial aggregate excluding unclassified businesses\", \"1040.53\", \"836.07\", \"867.68\", \"805.12\", \"779.72\", \"870.06\", \"765.45\", \"882.98\", \"695.93\", \"794.00\", \"883.31\" ]\n",
    "# , [ 5682, \"E17E2A1D-A36F-471D-9CBE-F85C27E95567\", 5682, 1435599444, \"710753\", 1435599444, \"710753\", null, \"2011-09-01T00:00:00\", \"Industrial aggregate excluding unclassified businesses\", \"1026.41\", \"840.23\", \"869.71\", \"804.25\", \"789.36\", \"884.34\", \"755.59\", \"883.85\", \"722.29\", \"804.71\", \"897.27\" ]\n",
    "# , [ 5683, \"73E7A4C4-5F04-4707-82AB-5E0CDB6CD098\", 5683, 1435599444, \"710753\", 1435599444, \"710753\", null, \"2011-10-01T00:00:00\", \"Industrial aggregate excluding unclassified businesses\", \"1051.14\", \"847.66\", \"882.05\", \"804.87\", \"795.26\", \"899.15\", \"760.34\", \"900.32\", \"718.82\", \"811.75\", \"891.84\" ]\n",
    "# , [ 5684, \"EC514246-17FB-4C00-BEA9-A51E3B3E72AC\", 5684, 1435599444, \"710753\", 1435599444, \"710753\", null, \"2011-11-01T00:00:00\", \"Industrial aggregate excluding unclassified businesses\", \"1049.67\", \"847.63\", \"880.44\", \"801.77\", \"799.89\", \"891.23\", \"773.94\", \"893.90\", \"738.85\", \"813.94\", \"894.83\" ]\n",
    "# , [ 5685, \"8BE52CE5-675B-4941-AB8B-F0C76066872A\", 5685, 1435599444, \"710753\", 1435599444, \"710753\", null, \"2011-12-01T00:00:00\", \"Industrial aggregate excluding unclassified businesses\", \"1036.98\", \"854.80\", \"883.91\", \"804.59\", \"794.52\", \"899.71\", \"780.79\", \"900.49\", \"734.86\", \"818.70\", \"891.22\" ]\n",
    "# , [ 5686, \"F0664DB9-43B9-40F4-AEC1-2067BA535408\", 5686, 1435599444, \"710753\", 1435599444, \"710753\", null, \"2012-01-01T00:00:00\", \"Industrial aggregate excluding unclassified businesses\", \"1052.79\", \"858.34\", \"883.36\", \"815.75\", \"793.02\", \"905.48\", \"771.54\", \"900.85\", \"726.08\", \"800.62\", \"909.00\" ]\n",
    "# , [ 5687, \"5330108A-D6EC-4592-ACD5-37C33AC31108\", 5687, 1435599444, \"710753\", 1435599444, \"710753\", null, \"2012-02-01T00:00:00\", \"Industrial aggregate excluding unclassified businesses\", \"1067.39\", \"861.64\", \"887.67\", \"805.09\", \"801.20\", \"912.50\", \"769.19\", \"901.14\", \"733.40\", \"809.70\", \"906.18\" ]\n",
    "# , [ 5688, \"7CF4A7D8-FF62-4AF1-ABE3-CC8256DD0E91\", 5688, 1435599444, \"710753\", 1435599444, \"710753\", null, \"2012-03-01T00:00:00\", \"Industrial aggregate excluding unclassified businesses\", \"1058.46\", \"862.37\", \"890.00\", \"821.13\", \"807.70\", \"920.15\", \"777.65\", \"900.75\", \"756.80\", \"818.84\", \"911.63\" ]\n",
    "# , [ 5689, \"26FC3C58-58E5-4878-8415-8EAA362B2675\", 5689, 1435599444, \"710753\", 1435599444, \"710753\", null, \"2012-04-01T00:00:00\", \"Industrial aggregate excluding unclassified businesses\", \"1060.70\", \"861.49\", \"888.88\", \"813.30\", \"806.78\", \"927.87\", \"776.37\", \"903.08\", \"735.01\", \"812.53\", \"902.61\" ]\n",
    "# , [ 5690, \"935C3BF3-D160-4014-AC08-E0ADFC440539\", 5690, 1435599444, \"710753\", 1435599444, \"710753\", null, \"2012-05-01T00:00:00\", \"Industrial aggregate excluding unclassified businesses\", \"1040.93\", \"851.32\", \"887.88\", \"809.88\", \"806.65\", \"916.01\", \"789.90\", \"899.30\", \"756.25\", \"831.37\", \"896.36\" ]\n",
    "# , [ 5691, \"FA8781DD-3857-479F-B167-E9B189BDE337\", 5691, 1435599444, \"710753\", 1435599444, \"710753\", null, \"2012-06-01T00:00:00\", \"Industrial aggregate excluding unclassified businesses\", \"1063.52\", \"870.97\", \"894.78\", \"827.63\", \"810.46\", \"920.49\", \"792.77\", \"912.51\", \"753.98\", \"810.39\", \"914.58\" ]\n",
    "# , [ 5692, \"988892D9-FC24-4F91-A2F9-F03BC2210C20\", 5692, 1435599444, \"710753\", 1435599444, \"710753\", null, \"2012-07-01T00:00:00\", \"Industrial aggregate excluding unclassified businesses\", \"1074.05\", \"868.29\", \"896.94\", \"823.78\", \"805.55\", \"934.76\", \"790.05\", \"908.46\", \"724.34\", \"820.59\", \"926.99\" ]\n",
    "# , [ 5693, \"B3271B82-FE8D-4C1B-9991-CFA3D1571B4C\", 5693, 1435599444, \"710753\", 1435599444, \"710753\", null, \"2012-08-01T00:00:00\", \"Industrial aggregate excluding unclassified businesses\", \"1080.71\", \"859.92\", \"899.43\", \"833.05\", \"808.42\", \"940.65\", \"792.79\", \"903.50\", \"720.63\", \"836.06\", \"932.18\" ]\n",
    "# , [ 5694, \"533B5792-2260-4620-BF6A-F5BED9A27524\", 5694, 1435599444, \"710753\", 1435599444, \"710753\", null, \"2012-09-01T00:00:00\", \"Industrial aggregate excluding unclassified businesses\", \"1081.71\", \"864.42\", \"898.60\", \"833.79\", \"805.12\", \"937.27\", \"793.77\", \"904.57\", \"728.82\", \"829.48\", \"927.79\" ]\n",
    "# , [ 5695, \"569E79EE-639D-47F3-AD9C-BDFA801F3E07\", 5695, 1435599444, \"710753\", 1435599444, \"710753\", null, \"2012-10-01T00:00:00\", \"Industrial aggregate excluding unclassified businesses\", \"1096.41\", \"871.42\", \"903.29\", \"830.94\", \"813.12\", \"935.94\", \"789.91\", \"908.84\", \"726.81\", \"830.44\", \"931.35\" ]\n",
    "# , [ 5696, \"6D9686F2-5DA8-456E-BA2B-7CA682010419\", 5696, 1435599444, \"710753\", 1435599444, \"710753\", null, \"2012-11-01T00:00:00\", \"Industrial aggregate excluding unclassified businesses\", \"1080.35\", \"872.63\", \"903.67\", \"824.67\", \"810.50\", \"932.00\", \"804.97\", \"910.42\", \"750.13\", \"837.72\", \"923.00\" ]\n",
    "# , [ 5697, \"F97C3E95-AC6A-4539-A483-28E040565E24\", 5697, 1435599444, \"710753\", 1435599444, \"710753\", null, \"2012-12-01T00:00:00\", \"Industrial aggregate excluding unclassified businesses\", \"1088.62\", \"880.23\", \"908.37\", \"835.86\", \"810.92\", \"933.54\", \"807.32\", \"917.85\", \"753.02\", \"832.68\", \"933.32\" ]\n",
    "# , [ 5698, \"9D12219E-9D5F-4748-8D27-611696A876B6\", 5698, 1435599444, \"710753\", 1435599444, \"710753\", null, \"2013-01-01T00:00:00\", \"Industrial aggregate excluding unclassified businesses\", \"1069.35\", \"861.75\", \"898.44\", \"821.84\", \"801.75\", \"934.45\", \"783.89\", \"913.98\", \"738.67\", \"823.66\", \"923.96\" ]\n",
    "# , [ 5699, \"79BDCDF0-F30D-4590-9EE0-2039C59725E9\", 5699, 1435599444, \"710753\", 1435599444, \"710753\", null, \"2013-02-01T00:00:00\", \"Industrial aggregate excluding unclassified businesses\", \"1113.51\", \"881.20\", \"911.76\", \"815.61\", \"800.38\", \"952.15\", \"786.92\", \"922.47\", \"744.10\", \"826.54\", \"952.18\" ]\n",
    "# , [ 5700, \"9D357A47-1446-4480-A689-C44D5C9584D8\", 5700, 1435599444, \"710753\", 1435599444, \"710753\", null, \"2013-03-01T00:00:00\", \"Industrial aggregate excluding unclassified businesses\", \"1105.64\", \"871.75\", \"905.22\", \"828.59\", \"793.96\", \"945.22\", \"785.75\", \"919.57\", \"761.85\", \"810.72\", \"953.97\" ]\n",
    "# , [ 5701, \"94C0CC73-F7B5-4897-B541-7FF4AB1BF994\", 5701, 1435599444, \"710753\", 1435599444, \"710753\", null, \"2013-04-01T00:00:00\", \"Industrial aggregate excluding unclassified businesses\", \"1103.68\", \"873.50\", \"905.41\", \"821.34\", \"799.96\", \"946.36\", \"786.58\", \"914.38\", \"756.39\", \"824.85\", \"936.01\" ]\n",
    "# , [ 5702, \"B58B635B-E2EE-45A8-9F4F-6568E68B9C8C\", 5702, 1435599444, \"710753\", 1435599444, \"710753\", null, \"2013-05-01T00:00:00\", \"Industrial aggregate excluding unclassified businesses\", \"1098.46\", \"876.40\", \"910.56\", \"814.72\", \"808.09\", \"940.26\", \"800.56\", \"918.32\", \"769.83\", \"841.69\", \"934.64\" ]\n",
    "# , [ 5703, \"378CFFC8-4EC2-4366-B8FB-5CC173888992\", 5703, 1435599444, \"710753\", 1435599444, \"710753\", null, \"2013-06-01T00:00:00\", \"Industrial aggregate excluding unclassified businesses\", \"1097.71\", \"867.77\", \"911.94\", \"829.29\", \"809.50\", \"940.35\", \"803.66\", \"923.97\", \"755.63\", \"838.91\", \"948.34\" ]\n",
    "# , [ 5704, \"5DD47F1F-78B5-448A-9BEC-19127963538A\", 5704, 1435599444, \"710753\", 1435599444, \"710753\", null, \"2013-07-01T00:00:00\", \"Industrial aggregate excluding unclassified businesses\", \"1099.53\", \"864.68\", \"906.82\", \"823.32\", \"799.99\", \"948.79\", \"808.55\", \"913.87\", \"738.70\", \"833.95\", \"946.31\" ]\n",
    "# , [ 5705, \"CA3B5289-591D-42C7-B6EF-3287C29A36AA\", 5705, 1435599444, \"710753\", 1435599444, \"710753\", null, \"2013-08-01T00:00:00\", \"Industrial aggregate excluding unclassified businesses\", \"1093.14\", \"863.94\", \"907.30\", \"824.74\", \"801.43\", \"951.96\", \"802.88\", \"918.64\", \"736.48\", \"832.60\", \"942.20\" ]\n",
    "# , [ 5706, \"8EDD7604-8740-4052-9DE5-2EE7C6B6D564\", 5706, 1435599444, \"710753\", 1435599444, \"710753\", null, \"2013-09-01T00:00:00\", \"Industrial aggregate excluding unclassified businesses\", \"1114.87\", \"869.32\", \"907.86\", \"821.79\", \"789.91\", \"955.14\", \"795.15\", \"912.23\", \"746.35\", \"832.54\", \"941.82\" ]\n",
    "# , [ 5707, \"2B3F433E-87A4-46C4-B2C7-A813C7DD78CD\", 5707, 1435599444, \"710753\", 1435599444, \"710753\", null, \"2013-10-01T00:00:00\", \"Industrial aggregate excluding unclassified businesses\", \"1118.79\", \"867.56\", \"916.45\", \"822.38\", \"805.09\", \"966.96\", \"797.84\", \"921.12\", \"751.10\", \"851.45\", \"943.92\" ]\n",
    "# , [ 5708, \"44FBD655-4B28-4250-9423-4C262834650A\", 5708, 1435599444, \"710753\", 1435599444, \"710753\", null, \"2013-11-01T00:00:00\", \"Industrial aggregate excluding unclassified businesses\", \"1137.21\", \"895.89\", \"922.36\", \"842.09\", \"824.87\", \"973.45\", \"806.92\", \"929.25\", \"757.00\", \"827.17\", \"958.33\" ]\n",
    "# , [ 5709, \"491A22A7-3DBF-4CE9-B45E-F19FF09302B3\", 5709, 1435599444, \"710753\", 1435599444, \"710753\", null, \"2013-12-01T00:00:00\", \"Industrial aggregate excluding unclassified businesses\", \"1143.70\", \"898.29\", \"930.28\", \"864.26\", \"819.70\", \"972.75\", \"808.43\", \"933.53\", \"777.15\", \"844.09\", \"964.53\" ]\n",
    "# , [ 5710, \"E4D70593-64BB-4FAE-8110-28E48B4B8397\", 5710, 1435599444, \"710753\", 1435599444, \"710753\", null, \"2014-01-01T00:00:00\", \"Industrial aggregate excluding unclassified businesses\", \"1115.88\", \"884.83\", \"920.18\", \"841.64\", \"807.50\", \"958.16\", \"801.59\", \"932.48\", \"770.86\", \"834.47\", \"941.24\" ]\n",
    "# , [ 5711, \"8FE8E2A2-4381-4908-A386-4DEF1B4AD59B\", 5711, 1435599444, \"710753\", 1435599444, \"710753\", null, \"2014-02-01T00:00:00\", \"Industrial aggregate excluding unclassified businesses\", \"1147.69\", \"898.03\", \"933.15\", \"851.82\", \"823.19\", \"978.49\", \"813.83\", \"942.00\", \"770.26\", \"838.35\", \"970.05\" ]\n",
    "# , [ 5712, \"B2999934-6E32-4839-9B37-ABED77B2C716\", 5712, 1435599444, \"710753\", 1435599444, \"710753\", null, \"2014-03-01T00:00:00\", \"Industrial aggregate excluding unclassified businesses\", \"1155.43\", \"898.10\", \"930.78\", \"855.63\", \"812.96\", \"983.21\", \"809.56\", \"934.52\", \"774.89\", \"836.34\", \"967.05\" ]\n",
    "# , [ 5713, \"60B9A0AD-EC32-4838-82BC-D57C2BDD4ABC\", 5713, 1435599444, \"710753\", 1435599444, \"710753\", null, \"2014-04-01T00:00:00\", \"Industrial aggregate excluding unclassified businesses\", \"1147.73\", \"895.40\", \"931.12\", \"857.99\", \"831.93\", \"989.21\", \"817.48\", \"932.63\", \"779.90\", \"842.97\", \"975.60\" ]\n",
    "# , [ 5714, \"0AE29FF3-CDD5-4F6E-91FA-89E5F0129CA8\", 5714, 1435599444, \"710753\", 1435599444, \"710753\", null, \"2014-05-01T00:00:00\", \"Industrial aggregate excluding unclassified businesses\", \"1134.33\", \"896.84\", \"932.72\", \"852.31\", \"834.73\", \"990.50\", \"827.56\", \"935.16\", \"773.62\", \"856.27\", \"958.68\" ]\n",
    "# , [ 5715, \"BA6F0115-912C-4CF5-9C56-A4457AC14AF4\", 5715, 1435599444, \"710753\", 1435599444, \"710753\", null, \"2014-06-01T00:00:00\", \"Industrial aggregate excluding unclassified businesses\", \"1151.22\", \"888.03\", \"938.57\", \"867.75\", \"834.85\", \"996.14\", \"830.24\", \"943.52\", \"783.76\", \"857.08\", \"980.26\" ]\n",
    "# , [ 5716, \"3BF02973-49DB-4DC5-AFA2-1A0A04C9DD48\", 5716, 1435599444, \"710753\", 1435599444, \"710753\", null, \"2014-07-01T00:00:00\", \"Industrial aggregate excluding unclassified businesses\", \"1138.21\", \"879.23\", \"939.30\", \"860.36\", \"842.70\", \"995.46\", \"830.68\", \"942.26\", \"757.95\", \"874.71\", \"978.14\" ]\n",
    "# , [ 5717, \"02FFB60F-7DF1-46E5-AFD4-78EB2CD0E167\", 5717, 1435599444, \"710753\", 1435599444, \"710753\", null, \"2014-08-01T00:00:00\", \"Industrial aggregate excluding unclassified businesses\", \"1155.68\", \"897.90\", \"935.22\", \"875.09\", \"826.67\", \"985.76\", \"822.27\", \"936.16\", \"759.39\", \"843.54\", \"984.13\" ]\n",
    "# , [ 5718, \"BC94046F-7D6D-4C17-9F37-2930D05A282B\", 5718, 1435599444, \"710753\", 1435599444, \"710753\", null, \"2014-09-01T00:00:00\", \"Industrial aggregate excluding unclassified businesses\", \"1159.89\", \"896.29\", \"934.74\", \"869.33\", \"836.43\", \"997.27\", \"811.21\", \"935.30\", \"757.86\", \"842.92\", \"979.19\" ]\n",
    "# , [ 5719, \"03C8E1BF-4097-44F8-BBE7-EED2E44E3913\", 5719, 1435599444, \"710753\", 1435599444, \"710753\", null, \"2014-10-01T00:00:00\", \"Industrial aggregate excluding unclassified businesses\", \"1163.69\", \"901.86\", \"940.68\", \"872.41\", \"838.49\", \"1001.57\", \"820.12\", \"936.71\", \"774.24\", \"858.82\", \"984.95\" ]\n",
    "# , [ 5720, \"8456038A-24AE-4EAC-ACEB-FEE4836B9BD1\", 5720, 1435599444, \"710753\", 1435599444, \"710753\", null, \"2014-11-01T00:00:00\", \"Industrial aggregate excluding unclassified businesses\", \"1160.77\", \"902.69\", \"937.83\", \"862.07\", \"838.71\", \"1007.37\", \"816.48\", \"938.67\", \"782.53\", \"844.51\", \"992.31\" ]\n",
    "# , [ 5721, \"929B44CE-29DA-42D8-B7C3-C87C70D4C383\", 5721, 1435599444, \"710753\", 1435599444, \"710753\", null, \"2014-12-01T00:00:00\", \"Industrial aggregate excluding unclassified businesses\", \"1159.60\", \"904.11\", \"948.40\", \"886.94\", \"856.35\", \"1006.98\", \"836.76\", \"950.38\", \"803.66\", \"862.12\", \"991.30\" ]\n",
    "# , [ 5722, \"F8CF4AB6-378A-4075-8BE7-6195EE417848\", 5722, 1435599444, \"710753\", 1435599444, \"710753\", null, \"2015-01-01T00:00:00\", \"Industrial aggregate excluding unclassified businesses\", \"1158.79\", \"911.57\", \"944.98\", \"875.17\", \"842.03\", \"1007.20\", \"830.52\", \"951.10\", \"794.39\", \"846.73\", \"982.60\" ]\n",
    "# , [ 5723, \"F7A31164-A7FE-467F-A9F7-8A06954FB391\", 5723, 1435599444, \"710753\", 1435599444, \"710753\", null, \"2015-02-01T00:00:00\", \"Industrial aggregate excluding unclassified businesses\", \"1176.32\", \"919.20\", \"957.80\", \"873.35\", \"854.39\", \"1015.85\", \"829.09\", \"969.17\", \"792.26\", \"857.53\", \"991.21\" ]\n",
    "# , [ 5724, \"58A68982-BF09-4DA2-9C86-094D9F52BB8F\", 5724, 1435599444, \"710753\", 1435599444, \"710753\", null, \"2015-03-01T00:00:00\", \"Industrial aggregate excluding unclassified businesses\", \"1173.23\", \"911.73\", \"956.50\", \"865.29\", \"848.22\", \"1022.75\", \"823.01\", \"968.75\", \"800.10\", \"861.10\", \"988.79\" ]\n",
    "# , [ 5725, \"21789CE9-CD5C-4B1F-BAFF-B3D7C45E6F25\", 5725, 1435599444, \"710753\", 1435599444, \"710753\", null, \"2015-04-01T00:00:00\", \"Industrial aggregate excluding unclassified businesses\", \"1150.61\", \"899.15\", \"954.70\", \"864.69\", \"864.81\", \"1019.61\", \"835.31\", \"964.80\", \"809.92\", \"881.27\", \"977.35\" ]\n",
    "#  ]\n",
    "# }"
   ]
  },
  {
   "cell_type": "code",
   "execution_count": 5,
   "metadata": {},
   "outputs": [],
   "source": [
    "# read the columns for df from the JSON file:\n",
    "# the name of the columns is in the 'name' field of the 'meta.view.columns' field\n",
    "\n",
    "df_columns = pd.json_normalize(d['meta']['view']['columns'])\n",
    "    \n",
    "    "
   ]
  },
  {
   "cell_type": "code",
   "execution_count": 6,
   "metadata": {},
   "outputs": [],
   "source": [
    "# use the df_columns.name as the column name for df\n",
    "df.columns = df_columns.name"
   ]
  },
  {
   "cell_type": "code",
   "execution_count": 7,
   "metadata": {},
   "outputs": [
    {
     "data": {
      "text/plain": [
       "name\n",
       "sid                          0\n",
       "id                           0\n",
       "position                     0\n",
       "created_at                   0\n",
       "created_meta                 0\n",
       "updated_at                   0\n",
       "updated_meta                 0\n",
       "meta                       172\n",
       "When                         0\n",
       "NAICS                        0\n",
       "Alberta                      0\n",
       "BritishColumbia              0\n",
       "Canada                       0\n",
       "Manitoba                     0\n",
       "NewBrunswick                 0\n",
       "NewfoundlandAndLabrador      0\n",
       "NovaScotia                   0\n",
       "Ontario                      0\n",
       "PrinceEdwardIsland           0\n",
       "Quebec                       0\n",
       "Saskatchewan                 0\n",
       "dtype: int64"
      ]
     },
     "execution_count": 7,
     "metadata": {},
     "output_type": "execute_result"
    }
   ],
   "source": [
    "# find the null values in the df\n",
    "df.isnull().sum()"
   ]
  },
  {
   "cell_type": "code",
   "execution_count": 8,
   "metadata": {},
   "outputs": [
    {
     "data": {
      "text/plain": [
       "(172, 21)"
      ]
     },
     "execution_count": 8,
     "metadata": {},
     "output_type": "execute_result"
    },
    {
     "data": {
      "text/plain": [
       "(172, 20)"
      ]
     },
     "execution_count": 8,
     "metadata": {},
     "output_type": "execute_result"
    }
   ],
   "source": [
    "# drop the columns 'meta', since it is all null values\n",
    "df.shape\n",
    "df.drop('meta', axis=1, inplace=True)\n",
    "df.shape"
   ]
  },
  {
   "cell_type": "code",
   "execution_count": 9,
   "metadata": {},
   "outputs": [],
   "source": [
    "# extract the column names from the this record_path: 'columns'"
   ]
  },
  {
   "cell_type": "code",
   "execution_count": 10,
   "metadata": {},
   "outputs": [],
   "source": [
    "\n",
    "# save the dataframe to a csv file\n",
    "df.to_csv('data/weekly_earnings.csv', index=False)\n",
    "\n",
    "# more information about this json file:\n",
    "# \"assetId\" : \"q0xKwd5SdcbrI_921oszuHshnMeQLuwtjtYEfg7emC8\",\n",
    "# \"API Access Endpoint\" : \"http://data.iae.alberta.ca/resource/gjxb-ck3u.json\"\n",
    "\n",
    "# alternatively, you can use the following url to access the data, download the csv version:\n"
   ]
  },
  {
   "attachments": {},
   "cell_type": "markdown",
   "metadata": {},
   "source": [
    "# Part 2: check the weekly earnings data after reading back"
   ]
  },
  {
   "cell_type": "code",
   "execution_count": 11,
   "metadata": {},
   "outputs": [],
   "source": [
    "# load the csv: /data/weekly_earnings.csv to a pandas dataframe. There is not index column in this csv file\n",
    "weekly_earnings_csv = pd.read_csv('data/weekly_earnings.csv', index_col=None)"
   ]
  },
  {
   "attachments": {},
   "cell_type": "markdown",
   "metadata": {},
   "source": [
    "# Part 3 Convert any sentence to title case"
   ]
  },
  {
   "cell_type": "code",
   "execution_count": 12,
   "metadata": {},
   "outputs": [
    {
     "data": {
      "text/plain": [
       "'The Trend Of House Prices Across Canada In The Last 40 Years'"
      ]
     },
     "execution_count": 12,
     "metadata": {},
     "output_type": "execute_result"
    }
   ],
   "source": [
    "#\n",
    "\n",
    "s = 'the trend of house prices across Canada in the last 40 years'\n",
    "\n",
    "# convert the string to a capital case and print\n",
    "s.title()"
   ]
  },
  {
   "attachments": {},
   "cell_type": "markdown",
   "metadata": {},
   "source": [
    "# Part 4: Read all the csv files in the folder and print all their table anmes and column names in a txt file   "
   ]
  },
  {
   "cell_type": "code",
   "execution_count": 13,
   "metadata": {},
   "outputs": [
    {
     "data": {
      "text/plain": [
       "['consumer_index.csv',\n",
       " 'housing_price_index.csv',\n",
       " 'office_realestate_index.csv',\n",
       " 'real_estate_numbers.csv',\n",
       " 'real_estate_prices_all_cleaned.csv',\n",
       " 'weekly_earnings.csv']"
      ]
     },
     "execution_count": 13,
     "metadata": {},
     "output_type": "execute_result"
    }
   ],
   "source": [
    "# Read all the csv files in the /data folder:\n",
    "\n",
    "import os\n",
    "import pandas as pd\n",
    "\n",
    "# get the current working directory\n",
    "cwd = os.getcwd()\n",
    "\n",
    "# get the list of all files in the current working directory\n",
    "files = os.listdir(cwd+'/data/')\n",
    "\n",
    "# get the list of csv files in the current working directory\n",
    "csv_files = [f for f in files if f.endswith('.csv')]\n",
    "csv_files\n"
   ]
  },
  {
   "cell_type": "code",
   "execution_count": 14,
   "metadata": {},
   "outputs": [],
   "source": [
    "# loop through the csv files and read them into a pandas dataframe and print the first 5 rows of each dataframe\n",
    "\n",
    "# create a txt file under the /data/ folder for writing the file columns:\n",
    "# format like this:\n",
    "# Talbe 1: weekly_earnings.csv\n",
    "# The first 5 rows of the table are:\n",
    "# <Blank line>\n",
    "# Table 2: ***.csv\n",
    "# The first 5 rows of the table are:\n",
    "\n",
    "\n",
    "    "
   ]
  },
  {
   "attachments": {},
   "cell_type": "markdown",
   "metadata": {},
   "source": [
    "# There is an AttributeError: 'str' object has no attribute 'write'\n",
    "# Try again:\n",
    "\n"
   ]
  },
  {
   "cell_type": "code",
   "execution_count": 15,
   "metadata": {},
   "outputs": [
    {
     "name": "stdout",
     "output_type": "stream",
     "text": [
      "      date  region                                           measures  \\\n",
      "0  1979-11  Canada  Consumer Price Index (CPI) inversely weighted ...   \n",
      "1  1979-12  Canada  Consumer Price Index (CPI) inversely weighted ...   \n",
      "2  1980-01  Canada  Consumer Price Index (CPI) inversely weighted ...   \n",
      "3  1980-02  Canada  Consumer Price Index (CPI) inversely weighted ...   \n",
      "4  1980-03  Canada  Consumer Price Index (CPI) inversely weighted ...   \n",
      "\n",
      "      unit  index_value  \n",
      "0  Percent          9.3  \n",
      "1  Percent          9.4  \n",
      "2  Percent          9.3  \n",
      "3  Percent          9.4  \n",
      "4  Percent          9.3  \n"
     ]
    },
    {
     "data": {
      "text/plain": [
       "33"
      ]
     },
     "execution_count": 15,
     "metadata": {},
     "output_type": "execute_result"
    },
    {
     "data": {
      "text/plain": [
       "1107"
      ]
     },
     "execution_count": 15,
     "metadata": {},
     "output_type": "execute_result"
    },
    {
     "name": "stdout",
     "output_type": "stream",
     "text": [
      "     Date  Total (house and land)  House only  Land only\n",
      "0  Jan-81                    38.2        36.1       40.6\n",
      "1  Feb-81                    38.7        36.5       41.0\n",
      "2  Mar-81                    39.3        37.3       41.1\n",
      "3  Apr-81                    39.9        38.1       41.2\n",
      "4  May-81                    40.6        38.9       41.5\n"
     ]
    },
    {
     "data": {
      "text/plain": [
       "38"
      ]
     },
     "execution_count": 15,
     "metadata": {},
     "output_type": "execute_result"
    },
    {
     "data": {
      "text/plain": [
       "644"
      ]
     },
     "execution_count": 15,
     "metadata": {},
     "output_type": "execute_result"
    },
    {
     "name": "stdout",
     "output_type": "stream",
     "text": [
      "      date                                    region    property_type  \\\n",
      "0  1981-01  Seven census metropolitan area composite           Office   \n",
      "1  1981-01  Seven census metropolitan area composite        Warehouse   \n",
      "2  1981-01  Seven census metropolitan area composite  Shopping centre   \n",
      "3  1981-01  Seven census metropolitan area composite    Light factory   \n",
      "4  1981-01  Seven census metropolitan area composite           School   \n",
      "\n",
      "          baseline  index_value  \n",
      "0  Index, 2002=100         58.4  \n",
      "1  Index, 2002=100         53.3  \n",
      "2  Index, 2002=100         59.3  \n",
      "3  Index, 2002=100         50.1  \n",
      "4  Index, 2002=100         56.1  \n"
     ]
    },
    {
     "data": {
      "text/plain": [
       "42"
      ]
     },
     "execution_count": 15,
     "metadata": {},
     "output_type": "execute_result"
    },
    {
     "data": {
      "text/plain": [
       "1195"
      ]
     },
     "execution_count": 15,
     "metadata": {},
     "output_type": "execute_result"
    },
    {
     "name": "stdout",
     "output_type": "stream",
     "text": [
      "   REF_DATE     GEO           DGUID Housing estimates     Type of unit    UOM  \\\n",
      "0      1955  Canada  2016A000011124    Housing starts      Total units  Units   \n",
      "1      1955  Canada  2016A000011124    Housing starts  Single-detached  Units   \n",
      "2      1955  Canada  2016A000011124    Housing starts        Multiples  Units   \n",
      "3      1955  Canada  2016A000011124    Housing starts    Semi-detached  Units   \n",
      "4      1955  Canada  2016A000011124    Housing starts              Row  Units   \n",
      "\n",
      "   UOM_ID SCALAR_FACTOR  SCALAR_ID   VECTOR COORDINATE   VALUE  STATUS  \\\n",
      "0     300        units           0  v730579      1.1.1  138276     NaN   \n",
      "1     300        units           0  v730524      1.1.2   99003     NaN   \n",
      "2     300        units           0  v730568      1.1.4   39273     NaN   \n",
      "3     300        units           0  v730535      1.1.3   10606     NaN   \n",
      "4     300        units           0  v730546      1.1.5    1909     NaN   \n",
      "\n",
      "   SYMBOL  TERMINATED  DECIMALS  \n",
      "0     NaN         NaN         0  \n",
      "1     NaN         NaN         0  \n",
      "2     NaN         NaN         0  \n",
      "3     NaN         NaN         0  \n",
      "4     NaN         NaN         0  \n"
     ]
    },
    {
     "data": {
      "text/plain": [
       "38"
      ]
     },
     "execution_count": 15,
     "metadata": {},
     "output_type": "execute_result"
    },
    {
     "data": {
      "text/plain": [
       "2296"
      ]
     },
     "execution_count": 15,
     "metadata": {},
     "output_type": "execute_result"
    },
    {
     "name": "stdout",
     "output_type": "stream",
     "text": [
      "         Date     Region  Apartment_Benchmark  Apartment_HPI  \\\n",
      "0  2005-01-01  Aggregate             190600.0          100.0   \n",
      "1  2005-02-01  Aggregate             192300.0          100.9   \n",
      "2  2005-03-01  Aggregate             193200.0          101.4   \n",
      "3  2005-04-01  Aggregate             194600.0          102.1   \n",
      "4  2005-05-01  Aggregate             196100.0          102.9   \n",
      "\n",
      "   Composite_Benchmark  Composite_HPI  One_Storey_Benchmark  One_Storey_HPI  \\\n",
      "0               248200          100.0                219800           100.0   \n",
      "1               250600          101.0                222000           101.0   \n",
      "2               253100          102.0                224600           102.2   \n",
      "3               255400          102.9                227100           103.3   \n",
      "4               257300          103.7                229300           104.3   \n",
      "\n",
      "   Single_Family_Benchmark  Single_Family_HPI  Townhouse_Benchmark  \\\n",
      "0                   267500              100.0             211800.0   \n",
      "1                   270200              101.0             213100.0   \n",
      "2                   273400              102.2             214300.0   \n",
      "3                   276100              103.2             215800.0   \n",
      "4                   277900              103.9             217300.0   \n",
      "\n",
      "   Townhouse_HPI  Two_Storey_Benchmark  Two_Storey_HPI  \n",
      "0          100.0                307200           100.0  \n",
      "1          100.6                310600           101.1  \n",
      "2          101.2                313900           102.2  \n",
      "3          101.9                317000           103.2  \n",
      "4          102.6                318200           103.6  \n"
     ]
    },
    {
     "data": {
      "text/plain": [
       "49"
      ]
     },
     "execution_count": 15,
     "metadata": {},
     "output_type": "execute_result"
    },
    {
     "data": {
      "text/plain": [
       "2990"
      ]
     },
     "execution_count": 15,
     "metadata": {},
     "output_type": "execute_result"
    },
    {
     "name": "stdout",
     "output_type": "stream",
     "text": [
      "    sid                                    id  position  created_at  \\\n",
      "0  5554  8D0D0120-53D5-4A3D-B68F-D5BAFA1B9F24      5554  1435599444   \n",
      "1  5555  B8156EED-2420-4B71-A56C-57DED1FA7CEC      5555  1435599444   \n",
      "2  5556  A8D7795E-40FA-4923-AB52-CA8536DAAD7A      5556  1435599444   \n",
      "3  5557  8373DAD3-2886-4DAD-AFE8-84DB8C0F414E      5557  1435599444   \n",
      "4  5558  05DB3E97-35EC-4F75-891B-3F6C696CDEE0      5558  1435599444   \n",
      "\n",
      "   created_meta  updated_at  updated_meta                 When  \\\n",
      "0        710753  1435599444        710753  2001-01-01T00:00:00   \n",
      "1        710753  1435599444        710753  2001-02-01T00:00:00   \n",
      "2        710753  1435599444        710753  2001-03-01T00:00:00   \n",
      "3        710753  1435599444        710753  2001-04-01T00:00:00   \n",
      "4        710753  1435599444        710753  2001-05-01T00:00:00   \n",
      "\n",
      "                                               NAICS  Alberta  \\\n",
      "0  Industrial aggregate excluding unclassified bu...   670.54   \n",
      "1  Industrial aggregate excluding unclassified bu...   670.52   \n",
      "2  Industrial aggregate excluding unclassified bu...   668.49   \n",
      "3  Industrial aggregate excluding unclassified bu...   671.71   \n",
      "4  Industrial aggregate excluding unclassified bu...   664.45   \n",
      "\n",
      "   BritishColumbia  Canada  Manitoba  NewBrunswick  NewfoundlandAndLabrador  \\\n",
      "0           660.48  658.02    578.95        584.75                   594.00   \n",
      "1           659.33  655.79    580.63        585.11                   591.92   \n",
      "2           654.07  655.88    578.67        584.13                   593.47   \n",
      "3           657.15  654.09    576.36        580.92                   591.96   \n",
      "4           653.23  650.02    571.84        578.44                   588.19   \n",
      "\n",
      "   NovaScotia  Ontario  PrinceEdwardIsland  Quebec  Saskatchewan  \n",
      "0      571.28   698.57              535.65  624.81        596.53  \n",
      "1      570.06   693.69              532.02  623.93        595.09  \n",
      "2      570.70   697.08              534.71  622.94        589.09  \n",
      "3      568.70   693.73              522.50  619.12        589.37  \n",
      "4      567.96   688.27              522.31  618.90        587.41  \n"
     ]
    },
    {
     "data": {
      "text/plain": [
       "34"
      ]
     },
     "execution_count": 15,
     "metadata": {},
     "output_type": "execute_result"
    },
    {
     "data": {
      "text/plain": [
       "3849"
      ]
     },
     "execution_count": 15,
     "metadata": {},
     "output_type": "execute_result"
    }
   ],
   "source": [
    "# create a new txt to write the table names and column names, and keep it open for writing:\n",
    "# \n",
    "\n",
    "with open(data_path + 'table_names_and_column_names.txt', 'w') as f:\n",
    "    for file in csv_files:\n",
    "\n",
    "            df = pd.read_csv(data_path + file)\n",
    "            print(df.head())\n",
    "            # print into the file f: Table name and column names\n",
    "            f.write(f'Table name: {file} \\n\\n')\n",
    "            f.write(f'Column names: {df.head(10)} \\n\\n\\n')\n",
    "\n",
    "# # close the file\n",
    "# f.close()\n",
    "\n"
   ]
  },
  {
   "attachments": {},
   "cell_type": "markdown",
   "metadata": {},
   "source": [
    "# Cleaning the data"
   ]
  },
  {
   "attachments": {},
   "cell_type": "markdown",
   "metadata": {},
   "source": [
    "## read the csv file housing_price_index.csv, convert the column date to datetime format, and save it as CSV file"
   ]
  },
  {
   "cell_type": "code",
   "execution_count": 16,
   "metadata": {},
   "outputs": [],
   "source": [
    "# Data Cleaning:\n",
    "# read the housing_price_index.csv and convert the first column to datetime format\n",
    "\n",
    "# read the csv file\n",
    "housing_price_index = pd.read_csv('data/housing_price_index.csv')"
   ]
  },
  {
   "cell_type": "code",
   "execution_count": 17,
   "metadata": {},
   "outputs": [
    {
     "data": {
      "text/plain": [
       "Date                       object\n",
       "Total (house and land)    float64\n",
       "House only                float64\n",
       "Land only                 float64\n",
       "dtype: object"
      ]
     },
     "execution_count": 17,
     "metadata": {},
     "output_type": "execute_result"
    }
   ],
   "source": [
    "# check the first column data type\n",
    "housing_price_index.dtypes"
   ]
  },
  {
   "cell_type": "code",
   "execution_count": 18,
   "metadata": {},
   "outputs": [
    {
     "data": {
      "text/plain": [
       "Index(['Date', 'Total (House And Land)', 'House Only', 'Land Only'], dtype='object')"
      ]
     },
     "execution_count": 18,
     "metadata": {},
     "output_type": "execute_result"
    }
   ],
   "source": [
    "# rename the column names to title case and replace the under score with space\n",
    "housing_price_index.columns = housing_price_index.columns.str.title().str.replace('_', ' ')\n",
    "housing_price_index.columns"
   ]
  },
  {
   "cell_type": "code",
   "execution_count": 19,
   "metadata": {},
   "outputs": [],
   "source": [
    "# The first column, date, looks like this:\n",
    "# Jan-81\n",
    "# Feb-81\n",
    "# Mar-81\n",
    "# Apr-81\n",
    "# May-81\n",
    "# Jun-81\n",
    "# Jul-81\n",
    "# Aug-81\n",
    "# Sep-81\n",
    "# Oct-81\n",
    "# Nov-81\n",
    "# Dec-81\n",
    "# Jan-82\n",
    "# Feb-82\n",
    "# Mar-82\n",
    "# Apr-82\n",
    "# May-82\n",
    "# Jun-82\n",
    "# Jul-82\n",
    "# Aug-82\n",
    "# Sep-82\n",
    "# Oct-82\n",
    "# Nov-82"
   ]
  },
  {
   "cell_type": "code",
   "execution_count": 20,
   "metadata": {},
   "outputs": [],
   "source": [
    "# Change the first column to datetime format\n",
    "\n",
    "# make a copy of the dataframe:\n",
    "housing_price_index_cleaned = housing_price_index.copy()\n",
    "housing_price_index_cleaned['Date'] = pd.to_datetime(housing_price_index['Date'], format='%b-%y')\n",
    "\n"
   ]
  },
  {
   "cell_type": "code",
   "execution_count": 21,
   "metadata": {},
   "outputs": [],
   "source": [
    "# # write housing_price_index_cleaned into a csv file under data_cleaned folder\n",
    "# housing_price_index_cleaned.to_csv('data_cleaned/housing_price_index_cleaned.csv', index=False) "
   ]
  },
  {
   "cell_type": "code",
   "execution_count": 22,
   "metadata": {},
   "outputs": [
    {
     "data": {
      "text/plain": [
       "['Date', 'Total (House And Land)', 'House Only', 'Land Only']"
      ]
     },
     "execution_count": 22,
     "metadata": {},
     "output_type": "execute_result"
    }
   ],
   "source": [
    "housing_price_index_cleaned.columns.to_list()"
   ]
  },
  {
   "cell_type": "code",
   "execution_count": 23,
   "metadata": {},
   "outputs": [
    {
     "data": {
      "text/html": [
       "<div>\n",
       "<style scoped>\n",
       "    .dataframe tbody tr th:only-of-type {\n",
       "        vertical-align: middle;\n",
       "    }\n",
       "\n",
       "    .dataframe tbody tr th {\n",
       "        vertical-align: top;\n",
       "    }\n",
       "\n",
       "    .dataframe thead th {\n",
       "        text-align: right;\n",
       "    }\n",
       "</style>\n",
       "<table border=\"1\" class=\"dataframe\">\n",
       "  <thead>\n",
       "    <tr style=\"text-align: right;\">\n",
       "      <th></th>\n",
       "      <th>Date</th>\n",
       "      <th>Property Type (H.P.I.)</th>\n",
       "      <th>HPI Value</th>\n",
       "    </tr>\n",
       "  </thead>\n",
       "  <tbody>\n",
       "    <tr>\n",
       "      <th>0</th>\n",
       "      <td>1981-01-01</td>\n",
       "      <td>Total (House And Land)</td>\n",
       "      <td>38.2</td>\n",
       "    </tr>\n",
       "    <tr>\n",
       "      <th>1</th>\n",
       "      <td>1981-02-01</td>\n",
       "      <td>Total (House And Land)</td>\n",
       "      <td>38.7</td>\n",
       "    </tr>\n",
       "    <tr>\n",
       "      <th>2</th>\n",
       "      <td>1981-03-01</td>\n",
       "      <td>Total (House And Land)</td>\n",
       "      <td>39.3</td>\n",
       "    </tr>\n",
       "    <tr>\n",
       "      <th>3</th>\n",
       "      <td>1981-04-01</td>\n",
       "      <td>Total (House And Land)</td>\n",
       "      <td>39.9</td>\n",
       "    </tr>\n",
       "    <tr>\n",
       "      <th>4</th>\n",
       "      <td>1981-05-01</td>\n",
       "      <td>Total (House And Land)</td>\n",
       "      <td>40.6</td>\n",
       "    </tr>\n",
       "  </tbody>\n",
       "</table>\n",
       "</div>"
      ],
      "text/plain": [
       "        Date  Property Type (H.P.I.)  HPI Value\n",
       "0 1981-01-01  Total (House And Land)       38.2\n",
       "1 1981-02-01  Total (House And Land)       38.7\n",
       "2 1981-03-01  Total (House And Land)       39.3\n",
       "3 1981-04-01  Total (House And Land)       39.9\n",
       "4 1981-05-01  Total (House And Land)       40.6"
      ]
     },
     "execution_count": 23,
     "metadata": {},
     "output_type": "execute_result"
    },
    {
     "data": {
      "text/plain": [
       "(504, 4)"
      ]
     },
     "execution_count": 23,
     "metadata": {},
     "output_type": "execute_result"
    },
    {
     "data": {
      "text/plain": [
       "(1512, 3)"
      ]
     },
     "execution_count": 23,
     "metadata": {},
     "output_type": "execute_result"
    }
   ],
   "source": [
    "# create a pivot table: housing_price_index_pivot_cleaned, move the last three columns to the value a new column called 'HPI'\n",
    "housing_price_index_pivot_cleaned = housing_price_index_cleaned.melt(id_vars=['Date'], value_vars=['Total (House And Land)', 'House Only', 'Land Only'], var_name='Property Type (H.P.I.)', value_name='HPI Value')\n",
    "\n",
    "housing_price_index_pivot_cleaned.head()\n",
    "\n",
    "housing_price_index_cleaned.shape\n",
    "housing_price_index_pivot_cleaned.shape"
   ]
  },
  {
   "cell_type": "code",
   "execution_count": 24,
   "metadata": {},
   "outputs": [
    {
     "data": {
      "text/plain": [
       "array([1981, 1982, 1983, 1984, 1985, 1986, 1987, 1988, 1989, 1990, 1991,\n",
       "       1992, 1993, 1994, 1995, 1996, 1997, 1998, 1999, 2000, 2001, 2002,\n",
       "       2003, 2004, 2005, 2006, 2007, 2008, 2009, 2010, 2011, 2012, 2013,\n",
       "       2014, 2015, 2016, 2017, 2018, 2019, 2020, 2021, 2022])"
      ]
     },
     "execution_count": 24,
     "metadata": {},
     "output_type": "execute_result"
    },
    {
     "data": {
      "text/plain": [
       "array([1, 2, 3, 4])"
      ]
     },
     "execution_count": 24,
     "metadata": {},
     "output_type": "execute_result"
    },
    {
     "data": {
      "text/plain": [
       "array([ 1,  2,  3,  4,  5,  6,  7,  8,  9, 10, 11, 12])"
      ]
     },
     "execution_count": 24,
     "metadata": {},
     "output_type": "execute_result"
    },
    {
     "name": "stderr",
     "output_type": "stream",
     "text": [
      "/var/folders/2z/xnw84j3s6677slw3jh12jk_c0000gp/T/ipykernel_65901/4183253254.py:5: FutureWarning: Series.dt.weekofyear and Series.dt.week have been deprecated. Please use Series.dt.isocalendar().week instead.\n",
      "  housing_price_index_pivot_cleaned['Date'].dt.week.unique()\n"
     ]
    },
    {
     "data": {
      "text/plain": [
       "array([ 1,  5,  9, 14, 18, 23, 27, 31, 36, 40, 44, 49, 53, 13, 17, 22, 26,\n",
       "       30, 35, 39, 48, 52, 10, 45])"
      ]
     },
     "execution_count": 24,
     "metadata": {},
     "output_type": "execute_result"
    },
    {
     "data": {
      "text/plain": [
       "array([1])"
      ]
     },
     "execution_count": 24,
     "metadata": {},
     "output_type": "execute_result"
    }
   ],
   "source": [
    "# check the precision of Date: year, quarter, month, week, day\n",
    "housing_price_index_pivot_cleaned['Date'].dt.year.unique()\n",
    "housing_price_index_pivot_cleaned['Date'].dt.quarter.unique()\n",
    "housing_price_index_pivot_cleaned['Date'].dt.month.unique()\n",
    "housing_price_index_pivot_cleaned['Date'].dt.week.unique()\n",
    "housing_price_index_pivot_cleaned['Date'].dt.day.unique()"
   ]
  },
  {
   "cell_type": "code",
   "execution_count": null,
   "metadata": {},
   "outputs": [],
   "source": []
  },
  {
   "cell_type": "code",
   "execution_count": 25,
   "metadata": {},
   "outputs": [],
   "source": [
    "# Date        --> \"Date (Month) H.P.I.\"\n",
    "# HPI         --> \"Property Type(H.P.I.)\"\n",
    "# HPI Value   --> \"H.P.I.\"\n",
    "\n",
    "# rename the column names, .rename() method\n",
    "housing_price_index_pivot_cleaned.rename(columns={'Date':'Date (Month) H.P.I.', 'HPI':'Property Type(H.P.I.)', 'HPI Value':'H.P.I.'}, inplace=True)\n"
   ]
  },
  {
   "cell_type": "code",
   "execution_count": 26,
   "metadata": {},
   "outputs": [],
   "source": [
    "# write housing_price_index_pivot_cleaned into a csv file under data_cleaned folder\n",
    "housing_price_index_pivot_cleaned.to_csv('data_cleaned/housing_price_index_pivot_cleaned.csv', index=False) "
   ]
  },
  {
   "attachments": {},
   "cell_type": "markdown",
   "metadata": {},
   "source": [
    "## read teh csv file 'consumer_index.csv' and conver the Date column to datetime format"
   ]
  },
  {
   "cell_type": "code",
   "execution_count": 27,
   "metadata": {},
   "outputs": [
    {
     "data": {
      "text/plain": [
       "(5073, 5)"
      ]
     },
     "execution_count": 27,
     "metadata": {},
     "output_type": "execute_result"
    },
    {
     "data": {
      "text/plain": [
       "date            object\n",
       "region          object\n",
       "measures        object\n",
       "unit            object\n",
       "index_value    float64\n",
       "dtype: object"
      ]
     },
     "execution_count": 27,
     "metadata": {},
     "output_type": "execute_result"
    },
    {
     "data": {
      "text/html": [
       "<div>\n",
       "<style scoped>\n",
       "    .dataframe tbody tr th:only-of-type {\n",
       "        vertical-align: middle;\n",
       "    }\n",
       "\n",
       "    .dataframe tbody tr th {\n",
       "        vertical-align: top;\n",
       "    }\n",
       "\n",
       "    .dataframe thead th {\n",
       "        text-align: right;\n",
       "    }\n",
       "</style>\n",
       "<table border=\"1\" class=\"dataframe\">\n",
       "  <thead>\n",
       "    <tr style=\"text-align: right;\">\n",
       "      <th></th>\n",
       "      <th>date</th>\n",
       "      <th>region</th>\n",
       "      <th>measures</th>\n",
       "      <th>unit</th>\n",
       "      <th>index_value</th>\n",
       "    </tr>\n",
       "  </thead>\n",
       "  <tbody>\n",
       "    <tr>\n",
       "      <th>0</th>\n",
       "      <td>1979-11</td>\n",
       "      <td>Canada</td>\n",
       "      <td>Consumer Price Index (CPI) inversely weighted ...</td>\n",
       "      <td>Percent</td>\n",
       "      <td>9.3</td>\n",
       "    </tr>\n",
       "    <tr>\n",
       "      <th>1</th>\n",
       "      <td>1979-12</td>\n",
       "      <td>Canada</td>\n",
       "      <td>Consumer Price Index (CPI) inversely weighted ...</td>\n",
       "      <td>Percent</td>\n",
       "      <td>9.4</td>\n",
       "    </tr>\n",
       "    <tr>\n",
       "      <th>2</th>\n",
       "      <td>1980-01</td>\n",
       "      <td>Canada</td>\n",
       "      <td>Consumer Price Index (CPI) inversely weighted ...</td>\n",
       "      <td>Percent</td>\n",
       "      <td>9.3</td>\n",
       "    </tr>\n",
       "    <tr>\n",
       "      <th>3</th>\n",
       "      <td>1980-02</td>\n",
       "      <td>Canada</td>\n",
       "      <td>Consumer Price Index (CPI) inversely weighted ...</td>\n",
       "      <td>Percent</td>\n",
       "      <td>9.4</td>\n",
       "    </tr>\n",
       "    <tr>\n",
       "      <th>4</th>\n",
       "      <td>1980-03</td>\n",
       "      <td>Canada</td>\n",
       "      <td>Consumer Price Index (CPI) inversely weighted ...</td>\n",
       "      <td>Percent</td>\n",
       "      <td>9.3</td>\n",
       "    </tr>\n",
       "  </tbody>\n",
       "</table>\n",
       "</div>"
      ],
      "text/plain": [
       "      date  region                                           measures  \\\n",
       "0  1979-11  Canada  Consumer Price Index (CPI) inversely weighted ...   \n",
       "1  1979-12  Canada  Consumer Price Index (CPI) inversely weighted ...   \n",
       "2  1980-01  Canada  Consumer Price Index (CPI) inversely weighted ...   \n",
       "3  1980-02  Canada  Consumer Price Index (CPI) inversely weighted ...   \n",
       "4  1980-03  Canada  Consumer Price Index (CPI) inversely weighted ...   \n",
       "\n",
       "      unit  index_value  \n",
       "0  Percent          9.3  \n",
       "1  Percent          9.4  \n",
       "2  Percent          9.3  \n",
       "3  Percent          9.4  \n",
       "4  Percent          9.3  "
      ]
     },
     "execution_count": 27,
     "metadata": {},
     "output_type": "execute_result"
    }
   ],
   "source": [
    "# read the csv file consumer_index.csv'\n",
    "\n",
    "consumer_index = pd.read_csv('data/consumer_index.csv')\n",
    "\n",
    "consumer_index.shape\n",
    "consumer_index.dtypes\n",
    "consumer_index.head()\n"
   ]
  },
  {
   "cell_type": "code",
   "execution_count": 28,
   "metadata": {},
   "outputs": [
    {
     "data": {
      "text/plain": [
       "Index(['Date', 'Region', 'Measures', 'Unit', 'Index Value'], dtype='object')"
      ]
     },
     "execution_count": 28,
     "metadata": {},
     "output_type": "execute_result"
    }
   ],
   "source": [
    "# rename the column names to title case and replace the under score with space\n",
    "consumer_index.columns = consumer_index.columns.str.title().str.replace('_', ' ')\n",
    "consumer_index.columns"
   ]
  },
  {
   "cell_type": "code",
   "execution_count": 29,
   "metadata": {},
   "outputs": [
    {
     "data": {
      "text/plain": [
       "array(['Consumer Price Index (CPI) inversely weighted by volatility and is adjusted to exclude the effect of changes in indirect taxes (CPIW) (year-over-year percent change)',\n",
       "       'Consumer Price Index (CPI) excluding food, energy and the effect of indirect taxes',\n",
       "       'Consumer Price Index (CPI) excluding the effect of indirect taxes',\n",
       "       'Consumer Price Index (CPI) excluding the effect of indirect taxes, seasonally adjusted',\n",
       "       'Consumer Price Index (CPI) excluding food, energy and the effect of indirect taxes, seasonally adjusted',\n",
       "       'Consumer Price Index (CPI) excluding 8 of the most volatile components and indirect taxes (CPIX)',\n",
       "       'Contribution of indirect taxes to monthly growth rate of the Consumer Price Index (CPI)',\n",
       "       'Contribution of indirect taxes to monthly growth rate of the Consumer Price Index (CPI) excluding food and energy',\n",
       "       'Contribution of indirect taxes to annual growth rate of the Consumer Price Index (CPI)',\n",
       "       'Contribution of indirect taxes to annual growth rate of the Consumer Price Index (CPI) excluding food and energy'],\n",
       "      dtype=object)"
      ]
     },
     "execution_count": 29,
     "metadata": {},
     "output_type": "execute_result"
    }
   ],
   "source": [
    "# the unique values in consumer_index\n",
    "consumer_index['Measures'].unique()\n"
   ]
  },
  {
   "cell_type": "code",
   "execution_count": 30,
   "metadata": {},
   "outputs": [],
   "source": [
    "# the Date looks like this:\n",
    "\n",
    "# 1979-11\n",
    "# 1979-12\n",
    "# 1980-01\n",
    "# 1980-02\n",
    "# 1980-03"
   ]
  },
  {
   "cell_type": "code",
   "execution_count": 31,
   "metadata": {},
   "outputs": [],
   "source": [
    "# make a copy of the dataframe:\n",
    "consumer_index_cleaned = consumer_index.copy()"
   ]
  },
  {
   "cell_type": "code",
   "execution_count": 32,
   "metadata": {},
   "outputs": [
    {
     "data": {
      "text/html": [
       "<div>\n",
       "<style scoped>\n",
       "    .dataframe tbody tr th:only-of-type {\n",
       "        vertical-align: middle;\n",
       "    }\n",
       "\n",
       "    .dataframe tbody tr th {\n",
       "        vertical-align: top;\n",
       "    }\n",
       "\n",
       "    .dataframe thead th {\n",
       "        text-align: right;\n",
       "    }\n",
       "</style>\n",
       "<table border=\"1\" class=\"dataframe\">\n",
       "  <thead>\n",
       "    <tr style=\"text-align: right;\">\n",
       "      <th></th>\n",
       "      <th>Date</th>\n",
       "      <th>Region</th>\n",
       "      <th>Measures</th>\n",
       "      <th>Unit</th>\n",
       "      <th>Index Value</th>\n",
       "    </tr>\n",
       "  </thead>\n",
       "  <tbody>\n",
       "    <tr>\n",
       "      <th>0</th>\n",
       "      <td>1979-11-01</td>\n",
       "      <td>Canada</td>\n",
       "      <td>Consumer Price Index (CPI) inversely weighted ...</td>\n",
       "      <td>Percent</td>\n",
       "      <td>9.3</td>\n",
       "    </tr>\n",
       "    <tr>\n",
       "      <th>1</th>\n",
       "      <td>1979-12-01</td>\n",
       "      <td>Canada</td>\n",
       "      <td>Consumer Price Index (CPI) inversely weighted ...</td>\n",
       "      <td>Percent</td>\n",
       "      <td>9.4</td>\n",
       "    </tr>\n",
       "    <tr>\n",
       "      <th>2</th>\n",
       "      <td>1980-01-01</td>\n",
       "      <td>Canada</td>\n",
       "      <td>Consumer Price Index (CPI) inversely weighted ...</td>\n",
       "      <td>Percent</td>\n",
       "      <td>9.3</td>\n",
       "    </tr>\n",
       "    <tr>\n",
       "      <th>3</th>\n",
       "      <td>1980-02-01</td>\n",
       "      <td>Canada</td>\n",
       "      <td>Consumer Price Index (CPI) inversely weighted ...</td>\n",
       "      <td>Percent</td>\n",
       "      <td>9.4</td>\n",
       "    </tr>\n",
       "    <tr>\n",
       "      <th>4</th>\n",
       "      <td>1980-03-01</td>\n",
       "      <td>Canada</td>\n",
       "      <td>Consumer Price Index (CPI) inversely weighted ...</td>\n",
       "      <td>Percent</td>\n",
       "      <td>9.3</td>\n",
       "    </tr>\n",
       "  </tbody>\n",
       "</table>\n",
       "</div>"
      ],
      "text/plain": [
       "        Date  Region                                           Measures  \\\n",
       "0 1979-11-01  Canada  Consumer Price Index (CPI) inversely weighted ...   \n",
       "1 1979-12-01  Canada  Consumer Price Index (CPI) inversely weighted ...   \n",
       "2 1980-01-01  Canada  Consumer Price Index (CPI) inversely weighted ...   \n",
       "3 1980-02-01  Canada  Consumer Price Index (CPI) inversely weighted ...   \n",
       "4 1980-03-01  Canada  Consumer Price Index (CPI) inversely weighted ...   \n",
       "\n",
       "      Unit  Index Value  \n",
       "0  Percent          9.3  \n",
       "1  Percent          9.4  \n",
       "2  Percent          9.3  \n",
       "3  Percent          9.4  \n",
       "4  Percent          9.3  "
      ]
     },
     "execution_count": 32,
     "metadata": {},
     "output_type": "execute_result"
    },
    {
     "data": {
      "text/plain": [
       "Date           datetime64[ns]\n",
       "Region                 object\n",
       "Measures               object\n",
       "Unit                   object\n",
       "Index Value           float64\n",
       "dtype: object"
      ]
     },
     "execution_count": 32,
     "metadata": {},
     "output_type": "execute_result"
    }
   ],
   "source": [
    "# conver the data type of the first column 'Date' to datetime format\n",
    "consumer_index_cleaned['Date'] = pd.to_datetime(consumer_index['Date'], format='%Y-%m')\n",
    "consumer_index_cleaned.head()\n",
    "consumer_index_cleaned.dtypes"
   ]
  },
  {
   "cell_type": "code",
   "execution_count": 33,
   "metadata": {},
   "outputs": [
    {
     "data": {
      "text/plain": [
       "array([1979, 1980, 1981, 1982, 1983, 1984, 1985, 1986, 1987, 1988, 1989,\n",
       "       1990, 1991, 1992, 1993, 1994, 1995, 1996, 1997, 1998, 1999, 2000,\n",
       "       2001, 2002, 2003, 2004, 2005, 2006, 2007, 2008, 2009, 2010, 2011,\n",
       "       2012, 2013, 2014, 2015, 2016, 2017, 2018, 2019, 2020])"
      ]
     },
     "execution_count": 33,
     "metadata": {},
     "output_type": "execute_result"
    },
    {
     "data": {
      "text/plain": [
       "array([4, 1, 2, 3])"
      ]
     },
     "execution_count": 33,
     "metadata": {},
     "output_type": "execute_result"
    },
    {
     "data": {
      "text/plain": [
       "array([11, 12,  1,  2,  3,  4,  5,  6,  7,  8,  9, 10])"
      ]
     },
     "execution_count": 33,
     "metadata": {},
     "output_type": "execute_result"
    },
    {
     "name": "stderr",
     "output_type": "stream",
     "text": [
      "/var/folders/2z/xnw84j3s6677slw3jh12jk_c0000gp/T/ipykernel_65901/2870455279.py:5: FutureWarning: Series.dt.weekofyear and Series.dt.week have been deprecated. Please use Series.dt.isocalendar().week instead.\n",
      "  consumer_index_cleaned['Date'].dt.week.unique()\n"
     ]
    },
    {
     "data": {
      "text/plain": [
       "array([44, 48,  1,  5,  9, 14, 18, 22, 27, 31, 36, 40, 49, 23, 53, 13, 17,\n",
       "       26, 30, 35, 39, 52, 10, 45])"
      ]
     },
     "execution_count": 33,
     "metadata": {},
     "output_type": "execute_result"
    },
    {
     "data": {
      "text/plain": [
       "array([1])"
      ]
     },
     "execution_count": 33,
     "metadata": {},
     "output_type": "execute_result"
    }
   ],
   "source": [
    "# Check the precision of teh Date column: year, quarter, month, week, or day?\n",
    "consumer_index_cleaned['Date'].dt.year.unique()\n",
    "consumer_index_cleaned['Date'].dt.quarter.unique()\n",
    "consumer_index_cleaned['Date'].dt.month.unique()\n",
    "consumer_index_cleaned['Date'].dt.week.unique()\n",
    "consumer_index_cleaned['Date'].dt.day.unique()\n",
    "\n"
   ]
  },
  {
   "cell_type": "code",
   "execution_count": 34,
   "metadata": {},
   "outputs": [
    {
     "data": {
      "text/plain": [
       "array(['Canada'], dtype=object)"
      ]
     },
     "execution_count": 34,
     "metadata": {},
     "output_type": "execute_result"
    }
   ],
   "source": [
    "# unique value in region column\n",
    "consumer_index_cleaned['Region'].unique()"
   ]
  },
  {
   "cell_type": "code",
   "execution_count": 35,
   "metadata": {},
   "outputs": [],
   "source": [
    "# Date            object\n",
    "# Region          object\n",
    "# Measures        object\n",
    "# Unit            object\n",
    "# Index Value    float64\n",
    "\n",
    "# rename the column: Date to 'Date (Month) C.I.', Region to \"Region(C.I.)\", Measures to \"Measures(C.I.)\", Unit to \"Consumer Index\"\n",
    "consumer_index_cleaned.rename(columns={'Date': 'Date (Month) C.I.', 'Region':'Region (C.I.) (Canada Only)', 'Measures':'Measures (C.I.)', 'Unit':'Measure Baseline (C.I.)', \"Index Value\": \"Consumer Index\"}, inplace=True)"
   ]
  },
  {
   "cell_type": "code",
   "execution_count": 36,
   "metadata": {},
   "outputs": [],
   "source": [
    "# save the consumer_index_cleaned to a csv file, under the data_cleaned folder\n",
    "consumer_index_cleaned.to_csv('data_cleaned/consumer_index_cleaned.csv', index=False)\n"
   ]
  },
  {
   "attachments": {},
   "cell_type": "markdown",
   "metadata": {},
   "source": [
    "## read the csv file 'office_realestate_index.csv'' \n",
    "conver the date to datetime format\n",
    "rename the column baseline to unit\n"
   ]
  },
  {
   "cell_type": "code",
   "execution_count": 37,
   "metadata": {},
   "outputs": [
    {
     "data": {
      "text/plain": [
       "(30968, 5)"
      ]
     },
     "execution_count": 37,
     "metadata": {},
     "output_type": "execute_result"
    },
    {
     "data": {
      "text/plain": [
       "date              object\n",
       "region            object\n",
       "property_type     object\n",
       "baseline          object\n",
       "index_value      float64\n",
       "dtype: object"
      ]
     },
     "execution_count": 37,
     "metadata": {},
     "output_type": "execute_result"
    },
    {
     "data": {
      "text/html": [
       "<div>\n",
       "<style scoped>\n",
       "    .dataframe tbody tr th:only-of-type {\n",
       "        vertical-align: middle;\n",
       "    }\n",
       "\n",
       "    .dataframe tbody tr th {\n",
       "        vertical-align: top;\n",
       "    }\n",
       "\n",
       "    .dataframe thead th {\n",
       "        text-align: right;\n",
       "    }\n",
       "</style>\n",
       "<table border=\"1\" class=\"dataframe\">\n",
       "  <thead>\n",
       "    <tr style=\"text-align: right;\">\n",
       "      <th></th>\n",
       "      <th>date</th>\n",
       "      <th>region</th>\n",
       "      <th>property_type</th>\n",
       "      <th>baseline</th>\n",
       "      <th>index_value</th>\n",
       "    </tr>\n",
       "  </thead>\n",
       "  <tbody>\n",
       "    <tr>\n",
       "      <th>0</th>\n",
       "      <td>1981-01</td>\n",
       "      <td>Seven census metropolitan area composite</td>\n",
       "      <td>Office</td>\n",
       "      <td>Index, 2002=100</td>\n",
       "      <td>58.4</td>\n",
       "    </tr>\n",
       "    <tr>\n",
       "      <th>1</th>\n",
       "      <td>1981-01</td>\n",
       "      <td>Seven census metropolitan area composite</td>\n",
       "      <td>Warehouse</td>\n",
       "      <td>Index, 2002=100</td>\n",
       "      <td>53.3</td>\n",
       "    </tr>\n",
       "    <tr>\n",
       "      <th>2</th>\n",
       "      <td>1981-01</td>\n",
       "      <td>Seven census metropolitan area composite</td>\n",
       "      <td>Shopping centre</td>\n",
       "      <td>Index, 2002=100</td>\n",
       "      <td>59.3</td>\n",
       "    </tr>\n",
       "    <tr>\n",
       "      <th>3</th>\n",
       "      <td>1981-01</td>\n",
       "      <td>Seven census metropolitan area composite</td>\n",
       "      <td>Light factory</td>\n",
       "      <td>Index, 2002=100</td>\n",
       "      <td>50.1</td>\n",
       "    </tr>\n",
       "    <tr>\n",
       "      <th>4</th>\n",
       "      <td>1981-01</td>\n",
       "      <td>Seven census metropolitan area composite</td>\n",
       "      <td>School</td>\n",
       "      <td>Index, 2002=100</td>\n",
       "      <td>56.1</td>\n",
       "    </tr>\n",
       "  </tbody>\n",
       "</table>\n",
       "</div>"
      ],
      "text/plain": [
       "      date                                    region    property_type  \\\n",
       "0  1981-01  Seven census metropolitan area composite           Office   \n",
       "1  1981-01  Seven census metropolitan area composite        Warehouse   \n",
       "2  1981-01  Seven census metropolitan area composite  Shopping centre   \n",
       "3  1981-01  Seven census metropolitan area composite    Light factory   \n",
       "4  1981-01  Seven census metropolitan area composite           School   \n",
       "\n",
       "          baseline  index_value  \n",
       "0  Index, 2002=100         58.4  \n",
       "1  Index, 2002=100         53.3  \n",
       "2  Index, 2002=100         59.3  \n",
       "3  Index, 2002=100         50.1  \n",
       "4  Index, 2002=100         56.1  "
      ]
     },
     "execution_count": 37,
     "metadata": {},
     "output_type": "execute_result"
    }
   ],
   "source": [
    "# read the csv file: office_realestate_index.csv\n",
    "office_realestate_index = pd.read_csv('data/office_realestate_index.csv')\n",
    "office_realestate_index.shape\n",
    "office_realestate_index.dtypes\n",
    "office_realestate_index.head()"
   ]
  },
  {
   "cell_type": "code",
   "execution_count": 38,
   "metadata": {},
   "outputs": [
    {
     "data": {
      "text/plain": [
       "Index(['Date', 'Region', 'Property Type', 'Baseline', 'Index Value'], dtype='object')"
      ]
     },
     "execution_count": 38,
     "metadata": {},
     "output_type": "execute_result"
    }
   ],
   "source": [
    "# rename the column names to title case and replace the under score with space\n",
    "office_realestate_index.columns = office_realestate_index.columns.str.title().str.replace('_', ' ')\n",
    "office_realestate_index.columns"
   ]
  },
  {
   "cell_type": "code",
   "execution_count": 39,
   "metadata": {},
   "outputs": [
    {
     "data": {
      "text/plain": [
       "Index(['Date', 'Region', 'Property Type', 'Unit', 'Index Value'], dtype='object')"
      ]
     },
     "execution_count": 39,
     "metadata": {},
     "output_type": "execute_result"
    }
   ],
   "source": [
    "# rename the column Baseline to Unit, to be conform with consumer_index.csv\n",
    "office_realestate_index.rename(columns={'Baseline': 'Unit'}, inplace=True)\n",
    "office_realestate_index.columns\n",
    "\n",
    "# make a copy of the dataframe:\n",
    "office_realestate_index_cleaned = office_realestate_index.copy()"
   ]
  },
  {
   "cell_type": "code",
   "execution_count": 40,
   "metadata": {},
   "outputs": [
    {
     "data": {
      "text/plain": [
       "0    1981-01\n",
       "1    1981-01\n",
       "2    1981-01\n",
       "3    1981-01\n",
       "4    1981-01\n",
       "Name: Date, dtype: object"
      ]
     },
     "execution_count": 40,
     "metadata": {},
     "output_type": "execute_result"
    }
   ],
   "source": [
    "office_realestate_index_cleaned.Date.head()"
   ]
  },
  {
   "cell_type": "code",
   "execution_count": 41,
   "metadata": {},
   "outputs": [],
   "source": [
    "# The column Date looks like this:\n",
    "# 1981-01\n",
    "# 1981-01\n",
    "# 1981-01\n",
    "# 1981-01\n",
    "# 1981-01"
   ]
  },
  {
   "cell_type": "code",
   "execution_count": 42,
   "metadata": {},
   "outputs": [
    {
     "data": {
      "text/plain": [
       "Date             datetime64[ns]\n",
       "Region                   object\n",
       "Property Type            object\n",
       "Unit                     object\n",
       "Index Value             float64\n",
       "dtype: object"
      ]
     },
     "execution_count": 42,
     "metadata": {},
     "output_type": "execute_result"
    },
    {
     "data": {
      "text/html": [
       "<div>\n",
       "<style scoped>\n",
       "    .dataframe tbody tr th:only-of-type {\n",
       "        vertical-align: middle;\n",
       "    }\n",
       "\n",
       "    .dataframe tbody tr th {\n",
       "        vertical-align: top;\n",
       "    }\n",
       "\n",
       "    .dataframe thead th {\n",
       "        text-align: right;\n",
       "    }\n",
       "</style>\n",
       "<table border=\"1\" class=\"dataframe\">\n",
       "  <thead>\n",
       "    <tr style=\"text-align: right;\">\n",
       "      <th></th>\n",
       "      <th>Date</th>\n",
       "      <th>Region</th>\n",
       "      <th>Property Type</th>\n",
       "      <th>Unit</th>\n",
       "      <th>Index Value</th>\n",
       "    </tr>\n",
       "  </thead>\n",
       "  <tbody>\n",
       "    <tr>\n",
       "      <th>0</th>\n",
       "      <td>1981-01-01</td>\n",
       "      <td>Seven census metropolitan area composite</td>\n",
       "      <td>Office</td>\n",
       "      <td>Index, 2002=100</td>\n",
       "      <td>58.4</td>\n",
       "    </tr>\n",
       "    <tr>\n",
       "      <th>1</th>\n",
       "      <td>1981-01-01</td>\n",
       "      <td>Seven census metropolitan area composite</td>\n",
       "      <td>Warehouse</td>\n",
       "      <td>Index, 2002=100</td>\n",
       "      <td>53.3</td>\n",
       "    </tr>\n",
       "    <tr>\n",
       "      <th>2</th>\n",
       "      <td>1981-01-01</td>\n",
       "      <td>Seven census metropolitan area composite</td>\n",
       "      <td>Shopping centre</td>\n",
       "      <td>Index, 2002=100</td>\n",
       "      <td>59.3</td>\n",
       "    </tr>\n",
       "    <tr>\n",
       "      <th>3</th>\n",
       "      <td>1981-01-01</td>\n",
       "      <td>Seven census metropolitan area composite</td>\n",
       "      <td>Light factory</td>\n",
       "      <td>Index, 2002=100</td>\n",
       "      <td>50.1</td>\n",
       "    </tr>\n",
       "    <tr>\n",
       "      <th>4</th>\n",
       "      <td>1981-01-01</td>\n",
       "      <td>Seven census metropolitan area composite</td>\n",
       "      <td>School</td>\n",
       "      <td>Index, 2002=100</td>\n",
       "      <td>56.1</td>\n",
       "    </tr>\n",
       "  </tbody>\n",
       "</table>\n",
       "</div>"
      ],
      "text/plain": [
       "        Date                                    Region    Property Type  \\\n",
       "0 1981-01-01  Seven census metropolitan area composite           Office   \n",
       "1 1981-01-01  Seven census metropolitan area composite        Warehouse   \n",
       "2 1981-01-01  Seven census metropolitan area composite  Shopping centre   \n",
       "3 1981-01-01  Seven census metropolitan area composite    Light factory   \n",
       "4 1981-01-01  Seven census metropolitan area composite           School   \n",
       "\n",
       "              Unit  Index Value  \n",
       "0  Index, 2002=100         58.4  \n",
       "1  Index, 2002=100         53.3  \n",
       "2  Index, 2002=100         59.3  \n",
       "3  Index, 2002=100         50.1  \n",
       "4  Index, 2002=100         56.1  "
      ]
     },
     "execution_count": 42,
     "metadata": {},
     "output_type": "execute_result"
    }
   ],
   "source": [
    "# conver the data type of the first column 'Date' to datetime format\n",
    "office_realestate_index_cleaned['Date'] = pd.to_datetime(office_realestate_index['Date'], format='%Y-%m')\n",
    "office_realestate_index_cleaned.dtypes\n",
    "office_realestate_index_cleaned.head()\n"
   ]
  },
  {
   "cell_type": "code",
   "execution_count": 43,
   "metadata": {},
   "outputs": [
    {
     "data": {
      "text/plain": [
       "array([1981, 1982, 1983, 1984, 1985, 1986, 1987, 1988, 1989, 1990, 1991,\n",
       "       1992, 1993, 1994, 1995, 1996, 1997, 1998, 1999, 2000, 2001, 2002,\n",
       "       2003, 2004, 2005, 2006, 2007, 2008, 2009, 2010, 2011, 2012, 2013,\n",
       "       2014, 2015, 2016, 2017])"
      ]
     },
     "execution_count": 43,
     "metadata": {},
     "output_type": "execute_result"
    },
    {
     "data": {
      "text/plain": [
       "array([1, 2, 3, 4])"
      ]
     },
     "execution_count": 43,
     "metadata": {},
     "output_type": "execute_result"
    },
    {
     "data": {
      "text/plain": [
       "array([ 1,  4,  7, 10])"
      ]
     },
     "execution_count": 43,
     "metadata": {},
     "output_type": "execute_result"
    },
    {
     "name": "stderr",
     "output_type": "stream",
     "text": [
      "/var/folders/2z/xnw84j3s6677slw3jh12jk_c0000gp/T/ipykernel_65901/1135987811.py:5: FutureWarning: Series.dt.weekofyear and Series.dt.week have been deprecated. Please use Series.dt.isocalendar().week instead.\n",
      "  office_realestate_index_cleaned['Date'].dt.week.unique()\n"
     ]
    },
    {
     "data": {
      "text/plain": [
       "array([ 1, 14, 27, 40, 53, 13, 26, 39, 52])"
      ]
     },
     "execution_count": 43,
     "metadata": {},
     "output_type": "execute_result"
    },
    {
     "data": {
      "text/plain": [
       "array([1])"
      ]
     },
     "execution_count": 43,
     "metadata": {},
     "output_type": "execute_result"
    }
   ],
   "source": [
    "# Check the precision of teh Date column: year, quarter, month, week, or day?\n",
    "office_realestate_index_cleaned['Date'].dt.year.unique()\n",
    "office_realestate_index_cleaned['Date'].dt.quarter.unique()\n",
    "office_realestate_index_cleaned['Date'].dt.month.unique()\n",
    "office_realestate_index_cleaned['Date'].dt.week.unique()\n",
    "office_realestate_index_cleaned['Date'].dt.day.unique()"
   ]
  },
  {
   "cell_type": "code",
   "execution_count": 44,
   "metadata": {},
   "outputs": [
    {
     "data": {
      "text/plain": [
       "array(['Seven census metropolitan area composite', 'Halifax, Nova Scotia',\n",
       "       'Montréal, Quebec',\n",
       "       'Ottawa-Gatineau, Ontario part, Ontario/Quebec',\n",
       "       'Toronto, Ontario', 'Calgary, Alberta', 'Edmonton, Alberta',\n",
       "       'Vancouver, British Columbia'], dtype=object)"
      ]
     },
     "execution_count": 44,
     "metadata": {},
     "output_type": "execute_result"
    }
   ],
   "source": [
    "# check the unique values in the column 'Region'\n",
    "office_realestate_index_cleaned['Region'].unique()"
   ]
  },
  {
   "cell_type": "code",
   "execution_count": 45,
   "metadata": {},
   "outputs": [
    {
     "data": {
      "text/plain": [
       "Index(['Date', 'Region', 'Property Type', 'Unit', 'Index Value'], dtype='object')"
      ]
     },
     "execution_count": 45,
     "metadata": {},
     "output_type": "execute_result"
    },
    {
     "data": {
      "text/html": [
       "<div>\n",
       "<style scoped>\n",
       "    .dataframe tbody tr th:only-of-type {\n",
       "        vertical-align: middle;\n",
       "    }\n",
       "\n",
       "    .dataframe tbody tr th {\n",
       "        vertical-align: top;\n",
       "    }\n",
       "\n",
       "    .dataframe thead th {\n",
       "        text-align: right;\n",
       "    }\n",
       "</style>\n",
       "<table border=\"1\" class=\"dataframe\">\n",
       "  <thead>\n",
       "    <tr style=\"text-align: right;\">\n",
       "      <th></th>\n",
       "      <th>Date</th>\n",
       "      <th>Region</th>\n",
       "      <th>Property Type</th>\n",
       "      <th>Unit</th>\n",
       "      <th>Index Value</th>\n",
       "    </tr>\n",
       "  </thead>\n",
       "  <tbody>\n",
       "    <tr>\n",
       "      <th>0</th>\n",
       "      <td>1981-01-01</td>\n",
       "      <td>Seven census metropolitan area composite</td>\n",
       "      <td>Office</td>\n",
       "      <td>Index, 2002=100</td>\n",
       "      <td>58.4</td>\n",
       "    </tr>\n",
       "    <tr>\n",
       "      <th>1</th>\n",
       "      <td>1981-01-01</td>\n",
       "      <td>Seven census metropolitan area composite</td>\n",
       "      <td>Warehouse</td>\n",
       "      <td>Index, 2002=100</td>\n",
       "      <td>53.3</td>\n",
       "    </tr>\n",
       "    <tr>\n",
       "      <th>2</th>\n",
       "      <td>1981-01-01</td>\n",
       "      <td>Seven census metropolitan area composite</td>\n",
       "      <td>Shopping centre</td>\n",
       "      <td>Index, 2002=100</td>\n",
       "      <td>59.3</td>\n",
       "    </tr>\n",
       "    <tr>\n",
       "      <th>3</th>\n",
       "      <td>1981-01-01</td>\n",
       "      <td>Seven census metropolitan area composite</td>\n",
       "      <td>Light factory</td>\n",
       "      <td>Index, 2002=100</td>\n",
       "      <td>50.1</td>\n",
       "    </tr>\n",
       "    <tr>\n",
       "      <th>4</th>\n",
       "      <td>1981-01-01</td>\n",
       "      <td>Seven census metropolitan area composite</td>\n",
       "      <td>School</td>\n",
       "      <td>Index, 2002=100</td>\n",
       "      <td>56.1</td>\n",
       "    </tr>\n",
       "  </tbody>\n",
       "</table>\n",
       "</div>"
      ],
      "text/plain": [
       "        Date                                    Region    Property Type  \\\n",
       "0 1981-01-01  Seven census metropolitan area composite           Office   \n",
       "1 1981-01-01  Seven census metropolitan area composite        Warehouse   \n",
       "2 1981-01-01  Seven census metropolitan area composite  Shopping centre   \n",
       "3 1981-01-01  Seven census metropolitan area composite    Light factory   \n",
       "4 1981-01-01  Seven census metropolitan area composite           School   \n",
       "\n",
       "              Unit  Index Value  \n",
       "0  Index, 2002=100         58.4  \n",
       "1  Index, 2002=100         53.3  \n",
       "2  Index, 2002=100         59.3  \n",
       "3  Index, 2002=100         50.1  \n",
       "4  Index, 2002=100         56.1  "
      ]
     },
     "execution_count": 45,
     "metadata": {},
     "output_type": "execute_result"
    }
   ],
   "source": [
    "office_realestate_index_cleaned.columns\n",
    "office_realestate_index_cleaned.head()  "
   ]
  },
  {
   "cell_type": "code",
   "execution_count": 46,
   "metadata": {},
   "outputs": [],
   "source": [
    "\n",
    "# office_realestate_index_cleaned['Region(O.R.I.)'].unique()"
   ]
  },
  {
   "cell_type": "code",
   "execution_count": 47,
   "metadata": {},
   "outputs": [],
   "source": [
    "# Date             --> Date (Quarter) O.R.I.\n",
    "# Region           -->  Region(O.R.I.)\n",
    "# Property Type    -->  Property Type(O.R.I.)\n",
    "# Unit             -->  O.R.I.\n",
    "\n",
    "# rename the columns with the .rename() method\n",
    "office_realestate_index_cleaned.rename(columns={'Date': 'Date (Quarter) O.R.I.', 'Region': 'Region(O.R.I.) (city prov)', 'Property Type': 'Property Type(O.R.I.)', 'Unit': 'Measure Baseline (O.R.I.)', \"Index Value\": \"O.R.I.\"}, inplace=True)\n"
   ]
  },
  {
   "cell_type": "code",
   "execution_count": 48,
   "metadata": {},
   "outputs": [],
   "source": [
    "# Save the office_realestate_index_cleaned to a csv file, under the data_cleaned folder\n",
    "office_realestate_index_cleaned.to_csv('data_cleaned/office_realestate_index_cleaned.csv', index=False)"
   ]
  },
  {
   "attachments": {},
   "cell_type": "markdown",
   "metadata": {},
   "source": [
    "## Read the csv file 'weekly_earnings.csv' and convert the date to datetime format"
   ]
  },
  {
   "cell_type": "code",
   "execution_count": 49,
   "metadata": {},
   "outputs": [
    {
     "data": {
      "text/plain": [
       "(172, 20)"
      ]
     },
     "execution_count": 49,
     "metadata": {},
     "output_type": "execute_result"
    },
    {
     "data": {
      "text/plain": [
       "sid                          int64\n",
       "id                          object\n",
       "position                     int64\n",
       "created_at                   int64\n",
       "created_meta                 int64\n",
       "updated_at                   int64\n",
       "updated_meta                 int64\n",
       "When                        object\n",
       "NAICS                       object\n",
       "Alberta                    float64\n",
       "BritishColumbia            float64\n",
       "Canada                     float64\n",
       "Manitoba                   float64\n",
       "NewBrunswick               float64\n",
       "NewfoundlandAndLabrador    float64\n",
       "NovaScotia                 float64\n",
       "Ontario                    float64\n",
       "PrinceEdwardIsland         float64\n",
       "Quebec                     float64\n",
       "Saskatchewan               float64\n",
       "dtype: object"
      ]
     },
     "execution_count": 49,
     "metadata": {},
     "output_type": "execute_result"
    },
    {
     "data": {
      "text/html": [
       "<div>\n",
       "<style scoped>\n",
       "    .dataframe tbody tr th:only-of-type {\n",
       "        vertical-align: middle;\n",
       "    }\n",
       "\n",
       "    .dataframe tbody tr th {\n",
       "        vertical-align: top;\n",
       "    }\n",
       "\n",
       "    .dataframe thead th {\n",
       "        text-align: right;\n",
       "    }\n",
       "</style>\n",
       "<table border=\"1\" class=\"dataframe\">\n",
       "  <thead>\n",
       "    <tr style=\"text-align: right;\">\n",
       "      <th></th>\n",
       "      <th>sid</th>\n",
       "      <th>id</th>\n",
       "      <th>position</th>\n",
       "      <th>created_at</th>\n",
       "      <th>created_meta</th>\n",
       "      <th>updated_at</th>\n",
       "      <th>updated_meta</th>\n",
       "      <th>When</th>\n",
       "      <th>NAICS</th>\n",
       "      <th>Alberta</th>\n",
       "      <th>BritishColumbia</th>\n",
       "      <th>Canada</th>\n",
       "      <th>Manitoba</th>\n",
       "      <th>NewBrunswick</th>\n",
       "      <th>NewfoundlandAndLabrador</th>\n",
       "      <th>NovaScotia</th>\n",
       "      <th>Ontario</th>\n",
       "      <th>PrinceEdwardIsland</th>\n",
       "      <th>Quebec</th>\n",
       "      <th>Saskatchewan</th>\n",
       "    </tr>\n",
       "  </thead>\n",
       "  <tbody>\n",
       "    <tr>\n",
       "      <th>0</th>\n",
       "      <td>5554</td>\n",
       "      <td>8D0D0120-53D5-4A3D-B68F-D5BAFA1B9F24</td>\n",
       "      <td>5554</td>\n",
       "      <td>1435599444</td>\n",
       "      <td>710753</td>\n",
       "      <td>1435599444</td>\n",
       "      <td>710753</td>\n",
       "      <td>2001-01-01T00:00:00</td>\n",
       "      <td>Industrial aggregate excluding unclassified bu...</td>\n",
       "      <td>670.54</td>\n",
       "      <td>660.48</td>\n",
       "      <td>658.02</td>\n",
       "      <td>578.95</td>\n",
       "      <td>584.75</td>\n",
       "      <td>594.00</td>\n",
       "      <td>571.28</td>\n",
       "      <td>698.57</td>\n",
       "      <td>535.65</td>\n",
       "      <td>624.81</td>\n",
       "      <td>596.53</td>\n",
       "    </tr>\n",
       "    <tr>\n",
       "      <th>1</th>\n",
       "      <td>5555</td>\n",
       "      <td>B8156EED-2420-4B71-A56C-57DED1FA7CEC</td>\n",
       "      <td>5555</td>\n",
       "      <td>1435599444</td>\n",
       "      <td>710753</td>\n",
       "      <td>1435599444</td>\n",
       "      <td>710753</td>\n",
       "      <td>2001-02-01T00:00:00</td>\n",
       "      <td>Industrial aggregate excluding unclassified bu...</td>\n",
       "      <td>670.52</td>\n",
       "      <td>659.33</td>\n",
       "      <td>655.79</td>\n",
       "      <td>580.63</td>\n",
       "      <td>585.11</td>\n",
       "      <td>591.92</td>\n",
       "      <td>570.06</td>\n",
       "      <td>693.69</td>\n",
       "      <td>532.02</td>\n",
       "      <td>623.93</td>\n",
       "      <td>595.09</td>\n",
       "    </tr>\n",
       "    <tr>\n",
       "      <th>2</th>\n",
       "      <td>5556</td>\n",
       "      <td>A8D7795E-40FA-4923-AB52-CA8536DAAD7A</td>\n",
       "      <td>5556</td>\n",
       "      <td>1435599444</td>\n",
       "      <td>710753</td>\n",
       "      <td>1435599444</td>\n",
       "      <td>710753</td>\n",
       "      <td>2001-03-01T00:00:00</td>\n",
       "      <td>Industrial aggregate excluding unclassified bu...</td>\n",
       "      <td>668.49</td>\n",
       "      <td>654.07</td>\n",
       "      <td>655.88</td>\n",
       "      <td>578.67</td>\n",
       "      <td>584.13</td>\n",
       "      <td>593.47</td>\n",
       "      <td>570.70</td>\n",
       "      <td>697.08</td>\n",
       "      <td>534.71</td>\n",
       "      <td>622.94</td>\n",
       "      <td>589.09</td>\n",
       "    </tr>\n",
       "    <tr>\n",
       "      <th>3</th>\n",
       "      <td>5557</td>\n",
       "      <td>8373DAD3-2886-4DAD-AFE8-84DB8C0F414E</td>\n",
       "      <td>5557</td>\n",
       "      <td>1435599444</td>\n",
       "      <td>710753</td>\n",
       "      <td>1435599444</td>\n",
       "      <td>710753</td>\n",
       "      <td>2001-04-01T00:00:00</td>\n",
       "      <td>Industrial aggregate excluding unclassified bu...</td>\n",
       "      <td>671.71</td>\n",
       "      <td>657.15</td>\n",
       "      <td>654.09</td>\n",
       "      <td>576.36</td>\n",
       "      <td>580.92</td>\n",
       "      <td>591.96</td>\n",
       "      <td>568.70</td>\n",
       "      <td>693.73</td>\n",
       "      <td>522.50</td>\n",
       "      <td>619.12</td>\n",
       "      <td>589.37</td>\n",
       "    </tr>\n",
       "    <tr>\n",
       "      <th>4</th>\n",
       "      <td>5558</td>\n",
       "      <td>05DB3E97-35EC-4F75-891B-3F6C696CDEE0</td>\n",
       "      <td>5558</td>\n",
       "      <td>1435599444</td>\n",
       "      <td>710753</td>\n",
       "      <td>1435599444</td>\n",
       "      <td>710753</td>\n",
       "      <td>2001-05-01T00:00:00</td>\n",
       "      <td>Industrial aggregate excluding unclassified bu...</td>\n",
       "      <td>664.45</td>\n",
       "      <td>653.23</td>\n",
       "      <td>650.02</td>\n",
       "      <td>571.84</td>\n",
       "      <td>578.44</td>\n",
       "      <td>588.19</td>\n",
       "      <td>567.96</td>\n",
       "      <td>688.27</td>\n",
       "      <td>522.31</td>\n",
       "      <td>618.90</td>\n",
       "      <td>587.41</td>\n",
       "    </tr>\n",
       "  </tbody>\n",
       "</table>\n",
       "</div>"
      ],
      "text/plain": [
       "    sid                                    id  position  created_at  \\\n",
       "0  5554  8D0D0120-53D5-4A3D-B68F-D5BAFA1B9F24      5554  1435599444   \n",
       "1  5555  B8156EED-2420-4B71-A56C-57DED1FA7CEC      5555  1435599444   \n",
       "2  5556  A8D7795E-40FA-4923-AB52-CA8536DAAD7A      5556  1435599444   \n",
       "3  5557  8373DAD3-2886-4DAD-AFE8-84DB8C0F414E      5557  1435599444   \n",
       "4  5558  05DB3E97-35EC-4F75-891B-3F6C696CDEE0      5558  1435599444   \n",
       "\n",
       "   created_meta  updated_at  updated_meta                 When  \\\n",
       "0        710753  1435599444        710753  2001-01-01T00:00:00   \n",
       "1        710753  1435599444        710753  2001-02-01T00:00:00   \n",
       "2        710753  1435599444        710753  2001-03-01T00:00:00   \n",
       "3        710753  1435599444        710753  2001-04-01T00:00:00   \n",
       "4        710753  1435599444        710753  2001-05-01T00:00:00   \n",
       "\n",
       "                                               NAICS  Alberta  \\\n",
       "0  Industrial aggregate excluding unclassified bu...   670.54   \n",
       "1  Industrial aggregate excluding unclassified bu...   670.52   \n",
       "2  Industrial aggregate excluding unclassified bu...   668.49   \n",
       "3  Industrial aggregate excluding unclassified bu...   671.71   \n",
       "4  Industrial aggregate excluding unclassified bu...   664.45   \n",
       "\n",
       "   BritishColumbia  Canada  Manitoba  NewBrunswick  NewfoundlandAndLabrador  \\\n",
       "0           660.48  658.02    578.95        584.75                   594.00   \n",
       "1           659.33  655.79    580.63        585.11                   591.92   \n",
       "2           654.07  655.88    578.67        584.13                   593.47   \n",
       "3           657.15  654.09    576.36        580.92                   591.96   \n",
       "4           653.23  650.02    571.84        578.44                   588.19   \n",
       "\n",
       "   NovaScotia  Ontario  PrinceEdwardIsland  Quebec  Saskatchewan  \n",
       "0      571.28   698.57              535.65  624.81        596.53  \n",
       "1      570.06   693.69              532.02  623.93        595.09  \n",
       "2      570.70   697.08              534.71  622.94        589.09  \n",
       "3      568.70   693.73              522.50  619.12        589.37  \n",
       "4      567.96   688.27              522.31  618.90        587.41  "
      ]
     },
     "execution_count": 49,
     "metadata": {},
     "output_type": "execute_result"
    },
    {
     "data": {
      "text/plain": [
       "sid                        0\n",
       "id                         0\n",
       "position                   0\n",
       "created_at                 0\n",
       "created_meta               0\n",
       "updated_at                 0\n",
       "updated_meta               0\n",
       "When                       0\n",
       "NAICS                      0\n",
       "Alberta                    0\n",
       "BritishColumbia            0\n",
       "Canada                     0\n",
       "Manitoba                   0\n",
       "NewBrunswick               0\n",
       "NewfoundlandAndLabrador    0\n",
       "NovaScotia                 0\n",
       "Ontario                    0\n",
       "PrinceEdwardIsland         0\n",
       "Quebec                     0\n",
       "Saskatchewan               0\n",
       "dtype: int64"
      ]
     },
     "execution_count": 49,
     "metadata": {},
     "output_type": "execute_result"
    }
   ],
   "source": [
    "# read the csv file: weekly_earnings.csv\n",
    "weekly_earnings = pd.read_csv('data/weekly_earnings.csv')\n",
    "weekly_earnings.shape\n",
    "weekly_earnings.dtypes\n",
    "weekly_earnings.head()\n",
    "weekly_earnings.isnull().sum()"
   ]
  },
  {
   "cell_type": "code",
   "execution_count": 50,
   "metadata": {},
   "outputs": [
    {
     "data": {
      "text/plain": [
       "Index(['Sid', 'Id', 'Position', 'Created At', 'Created Meta', 'Updated At',\n",
       "       'Updated Meta', 'When', 'Naics', 'Alberta', 'Britishcolumbia', 'Canada',\n",
       "       'Manitoba', 'Newbrunswick', 'Newfoundlandandlabrador', 'Novascotia',\n",
       "       'Ontario', 'Princeedwardisland', 'Quebec', 'Saskatchewan'],\n",
       "      dtype='object')"
      ]
     },
     "execution_count": 50,
     "metadata": {},
     "output_type": "execute_result"
    }
   ],
   "source": [
    "# rename the column names to title case and replace the under score with space\n",
    "weekly_earnings.columns = weekly_earnings.columns.str.title().str.replace('_', ' ')\n",
    "weekly_earnings.columns"
   ]
  },
  {
   "cell_type": "code",
   "execution_count": 51,
   "metadata": {},
   "outputs": [
    {
     "data": {
      "text/plain": [
       "0    2001-01-01T00:00:00\n",
       "1    2001-02-01T00:00:00\n",
       "2    2001-03-01T00:00:00\n",
       "3    2001-04-01T00:00:00\n",
       "4    2001-05-01T00:00:00\n",
       "Name: When, dtype: object"
      ]
     },
     "execution_count": 51,
     "metadata": {},
     "output_type": "execute_result"
    }
   ],
   "source": [
    "weekly_earnings.When.head()"
   ]
  },
  {
   "cell_type": "code",
   "execution_count": 52,
   "metadata": {},
   "outputs": [],
   "source": [
    "# make a copy of the dataframe:\n",
    "weekly_earnings_cleaned = weekly_earnings.copy()"
   ]
  },
  {
   "cell_type": "code",
   "execution_count": 53,
   "metadata": {},
   "outputs": [
    {
     "data": {
      "text/plain": [
       "0   2001-01-01\n",
       "1   2001-02-01\n",
       "2   2001-03-01\n",
       "3   2001-04-01\n",
       "4   2001-05-01\n",
       "Name: When, dtype: datetime64[ns]"
      ]
     },
     "execution_count": 53,
     "metadata": {},
     "output_type": "execute_result"
    }
   ],
   "source": [
    "# convert the data type of the  column 'When' to datetime format:\n",
    "weekly_earnings_cleaned['When'] = pd.to_datetime(weekly_earnings['When'], format='%Y-%m-%d')\n",
    "weekly_earnings_cleaned.When.head()"
   ]
  },
  {
   "cell_type": "code",
   "execution_count": 54,
   "metadata": {},
   "outputs": [
    {
     "data": {
      "text/plain": [
       "0    1435599444\n",
       "1    1435599444\n",
       "2    1435599444\n",
       "3    1435599444\n",
       "4    1435599444\n",
       "Name: Created At, dtype: int64"
      ]
     },
     "execution_count": 54,
     "metadata": {},
     "output_type": "execute_result"
    },
    {
     "data": {
      "text/plain": [
       "0    1435599444\n",
       "1    1435599444\n",
       "2    1435599444\n",
       "3    1435599444\n",
       "4    1435599444\n",
       "Name: Updated At, dtype: int64"
      ]
     },
     "execution_count": 54,
     "metadata": {},
     "output_type": "execute_result"
    }
   ],
   "source": [
    "weekly_earnings['Created At'].head()\n",
    "weekly_earnings['Updated At'].head()"
   ]
  },
  {
   "cell_type": "code",
   "execution_count": 55,
   "metadata": {},
   "outputs": [
    {
     "data": {
      "text/plain": [
       "Sid                                 int64\n",
       "Id                                 object\n",
       "Position                            int64\n",
       "Created At                 datetime64[ns]\n",
       "Created Meta                        int64\n",
       "Updated At                 datetime64[ns]\n",
       "Updated Meta                        int64\n",
       "When                       datetime64[ns]\n",
       "Naics                              object\n",
       "Alberta                           float64\n",
       "Britishcolumbia                   float64\n",
       "Canada                            float64\n",
       "Manitoba                          float64\n",
       "Newbrunswick                      float64\n",
       "Newfoundlandandlabrador           float64\n",
       "Novascotia                        float64\n",
       "Ontario                           float64\n",
       "Princeedwardisland                float64\n",
       "Quebec                            float64\n",
       "Saskatchewan                      float64\n",
       "dtype: object"
      ]
     },
     "execution_count": 55,
     "metadata": {},
     "output_type": "execute_result"
    },
    {
     "data": {
      "text/html": [
       "<div>\n",
       "<style scoped>\n",
       "    .dataframe tbody tr th:only-of-type {\n",
       "        vertical-align: middle;\n",
       "    }\n",
       "\n",
       "    .dataframe tbody tr th {\n",
       "        vertical-align: top;\n",
       "    }\n",
       "\n",
       "    .dataframe thead th {\n",
       "        text-align: right;\n",
       "    }\n",
       "</style>\n",
       "<table border=\"1\" class=\"dataframe\">\n",
       "  <thead>\n",
       "    <tr style=\"text-align: right;\">\n",
       "      <th></th>\n",
       "      <th>Sid</th>\n",
       "      <th>Id</th>\n",
       "      <th>Position</th>\n",
       "      <th>Created At</th>\n",
       "      <th>Created Meta</th>\n",
       "      <th>Updated At</th>\n",
       "      <th>Updated Meta</th>\n",
       "      <th>When</th>\n",
       "      <th>Naics</th>\n",
       "      <th>Alberta</th>\n",
       "      <th>Britishcolumbia</th>\n",
       "      <th>Canada</th>\n",
       "      <th>Manitoba</th>\n",
       "      <th>Newbrunswick</th>\n",
       "      <th>Newfoundlandandlabrador</th>\n",
       "      <th>Novascotia</th>\n",
       "      <th>Ontario</th>\n",
       "      <th>Princeedwardisland</th>\n",
       "      <th>Quebec</th>\n",
       "      <th>Saskatchewan</th>\n",
       "    </tr>\n",
       "  </thead>\n",
       "  <tbody>\n",
       "    <tr>\n",
       "      <th>0</th>\n",
       "      <td>5554</td>\n",
       "      <td>8D0D0120-53D5-4A3D-B68F-D5BAFA1B9F24</td>\n",
       "      <td>5554</td>\n",
       "      <td>2015-06-29 17:37:24</td>\n",
       "      <td>710753</td>\n",
       "      <td>2015-06-29 17:37:24</td>\n",
       "      <td>710753</td>\n",
       "      <td>2001-01-01</td>\n",
       "      <td>Industrial aggregate excluding unclassified bu...</td>\n",
       "      <td>670.54</td>\n",
       "      <td>660.48</td>\n",
       "      <td>658.02</td>\n",
       "      <td>578.95</td>\n",
       "      <td>584.75</td>\n",
       "      <td>594.00</td>\n",
       "      <td>571.28</td>\n",
       "      <td>698.57</td>\n",
       "      <td>535.65</td>\n",
       "      <td>624.81</td>\n",
       "      <td>596.53</td>\n",
       "    </tr>\n",
       "    <tr>\n",
       "      <th>1</th>\n",
       "      <td>5555</td>\n",
       "      <td>B8156EED-2420-4B71-A56C-57DED1FA7CEC</td>\n",
       "      <td>5555</td>\n",
       "      <td>2015-06-29 17:37:24</td>\n",
       "      <td>710753</td>\n",
       "      <td>2015-06-29 17:37:24</td>\n",
       "      <td>710753</td>\n",
       "      <td>2001-02-01</td>\n",
       "      <td>Industrial aggregate excluding unclassified bu...</td>\n",
       "      <td>670.52</td>\n",
       "      <td>659.33</td>\n",
       "      <td>655.79</td>\n",
       "      <td>580.63</td>\n",
       "      <td>585.11</td>\n",
       "      <td>591.92</td>\n",
       "      <td>570.06</td>\n",
       "      <td>693.69</td>\n",
       "      <td>532.02</td>\n",
       "      <td>623.93</td>\n",
       "      <td>595.09</td>\n",
       "    </tr>\n",
       "    <tr>\n",
       "      <th>2</th>\n",
       "      <td>5556</td>\n",
       "      <td>A8D7795E-40FA-4923-AB52-CA8536DAAD7A</td>\n",
       "      <td>5556</td>\n",
       "      <td>2015-06-29 17:37:24</td>\n",
       "      <td>710753</td>\n",
       "      <td>2015-06-29 17:37:24</td>\n",
       "      <td>710753</td>\n",
       "      <td>2001-03-01</td>\n",
       "      <td>Industrial aggregate excluding unclassified bu...</td>\n",
       "      <td>668.49</td>\n",
       "      <td>654.07</td>\n",
       "      <td>655.88</td>\n",
       "      <td>578.67</td>\n",
       "      <td>584.13</td>\n",
       "      <td>593.47</td>\n",
       "      <td>570.70</td>\n",
       "      <td>697.08</td>\n",
       "      <td>534.71</td>\n",
       "      <td>622.94</td>\n",
       "      <td>589.09</td>\n",
       "    </tr>\n",
       "    <tr>\n",
       "      <th>3</th>\n",
       "      <td>5557</td>\n",
       "      <td>8373DAD3-2886-4DAD-AFE8-84DB8C0F414E</td>\n",
       "      <td>5557</td>\n",
       "      <td>2015-06-29 17:37:24</td>\n",
       "      <td>710753</td>\n",
       "      <td>2015-06-29 17:37:24</td>\n",
       "      <td>710753</td>\n",
       "      <td>2001-04-01</td>\n",
       "      <td>Industrial aggregate excluding unclassified bu...</td>\n",
       "      <td>671.71</td>\n",
       "      <td>657.15</td>\n",
       "      <td>654.09</td>\n",
       "      <td>576.36</td>\n",
       "      <td>580.92</td>\n",
       "      <td>591.96</td>\n",
       "      <td>568.70</td>\n",
       "      <td>693.73</td>\n",
       "      <td>522.50</td>\n",
       "      <td>619.12</td>\n",
       "      <td>589.37</td>\n",
       "    </tr>\n",
       "    <tr>\n",
       "      <th>4</th>\n",
       "      <td>5558</td>\n",
       "      <td>05DB3E97-35EC-4F75-891B-3F6C696CDEE0</td>\n",
       "      <td>5558</td>\n",
       "      <td>2015-06-29 17:37:24</td>\n",
       "      <td>710753</td>\n",
       "      <td>2015-06-29 17:37:24</td>\n",
       "      <td>710753</td>\n",
       "      <td>2001-05-01</td>\n",
       "      <td>Industrial aggregate excluding unclassified bu...</td>\n",
       "      <td>664.45</td>\n",
       "      <td>653.23</td>\n",
       "      <td>650.02</td>\n",
       "      <td>571.84</td>\n",
       "      <td>578.44</td>\n",
       "      <td>588.19</td>\n",
       "      <td>567.96</td>\n",
       "      <td>688.27</td>\n",
       "      <td>522.31</td>\n",
       "      <td>618.90</td>\n",
       "      <td>587.41</td>\n",
       "    </tr>\n",
       "  </tbody>\n",
       "</table>\n",
       "</div>"
      ],
      "text/plain": [
       "    Sid                                    Id  Position          Created At  \\\n",
       "0  5554  8D0D0120-53D5-4A3D-B68F-D5BAFA1B9F24      5554 2015-06-29 17:37:24   \n",
       "1  5555  B8156EED-2420-4B71-A56C-57DED1FA7CEC      5555 2015-06-29 17:37:24   \n",
       "2  5556  A8D7795E-40FA-4923-AB52-CA8536DAAD7A      5556 2015-06-29 17:37:24   \n",
       "3  5557  8373DAD3-2886-4DAD-AFE8-84DB8C0F414E      5557 2015-06-29 17:37:24   \n",
       "4  5558  05DB3E97-35EC-4F75-891B-3F6C696CDEE0      5558 2015-06-29 17:37:24   \n",
       "\n",
       "   Created Meta          Updated At  Updated Meta       When  \\\n",
       "0        710753 2015-06-29 17:37:24        710753 2001-01-01   \n",
       "1        710753 2015-06-29 17:37:24        710753 2001-02-01   \n",
       "2        710753 2015-06-29 17:37:24        710753 2001-03-01   \n",
       "3        710753 2015-06-29 17:37:24        710753 2001-04-01   \n",
       "4        710753 2015-06-29 17:37:24        710753 2001-05-01   \n",
       "\n",
       "                                               Naics  Alberta  \\\n",
       "0  Industrial aggregate excluding unclassified bu...   670.54   \n",
       "1  Industrial aggregate excluding unclassified bu...   670.52   \n",
       "2  Industrial aggregate excluding unclassified bu...   668.49   \n",
       "3  Industrial aggregate excluding unclassified bu...   671.71   \n",
       "4  Industrial aggregate excluding unclassified bu...   664.45   \n",
       "\n",
       "   Britishcolumbia  Canada  Manitoba  Newbrunswick  Newfoundlandandlabrador  \\\n",
       "0           660.48  658.02    578.95        584.75                   594.00   \n",
       "1           659.33  655.79    580.63        585.11                   591.92   \n",
       "2           654.07  655.88    578.67        584.13                   593.47   \n",
       "3           657.15  654.09    576.36        580.92                   591.96   \n",
       "4           653.23  650.02    571.84        578.44                   588.19   \n",
       "\n",
       "   Novascotia  Ontario  Princeedwardisland  Quebec  Saskatchewan  \n",
       "0      571.28   698.57              535.65  624.81        596.53  \n",
       "1      570.06   693.69              532.02  623.93        595.09  \n",
       "2      570.70   697.08              534.71  622.94        589.09  \n",
       "3      568.70   693.73              522.50  619.12        589.37  \n",
       "4      567.96   688.27              522.31  618.90        587.41  "
      ]
     },
     "execution_count": 55,
     "metadata": {},
     "output_type": "execute_result"
    }
   ],
   "source": [
    "# convert the data type of the  columns 'Created At', 'Updated At', from the format: 1435599444, to datetime format:\n",
    "weekly_earnings_cleaned['Created At'] = pd.to_datetime(weekly_earnings['Created At'], unit='s')\n",
    "weekly_earnings_cleaned['Updated At'] = pd.to_datetime(weekly_earnings['Updated At'], unit='s')\n",
    "weekly_earnings_cleaned.dtypes\n",
    "weekly_earnings_cleaned.head()"
   ]
  },
  {
   "cell_type": "code",
   "execution_count": 56,
   "metadata": {},
   "outputs": [],
   "source": [
    "# rename When to Date   \n",
    "weekly_earnings_cleaned.rename(columns={'When': 'Date'}, inplace=True)"
   ]
  },
  {
   "cell_type": "code",
   "execution_count": 57,
   "metadata": {},
   "outputs": [],
   "source": [
    "# # save the weekly_earnings_cleaned to a csv file, under the data_cleaned folder\n",
    "# weekly_earnings_cleaned.to_csv('data_cleaned/weekly_earnings_cleaned.csv', index=False)"
   ]
  },
  {
   "cell_type": "code",
   "execution_count": 58,
   "metadata": {},
   "outputs": [
    {
     "data": {
      "text/plain": [
       "['Sid',\n",
       " 'Id',\n",
       " 'Position',\n",
       " 'Created At',\n",
       " 'Created Meta',\n",
       " 'Updated At',\n",
       " 'Updated Meta',\n",
       " 'Date',\n",
       " 'Naics',\n",
       " 'Alberta',\n",
       " 'Britishcolumbia',\n",
       " 'Canada',\n",
       " 'Manitoba',\n",
       " 'Newbrunswick',\n",
       " 'Newfoundlandandlabrador',\n",
       " 'Novascotia',\n",
       " 'Ontario',\n",
       " 'Princeedwardisland',\n",
       " 'Quebec',\n",
       " 'Saskatchewan']"
      ]
     },
     "execution_count": 58,
     "metadata": {},
     "output_type": "execute_result"
    }
   ],
   "source": [
    "weekly_earnings_cleaned.columns.to_list()"
   ]
  },
  {
   "cell_type": "code",
   "execution_count": 59,
   "metadata": {},
   "outputs": [
    {
     "data": {
      "text/plain": [
       "Sid                        172\n",
       "Id                         172\n",
       "Position                   172\n",
       "Created At                   1\n",
       "Created Meta                 1\n",
       "Updated At                   1\n",
       "Updated Meta                 1\n",
       "Date                       172\n",
       "Naics                        1\n",
       "Alberta                    171\n",
       "Britishcolumbia            172\n",
       "Canada                     171\n",
       "Manitoba                   172\n",
       "Newbrunswick               172\n",
       "Newfoundlandandlabrador    172\n",
       "Novascotia                 171\n",
       "Ontario                    172\n",
       "Princeedwardisland         171\n",
       "Quebec                     170\n",
       "Saskatchewan               172\n",
       "dtype: int64"
      ]
     },
     "execution_count": 59,
     "metadata": {},
     "output_type": "execute_result"
    },
    {
     "data": {
      "text/plain": [
       "Sid                        172\n",
       "Id                         172\n",
       "Position                   172\n",
       "Created At                 172\n",
       "Created Meta               172\n",
       "Updated At                 172\n",
       "Updated Meta               172\n",
       "Date                       172\n",
       "Naics                      172\n",
       "Alberta                    172\n",
       "Britishcolumbia            172\n",
       "Canada                     172\n",
       "Manitoba                   172\n",
       "Newbrunswick               172\n",
       "Newfoundlandandlabrador    172\n",
       "Novascotia                 172\n",
       "Ontario                    172\n",
       "Princeedwardisland         172\n",
       "Quebec                     172\n",
       "Saskatchewan               172\n",
       "dtype: int64"
      ]
     },
     "execution_count": 59,
     "metadata": {},
     "output_type": "execute_result"
    }
   ],
   "source": [
    "# Show Each column's unique value numbers:\n",
    "weekly_earnings_cleaned.nunique()\n",
    "\n",
    "# Show Each column's value numbers:\n",
    "weekly_earnings_cleaned.count()"
   ]
  },
  {
   "cell_type": "code",
   "execution_count": 60,
   "metadata": {},
   "outputs": [
    {
     "data": {
      "text/plain": [
       "array([5554, 5555, 5556, 5557, 5558, 5559, 5560, 5561, 5562, 5563, 5564,\n",
       "       5565, 5566, 5567, 5568, 5569, 5570, 5571, 5572, 5573, 5574, 5575,\n",
       "       5576, 5577, 5578, 5579, 5580, 5581, 5582, 5583, 5584, 5585, 5586,\n",
       "       5587, 5588, 5589, 5590, 5591, 5592, 5593, 5594, 5595, 5596, 5597,\n",
       "       5598, 5599, 5600, 5601, 5602, 5603, 5604, 5605, 5606, 5607, 5608,\n",
       "       5609, 5610, 5611, 5612, 5613, 5614, 5615, 5616, 5617, 5618, 5619,\n",
       "       5620, 5621, 5622, 5623, 5624, 5625, 5626, 5627, 5628, 5629, 5630,\n",
       "       5631, 5632, 5633, 5634, 5635, 5636, 5637, 5638, 5639, 5640, 5641,\n",
       "       5642, 5643, 5644, 5645, 5646, 5647, 5648, 5649, 5650, 5651, 5652,\n",
       "       5653, 5654, 5655, 5656, 5657, 5658, 5659, 5660, 5661, 5662, 5663,\n",
       "       5664, 5665, 5666, 5667, 5668, 5669, 5670, 5671, 5672, 5673, 5674,\n",
       "       5675, 5676, 5677, 5678, 5679, 5680, 5681, 5682, 5683, 5684, 5685,\n",
       "       5686, 5687, 5688, 5689, 5690, 5691, 5692, 5693, 5694, 5695, 5696,\n",
       "       5697, 5698, 5699, 5700, 5701, 5702, 5703, 5704, 5705, 5706, 5707,\n",
       "       5708, 5709, 5710, 5711, 5712, 5713, 5714, 5715, 5716, 5717, 5718,\n",
       "       5719, 5720, 5721, 5722, 5723, 5724, 5725])"
      ]
     },
     "execution_count": 60,
     "metadata": {},
     "output_type": "execute_result"
    }
   ],
   "source": [
    "# show the value of SID\n",
    "weekly_earnings_cleaned.Sid.unique()"
   ]
  },
  {
   "cell_type": "code",
   "execution_count": 61,
   "metadata": {},
   "outputs": [
    {
     "data": {
      "text/plain": [
       "array(['8D0D0120-53D5-4A3D-B68F-D5BAFA1B9F24',\n",
       "       'B8156EED-2420-4B71-A56C-57DED1FA7CEC',\n",
       "       'A8D7795E-40FA-4923-AB52-CA8536DAAD7A',\n",
       "       '8373DAD3-2886-4DAD-AFE8-84DB8C0F414E',\n",
       "       '05DB3E97-35EC-4F75-891B-3F6C696CDEE0',\n",
       "       '9F6DC880-A4F1-4149-A43F-23E9E9BF2270',\n",
       "       '0F6988BE-1D70-4546-A854-15C677B99316',\n",
       "       '6BE8C5BD-E455-4573-A299-F41CC57DB7DB',\n",
       "       '9C61FF04-EA5F-4548-9E21-BA4F29B1E325',\n",
       "       '2538F70D-9A3D-45F0-A6BE-4A3744AF6372',\n",
       "       'E29C2CFE-AD1B-4F77-A0B9-86970CB6FA88',\n",
       "       'C056C58D-CAAE-409E-A994-D20291F4F053',\n",
       "       '5ADDCDBD-6B8D-483F-A6F3-B4D9E939BC9A',\n",
       "       'DB96E5DC-002A-4F7A-97F2-7066CCC3E645',\n",
       "       'B905BAA7-40B0-4BE3-9F8C-7F0F079053E1',\n",
       "       'C4EA174C-07F7-456C-8EBF-F1B35A88FED7',\n",
       "       '8BEC0293-0E3F-47A0-A977-EDECC9753D76',\n",
       "       'DAA5936E-C5E0-4D99-A5EF-C160D08C8B36',\n",
       "       '91B8E5AD-A97E-4DA4-A877-5726D1D9D4C8',\n",
       "       '45DF1C45-3292-40B5-B92F-61320156A774',\n",
       "       'BB5173E0-B17E-4222-BC6B-D96E73775778',\n",
       "       '7493CEBA-0C87-4701-A24B-09B5126317E0',\n",
       "       'A56D66E0-061C-4310-89F8-65B4C5AA59E5',\n",
       "       '1F70B3FE-BD5F-4367-8FF2-AD08D4FF0EBD',\n",
       "       '504ADB8F-F66F-4CE5-9087-58822450AA6F',\n",
       "       '1DC723E6-5DD8-4320-9214-BEA738BBDABE',\n",
       "       '552A4EDD-F3F2-405F-989F-DFE7F2A8449F',\n",
       "       'D13C3EEB-7B37-4221-9DCB-068C5CB987B2',\n",
       "       'D2EEFC2A-CA63-451C-981D-A2986EAF1CFD',\n",
       "       'E2B19D27-C5F3-4AD1-9646-ABAF887FA6DC',\n",
       "       '26E62F97-42B8-43B7-8645-2A7A9EE68D4C',\n",
       "       'F8957732-B5CB-45D1-8CE4-D4F315CA30F0',\n",
       "       '69A264CA-263A-4F4F-B81D-7CD2E103FAD3',\n",
       "       '67971CB3-E1CC-44F6-9A3A-D632D7407685',\n",
       "       'CAA6FD86-1647-4932-AFAD-D2E064C01D0A',\n",
       "       '5900E84C-32A3-4D3C-AF30-73B301DAFFB7',\n",
       "       '0ECC4723-579C-4A42-BBCF-00D176A74A37',\n",
       "       '119514FC-09E4-4E3C-B678-96F395075B11',\n",
       "       '31091D72-D642-4205-9D0A-7F7D97A6A3FE',\n",
       "       '746BB6AF-E5C1-4322-AD69-5EFA8333E6C0',\n",
       "       'DFDFDA74-2E50-4C02-9C95-4B9C6AE7F3DD',\n",
       "       '236583AE-5A67-4FF6-84B8-D6ADD44A1782',\n",
       "       '4FCFE844-57D7-412B-B2B8-27B35D601D62',\n",
       "       '899EF3DE-AF8A-4C83-922E-EB3C0C881C4C',\n",
       "       '05C176C8-9EB7-449A-B9F0-C4C2BA542FB3',\n",
       "       'DF676A46-A6E3-4C9E-8DCC-D41CBFEAECCA',\n",
       "       'AD24454F-8F8A-4633-B6AA-55A76051144A',\n",
       "       '91381916-9DFC-437A-A656-808B3BE8FB3E',\n",
       "       'E4D94798-2653-4481-A8F9-602F8663799D',\n",
       "       'E4BBDA62-1993-4A60-958E-0279D898C9CB',\n",
       "       'DBB7FC76-6F71-409D-A2A7-95864E9D013C',\n",
       "       '99B7B90A-C5BA-4852-B616-B1374251242E',\n",
       "       'D1DB23DE-8727-4E73-8A3C-40D1DF0C6CEC',\n",
       "       '6E02651B-09B0-48D9-9264-716DA493FC24',\n",
       "       '265649DE-E7B1-47EB-B966-06C6662659C4',\n",
       "       '909D285D-C33F-48EB-9F4A-3FBFD65BDFD3',\n",
       "       '49ECAC21-F25A-4755-81EA-EB3E01A1D206',\n",
       "       '11D7186E-E369-44A8-8D20-5469BD54D28E',\n",
       "       '25E7B8D5-1DCB-41EA-8E4F-D0866784301C',\n",
       "       '74389658-58C1-4225-AC3E-AB5794CA7F4D',\n",
       "       'E2770A54-5AB8-47A4-95A3-F0A447998600',\n",
       "       'D1F8F5B0-130C-46E1-B346-C16C5D2C6088',\n",
       "       '7A824CBF-5CEC-438D-8F73-C8E219347A62',\n",
       "       'A0B9FA2C-053A-405E-A04D-3228314FC1E3',\n",
       "       '4EA61C5A-0190-41C5-B761-53887DADF79F',\n",
       "       '8CA3CDFB-1A8C-425E-B454-64AA255588BA',\n",
       "       'D710E72B-4A40-4FFD-AE79-7845B8636127',\n",
       "       '7E43B66A-48FC-44D6-A98C-F1658270FEF0',\n",
       "       '4540C46A-58A3-4509-A3F8-DF86C9E202DF',\n",
       "       '7F99932B-DA47-41B4-BE28-FE46909C9A69',\n",
       "       'CB264143-D073-445D-936C-AE439DB10D36',\n",
       "       '3E51E44B-0FCF-43CD-9FB0-08A5AC0B91DC',\n",
       "       'FF942B08-06B3-4781-AF5F-CB24E45AA277',\n",
       "       'C52801CA-38C4-4E62-8250-37877C5D6CA7',\n",
       "       'F161F122-4638-474B-B0E0-B179D4DEDBB3',\n",
       "       '31DB9C5F-E95C-499B-B69C-C005452F86A1',\n",
       "       '23BA11D2-D51C-4E9C-8886-02D2C2175C66',\n",
       "       'ABF0652E-3385-42DB-B120-1F6E210F3853',\n",
       "       '063A9378-DA6E-4DE5-9908-47299CF0066D',\n",
       "       '15E43487-D939-47E8-BA34-1D7D174567E2',\n",
       "       'B633F4AD-C82A-4D90-8913-9652F0C650F9',\n",
       "       'D8087A10-6083-4B34-B482-153D1A7A6B4B',\n",
       "       '9F96EB56-C859-4A53-BD26-D810B7AD9F47',\n",
       "       '8AE19A34-6586-43C4-A130-EF3A0247E7EB',\n",
       "       'F9A4A504-1C0E-4163-98C7-C2DA43D82DC0',\n",
       "       '3A2DE791-DAD0-4D2C-AD3F-21EB4D6FE815',\n",
       "       'F9D51F98-D6EE-4003-A36D-09607F72B10F',\n",
       "       'BD6BA373-66A1-4EB6-86BA-B79E6F691568',\n",
       "       'F9DDDC38-346B-4FFC-B55D-63246A9203A9',\n",
       "       '95534D96-8060-452A-8A5F-CDBEA041611C',\n",
       "       'A1F4BC46-2AB7-49FC-A341-FC3631E889F8',\n",
       "       'BE8B3645-310A-4AE1-9519-7B3833716166',\n",
       "       '3952D978-C446-4534-A8D3-7E1CAC61E71B',\n",
       "       '258C8A4E-774F-494F-873E-FB3296BCBCD7',\n",
       "       '735C8BA5-D4F2-4F8E-BC9E-16EA93F8FB3C',\n",
       "       '0D0813A2-A6E2-41FE-9F24-55FC1D84818D',\n",
       "       '515E7663-F963-4A79-9C00-B9B32C8A071F',\n",
       "       '8E8BAE10-4FDC-4FF3-BF20-BD18D0F40985',\n",
       "       '6824E5F7-072D-4F16-9FC9-4045C8332E76',\n",
       "       'C54B7EA1-3950-4C03-8588-CAA638F7D9AB',\n",
       "       '6E1F0807-B98D-405E-8BDA-45F2E6327614',\n",
       "       'B55F4FFC-CEF0-4487-80C2-6D7B0C62152F',\n",
       "       '877B1A3A-AE27-4DCD-864B-21D2C4A739DD',\n",
       "       '11FC9444-8C33-40E8-ADF1-BF28FCD835BC',\n",
       "       '2E5AD0D7-474C-44BE-B796-B489243DF9EA',\n",
       "       'D6ADAC62-C07B-4EA6-BDF6-71B3834CE2D1',\n",
       "       'AC4CDF31-3665-41AA-935F-898EED6FB707',\n",
       "       '981442D7-99DD-4958-A2AA-A2E51628E49F',\n",
       "       '9A0F674D-3861-4B2E-B1FB-963D721E6E3B',\n",
       "       'C24DD627-F0A2-4A7A-94B5-2EE93A6F7B06',\n",
       "       'C34B42E1-D090-467C-88C0-605FF2C90E42',\n",
       "       'B3D0F107-EB2D-4C8C-8AA7-16D4FD96CB72',\n",
       "       'B2D72BE5-2D3C-47F4-B5B4-F67EE7024CB4',\n",
       "       '51E956A6-5428-4FCE-B38F-CE41779FA606',\n",
       "       '10617BBF-6B59-4024-86F6-0685E852CEC2',\n",
       "       'E336B15B-5BD2-40D4-9F45-C9E9F6D7766B',\n",
       "       '244B82F6-F74C-4202-8367-0A84493CD9D6',\n",
       "       'A5B62350-472C-46E9-9BF9-D40F9AC5282C',\n",
       "       'B43EF832-C359-443D-ABE9-506D66C2B11C',\n",
       "       'FE2E4B10-F917-47DC-976C-7F998256E6A5',\n",
       "       'E9CE2172-F34A-4197-9268-67F56E377FAD',\n",
       "       '7B12A0F2-DDFC-47E5-8536-C60C1AD609C1',\n",
       "       '27213EBD-90FC-4977-8B1B-C4B30E945E54',\n",
       "       'DA72DF6E-E207-4909-845C-C489159118C0',\n",
       "       '295B1713-6642-4144-945F-389614E14422',\n",
       "       '7AF4E650-D766-4D2F-910C-A18048B44947',\n",
       "       '5B00A40F-6F7C-4374-87B1-A14D37AD3D81',\n",
       "       '4E36F785-E3A8-43A5-8F00-8AEE855B53E9',\n",
       "       'E17E2A1D-A36F-471D-9CBE-F85C27E95567',\n",
       "       '73E7A4C4-5F04-4707-82AB-5E0CDB6CD098',\n",
       "       'EC514246-17FB-4C00-BEA9-A51E3B3E72AC',\n",
       "       '8BE52CE5-675B-4941-AB8B-F0C76066872A',\n",
       "       'F0664DB9-43B9-40F4-AEC1-2067BA535408',\n",
       "       '5330108A-D6EC-4592-ACD5-37C33AC31108',\n",
       "       '7CF4A7D8-FF62-4AF1-ABE3-CC8256DD0E91',\n",
       "       '26FC3C58-58E5-4878-8415-8EAA362B2675',\n",
       "       '935C3BF3-D160-4014-AC08-E0ADFC440539',\n",
       "       'FA8781DD-3857-479F-B167-E9B189BDE337',\n",
       "       '988892D9-FC24-4F91-A2F9-F03BC2210C20',\n",
       "       'B3271B82-FE8D-4C1B-9991-CFA3D1571B4C',\n",
       "       '533B5792-2260-4620-BF6A-F5BED9A27524',\n",
       "       '569E79EE-639D-47F3-AD9C-BDFA801F3E07',\n",
       "       '6D9686F2-5DA8-456E-BA2B-7CA682010419',\n",
       "       'F97C3E95-AC6A-4539-A483-28E040565E24',\n",
       "       '9D12219E-9D5F-4748-8D27-611696A876B6',\n",
       "       '79BDCDF0-F30D-4590-9EE0-2039C59725E9',\n",
       "       '9D357A47-1446-4480-A689-C44D5C9584D8',\n",
       "       '94C0CC73-F7B5-4897-B541-7FF4AB1BF994',\n",
       "       'B58B635B-E2EE-45A8-9F4F-6568E68B9C8C',\n",
       "       '378CFFC8-4EC2-4366-B8FB-5CC173888992',\n",
       "       '5DD47F1F-78B5-448A-9BEC-19127963538A',\n",
       "       'CA3B5289-591D-42C7-B6EF-3287C29A36AA',\n",
       "       '8EDD7604-8740-4052-9DE5-2EE7C6B6D564',\n",
       "       '2B3F433E-87A4-46C4-B2C7-A813C7DD78CD',\n",
       "       '44FBD655-4B28-4250-9423-4C262834650A',\n",
       "       '491A22A7-3DBF-4CE9-B45E-F19FF09302B3',\n",
       "       'E4D70593-64BB-4FAE-8110-28E48B4B8397',\n",
       "       '8FE8E2A2-4381-4908-A386-4DEF1B4AD59B',\n",
       "       'B2999934-6E32-4839-9B37-ABED77B2C716',\n",
       "       '60B9A0AD-EC32-4838-82BC-D57C2BDD4ABC',\n",
       "       '0AE29FF3-CDD5-4F6E-91FA-89E5F0129CA8',\n",
       "       'BA6F0115-912C-4CF5-9C56-A4457AC14AF4',\n",
       "       '3BF02973-49DB-4DC5-AFA2-1A0A04C9DD48',\n",
       "       '02FFB60F-7DF1-46E5-AFD4-78EB2CD0E167',\n",
       "       'BC94046F-7D6D-4C17-9F37-2930D05A282B',\n",
       "       '03C8E1BF-4097-44F8-BBE7-EED2E44E3913',\n",
       "       '8456038A-24AE-4EAC-ACEB-FEE4836B9BD1',\n",
       "       '929B44CE-29DA-42D8-B7C3-C87C70D4C383',\n",
       "       'F8CF4AB6-378A-4075-8BE7-6195EE417848',\n",
       "       'F7A31164-A7FE-467F-A9F7-8A06954FB391',\n",
       "       '58A68982-BF09-4DA2-9C86-094D9F52BB8F',\n",
       "       '21789CE9-CD5C-4B1F-BAFF-B3D7C45E6F25'], dtype=object)"
      ]
     },
     "execution_count": 61,
     "metadata": {},
     "output_type": "execute_result"
    }
   ],
   "source": [
    "# show the value of ID\n",
    "weekly_earnings_cleaned.Id.unique()"
   ]
  },
  {
   "cell_type": "code",
   "execution_count": 62,
   "metadata": {},
   "outputs": [],
   "source": [
    "# rename the column names: Sid to SID, Id to ID\n",
    "weekly_earnings_cleaned.rename(columns={'Sid': 'SID', 'Id': 'ID'}, inplace=True)"
   ]
  },
  {
   "cell_type": "code",
   "execution_count": 63,
   "metadata": {},
   "outputs": [
    {
     "data": {
      "text/plain": [
       "(172, 12)"
      ]
     },
     "execution_count": 63,
     "metadata": {},
     "output_type": "execute_result"
    },
    {
     "data": {
      "text/html": [
       "<div>\n",
       "<style scoped>\n",
       "    .dataframe tbody tr th:only-of-type {\n",
       "        vertical-align: middle;\n",
       "    }\n",
       "\n",
       "    .dataframe tbody tr th {\n",
       "        vertical-align: top;\n",
       "    }\n",
       "\n",
       "    .dataframe thead th {\n",
       "        text-align: right;\n",
       "    }\n",
       "</style>\n",
       "<table border=\"1\" class=\"dataframe\">\n",
       "  <thead>\n",
       "    <tr style=\"text-align: right;\">\n",
       "      <th></th>\n",
       "      <th>Date</th>\n",
       "      <th>Alberta</th>\n",
       "      <th>Britishcolumbia</th>\n",
       "      <th>Canada</th>\n",
       "      <th>Manitoba</th>\n",
       "      <th>Newbrunswick</th>\n",
       "      <th>Newfoundlandandlabrador</th>\n",
       "      <th>Novascotia</th>\n",
       "      <th>Ontario</th>\n",
       "      <th>Princeedwardisland</th>\n",
       "      <th>Quebec</th>\n",
       "      <th>Saskatchewan</th>\n",
       "    </tr>\n",
       "  </thead>\n",
       "  <tbody>\n",
       "    <tr>\n",
       "      <th>0</th>\n",
       "      <td>2001-01-01</td>\n",
       "      <td>670.54</td>\n",
       "      <td>660.48</td>\n",
       "      <td>658.02</td>\n",
       "      <td>578.95</td>\n",
       "      <td>584.75</td>\n",
       "      <td>594.00</td>\n",
       "      <td>571.28</td>\n",
       "      <td>698.57</td>\n",
       "      <td>535.65</td>\n",
       "      <td>624.81</td>\n",
       "      <td>596.53</td>\n",
       "    </tr>\n",
       "    <tr>\n",
       "      <th>1</th>\n",
       "      <td>2001-02-01</td>\n",
       "      <td>670.52</td>\n",
       "      <td>659.33</td>\n",
       "      <td>655.79</td>\n",
       "      <td>580.63</td>\n",
       "      <td>585.11</td>\n",
       "      <td>591.92</td>\n",
       "      <td>570.06</td>\n",
       "      <td>693.69</td>\n",
       "      <td>532.02</td>\n",
       "      <td>623.93</td>\n",
       "      <td>595.09</td>\n",
       "    </tr>\n",
       "    <tr>\n",
       "      <th>2</th>\n",
       "      <td>2001-03-01</td>\n",
       "      <td>668.49</td>\n",
       "      <td>654.07</td>\n",
       "      <td>655.88</td>\n",
       "      <td>578.67</td>\n",
       "      <td>584.13</td>\n",
       "      <td>593.47</td>\n",
       "      <td>570.70</td>\n",
       "      <td>697.08</td>\n",
       "      <td>534.71</td>\n",
       "      <td>622.94</td>\n",
       "      <td>589.09</td>\n",
       "    </tr>\n",
       "    <tr>\n",
       "      <th>3</th>\n",
       "      <td>2001-04-01</td>\n",
       "      <td>671.71</td>\n",
       "      <td>657.15</td>\n",
       "      <td>654.09</td>\n",
       "      <td>576.36</td>\n",
       "      <td>580.92</td>\n",
       "      <td>591.96</td>\n",
       "      <td>568.70</td>\n",
       "      <td>693.73</td>\n",
       "      <td>522.50</td>\n",
       "      <td>619.12</td>\n",
       "      <td>589.37</td>\n",
       "    </tr>\n",
       "    <tr>\n",
       "      <th>4</th>\n",
       "      <td>2001-05-01</td>\n",
       "      <td>664.45</td>\n",
       "      <td>653.23</td>\n",
       "      <td>650.02</td>\n",
       "      <td>571.84</td>\n",
       "      <td>578.44</td>\n",
       "      <td>588.19</td>\n",
       "      <td>567.96</td>\n",
       "      <td>688.27</td>\n",
       "      <td>522.31</td>\n",
       "      <td>618.90</td>\n",
       "      <td>587.41</td>\n",
       "    </tr>\n",
       "  </tbody>\n",
       "</table>\n",
       "</div>"
      ],
      "text/plain": [
       "        Date  Alberta  Britishcolumbia  Canada  Manitoba  Newbrunswick  \\\n",
       "0 2001-01-01   670.54           660.48  658.02    578.95        584.75   \n",
       "1 2001-02-01   670.52           659.33  655.79    580.63        585.11   \n",
       "2 2001-03-01   668.49           654.07  655.88    578.67        584.13   \n",
       "3 2001-04-01   671.71           657.15  654.09    576.36        580.92   \n",
       "4 2001-05-01   664.45           653.23  650.02    571.84        578.44   \n",
       "\n",
       "   Newfoundlandandlabrador  Novascotia  Ontario  Princeedwardisland  Quebec  \\\n",
       "0                   594.00      571.28   698.57              535.65  624.81   \n",
       "1                   591.92      570.06   693.69              532.02  623.93   \n",
       "2                   593.47      570.70   697.08              534.71  622.94   \n",
       "3                   591.96      568.70   693.73              522.50  619.12   \n",
       "4                   588.19      567.96   688.27              522.31  618.90   \n",
       "\n",
       "   Saskatchewan  \n",
       "0        596.53  \n",
       "1        595.09  \n",
       "2        589.09  \n",
       "3        589.37  \n",
       "4        587.41  "
      ]
     },
     "execution_count": 63,
     "metadata": {},
     "output_type": "execute_result"
    },
    {
     "data": {
      "text/plain": [
       "(1892, 3)"
      ]
     },
     "execution_count": 63,
     "metadata": {},
     "output_type": "execute_result"
    },
    {
     "data": {
      "text/html": [
       "<div>\n",
       "<style scoped>\n",
       "    .dataframe tbody tr th:only-of-type {\n",
       "        vertical-align: middle;\n",
       "    }\n",
       "\n",
       "    .dataframe tbody tr th {\n",
       "        vertical-align: top;\n",
       "    }\n",
       "\n",
       "    .dataframe thead th {\n",
       "        text-align: right;\n",
       "    }\n",
       "</style>\n",
       "<table border=\"1\" class=\"dataframe\">\n",
       "  <thead>\n",
       "    <tr style=\"text-align: right;\">\n",
       "      <th></th>\n",
       "      <th>Date</th>\n",
       "      <th>Position</th>\n",
       "      <th>Earnings</th>\n",
       "    </tr>\n",
       "  </thead>\n",
       "  <tbody>\n",
       "    <tr>\n",
       "      <th>0</th>\n",
       "      <td>2001-01-01</td>\n",
       "      <td>Alberta</td>\n",
       "      <td>670.54</td>\n",
       "    </tr>\n",
       "    <tr>\n",
       "      <th>1</th>\n",
       "      <td>2001-02-01</td>\n",
       "      <td>Alberta</td>\n",
       "      <td>670.52</td>\n",
       "    </tr>\n",
       "    <tr>\n",
       "      <th>2</th>\n",
       "      <td>2001-03-01</td>\n",
       "      <td>Alberta</td>\n",
       "      <td>668.49</td>\n",
       "    </tr>\n",
       "    <tr>\n",
       "      <th>3</th>\n",
       "      <td>2001-04-01</td>\n",
       "      <td>Alberta</td>\n",
       "      <td>671.71</td>\n",
       "    </tr>\n",
       "    <tr>\n",
       "      <th>4</th>\n",
       "      <td>2001-05-01</td>\n",
       "      <td>Alberta</td>\n",
       "      <td>664.45</td>\n",
       "    </tr>\n",
       "  </tbody>\n",
       "</table>\n",
       "</div>"
      ],
      "text/plain": [
       "        Date Position  Earnings\n",
       "0 2001-01-01  Alberta    670.54\n",
       "1 2001-02-01  Alberta    670.52\n",
       "2 2001-03-01  Alberta    668.49\n",
       "3 2001-04-01  Alberta    671.71\n",
       "4 2001-05-01  Alberta    664.45"
      ]
     },
     "execution_count": 63,
     "metadata": {},
     "output_type": "execute_result"
    }
   ],
   "source": [
    "# make a copy of the dataframe: weekly_earnings_cleaned, for the pivot table\n",
    "weekly_earnings_pivot_cleaned = weekly_earnings_cleaned.copy()\n",
    "\n",
    "# in weekly_earnings_pivot_cleaned, drop the following columns\n",
    "# SID                        172\n",
    "# ID                         172\n",
    "# Position                   172\n",
    "# Created At                   1\n",
    "# Created Meta                 1\n",
    "# Updated At                   1\n",
    "# Updated Meta                 1\n",
    "# Naics                        1\n",
    "\n",
    "# drop the columns: SID, ID, Position, Created At, Created Meta, Updated At, Updated Meta, Naics\n",
    "weekly_earnings_pivot_cleaned.drop(['SID', 'ID', 'Position', 'Created At', 'Created Meta', 'Updated At', 'Updated Meta', 'Naics'], axis=1, inplace=True)\n",
    "\n",
    "weekly_earnings_pivot_cleaned.shape\n",
    "weekly_earnings_pivot_cleaned.head()\n",
    "\n",
    "# pivot the table, so that the column 'Position' becomes the column names, using .melt() method\n",
    "weekly_earnings_pivot_cleaned = weekly_earnings_pivot_cleaned.melt(id_vars=['Date'], var_name='Position', value_name='Earnings')\n",
    "\n",
    "weekly_earnings_pivot_cleaned.shape\n",
    "weekly_earnings_pivot_cleaned.head()\n"
   ]
  },
  {
   "cell_type": "code",
   "execution_count": 64,
   "metadata": {},
   "outputs": [
    {
     "data": {
      "text/plain": [
       "array(['Alberta', 'Britishcolumbia', 'Canada', 'Manitoba', 'Newbrunswick',\n",
       "       'Newfoundlandandlabrador', 'Novascotia', 'Ontario',\n",
       "       'Princeedwardisland', 'Quebec', 'Saskatchewan'], dtype=object)"
      ]
     },
     "execution_count": 64,
     "metadata": {},
     "output_type": "execute_result"
    },
    {
     "data": {
      "text/plain": [
       "0            Alberta\n",
       "1            Alberta\n",
       "2            Alberta\n",
       "3            Alberta\n",
       "4            Alberta\n",
       "            ...     \n",
       "1887    Saskatchewan\n",
       "1888    Saskatchewan\n",
       "1889    Saskatchewan\n",
       "1890    Saskatchewan\n",
       "1891    Saskatchewan\n",
       "Name: Position, Length: 1892, dtype: object"
      ]
     },
     "execution_count": 64,
     "metadata": {},
     "output_type": "execute_result"
    }
   ],
   "source": [
    "# show the unique values in the column 'Position'\n",
    "weekly_earnings_pivot_cleaned.Position.unique()\n",
    "weekly_earnings_pivot_cleaned.Position"
   ]
  },
  {
   "cell_type": "code",
   "execution_count": 65,
   "metadata": {},
   "outputs": [
    {
     "data": {
      "text/plain": [
       "(1892, 8)"
      ]
     },
     "execution_count": 65,
     "metadata": {},
     "output_type": "execute_result"
    },
    {
     "data": {
      "text/html": [
       "<div>\n",
       "<style scoped>\n",
       "    .dataframe tbody tr th:only-of-type {\n",
       "        vertical-align: middle;\n",
       "    }\n",
       "\n",
       "    .dataframe tbody tr th {\n",
       "        vertical-align: top;\n",
       "    }\n",
       "\n",
       "    .dataframe thead th {\n",
       "        text-align: right;\n",
       "    }\n",
       "</style>\n",
       "<table border=\"1\" class=\"dataframe\">\n",
       "  <thead>\n",
       "    <tr style=\"text-align: right;\">\n",
       "      <th></th>\n",
       "      <th>Date</th>\n",
       "      <th>Position</th>\n",
       "      <th>Earnings</th>\n",
       "      <th>Year</th>\n",
       "      <th>Month</th>\n",
       "      <th>Day</th>\n",
       "      <th>Leap</th>\n",
       "      <th>Days</th>\n",
       "    </tr>\n",
       "  </thead>\n",
       "  <tbody>\n",
       "    <tr>\n",
       "      <th>0</th>\n",
       "      <td>2001-01-01</td>\n",
       "      <td>Alberta</td>\n",
       "      <td>2969.534286</td>\n",
       "      <td>2001</td>\n",
       "      <td>1</td>\n",
       "      <td>31</td>\n",
       "      <td>False</td>\n",
       "      <td>31</td>\n",
       "    </tr>\n",
       "    <tr>\n",
       "      <th>1</th>\n",
       "      <td>2001-02-01</td>\n",
       "      <td>Alberta</td>\n",
       "      <td>2682.080000</td>\n",
       "      <td>2001</td>\n",
       "      <td>2</td>\n",
       "      <td>28</td>\n",
       "      <td>False</td>\n",
       "      <td>28</td>\n",
       "    </tr>\n",
       "    <tr>\n",
       "      <th>2</th>\n",
       "      <td>2001-03-01</td>\n",
       "      <td>Alberta</td>\n",
       "      <td>2960.455714</td>\n",
       "      <td>2001</td>\n",
       "      <td>3</td>\n",
       "      <td>31</td>\n",
       "      <td>False</td>\n",
       "      <td>31</td>\n",
       "    </tr>\n",
       "    <tr>\n",
       "      <th>3</th>\n",
       "      <td>2001-04-01</td>\n",
       "      <td>Alberta</td>\n",
       "      <td>2878.757143</td>\n",
       "      <td>2001</td>\n",
       "      <td>4</td>\n",
       "      <td>30</td>\n",
       "      <td>False</td>\n",
       "      <td>30</td>\n",
       "    </tr>\n",
       "    <tr>\n",
       "      <th>4</th>\n",
       "      <td>2001-05-01</td>\n",
       "      <td>Alberta</td>\n",
       "      <td>2942.564286</td>\n",
       "      <td>2001</td>\n",
       "      <td>5</td>\n",
       "      <td>31</td>\n",
       "      <td>False</td>\n",
       "      <td>31</td>\n",
       "    </tr>\n",
       "  </tbody>\n",
       "</table>\n",
       "</div>"
      ],
      "text/plain": [
       "        Date Position     Earnings  Year  Month  Day   Leap  Days\n",
       "0 2001-01-01  Alberta  2969.534286  2001      1   31  False    31\n",
       "1 2001-02-01  Alberta  2682.080000  2001      2   28  False    28\n",
       "2 2001-03-01  Alberta  2960.455714  2001      3   31  False    31\n",
       "3 2001-04-01  Alberta  2878.757143  2001      4   30  False    30\n",
       "4 2001-05-01  Alberta  2942.564286  2001      5   31  False    31"
      ]
     },
     "execution_count": 65,
     "metadata": {},
     "output_type": "execute_result"
    },
    {
     "data": {
      "text/plain": [
       "array([31, 28, 30, 29])"
      ]
     },
     "execution_count": 65,
     "metadata": {},
     "output_type": "execute_result"
    }
   ],
   "source": [
    "\n",
    "# convert the weekly to monthly data, consider number of days in each month, and leap month. The leap month information can be get from the Date column, and calendar module.\n",
    "monthly_earnings_pivot_cleaned = weekly_earnings_pivot_cleaned.copy()\n",
    "\n",
    "# create a new column 'Year' from the Date column\n",
    "monthly_earnings_pivot_cleaned['Year'] = monthly_earnings_pivot_cleaned['Date'].dt.year\n",
    "\n",
    "# create a new column 'Month' from the Date column\n",
    "monthly_earnings_pivot_cleaned['Month'] = monthly_earnings_pivot_cleaned['Date'].dt.month\n",
    "\n",
    "# create a new column 'Days' from the Date column\n",
    "monthly_earnings_pivot_cleaned['Day'] = monthly_earnings_pivot_cleaned['Date'].dt.days_in_month\n",
    "\n",
    "# create a new column 'Leap' from the Date column\n",
    "monthly_earnings_pivot_cleaned['Leap'] = monthly_earnings_pivot_cleaned['Date'].dt.is_leap_year\n",
    "\n",
    "# create a new column 'Days' from the Date column\n",
    "monthly_earnings_pivot_cleaned['Days'] = monthly_earnings_pivot_cleaned['Date'].dt.days_in_month\n",
    "\n",
    "# Monthly Earnings = Weekly Earnings/7 * Days in the month\n",
    "monthly_earnings_pivot_cleaned['Earnings'] = monthly_earnings_pivot_cleaned['Earnings']/7 * monthly_earnings_pivot_cleaned['Days']\n",
    "\n",
    "monthly_earnings_pivot_cleaned.shape\n",
    "monthly_earnings_pivot_cleaned.head()\n",
    "\n",
    "monthly_earnings_pivot_cleaned['Days'].unique()"
   ]
  },
  {
   "cell_type": "code",
   "execution_count": 66,
   "metadata": {},
   "outputs": [],
   "source": [
    "# Drop the columns: Year  Month  Day   Leap  Days\n",
    "monthly_earnings_pivot_cleaned.drop(['Year', 'Month', 'Day', 'Leap', 'Days'], axis=1, inplace=True)"
   ]
  },
  {
   "cell_type": "code",
   "execution_count": 67,
   "metadata": {},
   "outputs": [
    {
     "data": {
      "text/plain": [
       "array(['Alberta', 'Britishcolumbia', 'Canada', 'Manitoba', 'Newbrunswick',\n",
       "       'Newfoundlandandlabrador', 'Novascotia', 'Ontario',\n",
       "       'Princeedwardisland', 'Quebec', 'Saskatchewan'], dtype=object)"
      ]
     },
     "execution_count": 67,
     "metadata": {},
     "output_type": "execute_result"
    }
   ],
   "source": [
    "monthly_earnings_pivot_cleaned.Position.unique()"
   ]
  },
  {
   "cell_type": "code",
   "execution_count": 68,
   "metadata": {},
   "outputs": [
    {
     "data": {
      "text/plain": [
       "array(['Alberta', 'British Columbia', 'Canada', 'Manitoba',\n",
       "       'Newbrunswick', 'Newfoundland and Labrador', 'Novascotia',\n",
       "       'Ontario', 'Prince Edward Island', 'Quebec', 'Saskatchewan'],\n",
       "      dtype=object)"
      ]
     },
     "execution_count": 68,
     "metadata": {},
     "output_type": "execute_result"
    }
   ],
   "source": [
    "# Rename the values in the column 'Position'\n",
    "# Britishcolumbia -> British Columbia\n",
    "# Newfoundlandandlabrador -> Newfoundland and Labrador\n",
    "# Northwestterritories -> Northwest Territories\n",
    "# Princeedwardisland -> Prince Edward Island\n",
    "\n",
    "# rename the values in the column 'Position'\n",
    "monthly_earnings_pivot_cleaned['Position'] = monthly_earnings_pivot_cleaned['Position'].str.replace('Britishcolumbia', 'British Columbia')\n",
    "monthly_earnings_pivot_cleaned['Position'] = monthly_earnings_pivot_cleaned['Position'].str.replace('Newfoundlandandlabrador', 'Newfoundland and Labrador')\n",
    "monthly_earnings_pivot_cleaned['Position'] = monthly_earnings_pivot_cleaned['Position'].str.replace('Northwestterritories', 'Northwest Territories')\n",
    "monthly_earnings_pivot_cleaned['Position'] = monthly_earnings_pivot_cleaned['Position'].str.replace('Princeedwardisland', 'Prince Edward Island')\n",
    "\n",
    "monthly_earnings_pivot_cleaned.Position.unique()"
   ]
  },
  {
   "cell_type": "code",
   "execution_count": 69,
   "metadata": {},
   "outputs": [
    {
     "data": {
      "text/plain": [
       "array([2001, 2002, 2003, 2004, 2005, 2006, 2007, 2008, 2009, 2010, 2011,\n",
       "       2012, 2013, 2014, 2015])"
      ]
     },
     "execution_count": 69,
     "metadata": {},
     "output_type": "execute_result"
    },
    {
     "data": {
      "text/plain": [
       "array([1, 2, 3, 4])"
      ]
     },
     "execution_count": 69,
     "metadata": {},
     "output_type": "execute_result"
    },
    {
     "data": {
      "text/plain": [
       "array([ 1,  2,  3,  4,  5,  6,  7,  8,  9, 10, 11, 12])"
      ]
     },
     "execution_count": 69,
     "metadata": {},
     "output_type": "execute_result"
    },
    {
     "name": "stderr",
     "output_type": "stream",
     "text": [
      "/var/folders/2z/xnw84j3s6677slw3jh12jk_c0000gp/T/ipykernel_65901/1332230082.py:5: FutureWarning: Series.dt.weekofyear and Series.dt.week have been deprecated. Please use Series.dt.isocalendar().week instead.\n",
      "  monthly_earnings_pivot_cleaned.Date.dt.week.unique()\n"
     ]
    },
    {
     "data": {
      "text/plain": [
       "array([ 1,  5,  9, 13, 18, 22, 26, 31, 35, 40, 44, 48, 14, 27, 36, 49, 10,\n",
       "       23, 45, 53, 17, 39, 52, 30])"
      ]
     },
     "execution_count": 69,
     "metadata": {},
     "output_type": "execute_result"
    },
    {
     "data": {
      "text/plain": [
       "array([1])"
      ]
     },
     "execution_count": 69,
     "metadata": {},
     "output_type": "execute_result"
    },
    {
     "data": {
      "text/plain": [
       "0   2001-01-01\n",
       "1   2001-02-01\n",
       "2   2001-03-01\n",
       "3   2001-04-01\n",
       "4   2001-05-01\n",
       "Name: Date, dtype: datetime64[ns]"
      ]
     },
     "execution_count": 69,
     "metadata": {},
     "output_type": "execute_result"
    }
   ],
   "source": [
    "# estimate the precision of the values in Date column, in year, quarter, month, week, or day?\n",
    "monthly_earnings_pivot_cleaned.Date.dt.year.unique()\n",
    "monthly_earnings_pivot_cleaned.Date.dt.quarter.unique()\n",
    "monthly_earnings_pivot_cleaned.Date.dt.month.unique()\n",
    "monthly_earnings_pivot_cleaned.Date.dt.week.unique()\n",
    "monthly_earnings_pivot_cleaned.Date.dt.day.unique()\n",
    "\n",
    "# head of Date column:\n",
    "monthly_earnings_pivot_cleaned.Date.head()"
   ]
  },
  {
   "cell_type": "code",
   "execution_count": 70,
   "metadata": {},
   "outputs": [],
   "source": [
    "# Date       -> 'Date (Month) Monthly Earnings'\n",
    "# Position   -> 'Province'\n",
    "# Earnings   -> 'Earnings'\n",
    "\n",
    "# rename the column names: \n",
    "monthly_earnings_pivot_cleaned.rename(columns={'Date': 'Date (Month) M.E.', 'Position': 'Province (inc. Canada) (M.E.)', 'Earnings': 'Monthly Earnings'}, inplace=True)\n",
    "\n"
   ]
  },
  {
   "cell_type": "code",
   "execution_count": 71,
   "metadata": {},
   "outputs": [],
   "source": [
    "# write the monthly_earnings_pivot_cleaned to a csv file, under the data_cleaned folder\n",
    "monthly_earnings_pivot_cleaned.to_csv('data_cleaned/monthly_earnings_pivot_cleaned.csv', index=False)"
   ]
  },
  {
   "attachments": {},
   "cell_type": "markdown",
   "metadata": {},
   "source": [
    "## Read the csv file 'real_estate_numbers.csv' and convert the date to datetime format"
   ]
  },
  {
   "cell_type": "code",
   "execution_count": 72,
   "metadata": {},
   "outputs": [
    {
     "data": {
      "text/plain": [
       "['consumer_index.csv',\n",
       " 'housing_price_index.csv',\n",
       " 'office_realestate_index.csv',\n",
       " 'real_estate_numbers.csv',\n",
       " 'real_estate_prices_all_cleaned.csv',\n",
       " 'weekly_earnings.csv']"
      ]
     },
     "execution_count": 72,
     "metadata": {},
     "output_type": "execute_result"
    }
   ],
   "source": [
    "csv_files"
   ]
  },
  {
   "cell_type": "code",
   "execution_count": 73,
   "metadata": {},
   "outputs": [
    {
     "data": {
      "text/plain": [
       "(12342, 16)"
      ]
     },
     "execution_count": 73,
     "metadata": {},
     "output_type": "execute_result"
    },
    {
     "data": {
      "text/plain": [
       "Ref Date               int64\n",
       "Geo                   object\n",
       "Dguid                 object\n",
       "Housing Estimates     object\n",
       "Type Of Unit          object\n",
       "Uom                   object\n",
       "Uom Id                 int64\n",
       "Scalar Factor         object\n",
       "Scalar Id              int64\n",
       "Vector                object\n",
       "Coordinate            object\n",
       "Value                  int64\n",
       "Status               float64\n",
       "Symbol               float64\n",
       "Terminated           float64\n",
       "Decimals               int64\n",
       "dtype: object"
      ]
     },
     "execution_count": 73,
     "metadata": {},
     "output_type": "execute_result"
    },
    {
     "data": {
      "text/html": [
       "<div>\n",
       "<style scoped>\n",
       "    .dataframe tbody tr th:only-of-type {\n",
       "        vertical-align: middle;\n",
       "    }\n",
       "\n",
       "    .dataframe tbody tr th {\n",
       "        vertical-align: top;\n",
       "    }\n",
       "\n",
       "    .dataframe thead th {\n",
       "        text-align: right;\n",
       "    }\n",
       "</style>\n",
       "<table border=\"1\" class=\"dataframe\">\n",
       "  <thead>\n",
       "    <tr style=\"text-align: right;\">\n",
       "      <th></th>\n",
       "      <th>Ref Date</th>\n",
       "      <th>Geo</th>\n",
       "      <th>Dguid</th>\n",
       "      <th>Housing Estimates</th>\n",
       "      <th>Type Of Unit</th>\n",
       "      <th>Uom</th>\n",
       "      <th>Uom Id</th>\n",
       "      <th>Scalar Factor</th>\n",
       "      <th>Scalar Id</th>\n",
       "      <th>Vector</th>\n",
       "      <th>Coordinate</th>\n",
       "      <th>Value</th>\n",
       "      <th>Status</th>\n",
       "      <th>Symbol</th>\n",
       "      <th>Terminated</th>\n",
       "      <th>Decimals</th>\n",
       "    </tr>\n",
       "  </thead>\n",
       "  <tbody>\n",
       "    <tr>\n",
       "      <th>0</th>\n",
       "      <td>1955</td>\n",
       "      <td>Canada</td>\n",
       "      <td>2016A000011124</td>\n",
       "      <td>Housing starts</td>\n",
       "      <td>Total units</td>\n",
       "      <td>Units</td>\n",
       "      <td>300</td>\n",
       "      <td>units</td>\n",
       "      <td>0</td>\n",
       "      <td>v730579</td>\n",
       "      <td>1.1.1</td>\n",
       "      <td>138276</td>\n",
       "      <td>NaN</td>\n",
       "      <td>NaN</td>\n",
       "      <td>NaN</td>\n",
       "      <td>0</td>\n",
       "    </tr>\n",
       "    <tr>\n",
       "      <th>1</th>\n",
       "      <td>1955</td>\n",
       "      <td>Canada</td>\n",
       "      <td>2016A000011124</td>\n",
       "      <td>Housing starts</td>\n",
       "      <td>Single-detached</td>\n",
       "      <td>Units</td>\n",
       "      <td>300</td>\n",
       "      <td>units</td>\n",
       "      <td>0</td>\n",
       "      <td>v730524</td>\n",
       "      <td>1.1.2</td>\n",
       "      <td>99003</td>\n",
       "      <td>NaN</td>\n",
       "      <td>NaN</td>\n",
       "      <td>NaN</td>\n",
       "      <td>0</td>\n",
       "    </tr>\n",
       "    <tr>\n",
       "      <th>2</th>\n",
       "      <td>1955</td>\n",
       "      <td>Canada</td>\n",
       "      <td>2016A000011124</td>\n",
       "      <td>Housing starts</td>\n",
       "      <td>Multiples</td>\n",
       "      <td>Units</td>\n",
       "      <td>300</td>\n",
       "      <td>units</td>\n",
       "      <td>0</td>\n",
       "      <td>v730568</td>\n",
       "      <td>1.1.4</td>\n",
       "      <td>39273</td>\n",
       "      <td>NaN</td>\n",
       "      <td>NaN</td>\n",
       "      <td>NaN</td>\n",
       "      <td>0</td>\n",
       "    </tr>\n",
       "    <tr>\n",
       "      <th>3</th>\n",
       "      <td>1955</td>\n",
       "      <td>Canada</td>\n",
       "      <td>2016A000011124</td>\n",
       "      <td>Housing starts</td>\n",
       "      <td>Semi-detached</td>\n",
       "      <td>Units</td>\n",
       "      <td>300</td>\n",
       "      <td>units</td>\n",
       "      <td>0</td>\n",
       "      <td>v730535</td>\n",
       "      <td>1.1.3</td>\n",
       "      <td>10606</td>\n",
       "      <td>NaN</td>\n",
       "      <td>NaN</td>\n",
       "      <td>NaN</td>\n",
       "      <td>0</td>\n",
       "    </tr>\n",
       "    <tr>\n",
       "      <th>4</th>\n",
       "      <td>1955</td>\n",
       "      <td>Canada</td>\n",
       "      <td>2016A000011124</td>\n",
       "      <td>Housing starts</td>\n",
       "      <td>Row</td>\n",
       "      <td>Units</td>\n",
       "      <td>300</td>\n",
       "      <td>units</td>\n",
       "      <td>0</td>\n",
       "      <td>v730546</td>\n",
       "      <td>1.1.5</td>\n",
       "      <td>1909</td>\n",
       "      <td>NaN</td>\n",
       "      <td>NaN</td>\n",
       "      <td>NaN</td>\n",
       "      <td>0</td>\n",
       "    </tr>\n",
       "  </tbody>\n",
       "</table>\n",
       "</div>"
      ],
      "text/plain": [
       "   Ref Date     Geo           Dguid Housing Estimates     Type Of Unit    Uom  \\\n",
       "0      1955  Canada  2016A000011124    Housing starts      Total units  Units   \n",
       "1      1955  Canada  2016A000011124    Housing starts  Single-detached  Units   \n",
       "2      1955  Canada  2016A000011124    Housing starts        Multiples  Units   \n",
       "3      1955  Canada  2016A000011124    Housing starts    Semi-detached  Units   \n",
       "4      1955  Canada  2016A000011124    Housing starts              Row  Units   \n",
       "\n",
       "   Uom Id Scalar Factor  Scalar Id   Vector Coordinate   Value  Status  \\\n",
       "0     300        units           0  v730579      1.1.1  138276     NaN   \n",
       "1     300        units           0  v730524      1.1.2   99003     NaN   \n",
       "2     300        units           0  v730568      1.1.4   39273     NaN   \n",
       "3     300        units           0  v730535      1.1.3   10606     NaN   \n",
       "4     300        units           0  v730546      1.1.5    1909     NaN   \n",
       "\n",
       "   Symbol  Terminated  Decimals  \n",
       "0     NaN         NaN         0  \n",
       "1     NaN         NaN         0  \n",
       "2     NaN         NaN         0  \n",
       "3     NaN         NaN         0  \n",
       "4     NaN         NaN         0  "
      ]
     },
     "execution_count": 73,
     "metadata": {},
     "output_type": "execute_result"
    },
    {
     "data": {
      "text/plain": [
       "Ref Date                 0\n",
       "Geo                      0\n",
       "Dguid                    0\n",
       "Housing Estimates        0\n",
       "Type Of Unit             0\n",
       "Uom                      0\n",
       "Uom Id                   0\n",
       "Scalar Factor            0\n",
       "Scalar Id                0\n",
       "Vector                   0\n",
       "Coordinate               0\n",
       "Value                    0\n",
       "Status               12342\n",
       "Symbol               12342\n",
       "Terminated           12342\n",
       "Decimals                 0\n",
       "dtype: int64"
      ]
     },
     "execution_count": 73,
     "metadata": {},
     "output_type": "execute_result"
    },
    {
     "data": {
      "text/plain": [
       "Ref Date             0\n",
       "Geo                  0\n",
       "Dguid                0\n",
       "Housing Estimates    0\n",
       "Type Of Unit         0\n",
       "Uom                  0\n",
       "Uom Id               0\n",
       "Scalar Factor        0\n",
       "Scalar Id            0\n",
       "Vector               0\n",
       "Coordinate           0\n",
       "Value                0\n",
       "Decimals             0\n",
       "dtype: int64"
      ]
     },
     "execution_count": 73,
     "metadata": {},
     "output_type": "execute_result"
    }
   ],
   "source": [
    "# read the csv file: real_estate_numbers.csv\n",
    "real_estate_numbers = pd.read_csv('data/real_estate_numbers.csv')\n",
    "\n",
    "# convert the column names to title case and replace the under score with space\n",
    "real_estate_numbers.columns = real_estate_numbers.columns.str.title().str.replace('_', ' ')\n",
    "\n",
    "\n",
    "real_estate_numbers.shape\n",
    "real_estate_numbers.dtypes\n",
    "real_estate_numbers.head()\n",
    "real_estate_numbers.isnull().sum()\n",
    "\n",
    "\n",
    "# drop the columns: They are all blanks\n",
    "# Status               12342\n",
    "# Symbol               12342\n",
    "# Terminated           12342\n",
    "real_estate_numbers.drop(['Status', 'Symbol', 'Terminated'], axis=1, inplace=True)\n",
    "real_estate_numbers.isnull().sum()"
   ]
  },
  {
   "cell_type": "code",
   "execution_count": 74,
   "metadata": {},
   "outputs": [],
   "source": [
    "# make a copy of the dataframe:\n",
    "real_estate_numbers_cleaned = real_estate_numbers.copy()"
   ]
  },
  {
   "cell_type": "code",
   "execution_count": 75,
   "metadata": {},
   "outputs": [
    {
     "data": {
      "text/plain": [
       "Ref Date              int64\n",
       "Geo                  object\n",
       "Dguid                object\n",
       "Housing Estimates    object\n",
       "Type Of Unit         object\n",
       "Uom                  object\n",
       "Uom Id               object\n",
       "Scalar Factor        object\n",
       "Scalar Id            object\n",
       "Vector               object\n",
       "Coordinate           object\n",
       "Value                 int64\n",
       "Decimals              int64\n",
       "dtype: object"
      ]
     },
     "execution_count": 75,
     "metadata": {},
     "output_type": "execute_result"
    }
   ],
   "source": [
    "# Convert type:\n",
    "# Uom Id to object\n",
    "# Scalar Id to object\n",
    "\n",
    "real_estate_numbers_cleaned['Uom Id'] = real_estate_numbers_cleaned['Uom Id'].astype('object')\n",
    "real_estate_numbers_cleaned['Scalar Id'] = real_estate_numbers_cleaned['Scalar Id'].astype('object')\n",
    "real_estate_numbers_cleaned.dtypes\n"
   ]
  },
  {
   "cell_type": "code",
   "execution_count": 76,
   "metadata": {},
   "outputs": [
    {
     "data": {
      "text/plain": [
       "0    1955\n",
       "1    1955\n",
       "2    1955\n",
       "3    1955\n",
       "4    1955\n",
       "Name: Ref Date, dtype: int64"
      ]
     },
     "execution_count": 76,
     "metadata": {},
     "output_type": "execute_result"
    }
   ],
   "source": [
    "real_estate_numbers_cleaned['Ref Date'].head()"
   ]
  },
  {
   "cell_type": "code",
   "execution_count": 77,
   "metadata": {},
   "outputs": [
    {
     "data": {
      "text/html": [
       "<div>\n",
       "<style scoped>\n",
       "    .dataframe tbody tr th:only-of-type {\n",
       "        vertical-align: middle;\n",
       "    }\n",
       "\n",
       "    .dataframe tbody tr th {\n",
       "        vertical-align: top;\n",
       "    }\n",
       "\n",
       "    .dataframe thead th {\n",
       "        text-align: right;\n",
       "    }\n",
       "</style>\n",
       "<table border=\"1\" class=\"dataframe\">\n",
       "  <thead>\n",
       "    <tr style=\"text-align: right;\">\n",
       "      <th></th>\n",
       "      <th>Ref Date</th>\n",
       "      <th>Geo</th>\n",
       "      <th>Dguid</th>\n",
       "      <th>Housing Estimates</th>\n",
       "      <th>Type Of Unit</th>\n",
       "      <th>Uom</th>\n",
       "      <th>Uom Id</th>\n",
       "      <th>Scalar Factor</th>\n",
       "      <th>Scalar Id</th>\n",
       "      <th>Vector</th>\n",
       "      <th>Coordinate</th>\n",
       "      <th>Value</th>\n",
       "      <th>Decimals</th>\n",
       "    </tr>\n",
       "  </thead>\n",
       "  <tbody>\n",
       "    <tr>\n",
       "      <th>0</th>\n",
       "      <td>1955-01-01</td>\n",
       "      <td>Canada</td>\n",
       "      <td>2016A000011124</td>\n",
       "      <td>Housing starts</td>\n",
       "      <td>Total units</td>\n",
       "      <td>Units</td>\n",
       "      <td>300</td>\n",
       "      <td>units</td>\n",
       "      <td>0</td>\n",
       "      <td>v730579</td>\n",
       "      <td>1.1.1</td>\n",
       "      <td>138276</td>\n",
       "      <td>0</td>\n",
       "    </tr>\n",
       "    <tr>\n",
       "      <th>1</th>\n",
       "      <td>1955-01-01</td>\n",
       "      <td>Canada</td>\n",
       "      <td>2016A000011124</td>\n",
       "      <td>Housing starts</td>\n",
       "      <td>Single-detached</td>\n",
       "      <td>Units</td>\n",
       "      <td>300</td>\n",
       "      <td>units</td>\n",
       "      <td>0</td>\n",
       "      <td>v730524</td>\n",
       "      <td>1.1.2</td>\n",
       "      <td>99003</td>\n",
       "      <td>0</td>\n",
       "    </tr>\n",
       "    <tr>\n",
       "      <th>2</th>\n",
       "      <td>1955-01-01</td>\n",
       "      <td>Canada</td>\n",
       "      <td>2016A000011124</td>\n",
       "      <td>Housing starts</td>\n",
       "      <td>Multiples</td>\n",
       "      <td>Units</td>\n",
       "      <td>300</td>\n",
       "      <td>units</td>\n",
       "      <td>0</td>\n",
       "      <td>v730568</td>\n",
       "      <td>1.1.4</td>\n",
       "      <td>39273</td>\n",
       "      <td>0</td>\n",
       "    </tr>\n",
       "    <tr>\n",
       "      <th>3</th>\n",
       "      <td>1955-01-01</td>\n",
       "      <td>Canada</td>\n",
       "      <td>2016A000011124</td>\n",
       "      <td>Housing starts</td>\n",
       "      <td>Semi-detached</td>\n",
       "      <td>Units</td>\n",
       "      <td>300</td>\n",
       "      <td>units</td>\n",
       "      <td>0</td>\n",
       "      <td>v730535</td>\n",
       "      <td>1.1.3</td>\n",
       "      <td>10606</td>\n",
       "      <td>0</td>\n",
       "    </tr>\n",
       "    <tr>\n",
       "      <th>4</th>\n",
       "      <td>1955-01-01</td>\n",
       "      <td>Canada</td>\n",
       "      <td>2016A000011124</td>\n",
       "      <td>Housing starts</td>\n",
       "      <td>Row</td>\n",
       "      <td>Units</td>\n",
       "      <td>300</td>\n",
       "      <td>units</td>\n",
       "      <td>0</td>\n",
       "      <td>v730546</td>\n",
       "      <td>1.1.5</td>\n",
       "      <td>1909</td>\n",
       "      <td>0</td>\n",
       "    </tr>\n",
       "  </tbody>\n",
       "</table>\n",
       "</div>"
      ],
      "text/plain": [
       "    Ref Date     Geo           Dguid Housing Estimates     Type Of Unit  \\\n",
       "0 1955-01-01  Canada  2016A000011124    Housing starts      Total units   \n",
       "1 1955-01-01  Canada  2016A000011124    Housing starts  Single-detached   \n",
       "2 1955-01-01  Canada  2016A000011124    Housing starts        Multiples   \n",
       "3 1955-01-01  Canada  2016A000011124    Housing starts    Semi-detached   \n",
       "4 1955-01-01  Canada  2016A000011124    Housing starts              Row   \n",
       "\n",
       "     Uom Uom Id Scalar Factor Scalar Id   Vector Coordinate   Value  Decimals  \n",
       "0  Units    300        units          0  v730579      1.1.1  138276         0  \n",
       "1  Units    300        units          0  v730524      1.1.2   99003         0  \n",
       "2  Units    300        units          0  v730568      1.1.4   39273         0  \n",
       "3  Units    300        units          0  v730535      1.1.3   10606         0  \n",
       "4  Units    300        units          0  v730546      1.1.5    1909         0  "
      ]
     },
     "execution_count": 77,
     "metadata": {},
     "output_type": "execute_result"
    }
   ],
   "source": [
    "# convert the Ref Date to datetime format, the existing format is: 1955 \n",
    "real_estate_numbers_cleaned['Ref Date'] = pd.to_datetime(real_estate_numbers['Ref Date'], format='%Y')\n",
    "real_estate_numbers_cleaned.head()"
   ]
  },
  {
   "cell_type": "code",
   "execution_count": 78,
   "metadata": {},
   "outputs": [],
   "source": [
    "# Rename 'Ref Date' to 'Date'\n",
    "real_estate_numbers_cleaned.rename(columns={'Ref Date': 'Date'}, inplace=True)"
   ]
  },
  {
   "cell_type": "code",
   "execution_count": 79,
   "metadata": {},
   "outputs": [
    {
     "data": {
      "text/plain": [
       "array([1955, 1956, 1957, 1958, 1959, 1960, 1961, 1962, 1963, 1964, 1965,\n",
       "       1966, 1967, 1968, 1969, 1970, 1971, 1972, 1973, 1974, 1975, 1976,\n",
       "       1977, 1978, 1979, 1980, 1981, 1982, 1983, 1984, 1985, 1986, 1987,\n",
       "       1988, 1989, 1990, 1991, 1992, 1993, 1994, 1995, 1996, 1997, 1998,\n",
       "       1999, 2000, 2001, 2002, 2003, 2004, 2005, 2006, 2007, 2008, 2009,\n",
       "       2010, 2011, 2012, 2013, 2014, 2015, 2016, 2017, 2018, 2019])"
      ]
     },
     "execution_count": 79,
     "metadata": {},
     "output_type": "execute_result"
    },
    {
     "data": {
      "text/plain": [
       "array([1])"
      ]
     },
     "execution_count": 79,
     "metadata": {},
     "output_type": "execute_result"
    },
    {
     "data": {
      "text/plain": [
       "array([1])"
      ]
     },
     "execution_count": 79,
     "metadata": {},
     "output_type": "execute_result"
    },
    {
     "name": "stderr",
     "output_type": "stream",
     "text": [
      "/var/folders/2z/xnw84j3s6677slw3jh12jk_c0000gp/T/ipykernel_65901/2395677106.py:5: FutureWarning: Series.dt.weekofyear and Series.dt.week have been deprecated. Please use Series.dt.isocalendar().week instead.\n",
      "  real_estate_numbers_cleaned.Date.dt.week.unique()\n"
     ]
    },
    {
     "data": {
      "text/plain": [
       "array([52,  1, 53])"
      ]
     },
     "execution_count": 79,
     "metadata": {},
     "output_type": "execute_result"
    },
    {
     "data": {
      "text/plain": [
       "array([1])"
      ]
     },
     "execution_count": 79,
     "metadata": {},
     "output_type": "execute_result"
    }
   ],
   "source": [
    "# check the precision of the Date column: year, quarter, month, week, or day?\n",
    "real_estate_numbers_cleaned.Date.dt.year.unique()\n",
    "real_estate_numbers_cleaned.Date.dt.quarter.unique()\n",
    "real_estate_numbers_cleaned.Date.dt.month.unique()\n",
    "real_estate_numbers_cleaned.Date.dt.week.unique()\n",
    "real_estate_numbers_cleaned.Date.dt.day.unique()"
   ]
  },
  {
   "cell_type": "code",
   "execution_count": 80,
   "metadata": {},
   "outputs": [
    {
     "name": "stderr",
     "output_type": "stream",
     "text": [
      "/var/folders/2z/xnw84j3s6677slw3jh12jk_c0000gp/T/ipykernel_65901/2394155096.py:2: FutureWarning: Series.dt.weekofyear and Series.dt.week have been deprecated. Please use Series.dt.isocalendar().week instead.\n",
      "  real_estate_numbers_cleaned[real_estate_numbers_cleaned.Date.dt.week != 1]\n"
     ]
    },
    {
     "data": {
      "text/html": [
       "<div>\n",
       "<style scoped>\n",
       "    .dataframe tbody tr th:only-of-type {\n",
       "        vertical-align: middle;\n",
       "    }\n",
       "\n",
       "    .dataframe tbody tr th {\n",
       "        vertical-align: top;\n",
       "    }\n",
       "\n",
       "    .dataframe thead th {\n",
       "        text-align: right;\n",
       "    }\n",
       "</style>\n",
       "<table border=\"1\" class=\"dataframe\">\n",
       "  <thead>\n",
       "    <tr style=\"text-align: right;\">\n",
       "      <th></th>\n",
       "      <th>Date</th>\n",
       "      <th>Geo</th>\n",
       "      <th>Dguid</th>\n",
       "      <th>Housing Estimates</th>\n",
       "      <th>Type Of Unit</th>\n",
       "      <th>Uom</th>\n",
       "      <th>Uom Id</th>\n",
       "      <th>Scalar Factor</th>\n",
       "      <th>Scalar Id</th>\n",
       "      <th>Vector</th>\n",
       "      <th>Coordinate</th>\n",
       "      <th>Value</th>\n",
       "      <th>Decimals</th>\n",
       "    </tr>\n",
       "  </thead>\n",
       "  <tbody>\n",
       "    <tr>\n",
       "      <th>0</th>\n",
       "      <td>1955-01-01</td>\n",
       "      <td>Canada</td>\n",
       "      <td>2016A000011124</td>\n",
       "      <td>Housing starts</td>\n",
       "      <td>Total units</td>\n",
       "      <td>Units</td>\n",
       "      <td>300</td>\n",
       "      <td>units</td>\n",
       "      <td>0</td>\n",
       "      <td>v730579</td>\n",
       "      <td>1.1.1</td>\n",
       "      <td>138276</td>\n",
       "      <td>0</td>\n",
       "    </tr>\n",
       "    <tr>\n",
       "      <th>1</th>\n",
       "      <td>1955-01-01</td>\n",
       "      <td>Canada</td>\n",
       "      <td>2016A000011124</td>\n",
       "      <td>Housing starts</td>\n",
       "      <td>Single-detached</td>\n",
       "      <td>Units</td>\n",
       "      <td>300</td>\n",
       "      <td>units</td>\n",
       "      <td>0</td>\n",
       "      <td>v730524</td>\n",
       "      <td>1.1.2</td>\n",
       "      <td>99003</td>\n",
       "      <td>0</td>\n",
       "    </tr>\n",
       "    <tr>\n",
       "      <th>2</th>\n",
       "      <td>1955-01-01</td>\n",
       "      <td>Canada</td>\n",
       "      <td>2016A000011124</td>\n",
       "      <td>Housing starts</td>\n",
       "      <td>Multiples</td>\n",
       "      <td>Units</td>\n",
       "      <td>300</td>\n",
       "      <td>units</td>\n",
       "      <td>0</td>\n",
       "      <td>v730568</td>\n",
       "      <td>1.1.4</td>\n",
       "      <td>39273</td>\n",
       "      <td>0</td>\n",
       "    </tr>\n",
       "    <tr>\n",
       "      <th>3</th>\n",
       "      <td>1955-01-01</td>\n",
       "      <td>Canada</td>\n",
       "      <td>2016A000011124</td>\n",
       "      <td>Housing starts</td>\n",
       "      <td>Semi-detached</td>\n",
       "      <td>Units</td>\n",
       "      <td>300</td>\n",
       "      <td>units</td>\n",
       "      <td>0</td>\n",
       "      <td>v730535</td>\n",
       "      <td>1.1.3</td>\n",
       "      <td>10606</td>\n",
       "      <td>0</td>\n",
       "    </tr>\n",
       "    <tr>\n",
       "      <th>4</th>\n",
       "      <td>1955-01-01</td>\n",
       "      <td>Canada</td>\n",
       "      <td>2016A000011124</td>\n",
       "      <td>Housing starts</td>\n",
       "      <td>Row</td>\n",
       "      <td>Units</td>\n",
       "      <td>300</td>\n",
       "      <td>units</td>\n",
       "      <td>0</td>\n",
       "      <td>v730546</td>\n",
       "      <td>1.1.5</td>\n",
       "      <td>1909</td>\n",
       "      <td>0</td>\n",
       "    </tr>\n",
       "    <tr>\n",
       "      <th>...</th>\n",
       "      <td>...</td>\n",
       "      <td>...</td>\n",
       "      <td>...</td>\n",
       "      <td>...</td>\n",
       "      <td>...</td>\n",
       "      <td>...</td>\n",
       "      <td>...</td>\n",
       "      <td>...</td>\n",
       "      <td>...</td>\n",
       "      <td>...</td>\n",
       "      <td>...</td>\n",
       "      <td>...</td>\n",
       "      <td>...</td>\n",
       "    </tr>\n",
       "    <tr>\n",
       "      <th>11941</th>\n",
       "      <td>2017-01-01</td>\n",
       "      <td>British Columbia</td>\n",
       "      <td>2016A000259</td>\n",
       "      <td>Housing completions</td>\n",
       "      <td>Single-detached</td>\n",
       "      <td>Units</td>\n",
       "      <td>300</td>\n",
       "      <td>units</td>\n",
       "      <td>0</td>\n",
       "      <td>v732400</td>\n",
       "      <td>11.3.2</td>\n",
       "      <td>11052</td>\n",
       "      <td>0</td>\n",
       "    </tr>\n",
       "    <tr>\n",
       "      <th>11942</th>\n",
       "      <td>2017-01-01</td>\n",
       "      <td>British Columbia</td>\n",
       "      <td>2016A000259</td>\n",
       "      <td>Housing completions</td>\n",
       "      <td>Multiples</td>\n",
       "      <td>Units</td>\n",
       "      <td>300</td>\n",
       "      <td>units</td>\n",
       "      <td>0</td>\n",
       "      <td>v732444</td>\n",
       "      <td>11.3.4</td>\n",
       "      <td>22453</td>\n",
       "      <td>0</td>\n",
       "    </tr>\n",
       "    <tr>\n",
       "      <th>11943</th>\n",
       "      <td>2017-01-01</td>\n",
       "      <td>British Columbia</td>\n",
       "      <td>2016A000259</td>\n",
       "      <td>Housing completions</td>\n",
       "      <td>Semi-detached</td>\n",
       "      <td>Units</td>\n",
       "      <td>300</td>\n",
       "      <td>units</td>\n",
       "      <td>0</td>\n",
       "      <td>v732411</td>\n",
       "      <td>11.3.3</td>\n",
       "      <td>1073</td>\n",
       "      <td>0</td>\n",
       "    </tr>\n",
       "    <tr>\n",
       "      <th>11944</th>\n",
       "      <td>2017-01-01</td>\n",
       "      <td>British Columbia</td>\n",
       "      <td>2016A000259</td>\n",
       "      <td>Housing completions</td>\n",
       "      <td>Row</td>\n",
       "      <td>Units</td>\n",
       "      <td>300</td>\n",
       "      <td>units</td>\n",
       "      <td>0</td>\n",
       "      <td>v732422</td>\n",
       "      <td>11.3.5</td>\n",
       "      <td>4241</td>\n",
       "      <td>0</td>\n",
       "    </tr>\n",
       "    <tr>\n",
       "      <th>11945</th>\n",
       "      <td>2017-01-01</td>\n",
       "      <td>British Columbia</td>\n",
       "      <td>2016A000259</td>\n",
       "      <td>Housing completions</td>\n",
       "      <td>Apartment and other unit types</td>\n",
       "      <td>Units</td>\n",
       "      <td>300</td>\n",
       "      <td>units</td>\n",
       "      <td>0</td>\n",
       "      <td>v732433</td>\n",
       "      <td>11.3.6</td>\n",
       "      <td>17139</td>\n",
       "      <td>0</td>\n",
       "    </tr>\n",
       "  </tbody>\n",
       "</table>\n",
       "<p>5280 rows × 13 columns</p>\n",
       "</div>"
      ],
      "text/plain": [
       "            Date               Geo           Dguid    Housing Estimates  \\\n",
       "0     1955-01-01            Canada  2016A000011124       Housing starts   \n",
       "1     1955-01-01            Canada  2016A000011124       Housing starts   \n",
       "2     1955-01-01            Canada  2016A000011124       Housing starts   \n",
       "3     1955-01-01            Canada  2016A000011124       Housing starts   \n",
       "4     1955-01-01            Canada  2016A000011124       Housing starts   \n",
       "...          ...               ...             ...                  ...   \n",
       "11941 2017-01-01  British Columbia     2016A000259  Housing completions   \n",
       "11942 2017-01-01  British Columbia     2016A000259  Housing completions   \n",
       "11943 2017-01-01  British Columbia     2016A000259  Housing completions   \n",
       "11944 2017-01-01  British Columbia     2016A000259  Housing completions   \n",
       "11945 2017-01-01  British Columbia     2016A000259  Housing completions   \n",
       "\n",
       "                         Type Of Unit    Uom Uom Id Scalar Factor Scalar Id  \\\n",
       "0                         Total units  Units    300        units          0   \n",
       "1                     Single-detached  Units    300        units          0   \n",
       "2                           Multiples  Units    300        units          0   \n",
       "3                       Semi-detached  Units    300        units          0   \n",
       "4                                 Row  Units    300        units          0   \n",
       "...                               ...    ...    ...           ...       ...   \n",
       "11941                 Single-detached  Units    300        units          0   \n",
       "11942                       Multiples  Units    300        units          0   \n",
       "11943                   Semi-detached  Units    300        units          0   \n",
       "11944                             Row  Units    300        units          0   \n",
       "11945  Apartment and other unit types  Units    300        units          0   \n",
       "\n",
       "        Vector Coordinate   Value  Decimals  \n",
       "0      v730579      1.1.1  138276         0  \n",
       "1      v730524      1.1.2   99003         0  \n",
       "2      v730568      1.1.4   39273         0  \n",
       "3      v730535      1.1.3   10606         0  \n",
       "4      v730546      1.1.5    1909         0  \n",
       "...        ...        ...     ...       ...  \n",
       "11941  v732400     11.3.2   11052         0  \n",
       "11942  v732444     11.3.4   22453         0  \n",
       "11943  v732411     11.3.3    1073         0  \n",
       "11944  v732422     11.3.5    4241         0  \n",
       "11945  v732433     11.3.6   17139         0  \n",
       "\n",
       "[5280 rows x 13 columns]"
      ]
     },
     "execution_count": 80,
     "metadata": {},
     "output_type": "execute_result"
    }
   ],
   "source": [
    "# find the rows where the date' dt.week is not 1\n",
    "real_estate_numbers_cleaned[real_estate_numbers_cleaned.Date.dt.week != 1]"
   ]
  },
  {
   "cell_type": "code",
   "execution_count": 81,
   "metadata": {},
   "outputs": [
    {
     "data": {
      "text/plain": [
       "array(['Canada', 'Newfoundland and Labrador', 'Prince Edward Island',\n",
       "       'Nova Scotia', 'New Brunswick', 'Quebec', 'Ontario', 'Manitoba',\n",
       "       'Saskatchewan', 'Alberta', 'British Columbia'], dtype=object)"
      ]
     },
     "execution_count": 81,
     "metadata": {},
     "output_type": "execute_result"
    }
   ],
   "source": [
    "# unique values in the column Geo\n",
    "real_estate_numbers_cleaned.Geo.unique()"
   ]
  },
  {
   "cell_type": "code",
   "execution_count": 82,
   "metadata": {},
   "outputs": [
    {
     "data": {
      "text/plain": [
       "array(['1.1.1', '1.1.2', '1.1.4', '1.1.3', '1.1.5', '1.1.6', '1.3.1',\n",
       "       '1.3.2', '1.3.4', '1.3.3', '1.3.5', '1.3.6', '2.1.1', '2.1.2',\n",
       "       '2.1.4', '2.1.3', '2.1.5', '2.1.6', '2.3.1', '2.3.2', '2.3.4',\n",
       "       '2.3.3', '2.3.5', '2.3.6', '3.1.1', '3.1.2', '3.1.4', '3.1.3',\n",
       "       '3.1.5', '3.1.6', '3.3.1', '3.3.2', '3.3.4', '3.3.3', '3.3.5',\n",
       "       '3.3.6', '4.1.1', '4.1.2', '4.1.4', '4.1.3', '4.1.5', '4.1.6',\n",
       "       '4.3.1', '4.3.2', '4.3.4', '4.3.3', '4.3.5', '4.3.6', '5.1.1',\n",
       "       '5.1.2', '5.1.4', '5.1.3', '5.1.5', '5.1.6', '5.3.1', '5.3.2',\n",
       "       '5.3.4', '5.3.3', '5.3.5', '5.3.6', '6.1.1', '6.1.2', '6.1.4',\n",
       "       '6.1.3', '6.1.5', '6.1.6', '6.3.1', '6.3.2', '6.3.4', '6.3.3',\n",
       "       '6.3.5', '6.3.6', '7.1.1', '7.1.2', '7.1.4', '7.1.3', '7.1.5',\n",
       "       '7.1.6', '7.3.1', '7.3.2', '7.3.4', '7.3.3', '7.3.5', '7.3.6',\n",
       "       '8.1.1', '8.1.2', '8.1.4', '8.1.3', '8.1.5', '8.1.6', '8.3.1',\n",
       "       '8.3.2', '8.3.4', '8.3.3', '8.3.5', '8.3.6', '9.1.1', '9.1.2',\n",
       "       '9.1.4', '9.1.3', '9.1.5', '9.1.6', '9.3.1', '9.3.2', '9.3.4',\n",
       "       '9.3.3', '9.3.5', '9.3.6', '10.1.1', '10.1.2', '10.1.4', '10.1.3',\n",
       "       '10.1.5', '10.1.6', '10.3.1', '10.3.2', '10.3.4', '10.3.3',\n",
       "       '10.3.5', '10.3.6', '11.1.1', '11.1.2', '11.1.4', '11.1.3',\n",
       "       '11.1.5', '11.1.6', '11.3.1', '11.3.2', '11.3.4', '11.3.3',\n",
       "       '11.3.5', '11.3.6', '1.2.1', '1.2.2', '1.2.4', '1.2.3', '1.2.5',\n",
       "       '1.2.6', '2.2.1', '2.2.2', '2.2.4', '2.2.3', '2.2.5', '2.2.6',\n",
       "       '3.2.1', '3.2.2', '3.2.4', '3.2.3', '3.2.5', '3.2.6', '4.2.1',\n",
       "       '4.2.2', '4.2.4', '4.2.3', '4.2.5', '4.2.6', '5.2.1', '5.2.2',\n",
       "       '5.2.4', '5.2.3', '5.2.5', '5.2.6', '6.2.1', '6.2.2', '6.2.4',\n",
       "       '6.2.3', '6.2.5', '6.2.6', '7.2.1', '7.2.2', '7.2.4', '7.2.3',\n",
       "       '7.2.5', '7.2.6', '8.2.1', '8.2.2', '8.2.4', '8.2.3', '8.2.5',\n",
       "       '8.2.6', '9.2.1', '9.2.2', '9.2.4', '9.2.3', '9.2.5', '9.2.6',\n",
       "       '10.2.1', '10.2.2', '10.2.4', '10.2.3', '10.2.5', '10.2.6',\n",
       "       '11.2.1', '11.2.2', '11.2.4', '11.2.3', '11.2.5', '11.2.6'],\n",
       "      dtype=object)"
      ]
     },
     "execution_count": 82,
     "metadata": {},
     "output_type": "execute_result"
    }
   ],
   "source": [
    "# Coordinates . head()\n",
    "real_estate_numbers_cleaned['Coordinate'].unique()"
   ]
  },
  {
   "cell_type": "code",
   "execution_count": 83,
   "metadata": {},
   "outputs": [
    {
     "data": {
      "text/html": [
       "<div>\n",
       "<style scoped>\n",
       "    .dataframe tbody tr th:only-of-type {\n",
       "        vertical-align: middle;\n",
       "    }\n",
       "\n",
       "    .dataframe tbody tr th {\n",
       "        vertical-align: top;\n",
       "    }\n",
       "\n",
       "    .dataframe thead th {\n",
       "        text-align: right;\n",
       "    }\n",
       "</style>\n",
       "<table border=\"1\" class=\"dataframe\">\n",
       "  <thead>\n",
       "    <tr style=\"text-align: right;\">\n",
       "      <th></th>\n",
       "      <th>Date</th>\n",
       "      <th>Geo</th>\n",
       "      <th>Dguid</th>\n",
       "      <th>Housing Estimates</th>\n",
       "      <th>Type Of Unit</th>\n",
       "      <th>Uom</th>\n",
       "      <th>Uom Id</th>\n",
       "      <th>Scalar Factor</th>\n",
       "      <th>Scalar Id</th>\n",
       "      <th>Vector</th>\n",
       "      <th>Coordinate</th>\n",
       "      <th>Value</th>\n",
       "      <th>Decimals</th>\n",
       "    </tr>\n",
       "  </thead>\n",
       "  <tbody>\n",
       "    <tr>\n",
       "      <th>0</th>\n",
       "      <td>1955-01-01</td>\n",
       "      <td>Canada</td>\n",
       "      <td>2016A000011124</td>\n",
       "      <td>Housing starts</td>\n",
       "      <td>Total units</td>\n",
       "      <td>Units</td>\n",
       "      <td>300</td>\n",
       "      <td>units</td>\n",
       "      <td>0</td>\n",
       "      <td>v730579</td>\n",
       "      <td>1.1.1</td>\n",
       "      <td>138276</td>\n",
       "      <td>0</td>\n",
       "    </tr>\n",
       "    <tr>\n",
       "      <th>1</th>\n",
       "      <td>1955-01-01</td>\n",
       "      <td>Canada</td>\n",
       "      <td>2016A000011124</td>\n",
       "      <td>Housing starts</td>\n",
       "      <td>Single-detached</td>\n",
       "      <td>Units</td>\n",
       "      <td>300</td>\n",
       "      <td>units</td>\n",
       "      <td>0</td>\n",
       "      <td>v730524</td>\n",
       "      <td>1.1.2</td>\n",
       "      <td>99003</td>\n",
       "      <td>0</td>\n",
       "    </tr>\n",
       "    <tr>\n",
       "      <th>2</th>\n",
       "      <td>1955-01-01</td>\n",
       "      <td>Canada</td>\n",
       "      <td>2016A000011124</td>\n",
       "      <td>Housing starts</td>\n",
       "      <td>Multiples</td>\n",
       "      <td>Units</td>\n",
       "      <td>300</td>\n",
       "      <td>units</td>\n",
       "      <td>0</td>\n",
       "      <td>v730568</td>\n",
       "      <td>1.1.4</td>\n",
       "      <td>39273</td>\n",
       "      <td>0</td>\n",
       "    </tr>\n",
       "    <tr>\n",
       "      <th>3</th>\n",
       "      <td>1955-01-01</td>\n",
       "      <td>Canada</td>\n",
       "      <td>2016A000011124</td>\n",
       "      <td>Housing starts</td>\n",
       "      <td>Semi-detached</td>\n",
       "      <td>Units</td>\n",
       "      <td>300</td>\n",
       "      <td>units</td>\n",
       "      <td>0</td>\n",
       "      <td>v730535</td>\n",
       "      <td>1.1.3</td>\n",
       "      <td>10606</td>\n",
       "      <td>0</td>\n",
       "    </tr>\n",
       "    <tr>\n",
       "      <th>4</th>\n",
       "      <td>1955-01-01</td>\n",
       "      <td>Canada</td>\n",
       "      <td>2016A000011124</td>\n",
       "      <td>Housing starts</td>\n",
       "      <td>Row</td>\n",
       "      <td>Units</td>\n",
       "      <td>300</td>\n",
       "      <td>units</td>\n",
       "      <td>0</td>\n",
       "      <td>v730546</td>\n",
       "      <td>1.1.5</td>\n",
       "      <td>1909</td>\n",
       "      <td>0</td>\n",
       "    </tr>\n",
       "  </tbody>\n",
       "</table>\n",
       "</div>"
      ],
      "text/plain": [
       "        Date     Geo           Dguid Housing Estimates     Type Of Unit  \\\n",
       "0 1955-01-01  Canada  2016A000011124    Housing starts      Total units   \n",
       "1 1955-01-01  Canada  2016A000011124    Housing starts  Single-detached   \n",
       "2 1955-01-01  Canada  2016A000011124    Housing starts        Multiples   \n",
       "3 1955-01-01  Canada  2016A000011124    Housing starts    Semi-detached   \n",
       "4 1955-01-01  Canada  2016A000011124    Housing starts              Row   \n",
       "\n",
       "     Uom Uom Id Scalar Factor Scalar Id   Vector Coordinate   Value  Decimals  \n",
       "0  Units    300        units          0  v730579      1.1.1  138276         0  \n",
       "1  Units    300        units          0  v730524      1.1.2   99003         0  \n",
       "2  Units    300        units          0  v730568      1.1.4   39273         0  \n",
       "3  Units    300        units          0  v730535      1.1.3   10606         0  \n",
       "4  Units    300        units          0  v730546      1.1.5    1909         0  "
      ]
     },
     "execution_count": 83,
     "metadata": {},
     "output_type": "execute_result"
    }
   ],
   "source": [
    "real_estate_numbers_cleaned.head()"
   ]
  },
  {
   "cell_type": "code",
   "execution_count": 84,
   "metadata": {},
   "outputs": [],
   "source": [
    "# Date               --> \"Date (Year) Real Estate Numbers\"\n",
    "# Geo                --> \"Province (Canada)\"\n",
    "# Dguid              --> \"\"\n",
    "# Housing Estimates  --> \"\"\n",
    "# Type Of Unit       --> \"\"\n",
    "# Uom                --> \"\"\n",
    "# Uom Id             --> \"\"\n",
    "# Scalar Factor      --> \"\"\n",
    "# Scalar Id          --> \"\"\n",
    "# Vector             --> \"\"\n",
    "# Coordinate         --> \"\"\n",
    "# Value              --> \"Real Estate Number\"\n",
    "# Decimals           --> \"\"\n",
    "\n",
    "# rename the column names. From the above chart, if the target name is \"\", omit it\n",
    "real_estate_numbers_cleaned.rename(columns={'Date': 'Date (Year) R.E.N.', 'Geo': 'Province (R.E.N.) (inc. Canada)', 'Value': 'Real Estate Number', \"Type Of Unit \": \"Type Of Unit (R.E.N.)\", 'Housing Estimates': 'Housing Estimates (R.E.N)'}, inplace=True)\n",
    "\n"
   ]
  },
  {
   "cell_type": "code",
   "execution_count": 85,
   "metadata": {},
   "outputs": [],
   "source": [
    "# write the real_estate_numbers_cleaned to a csv file, under the data_cleaned folder\n",
    "real_estate_numbers_cleaned.to_csv('data_cleaned/real_estate_numbers_cleaned.csv', index=False)"
   ]
  },
  {
   "cell_type": "code",
   "execution_count": 86,
   "metadata": {},
   "outputs": [
    {
     "data": {
      "text/plain": [
       "Date (Year) R.E.N.                 datetime64[ns]\n",
       "Province (R.E.N.) (inc. Canada)            object\n",
       "Dguid                                      object\n",
       "Housing Estimates (R.E.N)                  object\n",
       "Type Of Unit                               object\n",
       "Uom                                        object\n",
       "Uom Id                                     object\n",
       "Scalar Factor                              object\n",
       "Scalar Id                                  object\n",
       "Vector                                     object\n",
       "Coordinate                                 object\n",
       "Real Estate Number                          int64\n",
       "Decimals                                    int64\n",
       "dtype: object"
      ]
     },
     "execution_count": 86,
     "metadata": {},
     "output_type": "execute_result"
    }
   ],
   "source": [
    "real_estate_numbers_cleaned.dtypes"
   ]
  },
  {
   "attachments": {},
   "cell_type": "markdown",
   "metadata": {},
   "source": [
    "# Summary of the cleaning data and compare to the next one."
   ]
  },
  {
   "cell_type": "code",
   "execution_count": 87,
   "metadata": {},
   "outputs": [
    {
     "name": "stdout",
     "output_type": "stream",
     "text": [
      "Number of csv files in the /data folder:  6\n",
      "Number of csv files in the /data_cleaned folder:  6\n"
     ]
    }
   ],
   "source": [
    "# compare the number CSV files in the /data folder and the /data_cleaned folder\n",
    "import glob\n",
    "\n",
    "csv_files = glob.glob('data/*.csv')\n",
    "csv_files_cleaned = glob.glob('data_cleaned/*.csv')\n",
    "\n",
    "print('Number of csv files in the /data folder: ', len(csv_files))\n",
    "print('Number of csv files in the /data_cleaned folder: ', len(csv_files_cleaned))\n",
    "\n",
    "\n"
   ]
  },
  {
   "cell_type": "code",
   "execution_count": 88,
   "metadata": {},
   "outputs": [
    {
     "data": {
      "text/html": [
       "<div>\n",
       "<style scoped>\n",
       "    .dataframe tbody tr th:only-of-type {\n",
       "        vertical-align: middle;\n",
       "    }\n",
       "\n",
       "    .dataframe tbody tr th {\n",
       "        vertical-align: top;\n",
       "    }\n",
       "\n",
       "    .dataframe thead th {\n",
       "        text-align: right;\n",
       "    }\n",
       "</style>\n",
       "<table border=\"1\" class=\"dataframe\">\n",
       "  <thead>\n",
       "    <tr style=\"text-align: right;\">\n",
       "      <th></th>\n",
       "      <th>file_name</th>\n",
       "      <th>file_size</th>\n",
       "    </tr>\n",
       "  </thead>\n",
       "  <tbody>\n",
       "    <tr>\n",
       "      <th>0</th>\n",
       "      <td>data/office_realestate_index.csv</td>\n",
       "      <td>2109891</td>\n",
       "    </tr>\n",
       "    <tr>\n",
       "      <th>1</th>\n",
       "      <td>data/real_estate_numbers.csv</td>\n",
       "      <td>1728477</td>\n",
       "    </tr>\n",
       "    <tr>\n",
       "      <th>2</th>\n",
       "      <td>data/real_estate_prices_all_cleaned.csv</td>\n",
       "      <td>796097</td>\n",
       "    </tr>\n",
       "    <tr>\n",
       "      <th>3</th>\n",
       "      <td>data/consumer_index.csv</td>\n",
       "      <td>672244</td>\n",
       "    </tr>\n",
       "    <tr>\n",
       "      <th>4</th>\n",
       "      <td>data/weekly_earnings.csv</td>\n",
       "      <td>40691</td>\n",
       "    </tr>\n",
       "    <tr>\n",
       "      <th>5</th>\n",
       "      <td>data/housing_price_index.csv</td>\n",
       "      <td>11511</td>\n",
       "    </tr>\n",
       "  </tbody>\n",
       "</table>\n",
       "</div>"
      ],
      "text/plain": [
       "                                 file_name  file_size\n",
       "0         data/office_realestate_index.csv    2109891\n",
       "1             data/real_estate_numbers.csv    1728477\n",
       "2  data/real_estate_prices_all_cleaned.csv     796097\n",
       "3                  data/consumer_index.csv     672244\n",
       "4                 data/weekly_earnings.csv      40691\n",
       "5             data/housing_price_index.csv      11511"
      ]
     },
     "execution_count": 88,
     "metadata": {},
     "output_type": "execute_result"
    },
    {
     "data": {
      "text/html": [
       "<div>\n",
       "<style scoped>\n",
       "    .dataframe tbody tr th:only-of-type {\n",
       "        vertical-align: middle;\n",
       "    }\n",
       "\n",
       "    .dataframe tbody tr th {\n",
       "        vertical-align: top;\n",
       "    }\n",
       "\n",
       "    .dataframe thead th {\n",
       "        text-align: right;\n",
       "    }\n",
       "</style>\n",
       "<table border=\"1\" class=\"dataframe\">\n",
       "  <thead>\n",
       "    <tr style=\"text-align: right;\">\n",
       "      <th></th>\n",
       "      <th>file_name</th>\n",
       "      <th>file_size</th>\n",
       "    </tr>\n",
       "  </thead>\n",
       "  <tbody>\n",
       "    <tr>\n",
       "      <th>0</th>\n",
       "      <td>data_cleaned/real_estate_prices_all_pivot_clea...</td>\n",
       "      <td>4816194</td>\n",
       "    </tr>\n",
       "    <tr>\n",
       "      <th>1</th>\n",
       "      <td>data_cleaned/office_realestate_index_cleaned.csv</td>\n",
       "      <td>2202852</td>\n",
       "    </tr>\n",
       "    <tr>\n",
       "      <th>2</th>\n",
       "      <td>data_cleaned/real_estate_numbers_cleaned.csv</td>\n",
       "      <td>1370558</td>\n",
       "    </tr>\n",
       "    <tr>\n",
       "      <th>3</th>\n",
       "      <td>data_cleaned/consumer_index_cleaned.csv</td>\n",
       "      <td>687526</td>\n",
       "    </tr>\n",
       "    <tr>\n",
       "      <th>4</th>\n",
       "      <td>data_cleaned/monthly_earnings_pivot_cleaned.csv</td>\n",
       "      <td>76884</td>\n",
       "    </tr>\n",
       "    <tr>\n",
       "      <th>5</th>\n",
       "      <td>data_cleaned/housing_price_index_pivot_cleaned...</td>\n",
       "      <td>46637</td>\n",
       "    </tr>\n",
       "  </tbody>\n",
       "</table>\n",
       "</div>"
      ],
      "text/plain": [
       "                                           file_name  file_size\n",
       "0  data_cleaned/real_estate_prices_all_pivot_clea...    4816194\n",
       "1   data_cleaned/office_realestate_index_cleaned.csv    2202852\n",
       "2       data_cleaned/real_estate_numbers_cleaned.csv    1370558\n",
       "3            data_cleaned/consumer_index_cleaned.csv     687526\n",
       "4    data_cleaned/monthly_earnings_pivot_cleaned.csv      76884\n",
       "5  data_cleaned/housing_price_index_pivot_cleaned...      46637"
      ]
     },
     "execution_count": 88,
     "metadata": {},
     "output_type": "execute_result"
    }
   ],
   "source": [
    "# compare their file size and show in a table-like format\n",
    "import os\n",
    "import pandas as pd\n",
    "\n",
    "# create a list of the file names in the /data folder\n",
    "csv_files = glob.glob('data/*.csv')\n",
    "csv_files_cleaned = glob.glob('data_cleaned/*.csv')\n",
    "\n",
    "# create a list of the file sizes in the /data folder\n",
    "file_sizes = [os.path.getsize(file) for file in csv_files]\n",
    "file_sizes_cleaned = [os.path.getsize(file) for file in csv_files_cleaned]\n",
    "\n",
    "# create a dataframe with the file names and file sizes\n",
    "df = pd.DataFrame({'file_name': csv_files, 'file_size': file_sizes})\n",
    "df_cleaned = pd.DataFrame({'file_name': csv_files_cleaned, 'file_size': file_sizes_cleaned})\n",
    "\n",
    "# sort the dataframe by the file size\n",
    "df.sort_values(by='file_size', ascending=False, inplace=True)\n",
    "df_cleaned.sort_values(by='file_size', ascending=False, inplace=True)\n",
    "\n",
    "# reset the index\n",
    "df.reset_index(drop=True, inplace=True)\n",
    "df_cleaned.reset_index(drop=True, inplace=True)\n",
    "\n",
    "# show the dataframe\n",
    "df\n",
    "df_cleaned"
   ]
  },
  {
   "attachments": {},
   "cell_type": "markdown",
   "metadata": {},
   "source": [
    "# Part 6: Read all the csv files in the folder and print all their table anmes and column names in a txt file   "
   ]
  },
  {
   "cell_type": "code",
   "execution_count": 89,
   "metadata": {},
   "outputs": [
    {
     "data": {
      "text/plain": [
       "['consumer_index_cleaned.csv',\n",
       " 'housing_price_index_pivot_cleaned.csv',\n",
       " 'monthly_earnings_pivot_cleaned.csv',\n",
       " 'office_realestate_index_cleaned.csv',\n",
       " 'real_estate_numbers_cleaned.csv',\n",
       " 'real_estate_prices_all_pivot_cleaned.csv']"
      ]
     },
     "execution_count": 89,
     "metadata": {},
     "output_type": "execute_result"
    }
   ],
   "source": [
    "# Read all the csv files in the /data folder:\n",
    "\n",
    "import os\n",
    "import pandas as pd\n",
    "\n",
    "# get the current working directory\n",
    "cwd = os.getcwd()\n",
    "\n",
    "# get the list of all files in the current working directory\n",
    "files = os.listdir(cwd + '/' + data_cleaned_path)\n",
    "\n",
    "# get the list of csv files in the current working directory\n",
    "csv_files = [f for f in files if f.endswith('.csv')]\n",
    "csv_files\n"
   ]
  },
  {
   "cell_type": "code",
   "execution_count": 90,
   "metadata": {},
   "outputs": [],
   "source": [
    "# loop through the csv files and read them into a pandas dataframe and print the first 5 rows of each dataframe\n",
    "\n",
    "# create a txt file under the /data/ folder for writing the file columns:\n",
    "# format like this:\n",
    "# Talbe 1: weekly_earnings.csv\n",
    "# The first 5 rows of the table are:\n",
    "# <Blank line>\n",
    "# Table 2: ***.csv\n",
    "# The first 5 rows of the table are:\n",
    "\n",
    "\n",
    "    "
   ]
  },
  {
   "cell_type": "markdown",
   "metadata": {},
   "source": []
  },
  {
   "cell_type": "code",
   "execution_count": 91,
   "metadata": {},
   "outputs": [
    {
     "name": "stdout",
     "output_type": "stream",
     "text": [
      "  Date (Month) C.I. Region (C.I.) (Canada Only)  \\\n",
      "0        1979-11-01                      Canada   \n",
      "1        1979-12-01                      Canada   \n",
      "2        1980-01-01                      Canada   \n",
      "3        1980-02-01                      Canada   \n",
      "4        1980-03-01                      Canada   \n",
      "\n",
      "                                     Measures (C.I.) Measure Baseline (C.I.)  \\\n",
      "0  Consumer Price Index (CPI) inversely weighted ...                 Percent   \n",
      "1  Consumer Price Index (CPI) inversely weighted ...                 Percent   \n",
      "2  Consumer Price Index (CPI) inversely weighted ...                 Percent   \n",
      "3  Consumer Price Index (CPI) inversely weighted ...                 Percent   \n",
      "4  Consumer Price Index (CPI) inversely weighted ...                 Percent   \n",
      "\n",
      "   Consumer Index  \n",
      "0             9.3  \n",
      "1             9.4  \n",
      "2             9.3  \n",
      "3             9.4  \n",
      "4             9.3  \n"
     ]
    },
    {
     "data": {
      "text/plain": [
       "41"
      ]
     },
     "execution_count": 91,
     "metadata": {},
     "output_type": "execute_result"
    },
    {
     "data": {
      "text/plain": [
       "159"
      ]
     },
     "execution_count": 91,
     "metadata": {},
     "output_type": "execute_result"
    },
    {
     "name": "stdout",
     "output_type": "stream",
     "text": [
      "  Date (Month) H.P.I.  Property Type (H.P.I.)  H.P.I.\n",
      "0          1981-01-01  Total (House And Land)    38.2\n",
      "1          1981-02-01  Total (House And Land)    38.7\n",
      "2          1981-03-01  Total (House And Land)    39.3\n",
      "3          1981-04-01  Total (House And Land)    39.9\n",
      "4          1981-05-01  Total (House And Land)    40.6\n"
     ]
    },
    {
     "data": {
      "text/plain": [
       "52"
      ]
     },
     "execution_count": 91,
     "metadata": {},
     "output_type": "execute_result"
    },
    {
     "data": {
      "text/plain": [
       "106"
      ]
     },
     "execution_count": 91,
     "metadata": {},
     "output_type": "execute_result"
    },
    {
     "name": "stdout",
     "output_type": "stream",
     "text": [
      "  Date (Month) M.E. Province (inc. Canada) (M.E.)  Monthly Earnings\n",
      "0        2001-01-01                       Alberta       2969.534286\n",
      "1        2001-02-01                       Alberta       2682.080000\n",
      "2        2001-03-01                       Alberta       2960.455714\n",
      "3        2001-04-01                       Alberta       2878.757143\n",
      "4        2001-05-01                       Alberta       2942.564286\n"
     ]
    },
    {
     "data": {
      "text/plain": [
       "49"
      ]
     },
     "execution_count": 91,
     "metadata": {},
     "output_type": "execute_result"
    },
    {
     "data": {
      "text/plain": [
       "121"
      ]
     },
     "execution_count": 91,
     "metadata": {},
     "output_type": "execute_result"
    },
    {
     "name": "stdout",
     "output_type": "stream",
     "text": [
      "  Date (Quarter) O.R.I.                Region(O.R.I.) (city prov)  \\\n",
      "0            1981-01-01  Seven census metropolitan area composite   \n",
      "1            1981-01-01  Seven census metropolitan area composite   \n",
      "2            1981-01-01  Seven census metropolitan area composite   \n",
      "3            1981-01-01  Seven census metropolitan area composite   \n",
      "4            1981-01-01  Seven census metropolitan area composite   \n",
      "\n",
      "  Property Type(O.R.I.) Measure Baseline (O.R.I.)  O.R.I.  \n",
      "0                Office           Index, 2002=100    58.4  \n",
      "1             Warehouse           Index, 2002=100    53.3  \n",
      "2       Shopping centre           Index, 2002=100    59.3  \n",
      "3         Light factory           Index, 2002=100    50.1  \n",
      "4                School           Index, 2002=100    56.1  \n"
     ]
    },
    {
     "data": {
      "text/plain": [
       "50"
      ]
     },
     "execution_count": 91,
     "metadata": {},
     "output_type": "execute_result"
    },
    {
     "data": {
      "text/plain": [
       "162"
      ]
     },
     "execution_count": 91,
     "metadata": {},
     "output_type": "execute_result"
    },
    {
     "name": "stdout",
     "output_type": "stream",
     "text": [
      "  Date (Year) R.E.N. Province (R.E.N.) (inc. Canada)           Dguid  \\\n",
      "0         1955-01-01                          Canada  2016A000011124   \n",
      "1         1955-01-01                          Canada  2016A000011124   \n",
      "2         1955-01-01                          Canada  2016A000011124   \n",
      "3         1955-01-01                          Canada  2016A000011124   \n",
      "4         1955-01-01                          Canada  2016A000011124   \n",
      "\n",
      "  Housing Estimates (R.E.N)     Type Of Unit    Uom  Uom Id Scalar Factor  \\\n",
      "0            Housing starts      Total units  Units     300        units    \n",
      "1            Housing starts  Single-detached  Units     300        units    \n",
      "2            Housing starts        Multiples  Units     300        units    \n",
      "3            Housing starts    Semi-detached  Units     300        units    \n",
      "4            Housing starts              Row  Units     300        units    \n",
      "\n",
      "   Scalar Id   Vector Coordinate  Real Estate Number  Decimals  \n",
      "0          0  v730579      1.1.1              138276         0  \n",
      "1          0  v730524      1.1.2               99003         0  \n",
      "2          0  v730568      1.1.4               39273         0  \n",
      "3          0  v730535      1.1.3               10606         0  \n",
      "4          0  v730546      1.1.5                1909         0  \n"
     ]
    },
    {
     "data": {
      "text/plain": [
       "46"
      ]
     },
     "execution_count": 91,
     "metadata": {},
     "output_type": "execute_result"
    },
    {
     "data": {
      "text/plain": [
       "243"
      ]
     },
     "execution_count": 91,
     "metadata": {},
     "output_type": "execute_result"
    },
    {
     "name": "stdout",
     "output_type": "stream",
     "text": [
      "  Date (Month) R.E.P. Region (R.E.P)(inc. Aggregate). Housing Type (R.E.P.)  \\\n",
      "0          2005-01-01                       Aggregate             Apartment   \n",
      "1          2005-02-01                       Aggregate             Apartment   \n",
      "2          2005-03-01                       Aggregate             Apartment   \n",
      "3          2005-04-01                       Aggregate             Apartment   \n",
      "4          2005-05-01                       Aggregate             Apartment   \n",
      "\n",
      "  Benchmark HPI  Real Estate Price  \n",
      "0     Benchmark           190600.0  \n",
      "1     Benchmark           192300.0  \n",
      "2     Benchmark           193200.0  \n",
      "3     Benchmark           194600.0  \n",
      "4     Benchmark           196100.0  \n"
     ]
    },
    {
     "data": {
      "text/plain": [
       "55"
      ]
     },
     "execution_count": 91,
     "metadata": {},
     "output_type": "execute_result"
    },
    {
     "data": {
      "text/plain": [
       "164"
      ]
     },
     "execution_count": 91,
     "metadata": {},
     "output_type": "execute_result"
    }
   ],
   "source": [
    "# create a new txt to write the table names and column names, and keep it open for writing:\n",
    "# \n",
    "\n",
    "with open(data_cleaned_path + '/description/table_cleaned_names_and_column_names_head0.txt', 'w') as f:\n",
    "    for file in csv_files:\n",
    "\n",
    "            df = pd.read_csv(data_cleaned_path + file)\n",
    "            print(df.head())\n",
    "            # print into the file f: Table name and column names\n",
    "            f.write(f'Table name: {file} \\n\\n')\n",
    "            f.write(f'Column names: {df.head(0)} \\n\\n\\n')\n",
    "\n",
    "# # close the file\n",
    "# f.close()\n",
    "\n"
   ]
  },
  {
   "cell_type": "code",
   "execution_count": 92,
   "metadata": {},
   "outputs": [
    {
     "name": "stdout",
     "output_type": "stream",
     "text": [
      "  Date (Month) C.I. Region (C.I.) (Canada Only)  \\\n",
      "0        1979-11-01                      Canada   \n",
      "1        1979-12-01                      Canada   \n",
      "2        1980-01-01                      Canada   \n",
      "3        1980-02-01                      Canada   \n",
      "4        1980-03-01                      Canada   \n",
      "\n",
      "                                     Measures (C.I.) Measure Baseline (C.I.)  \\\n",
      "0  Consumer Price Index (CPI) inversely weighted ...                 Percent   \n",
      "1  Consumer Price Index (CPI) inversely weighted ...                 Percent   \n",
      "2  Consumer Price Index (CPI) inversely weighted ...                 Percent   \n",
      "3  Consumer Price Index (CPI) inversely weighted ...                 Percent   \n",
      "4  Consumer Price Index (CPI) inversely weighted ...                 Percent   \n",
      "\n",
      "   Consumer Index  \n",
      "0             9.3  \n",
      "1             9.4  \n",
      "2             9.3  \n",
      "3             9.4  \n",
      "4             9.3  \n"
     ]
    },
    {
     "data": {
      "text/plain": [
       "41"
      ]
     },
     "execution_count": 92,
     "metadata": {},
     "output_type": "execute_result"
    },
    {
     "data": {
      "text/plain": [
       "623"
      ]
     },
     "execution_count": 92,
     "metadata": {},
     "output_type": "execute_result"
    },
    {
     "name": "stdout",
     "output_type": "stream",
     "text": [
      "  Date (Month) H.P.I.  Property Type (H.P.I.)  H.P.I.\n",
      "0          1981-01-01  Total (House And Land)    38.2\n",
      "1          1981-02-01  Total (House And Land)    38.7\n",
      "2          1981-03-01  Total (House And Land)    39.3\n",
      "3          1981-04-01  Total (House And Land)    39.9\n",
      "4          1981-05-01  Total (House And Land)    40.6\n"
     ]
    },
    {
     "data": {
      "text/plain": [
       "52"
      ]
     },
     "execution_count": 92,
     "metadata": {},
     "output_type": "execute_result"
    },
    {
     "data": {
      "text/plain": [
       "233"
      ]
     },
     "execution_count": 92,
     "metadata": {},
     "output_type": "execute_result"
    },
    {
     "name": "stdout",
     "output_type": "stream",
     "text": [
      "  Date (Month) M.E. Province (inc. Canada) (M.E.)  Monthly Earnings\n",
      "0        2001-01-01                       Alberta       2969.534286\n",
      "1        2001-02-01                       Alberta       2682.080000\n",
      "2        2001-03-01                       Alberta       2960.455714\n",
      "3        2001-04-01                       Alberta       2878.757143\n",
      "4        2001-05-01                       Alberta       2942.564286\n"
     ]
    },
    {
     "data": {
      "text/plain": [
       "49"
      ]
     },
     "execution_count": 92,
     "metadata": {},
     "output_type": "execute_result"
    },
    {
     "data": {
      "text/plain": [
       "289"
      ]
     },
     "execution_count": 92,
     "metadata": {},
     "output_type": "execute_result"
    },
    {
     "name": "stdout",
     "output_type": "stream",
     "text": [
      "  Date (Quarter) O.R.I.                Region(O.R.I.) (city prov)  \\\n",
      "0            1981-01-01  Seven census metropolitan area composite   \n",
      "1            1981-01-01  Seven census metropolitan area composite   \n",
      "2            1981-01-01  Seven census metropolitan area composite   \n",
      "3            1981-01-01  Seven census metropolitan area composite   \n",
      "4            1981-01-01  Seven census metropolitan area composite   \n",
      "\n",
      "  Property Type(O.R.I.) Measure Baseline (O.R.I.)  O.R.I.  \n",
      "0                Office           Index, 2002=100    58.4  \n",
      "1             Warehouse           Index, 2002=100    53.3  \n",
      "2       Shopping centre           Index, 2002=100    59.3  \n",
      "3         Light factory           Index, 2002=100    50.1  \n",
      "4                School           Index, 2002=100    56.1  \n"
     ]
    },
    {
     "data": {
      "text/plain": [
       "50"
      ]
     },
     "execution_count": 92,
     "metadata": {},
     "output_type": "execute_result"
    },
    {
     "data": {
      "text/plain": [
       "534"
      ]
     },
     "execution_count": 92,
     "metadata": {},
     "output_type": "execute_result"
    },
    {
     "name": "stdout",
     "output_type": "stream",
     "text": [
      "  Date (Year) R.E.N. Province (R.E.N.) (inc. Canada)           Dguid  \\\n",
      "0         1955-01-01                          Canada  2016A000011124   \n",
      "1         1955-01-01                          Canada  2016A000011124   \n",
      "2         1955-01-01                          Canada  2016A000011124   \n",
      "3         1955-01-01                          Canada  2016A000011124   \n",
      "4         1955-01-01                          Canada  2016A000011124   \n",
      "\n",
      "  Housing Estimates (R.E.N)     Type Of Unit    Uom  Uom Id Scalar Factor  \\\n",
      "0            Housing starts      Total units  Units     300        units    \n",
      "1            Housing starts  Single-detached  Units     300        units    \n",
      "2            Housing starts        Multiples  Units     300        units    \n",
      "3            Housing starts    Semi-detached  Units     300        units    \n",
      "4            Housing starts              Row  Units     300        units    \n",
      "\n",
      "   Scalar Id   Vector Coordinate  Real Estate Number  Decimals  \n",
      "0          0  v730579      1.1.1              138276         0  \n",
      "1          0  v730524      1.1.2               99003         0  \n",
      "2          0  v730568      1.1.4               39273         0  \n",
      "3          0  v730535      1.1.3               10606         0  \n",
      "4          0  v730546      1.1.5                1909         0  \n"
     ]
    },
    {
     "data": {
      "text/plain": [
       "46"
      ]
     },
     "execution_count": 92,
     "metadata": {},
     "output_type": "execute_result"
    },
    {
     "data": {
      "text/plain": [
       "875"
      ]
     },
     "execution_count": 92,
     "metadata": {},
     "output_type": "execute_result"
    },
    {
     "name": "stdout",
     "output_type": "stream",
     "text": [
      "  Date (Month) R.E.P. Region (R.E.P)(inc. Aggregate). Housing Type (R.E.P.)  \\\n",
      "0          2005-01-01                       Aggregate             Apartment   \n",
      "1          2005-02-01                       Aggregate             Apartment   \n",
      "2          2005-03-01                       Aggregate             Apartment   \n",
      "3          2005-04-01                       Aggregate             Apartment   \n",
      "4          2005-05-01                       Aggregate             Apartment   \n",
      "\n",
      "  Benchmark HPI  Real Estate Price  \n",
      "0     Benchmark           190600.0  \n",
      "1     Benchmark           192300.0  \n",
      "2     Benchmark           193200.0  \n",
      "3     Benchmark           194600.0  \n",
      "4     Benchmark           196100.0  \n"
     ]
    },
    {
     "data": {
      "text/plain": [
       "55"
      ]
     },
     "execution_count": 92,
     "metadata": {},
     "output_type": "execute_result"
    },
    {
     "data": {
      "text/plain": [
       "482"
      ]
     },
     "execution_count": 92,
     "metadata": {},
     "output_type": "execute_result"
    }
   ],
   "source": [
    "# create a new txt to write the table names and column names, and keep it open for writing:\n",
    "# \n",
    "\n",
    "with open(data_cleaned_path + '/description/table_cleaned_names_and_column_names_head3.txt', 'w') as f:\n",
    "    for file in csv_files:\n",
    "\n",
    "            df = pd.read_csv(data_cleaned_path + file)\n",
    "            print(df.head())\n",
    "            # print into the file f: Table name and column names\n",
    "            f.write(f'Table name: {file} \\n\\n')\n",
    "            f.write(f'Column names: {df.head(3)} \\n\\n\\n')\n",
    "\n",
    "# # close the file\n",
    "# f.close()\n",
    "\n"
   ]
  },
  {
   "cell_type": "code",
   "execution_count": 93,
   "metadata": {},
   "outputs": [
    {
     "name": "stdout",
     "output_type": "stream",
     "text": [
      "  Date (Month) C.I. Region (C.I.) (Canada Only)  \\\n",
      "0        1979-11-01                      Canada   \n",
      "1        1979-12-01                      Canada   \n",
      "2        1980-01-01                      Canada   \n",
      "3        1980-02-01                      Canada   \n",
      "4        1980-03-01                      Canada   \n",
      "\n",
      "                                     Measures (C.I.) Measure Baseline (C.I.)  \\\n",
      "0  Consumer Price Index (CPI) inversely weighted ...                 Percent   \n",
      "1  Consumer Price Index (CPI) inversely weighted ...                 Percent   \n",
      "2  Consumer Price Index (CPI) inversely weighted ...                 Percent   \n",
      "3  Consumer Price Index (CPI) inversely weighted ...                 Percent   \n",
      "4  Consumer Price Index (CPI) inversely weighted ...                 Percent   \n",
      "\n",
      "   Consumer Index  \n",
      "0             9.3  \n",
      "1             9.4  \n",
      "2             9.3  \n",
      "3             9.4  \n",
      "4             9.3  \n"
     ]
    },
    {
     "data": {
      "text/plain": [
       "41"
      ]
     },
     "execution_count": 93,
     "metadata": {},
     "output_type": "execute_result"
    },
    {
     "data": {
      "text/plain": [
       "1680"
      ]
     },
     "execution_count": 93,
     "metadata": {},
     "output_type": "execute_result"
    },
    {
     "name": "stdout",
     "output_type": "stream",
     "text": [
      "  Date (Month) H.P.I.  Property Type (H.P.I.)  H.P.I.\n",
      "0          1981-01-01  Total (House And Land)    38.2\n",
      "1          1981-02-01  Total (House And Land)    38.7\n",
      "2          1981-03-01  Total (House And Land)    39.3\n",
      "3          1981-04-01  Total (House And Land)    39.9\n",
      "4          1981-05-01  Total (House And Land)    40.6\n"
     ]
    },
    {
     "data": {
      "text/plain": [
       "52"
      ]
     },
     "execution_count": 93,
     "metadata": {},
     "output_type": "execute_result"
    },
    {
     "data": {
      "text/plain": [
       "611"
      ]
     },
     "execution_count": 93,
     "metadata": {},
     "output_type": "execute_result"
    },
    {
     "name": "stdout",
     "output_type": "stream",
     "text": [
      "  Date (Month) M.E. Province (inc. Canada) (M.E.)  Monthly Earnings\n",
      "0        2001-01-01                       Alberta       2969.534286\n",
      "1        2001-02-01                       Alberta       2682.080000\n",
      "2        2001-03-01                       Alberta       2960.455714\n",
      "3        2001-04-01                       Alberta       2878.757143\n",
      "4        2001-05-01                       Alberta       2942.564286\n"
     ]
    },
    {
     "data": {
      "text/plain": [
       "49"
      ]
     },
     "execution_count": 93,
     "metadata": {},
     "output_type": "execute_result"
    },
    {
     "data": {
      "text/plain": [
       "765"
      ]
     },
     "execution_count": 93,
     "metadata": {},
     "output_type": "execute_result"
    },
    {
     "name": "stdout",
     "output_type": "stream",
     "text": [
      "  Date (Quarter) O.R.I.                Region(O.R.I.) (city prov)  \\\n",
      "0            1981-01-01  Seven census metropolitan area composite   \n",
      "1            1981-01-01  Seven census metropolitan area composite   \n",
      "2            1981-01-01  Seven census metropolitan area composite   \n",
      "3            1981-01-01  Seven census metropolitan area composite   \n",
      "4            1981-01-01  Seven census metropolitan area composite   \n",
      "\n",
      "  Property Type(O.R.I.) Measure Baseline (O.R.I.)  O.R.I.  \n",
      "0                Office           Index, 2002=100    58.4  \n",
      "1             Warehouse           Index, 2002=100    53.3  \n",
      "2       Shopping centre           Index, 2002=100    59.3  \n",
      "3         Light factory           Index, 2002=100    50.1  \n",
      "4                School           Index, 2002=100    56.1  \n"
     ]
    },
    {
     "data": {
      "text/plain": [
       "50"
      ]
     },
     "execution_count": 93,
     "metadata": {},
     "output_type": "execute_result"
    },
    {
     "data": {
      "text/plain": [
       "1437"
      ]
     },
     "execution_count": 93,
     "metadata": {},
     "output_type": "execute_result"
    },
    {
     "name": "stdout",
     "output_type": "stream",
     "text": [
      "  Date (Year) R.E.N. Province (R.E.N.) (inc. Canada)           Dguid  \\\n",
      "0         1955-01-01                          Canada  2016A000011124   \n",
      "1         1955-01-01                          Canada  2016A000011124   \n",
      "2         1955-01-01                          Canada  2016A000011124   \n",
      "3         1955-01-01                          Canada  2016A000011124   \n",
      "4         1955-01-01                          Canada  2016A000011124   \n",
      "\n",
      "  Housing Estimates (R.E.N)     Type Of Unit    Uom  Uom Id Scalar Factor  \\\n",
      "0            Housing starts      Total units  Units     300        units    \n",
      "1            Housing starts  Single-detached  Units     300        units    \n",
      "2            Housing starts        Multiples  Units     300        units    \n",
      "3            Housing starts    Semi-detached  Units     300        units    \n",
      "4            Housing starts              Row  Units     300        units    \n",
      "\n",
      "   Scalar Id   Vector Coordinate  Real Estate Number  Decimals  \n",
      "0          0  v730579      1.1.1              138276         0  \n",
      "1          0  v730524      1.1.2               99003         0  \n",
      "2          0  v730568      1.1.4               39273         0  \n",
      "3          0  v730535      1.1.3               10606         0  \n",
      "4          0  v730546      1.1.5                1909         0  \n"
     ]
    },
    {
     "data": {
      "text/plain": [
       "46"
      ]
     },
     "execution_count": 93,
     "metadata": {},
     "output_type": "execute_result"
    },
    {
     "data": {
      "text/plain": [
       "2538"
      ]
     },
     "execution_count": 93,
     "metadata": {},
     "output_type": "execute_result"
    },
    {
     "name": "stdout",
     "output_type": "stream",
     "text": [
      "  Date (Month) R.E.P. Region (R.E.P)(inc. Aggregate). Housing Type (R.E.P.)  \\\n",
      "0          2005-01-01                       Aggregate             Apartment   \n",
      "1          2005-02-01                       Aggregate             Apartment   \n",
      "2          2005-03-01                       Aggregate             Apartment   \n",
      "3          2005-04-01                       Aggregate             Apartment   \n",
      "4          2005-05-01                       Aggregate             Apartment   \n",
      "\n",
      "  Benchmark HPI  Real Estate Price  \n",
      "0     Benchmark           190600.0  \n",
      "1     Benchmark           192300.0  \n",
      "2     Benchmark           193200.0  \n",
      "3     Benchmark           194600.0  \n",
      "4     Benchmark           196100.0  \n"
     ]
    },
    {
     "data": {
      "text/plain": [
       "55"
      ]
     },
     "execution_count": 93,
     "metadata": {},
     "output_type": "execute_result"
    },
    {
     "data": {
      "text/plain": [
       "1294"
      ]
     },
     "execution_count": 93,
     "metadata": {},
     "output_type": "execute_result"
    }
   ],
   "source": [
    "# create a new txt to write the table names and column names, and keep it open for writing:\n",
    "# \n",
    "\n",
    "with open(data_cleaned_path + '/description/table_cleaned_names_and_column_names_head10.txt', 'w') as f:\n",
    "    for file in csv_files:\n",
    "\n",
    "            df = pd.read_csv(data_cleaned_path + file)\n",
    "            print(df.head())\n",
    "            # print into the file f: Table name and column names\n",
    "            f.write(f'Table name: {file} \\n\\n')\n",
    "            f.write(f'Column names: {df.head(10)} \\n\\n\\n')\n",
    "\n",
    "# # close the file\n",
    "# f.close()\n",
    "\n"
   ]
  },
  {
   "attachments": {},
   "cell_type": "markdown",
   "metadata": {},
   "source": [
    "# Further analysis:\n"
   ]
  },
  {
   "cell_type": "code",
   "execution_count": 94,
   "metadata": {},
   "outputs": [],
   "source": [
    "# # show the unique values in the GEO column in real_estate_numbers_cleaned\n",
    "# real_estate_numbers_cleaned['Geo'].unique()\n",
    "# real_estate_numbers_cleaned['Geo'].unique().shape\n",
    "\n",
    "# # show the unique values in the Region  column in office_realestate_cleaned\n",
    "# office_realestate_index_cleaned['Region'].unique()\n",
    "# office_realestate_index_cleaned['Region'].unique().shape"
   ]
  },
  {
   "attachments": {},
   "cell_type": "markdown",
   "metadata": {},
   "source": [
    "# Calculate the STDEV of the real estate_estate_index.csv\n",
    "\n"
   ]
  },
  {
   "cell_type": "code",
   "execution_count": 95,
   "metadata": {},
   "outputs": [],
   "source": [
    "# # Calculate the standard deviation for the Value column in real_estate_numbers_cleaned, grouped by the year, and show the result in a table-like format\n",
    "# yearly_std = real_estate_numbers_cleaned.groupby(real_estate_numbers_cleaned['Date'].dt.year)['Value'].std()\n",
    "# yearly_std\n",
    "# yearly_std = pd.DataFrame(yearly_std)\n",
    "# yearly_std\n"
   ]
  },
  {
   "cell_type": "code",
   "execution_count": 96,
   "metadata": {},
   "outputs": [],
   "source": [
    "# # calculate another one which exclude all the rows where the Geo is 'Canada'\n",
    "# yearly_std_provine = real_estate_numbers_cleaned[real_estate_numbers_cleaned['Geo'] != 'Canada'].groupby(real_estate_numbers_cleaned['Date'].dt.year)['Value'].std()\n",
    "\n",
    "# yearly_std_provine\n",
    "\n",
    "# yearly_std_provine = pd.DataFrame(yearly_std_provine)\n",
    "\n",
    "# yearly_std_provine\n",
    "\n",
    "# # how to write the previous algorith in Tableau?\n",
    "# # create a new calculated field: [Yearly Std] = STDEV([Value]) GROUP BY [Ref Date]\n",
    "# # create a new calculated field: [Yearly Std Province] = STDEV([Value]) GROUP BY [Ref Date] WHERE [Geo] <> 'Canada'\n"
   ]
  },
  {
   "cell_type": "code",
   "execution_count": 97,
   "metadata": {},
   "outputs": [],
   "source": [
    "# # plot the yearly_std_provine and yearly_std in a line chart\n",
    "# import matplotlib.pyplot as plt\n",
    "\n",
    "# plt.plot(yearly_std_provine, label='yearly_std_provine')\n",
    "# plt.plot(yearly_std, label='yearly_std')\n",
    "# plt.legend()\n",
    "# plt.show();"
   ]
  },
  {
   "attachments": {},
   "cell_type": "markdown",
   "metadata": {},
   "source": [
    "# Clean real_estate_prices.xlsx "
   ]
  },
  {
   "cell_type": "code",
   "execution_count": 98,
   "metadata": {},
   "outputs": [
    {
     "data": {
      "text/plain": [
       "['Aggregate',\n",
       " 'Vancouver_Island',\n",
       " 'Victoria',\n",
       " 'Lower_Mainland',\n",
       " 'Greater_Vancouver',\n",
       " 'Fraser_Valley',\n",
       " 'Okanagan_Valley',\n",
       " 'Calgary',\n",
       " 'Edmonton',\n",
       " 'Regina',\n",
       " 'Saskatoon',\n",
       " 'Winnipeg',\n",
       " 'Bancroft_and_Area',\n",
       " 'Barrie_and_District',\n",
       " 'Brantford_Region',\n",
       " 'Cambridge',\n",
       " 'Grey_Bruce_Owen_Sound',\n",
       " 'Guelph_and_District',\n",
       " 'Hamilton_Burlington',\n",
       " 'Huron_Perth',\n",
       " 'Kawartha_Lakes',\n",
       " 'Kitchener_Waterloo',\n",
       " 'Lakelands',\n",
       " 'London_St_Thomas',\n",
       " 'Mississauga',\n",
       " 'Niagara_Region',\n",
       " 'North_Bay',\n",
       " 'Northumberland_Hills',\n",
       " 'Oakville_Milton',\n",
       " 'Ottawa',\n",
       " 'Peterborough_and_Kawarthas',\n",
       " 'Quinte_and_District',\n",
       " 'Simcoe_and_District',\n",
       " 'Southern_Georgian_Bay',\n",
       " 'Tillsonburg_District',\n",
       " 'Greater_Toronto',\n",
       " 'Woodstock_Ingersoll',\n",
       " 'Montreal_CMA',\n",
       " 'Quebec_CMA',\n",
       " 'Greater_Moncton',\n",
       " 'Newfoundland_and_Labrador',\n",
       " 'St_Johns_NL']"
      ]
     },
     "execution_count": 98,
     "metadata": {},
     "output_type": "execute_result"
    }
   ],
   "source": [
    "# load the xlsx file: 'real_estate_prices.xlsx' into a pandas dataframe\n",
    "# there are multiple sheets in the excel file, so we need to load each xlsx sheet to a pandas dataframe\n",
    "\n",
    "# load the xlsx file: 'real_estate_prices.xlsx' and show the sheet names\n",
    "real_estate_prices = pd.ExcelFile('data/real_estate_prices.xlsx')\n",
    "real_estate_prices.sheet_names"
   ]
  },
  {
   "cell_type": "code",
   "execution_count": 99,
   "metadata": {},
   "outputs": [],
   "source": [
    "# create a set to store the sheet column names:\n",
    "sheet_columns_list = []\n",
    "sheet_columns_set = set()\n",
    "# loop through the sheet names and load each sheet into a pandas dataframe\n",
    "for sheet in real_estate_prices.sheet_names:\n",
    "    # join two sets: sheet_columns_set and the set of the current sheet columns\n",
    "    sheet_columns_set = sheet_columns_set | set(real_estate_prices.parse(sheet_name=sheet).columns.tolist())\n",
    "    \n",
    "    \n"
   ]
  },
  {
   "cell_type": "code",
   "execution_count": 100,
   "metadata": {},
   "outputs": [
    {
     "data": {
      "text/plain": [
       "13"
      ]
     },
     "execution_count": 100,
     "metadata": {},
     "output_type": "execute_result"
    },
    {
     "data": {
      "text/plain": [
       "{'Apartment_Benchmark',\n",
       " 'Apartment_HPI',\n",
       " 'Composite_Benchmark',\n",
       " 'Composite_HPI',\n",
       " 'Date',\n",
       " 'One_Storey_Benchmark',\n",
       " 'One_Storey_HPI',\n",
       " 'Single_Family_Benchmark',\n",
       " 'Single_Family_HPI',\n",
       " 'Townhouse_Benchmark',\n",
       " 'Townhouse_HPI',\n",
       " 'Two_Storey_Benchmark',\n",
       " 'Two_Storey_HPI'}"
      ]
     },
     "execution_count": 100,
     "metadata": {},
     "output_type": "execute_result"
    }
   ],
   "source": [
    "# convert into sheet_columns_list into a set\n",
    "len(sheet_columns_set)\n",
    "sheet_columns_set"
   ]
  },
  {
   "cell_type": "code",
   "execution_count": 101,
   "metadata": {},
   "outputs": [],
   "source": [
    "# add a new column called 'sheet_name' to store the sheet name\n",
    "sheet_columns_set = sheet_columns_set | set(['sheet_name'])\n"
   ]
  },
  {
   "cell_type": "code",
   "execution_count": 102,
   "metadata": {},
   "outputs": [],
   "source": [
    "\n",
    "# use the sheet_columns_set as the column names for the final dataframe real_estate_prices_all\n",
    "# put the data from each sheet into the real_estate_prices_all fromt he corresponding columns of each sheet \n",
    "\n",
    "\n",
    "# create an empty dataframe with the column names from the sheet_columns_set\n",
    "real_estate_prices_all = pd.DataFrame(columns=sheet_columns_set)\n",
    "\n"
   ]
  },
  {
   "cell_type": "code",
   "execution_count": 103,
   "metadata": {},
   "outputs": [
    {
     "name": "stderr",
     "output_type": "stream",
     "text": [
      "/var/folders/2z/xnw84j3s6677slw3jh12jk_c0000gp/T/ipykernel_65901/368918076.py:8: FutureWarning: The frame.append method is deprecated and will be removed from pandas in a future version. Use pandas.concat instead.\n",
      "  real_estate_prices_all = real_estate_prices_all.append(df, ignore_index=True)\n",
      "/var/folders/2z/xnw84j3s6677slw3jh12jk_c0000gp/T/ipykernel_65901/368918076.py:8: FutureWarning: The frame.append method is deprecated and will be removed from pandas in a future version. Use pandas.concat instead.\n",
      "  real_estate_prices_all = real_estate_prices_all.append(df, ignore_index=True)\n",
      "/var/folders/2z/xnw84j3s6677slw3jh12jk_c0000gp/T/ipykernel_65901/368918076.py:8: FutureWarning: The frame.append method is deprecated and will be removed from pandas in a future version. Use pandas.concat instead.\n",
      "  real_estate_prices_all = real_estate_prices_all.append(df, ignore_index=True)\n",
      "/var/folders/2z/xnw84j3s6677slw3jh12jk_c0000gp/T/ipykernel_65901/368918076.py:8: FutureWarning: The frame.append method is deprecated and will be removed from pandas in a future version. Use pandas.concat instead.\n",
      "  real_estate_prices_all = real_estate_prices_all.append(df, ignore_index=True)\n",
      "/var/folders/2z/xnw84j3s6677slw3jh12jk_c0000gp/T/ipykernel_65901/368918076.py:8: FutureWarning: The frame.append method is deprecated and will be removed from pandas in a future version. Use pandas.concat instead.\n",
      "  real_estate_prices_all = real_estate_prices_all.append(df, ignore_index=True)\n",
      "/var/folders/2z/xnw84j3s6677slw3jh12jk_c0000gp/T/ipykernel_65901/368918076.py:8: FutureWarning: The frame.append method is deprecated and will be removed from pandas in a future version. Use pandas.concat instead.\n",
      "  real_estate_prices_all = real_estate_prices_all.append(df, ignore_index=True)\n",
      "/var/folders/2z/xnw84j3s6677slw3jh12jk_c0000gp/T/ipykernel_65901/368918076.py:8: FutureWarning: The frame.append method is deprecated and will be removed from pandas in a future version. Use pandas.concat instead.\n",
      "  real_estate_prices_all = real_estate_prices_all.append(df, ignore_index=True)\n",
      "/var/folders/2z/xnw84j3s6677slw3jh12jk_c0000gp/T/ipykernel_65901/368918076.py:8: FutureWarning: The frame.append method is deprecated and will be removed from pandas in a future version. Use pandas.concat instead.\n",
      "  real_estate_prices_all = real_estate_prices_all.append(df, ignore_index=True)\n",
      "/var/folders/2z/xnw84j3s6677slw3jh12jk_c0000gp/T/ipykernel_65901/368918076.py:8: FutureWarning: The frame.append method is deprecated and will be removed from pandas in a future version. Use pandas.concat instead.\n",
      "  real_estate_prices_all = real_estate_prices_all.append(df, ignore_index=True)\n",
      "/var/folders/2z/xnw84j3s6677slw3jh12jk_c0000gp/T/ipykernel_65901/368918076.py:8: FutureWarning: The frame.append method is deprecated and will be removed from pandas in a future version. Use pandas.concat instead.\n",
      "  real_estate_prices_all = real_estate_prices_all.append(df, ignore_index=True)\n",
      "/var/folders/2z/xnw84j3s6677slw3jh12jk_c0000gp/T/ipykernel_65901/368918076.py:8: FutureWarning: The frame.append method is deprecated and will be removed from pandas in a future version. Use pandas.concat instead.\n",
      "  real_estate_prices_all = real_estate_prices_all.append(df, ignore_index=True)\n",
      "/var/folders/2z/xnw84j3s6677slw3jh12jk_c0000gp/T/ipykernel_65901/368918076.py:8: FutureWarning: The frame.append method is deprecated and will be removed from pandas in a future version. Use pandas.concat instead.\n",
      "  real_estate_prices_all = real_estate_prices_all.append(df, ignore_index=True)\n",
      "/var/folders/2z/xnw84j3s6677slw3jh12jk_c0000gp/T/ipykernel_65901/368918076.py:8: FutureWarning: The frame.append method is deprecated and will be removed from pandas in a future version. Use pandas.concat instead.\n",
      "  real_estate_prices_all = real_estate_prices_all.append(df, ignore_index=True)\n",
      "/var/folders/2z/xnw84j3s6677slw3jh12jk_c0000gp/T/ipykernel_65901/368918076.py:8: FutureWarning: The frame.append method is deprecated and will be removed from pandas in a future version. Use pandas.concat instead.\n",
      "  real_estate_prices_all = real_estate_prices_all.append(df, ignore_index=True)\n",
      "/var/folders/2z/xnw84j3s6677slw3jh12jk_c0000gp/T/ipykernel_65901/368918076.py:8: FutureWarning: The frame.append method is deprecated and will be removed from pandas in a future version. Use pandas.concat instead.\n",
      "  real_estate_prices_all = real_estate_prices_all.append(df, ignore_index=True)\n",
      "/var/folders/2z/xnw84j3s6677slw3jh12jk_c0000gp/T/ipykernel_65901/368918076.py:8: FutureWarning: The frame.append method is deprecated and will be removed from pandas in a future version. Use pandas.concat instead.\n",
      "  real_estate_prices_all = real_estate_prices_all.append(df, ignore_index=True)\n",
      "/var/folders/2z/xnw84j3s6677slw3jh12jk_c0000gp/T/ipykernel_65901/368918076.py:8: FutureWarning: The frame.append method is deprecated and will be removed from pandas in a future version. Use pandas.concat instead.\n",
      "  real_estate_prices_all = real_estate_prices_all.append(df, ignore_index=True)\n",
      "/var/folders/2z/xnw84j3s6677slw3jh12jk_c0000gp/T/ipykernel_65901/368918076.py:8: FutureWarning: The frame.append method is deprecated and will be removed from pandas in a future version. Use pandas.concat instead.\n",
      "  real_estate_prices_all = real_estate_prices_all.append(df, ignore_index=True)\n",
      "/var/folders/2z/xnw84j3s6677slw3jh12jk_c0000gp/T/ipykernel_65901/368918076.py:8: FutureWarning: The frame.append method is deprecated and will be removed from pandas in a future version. Use pandas.concat instead.\n",
      "  real_estate_prices_all = real_estate_prices_all.append(df, ignore_index=True)\n",
      "/var/folders/2z/xnw84j3s6677slw3jh12jk_c0000gp/T/ipykernel_65901/368918076.py:8: FutureWarning: The frame.append method is deprecated and will be removed from pandas in a future version. Use pandas.concat instead.\n",
      "  real_estate_prices_all = real_estate_prices_all.append(df, ignore_index=True)\n",
      "/var/folders/2z/xnw84j3s6677slw3jh12jk_c0000gp/T/ipykernel_65901/368918076.py:8: FutureWarning: The frame.append method is deprecated and will be removed from pandas in a future version. Use pandas.concat instead.\n",
      "  real_estate_prices_all = real_estate_prices_all.append(df, ignore_index=True)\n",
      "/var/folders/2z/xnw84j3s6677slw3jh12jk_c0000gp/T/ipykernel_65901/368918076.py:8: FutureWarning: The frame.append method is deprecated and will be removed from pandas in a future version. Use pandas.concat instead.\n",
      "  real_estate_prices_all = real_estate_prices_all.append(df, ignore_index=True)\n",
      "/var/folders/2z/xnw84j3s6677slw3jh12jk_c0000gp/T/ipykernel_65901/368918076.py:8: FutureWarning: The frame.append method is deprecated and will be removed from pandas in a future version. Use pandas.concat instead.\n",
      "  real_estate_prices_all = real_estate_prices_all.append(df, ignore_index=True)\n",
      "/var/folders/2z/xnw84j3s6677slw3jh12jk_c0000gp/T/ipykernel_65901/368918076.py:8: FutureWarning: The frame.append method is deprecated and will be removed from pandas in a future version. Use pandas.concat instead.\n",
      "  real_estate_prices_all = real_estate_prices_all.append(df, ignore_index=True)\n",
      "/var/folders/2z/xnw84j3s6677slw3jh12jk_c0000gp/T/ipykernel_65901/368918076.py:8: FutureWarning: The frame.append method is deprecated and will be removed from pandas in a future version. Use pandas.concat instead.\n",
      "  real_estate_prices_all = real_estate_prices_all.append(df, ignore_index=True)\n",
      "/var/folders/2z/xnw84j3s6677slw3jh12jk_c0000gp/T/ipykernel_65901/368918076.py:8: FutureWarning: The frame.append method is deprecated and will be removed from pandas in a future version. Use pandas.concat instead.\n",
      "  real_estate_prices_all = real_estate_prices_all.append(df, ignore_index=True)\n",
      "/var/folders/2z/xnw84j3s6677slw3jh12jk_c0000gp/T/ipykernel_65901/368918076.py:8: FutureWarning: The frame.append method is deprecated and will be removed from pandas in a future version. Use pandas.concat instead.\n",
      "  real_estate_prices_all = real_estate_prices_all.append(df, ignore_index=True)\n",
      "/var/folders/2z/xnw84j3s6677slw3jh12jk_c0000gp/T/ipykernel_65901/368918076.py:8: FutureWarning: The frame.append method is deprecated and will be removed from pandas in a future version. Use pandas.concat instead.\n",
      "  real_estate_prices_all = real_estate_prices_all.append(df, ignore_index=True)\n",
      "/var/folders/2z/xnw84j3s6677slw3jh12jk_c0000gp/T/ipykernel_65901/368918076.py:8: FutureWarning: The frame.append method is deprecated and will be removed from pandas in a future version. Use pandas.concat instead.\n",
      "  real_estate_prices_all = real_estate_prices_all.append(df, ignore_index=True)\n",
      "/var/folders/2z/xnw84j3s6677slw3jh12jk_c0000gp/T/ipykernel_65901/368918076.py:8: FutureWarning: The frame.append method is deprecated and will be removed from pandas in a future version. Use pandas.concat instead.\n",
      "  real_estate_prices_all = real_estate_prices_all.append(df, ignore_index=True)\n",
      "/var/folders/2z/xnw84j3s6677slw3jh12jk_c0000gp/T/ipykernel_65901/368918076.py:8: FutureWarning: The frame.append method is deprecated and will be removed from pandas in a future version. Use pandas.concat instead.\n",
      "  real_estate_prices_all = real_estate_prices_all.append(df, ignore_index=True)\n",
      "/var/folders/2z/xnw84j3s6677slw3jh12jk_c0000gp/T/ipykernel_65901/368918076.py:8: FutureWarning: The frame.append method is deprecated and will be removed from pandas in a future version. Use pandas.concat instead.\n",
      "  real_estate_prices_all = real_estate_prices_all.append(df, ignore_index=True)\n",
      "/var/folders/2z/xnw84j3s6677slw3jh12jk_c0000gp/T/ipykernel_65901/368918076.py:8: FutureWarning: The frame.append method is deprecated and will be removed from pandas in a future version. Use pandas.concat instead.\n",
      "  real_estate_prices_all = real_estate_prices_all.append(df, ignore_index=True)\n",
      "/var/folders/2z/xnw84j3s6677slw3jh12jk_c0000gp/T/ipykernel_65901/368918076.py:8: FutureWarning: The frame.append method is deprecated and will be removed from pandas in a future version. Use pandas.concat instead.\n",
      "  real_estate_prices_all = real_estate_prices_all.append(df, ignore_index=True)\n",
      "/var/folders/2z/xnw84j3s6677slw3jh12jk_c0000gp/T/ipykernel_65901/368918076.py:8: FutureWarning: The frame.append method is deprecated and will be removed from pandas in a future version. Use pandas.concat instead.\n",
      "  real_estate_prices_all = real_estate_prices_all.append(df, ignore_index=True)\n",
      "/var/folders/2z/xnw84j3s6677slw3jh12jk_c0000gp/T/ipykernel_65901/368918076.py:8: FutureWarning: The frame.append method is deprecated and will be removed from pandas in a future version. Use pandas.concat instead.\n",
      "  real_estate_prices_all = real_estate_prices_all.append(df, ignore_index=True)\n",
      "/var/folders/2z/xnw84j3s6677slw3jh12jk_c0000gp/T/ipykernel_65901/368918076.py:8: FutureWarning: The frame.append method is deprecated and will be removed from pandas in a future version. Use pandas.concat instead.\n",
      "  real_estate_prices_all = real_estate_prices_all.append(df, ignore_index=True)\n",
      "/var/folders/2z/xnw84j3s6677slw3jh12jk_c0000gp/T/ipykernel_65901/368918076.py:8: FutureWarning: The frame.append method is deprecated and will be removed from pandas in a future version. Use pandas.concat instead.\n",
      "  real_estate_prices_all = real_estate_prices_all.append(df, ignore_index=True)\n",
      "/var/folders/2z/xnw84j3s6677slw3jh12jk_c0000gp/T/ipykernel_65901/368918076.py:8: FutureWarning: The frame.append method is deprecated and will be removed from pandas in a future version. Use pandas.concat instead.\n",
      "  real_estate_prices_all = real_estate_prices_all.append(df, ignore_index=True)\n",
      "/var/folders/2z/xnw84j3s6677slw3jh12jk_c0000gp/T/ipykernel_65901/368918076.py:8: FutureWarning: The frame.append method is deprecated and will be removed from pandas in a future version. Use pandas.concat instead.\n",
      "  real_estate_prices_all = real_estate_prices_all.append(df, ignore_index=True)\n",
      "/var/folders/2z/xnw84j3s6677slw3jh12jk_c0000gp/T/ipykernel_65901/368918076.py:8: FutureWarning: The frame.append method is deprecated and will be removed from pandas in a future version. Use pandas.concat instead.\n",
      "  real_estate_prices_all = real_estate_prices_all.append(df, ignore_index=True)\n",
      "/var/folders/2z/xnw84j3s6677slw3jh12jk_c0000gp/T/ipykernel_65901/368918076.py:8: FutureWarning: The frame.append method is deprecated and will be removed from pandas in a future version. Use pandas.concat instead.\n",
      "  real_estate_prices_all = real_estate_prices_all.append(df, ignore_index=True)\n"
     ]
    }
   ],
   "source": [
    "# loop through the sheet names and load each sheet into a pandas dataframe\n",
    "for sheet in real_estate_prices.sheet_names:\n",
    "    # load the current sheet into a pandas dataframe\n",
    "    df = real_estate_prices.parse(sheet_name=sheet)\n",
    "    # add a new column called 'sheet_name' to store the sheet name\n",
    "    df['sheet_name'] = sheet\n",
    "    # append the current sheet dataframe to the real_estate_prices_all dataframe\n",
    "    real_estate_prices_all = real_estate_prices_all.append(df, ignore_index=True)"
   ]
  },
  {
   "cell_type": "code",
   "execution_count": 104,
   "metadata": {},
   "outputs": [
    {
     "data": {
      "text/plain": [
       "Single_Family_Benchmark       0\n",
       "Two_Storey_HPI                0\n",
       "Townhouse_HPI              1323\n",
       "One_Storey_HPI                0\n",
       "One_Storey_Benchmark          0\n",
       "Composite_HPI                 0\n",
       "sheet_name                    0\n",
       "Two_Storey_Benchmark          0\n",
       "Date                          0\n",
       "Single_Family_HPI             0\n",
       "Townhouse_Benchmark        1323\n",
       "Apartment_HPI              1701\n",
       "Composite_Benchmark           0\n",
       "Apartment_Benchmark        1701\n",
       "dtype: int64"
      ]
     },
     "execution_count": 104,
     "metadata": {},
     "output_type": "execute_result"
    }
   ],
   "source": [
    "real_estate_prices_all.isnull().sum()"
   ]
  },
  {
   "attachments": {},
   "cell_type": "markdown",
   "metadata": {},
   "source": [
    "## check: Townhouse_Benchmark"
   ]
  },
  {
   "cell_type": "code",
   "execution_count": 105,
   "metadata": {},
   "outputs": [
    {
     "data": {
      "text/plain": [
       "array(['Bancroft_and_Area', 'Kawartha_Lakes', 'North_Bay',\n",
       "       'Northumberland_Hills', 'Peterborough_and_Kawarthas',\n",
       "       'Quinte_and_District', 'Simcoe_and_District',\n",
       "       'Tillsonburg_District', 'Woodstock_Ingersoll'], dtype=object)"
      ]
     },
     "execution_count": 105,
     "metadata": {},
     "output_type": "execute_result"
    }
   ],
   "source": [
    "# show the rows with null values in the 'Townhouse_Benchmark' column\n",
    "# real_estate_prices_all[real_estate_prices_all['Townhouse_Benchmark'].isnull()]\n",
    "\n",
    "# the unique value of the above result dataframe's column 'sheet_name'\n",
    "real_estate_prices_all[real_estate_prices_all['Apartment_Benchmark'].isnull()]['sheet_name'].unique()"
   ]
  },
  {
   "cell_type": "code",
   "execution_count": 106,
   "metadata": {},
   "outputs": [
    {
     "data": {
      "text/plain": [
       "'Bancroft_and_Area'"
      ]
     },
     "execution_count": 106,
     "metadata": {},
     "output_type": "execute_result"
    },
    {
     "data": {
      "text/plain": [
       "0"
      ]
     },
     "execution_count": 106,
     "metadata": {},
     "output_type": "execute_result"
    },
    {
     "data": {
      "text/plain": [
       "'Kawartha_Lakes'"
      ]
     },
     "execution_count": 106,
     "metadata": {},
     "output_type": "execute_result"
    },
    {
     "data": {
      "text/plain": [
       "0"
      ]
     },
     "execution_count": 106,
     "metadata": {},
     "output_type": "execute_result"
    },
    {
     "data": {
      "text/plain": [
       "'North_Bay'"
      ]
     },
     "execution_count": 106,
     "metadata": {},
     "output_type": "execute_result"
    },
    {
     "data": {
      "text/plain": [
       "0"
      ]
     },
     "execution_count": 106,
     "metadata": {},
     "output_type": "execute_result"
    },
    {
     "data": {
      "text/plain": [
       "'Northumberland_Hills'"
      ]
     },
     "execution_count": 106,
     "metadata": {},
     "output_type": "execute_result"
    },
    {
     "data": {
      "text/plain": [
       "0"
      ]
     },
     "execution_count": 106,
     "metadata": {},
     "output_type": "execute_result"
    },
    {
     "data": {
      "text/plain": [
       "'Peterborough_and_Kawarthas'"
      ]
     },
     "execution_count": 106,
     "metadata": {},
     "output_type": "execute_result"
    },
    {
     "data": {
      "text/plain": [
       "0"
      ]
     },
     "execution_count": 106,
     "metadata": {},
     "output_type": "execute_result"
    },
    {
     "data": {
      "text/plain": [
       "'Quinte_and_District'"
      ]
     },
     "execution_count": 106,
     "metadata": {},
     "output_type": "execute_result"
    },
    {
     "data": {
      "text/plain": [
       "0"
      ]
     },
     "execution_count": 106,
     "metadata": {},
     "output_type": "execute_result"
    },
    {
     "data": {
      "text/plain": [
       "'Simcoe_and_District'"
      ]
     },
     "execution_count": 106,
     "metadata": {},
     "output_type": "execute_result"
    },
    {
     "data": {
      "text/plain": [
       "0"
      ]
     },
     "execution_count": 106,
     "metadata": {},
     "output_type": "execute_result"
    },
    {
     "data": {
      "text/plain": [
       "'Tillsonburg_District'"
      ]
     },
     "execution_count": 106,
     "metadata": {},
     "output_type": "execute_result"
    },
    {
     "data": {
      "text/plain": [
       "0"
      ]
     },
     "execution_count": 106,
     "metadata": {},
     "output_type": "execute_result"
    },
    {
     "data": {
      "text/plain": [
       "'Woodstock_Ingersoll'"
      ]
     },
     "execution_count": 106,
     "metadata": {},
     "output_type": "execute_result"
    },
    {
     "data": {
      "text/plain": [
       "0"
      ]
     },
     "execution_count": 106,
     "metadata": {},
     "output_type": "execute_result"
    }
   ],
   "source": [
    "# show the sheet Tillsonburg_District 's size and column names\n",
    "\n",
    "for sheet in ['Bancroft_and_Area', 'Kawartha_Lakes', 'North_Bay',\n",
    "       'Northumberland_Hills', 'Peterborough_and_Kawarthas',\n",
    "       'Quinte_and_District', 'Simcoe_and_District',\n",
    "       'Tillsonburg_District', 'Woodstock_Ingersoll']:\n",
    "    # the column names contains the 'Townhouse_Benchmark' string\n",
    "    sheet\n",
    "   #  real_estate_prices.parse(sheet_name=sheet).columns.str.contains('Townhouse_Benchmark')\n",
    "    real_estate_prices.parse(sheet_name=sheet).columns.str.contains('Apartment_HPI').sum()\n",
    "   #  print(f'{sheet}: {real_estate_prices.parse(sheet_name=sheet).shape}')\n",
    "   #  print(f'{sheet}: {real_estate_prices.parse(sheet_name=sheet).columns}')\n",
    "    \n",
    "\n"
   ]
  },
  {
   "attachments": {},
   "cell_type": "markdown",
   "metadata": {},
   "source": [
    "## check: Townhouse_HPI"
   ]
  },
  {
   "cell_type": "code",
   "execution_count": 107,
   "metadata": {},
   "outputs": [
    {
     "data": {
      "text/plain": [
       "array(['Bancroft_and_Area', 'Huron_Perth', 'Kawartha_Lakes', 'Lakelands',\n",
       "       'North_Bay', 'Peterborough_and_Kawarthas', 'Tillsonburg_District'],\n",
       "      dtype=object)"
      ]
     },
     "execution_count": 107,
     "metadata": {},
     "output_type": "execute_result"
    }
   ],
   "source": [
    "# show the rows with null values in the 'Townhouse_HPI' column\n",
    "real_estate_prices_all[real_estate_prices_all['Townhouse_HPI'].isnull()]['sheet_name'].unique()"
   ]
  },
  {
   "cell_type": "code",
   "execution_count": null,
   "metadata": {},
   "outputs": [],
   "source": []
  },
  {
   "cell_type": "code",
   "execution_count": 108,
   "metadata": {},
   "outputs": [
    {
     "data": {
      "text/plain": [
       "'Bancroft_and_Area'"
      ]
     },
     "execution_count": 108,
     "metadata": {},
     "output_type": "execute_result"
    },
    {
     "data": {
      "text/plain": [
       "0"
      ]
     },
     "execution_count": 108,
     "metadata": {},
     "output_type": "execute_result"
    },
    {
     "data": {
      "text/plain": [
       "'Huron_Perth'"
      ]
     },
     "execution_count": 108,
     "metadata": {},
     "output_type": "execute_result"
    },
    {
     "data": {
      "text/plain": [
       "0"
      ]
     },
     "execution_count": 108,
     "metadata": {},
     "output_type": "execute_result"
    },
    {
     "data": {
      "text/plain": [
       "'Kawartha_Lakes'"
      ]
     },
     "execution_count": 108,
     "metadata": {},
     "output_type": "execute_result"
    },
    {
     "data": {
      "text/plain": [
       "0"
      ]
     },
     "execution_count": 108,
     "metadata": {},
     "output_type": "execute_result"
    },
    {
     "data": {
      "text/plain": [
       "'Lakelands'"
      ]
     },
     "execution_count": 108,
     "metadata": {},
     "output_type": "execute_result"
    },
    {
     "data": {
      "text/plain": [
       "0"
      ]
     },
     "execution_count": 108,
     "metadata": {},
     "output_type": "execute_result"
    },
    {
     "data": {
      "text/plain": [
       "'North_Bay'"
      ]
     },
     "execution_count": 108,
     "metadata": {},
     "output_type": "execute_result"
    },
    {
     "data": {
      "text/plain": [
       "0"
      ]
     },
     "execution_count": 108,
     "metadata": {},
     "output_type": "execute_result"
    },
    {
     "data": {
      "text/plain": [
       "'Peterborough_and_Kawarthas'"
      ]
     },
     "execution_count": 108,
     "metadata": {},
     "output_type": "execute_result"
    },
    {
     "data": {
      "text/plain": [
       "0"
      ]
     },
     "execution_count": 108,
     "metadata": {},
     "output_type": "execute_result"
    },
    {
     "data": {
      "text/plain": [
       "'Tillsonburg_District'"
      ]
     },
     "execution_count": 108,
     "metadata": {},
     "output_type": "execute_result"
    },
    {
     "data": {
      "text/plain": [
       "0"
      ]
     },
     "execution_count": 108,
     "metadata": {},
     "output_type": "execute_result"
    }
   ],
   "source": [
    "\n",
    "for sheet in ['Bancroft_and_Area', 'Huron_Perth', 'Kawartha_Lakes', 'Lakelands',\n",
    "       'North_Bay', 'Peterborough_and_Kawarthas', 'Tillsonburg_District']: \n",
    "        # the column names contains the 'Townhouse_Benchmark' string\n",
    "    sheet\n",
    "   #  real_estate_prices.parse(sheet_name=sheet).columns.str.contains('Townhouse_Benchmark')\n",
    "    real_estate_prices.parse(sheet_name=sheet).columns.str.contains('Townhouse_HPI').sum()\n",
    "   #  print(f'{sheet}: {real_estate_prices.parse(sheet_name=sheet).shape}')\n",
    "   #  print(f'{sheet}: {real_estate_prices.parse(sheet_name=sheet).columns}')"
   ]
  },
  {
   "cell_type": "code",
   "execution_count": 109,
   "metadata": {},
   "outputs": [
    {
     "data": {
      "text/plain": [
       "RangeIndex(start=0, stop=7938, step=1)"
      ]
     },
     "execution_count": 109,
     "metadata": {},
     "output_type": "execute_result"
    }
   ],
   "source": [
    "# check the index of real_estate_prices_all\n",
    "real_estate_prices_all.index"
   ]
  },
  {
   "cell_type": "code",
   "execution_count": 110,
   "metadata": {},
   "outputs": [],
   "source": [
    "column_name_old = real_estate_prices_all.columns"
   ]
  },
  {
   "cell_type": "code",
   "execution_count": 111,
   "metadata": {},
   "outputs": [
    {
     "data": {
      "text/plain": [
       "['Apartment_Benchmark',\n",
       " 'Apartment_HPI',\n",
       " 'Composite_Benchmark',\n",
       " 'Composite_HPI',\n",
       " 'Date',\n",
       " 'One_Storey_Benchmark',\n",
       " 'One_Storey_HPI',\n",
       " 'Single_Family_Benchmark',\n",
       " 'Single_Family_HPI',\n",
       " 'Townhouse_Benchmark',\n",
       " 'Townhouse_HPI',\n",
       " 'Two_Storey_Benchmark',\n",
       " 'Two_Storey_HPI',\n",
       " 'sheet_name']"
      ]
     },
     "execution_count": 111,
     "metadata": {},
     "output_type": "execute_result"
    }
   ],
   "source": [
    "# check the column names, sort them and show the result\n",
    "column_name_old.sort_values().tolist()"
   ]
  },
  {
   "cell_type": "code",
   "execution_count": 112,
   "metadata": {},
   "outputs": [],
   "source": [
    "# new column order\n",
    "new_column_name_list = [   'Date',\n",
    "    'sheet_name',\n",
    "    'Apartment_Benchmark',\n",
    "    'Apartment_HPI',\n",
    "    'Composite_Benchmark',\n",
    "    'Composite_HPI',\n",
    "    'One_Storey_Benchmark',\n",
    "    'One_Storey_HPI',\n",
    "    'Single_Family_Benchmark',\n",
    "    'Single_Family_HPI',\n",
    "    'Townhouse_Benchmark',\n",
    "    'Townhouse_HPI',\n",
    "    'Two_Storey_Benchmark',\n",
    "    'Two_Storey_HPI'\n",
    " ]\n",
    "\n"
   ]
  },
  {
   "cell_type": "code",
   "execution_count": 113,
   "metadata": {},
   "outputs": [],
   "source": [
    "# re-order the columns of real_estate_prices_all\n",
    "real_estate_prices_all = real_estate_prices_all[new_column_name_list]\n",
    "\n",
    "# rename the columns of real_estate_prices_all: 'sheet_name' to 'Region'\n",
    "real_estate_prices_all.rename(columns={'sheet_name': 'Region'}, inplace=True)"
   ]
  },
  {
   "cell_type": "code",
   "execution_count": 114,
   "metadata": {},
   "outputs": [],
   "source": [
    "# make a copy of the real_estate_prices_all dataframe\n",
    "real_estate_prices_all_cleaned = real_estate_prices_all.copy()\n",
    "\n",
    "# rename the values under the Region column, replace the 'Aggregate' with 'Canada', replace the '_' with ' '\n",
    "real_estate_prices_all_cleaned['Region'] = real_estate_prices_all_cleaned['Region'].str.replace('_', ' ')"
   ]
  },
  {
   "cell_type": "code",
   "execution_count": 115,
   "metadata": {},
   "outputs": [
    {
     "data": {
      "text/plain": [
       "array(['Aggregate', 'Vancouver Island', 'Victoria', 'Lower Mainland',\n",
       "       'Greater Vancouver', 'Fraser Valley', 'Okanagan Valley', 'Calgary',\n",
       "       'Edmonton', 'Regina', 'Saskatoon', 'Winnipeg', 'Bancroft and Area',\n",
       "       'Barrie and District', 'Brantford Region', 'Cambridge',\n",
       "       'Grey Bruce Owen Sound', 'Guelph and District',\n",
       "       'Hamilton Burlington', 'Huron Perth', 'Kawartha Lakes',\n",
       "       'Kitchener Waterloo', 'Lakelands', 'London St Thomas',\n",
       "       'Mississauga', 'Niagara Region', 'North Bay',\n",
       "       'Northumberland Hills', 'Oakville Milton', 'Ottawa',\n",
       "       'Peterborough and Kawarthas', 'Quinte and District',\n",
       "       'Simcoe and District', 'Southern Georgian Bay',\n",
       "       'Tillsonburg District', 'Greater Toronto', 'Woodstock Ingersoll',\n",
       "       'Montreal CMA', 'Quebec CMA', 'Greater Moncton',\n",
       "       'Newfoundland and Labrador', 'St Johns NL'], dtype=object)"
      ]
     },
     "execution_count": 115,
     "metadata": {},
     "output_type": "execute_result"
    }
   ],
   "source": [
    "# show the unique values of the Region column\n",
    "real_estate_prices_all_cleaned['Region'].unique()"
   ]
  },
  {
   "cell_type": "code",
   "execution_count": 116,
   "metadata": {},
   "outputs": [
    {
     "data": {
      "text/plain": [
       "['Date',\n",
       " 'Region',\n",
       " 'Apartment_Benchmark',\n",
       " 'Apartment_HPI',\n",
       " 'Composite_Benchmark',\n",
       " 'Composite_HPI',\n",
       " 'One_Storey_Benchmark',\n",
       " 'One_Storey_HPI',\n",
       " 'Single_Family_Benchmark',\n",
       " 'Single_Family_HPI',\n",
       " 'Townhouse_Benchmark',\n",
       " 'Townhouse_HPI',\n",
       " 'Two_Storey_Benchmark',\n",
       " 'Two_Storey_HPI']"
      ]
     },
     "execution_count": 116,
     "metadata": {},
     "output_type": "execute_result"
    }
   ],
   "source": [
    "\n",
    "real_estate_prices_all_cleaned.columns.tolist()"
   ]
  },
  {
   "cell_type": "code",
   "execution_count": 117,
   "metadata": {},
   "outputs": [
    {
     "data": {
      "text/plain": [
       "['Date (Quarter) O.R.I.',\n",
       " 'Region(O.R.I.) (city prov)',\n",
       " 'Property Type(O.R.I.)',\n",
       " 'Measure Baseline (O.R.I.)',\n",
       " 'O.R.I.']"
      ]
     },
     "execution_count": 117,
     "metadata": {},
     "output_type": "execute_result"
    }
   ],
   "source": [
    "office_realestate_index_cleaned.columns.tolist()"
   ]
  },
  {
   "cell_type": "code",
   "execution_count": 118,
   "metadata": {},
   "outputs": [],
   "source": [
    "# convert it to a pivot table, the columns to be moved as values of Indicators column: \n",
    "columns_to_be_moved = [ 'Apartment_Benchmark',\n",
    "                        'Apartment_HPI',\n",
    "                        'Composite_Benchmark',\n",
    "                        'Composite_HPI',\n",
    "                        'One_Storey_Benchmark',\n",
    "                        'One_Storey_HPI',\n",
    "                        'Single_Family_Benchmark',\n",
    "                        'Single_Family_HPI',\n",
    "                        'Townhouse_Benchmark',\n",
    "                        'Townhouse_HPI',\n",
    "                        'Two_Storey_Benchmark',\n",
    "                        'Two_Storey_HPI']\n"
   ]
  },
  {
   "cell_type": "code",
   "execution_count": 119,
   "metadata": {},
   "outputs": [
    {
     "data": {
      "text/html": [
       "<div>\n",
       "<style scoped>\n",
       "    .dataframe tbody tr th:only-of-type {\n",
       "        vertical-align: middle;\n",
       "    }\n",
       "\n",
       "    .dataframe tbody tr th {\n",
       "        vertical-align: top;\n",
       "    }\n",
       "\n",
       "    .dataframe thead th {\n",
       "        text-align: right;\n",
       "    }\n",
       "</style>\n",
       "<table border=\"1\" class=\"dataframe\">\n",
       "  <thead>\n",
       "    <tr style=\"text-align: right;\">\n",
       "      <th></th>\n",
       "      <th>Date</th>\n",
       "      <th>Region</th>\n",
       "      <th>Indicator 1</th>\n",
       "      <th>Value</th>\n",
       "    </tr>\n",
       "  </thead>\n",
       "  <tbody>\n",
       "    <tr>\n",
       "      <th>0</th>\n",
       "      <td>2005-01-01</td>\n",
       "      <td>Aggregate</td>\n",
       "      <td>Apartment_Benchmark</td>\n",
       "      <td>190600</td>\n",
       "    </tr>\n",
       "    <tr>\n",
       "      <th>1</th>\n",
       "      <td>2005-02-01</td>\n",
       "      <td>Aggregate</td>\n",
       "      <td>Apartment_Benchmark</td>\n",
       "      <td>192300</td>\n",
       "    </tr>\n",
       "    <tr>\n",
       "      <th>2</th>\n",
       "      <td>2005-03-01</td>\n",
       "      <td>Aggregate</td>\n",
       "      <td>Apartment_Benchmark</td>\n",
       "      <td>193200</td>\n",
       "    </tr>\n",
       "    <tr>\n",
       "      <th>3</th>\n",
       "      <td>2005-04-01</td>\n",
       "      <td>Aggregate</td>\n",
       "      <td>Apartment_Benchmark</td>\n",
       "      <td>194600</td>\n",
       "    </tr>\n",
       "    <tr>\n",
       "      <th>4</th>\n",
       "      <td>2005-05-01</td>\n",
       "      <td>Aggregate</td>\n",
       "      <td>Apartment_Benchmark</td>\n",
       "      <td>196100</td>\n",
       "    </tr>\n",
       "  </tbody>\n",
       "</table>\n",
       "</div>"
      ],
      "text/plain": [
       "        Date     Region          Indicator 1   Value\n",
       "0 2005-01-01  Aggregate  Apartment_Benchmark  190600\n",
       "1 2005-02-01  Aggregate  Apartment_Benchmark  192300\n",
       "2 2005-03-01  Aggregate  Apartment_Benchmark  193200\n",
       "3 2005-04-01  Aggregate  Apartment_Benchmark  194600\n",
       "4 2005-05-01  Aggregate  Apartment_Benchmark  196100"
      ]
     },
     "execution_count": 119,
     "metadata": {},
     "output_type": "execute_result"
    },
    {
     "data": {
      "text/html": [
       "<div>\n",
       "<style scoped>\n",
       "    .dataframe tbody tr th:only-of-type {\n",
       "        vertical-align: middle;\n",
       "    }\n",
       "\n",
       "    .dataframe tbody tr th {\n",
       "        vertical-align: top;\n",
       "    }\n",
       "\n",
       "    .dataframe thead th {\n",
       "        text-align: right;\n",
       "    }\n",
       "</style>\n",
       "<table border=\"1\" class=\"dataframe\">\n",
       "  <thead>\n",
       "    <tr style=\"text-align: right;\">\n",
       "      <th></th>\n",
       "      <th>Date</th>\n",
       "      <th>Region</th>\n",
       "      <th>Indicator 1</th>\n",
       "      <th>Indicator 2</th>\n",
       "      <th>Value</th>\n",
       "    </tr>\n",
       "  </thead>\n",
       "  <tbody>\n",
       "    <tr>\n",
       "      <th>0</th>\n",
       "      <td>2005-01-01</td>\n",
       "      <td>Aggregate</td>\n",
       "      <td>Apartment_Benchmark</td>\n",
       "      <td>Apartment_Benchmark</td>\n",
       "      <td>190600</td>\n",
       "    </tr>\n",
       "    <tr>\n",
       "      <th>1</th>\n",
       "      <td>2005-02-01</td>\n",
       "      <td>Aggregate</td>\n",
       "      <td>Apartment_Benchmark</td>\n",
       "      <td>Apartment_Benchmark</td>\n",
       "      <td>192300</td>\n",
       "    </tr>\n",
       "    <tr>\n",
       "      <th>2</th>\n",
       "      <td>2005-03-01</td>\n",
       "      <td>Aggregate</td>\n",
       "      <td>Apartment_Benchmark</td>\n",
       "      <td>Apartment_Benchmark</td>\n",
       "      <td>193200</td>\n",
       "    </tr>\n",
       "    <tr>\n",
       "      <th>3</th>\n",
       "      <td>2005-04-01</td>\n",
       "      <td>Aggregate</td>\n",
       "      <td>Apartment_Benchmark</td>\n",
       "      <td>Apartment_Benchmark</td>\n",
       "      <td>194600</td>\n",
       "    </tr>\n",
       "    <tr>\n",
       "      <th>4</th>\n",
       "      <td>2005-05-01</td>\n",
       "      <td>Aggregate</td>\n",
       "      <td>Apartment_Benchmark</td>\n",
       "      <td>Apartment_Benchmark</td>\n",
       "      <td>196100</td>\n",
       "    </tr>\n",
       "  </tbody>\n",
       "</table>\n",
       "</div>"
      ],
      "text/plain": [
       "        Date     Region          Indicator 1          Indicator 2   Value\n",
       "0 2005-01-01  Aggregate  Apartment_Benchmark  Apartment_Benchmark  190600\n",
       "1 2005-02-01  Aggregate  Apartment_Benchmark  Apartment_Benchmark  192300\n",
       "2 2005-03-01  Aggregate  Apartment_Benchmark  Apartment_Benchmark  193200\n",
       "3 2005-04-01  Aggregate  Apartment_Benchmark  Apartment_Benchmark  194600\n",
       "4 2005-05-01  Aggregate  Apartment_Benchmark  Apartment_Benchmark  196100"
      ]
     },
     "execution_count": 119,
     "metadata": {},
     "output_type": "execute_result"
    },
    {
     "data": {
      "text/html": [
       "<div>\n",
       "<style scoped>\n",
       "    .dataframe tbody tr th:only-of-type {\n",
       "        vertical-align: middle;\n",
       "    }\n",
       "\n",
       "    .dataframe tbody tr th {\n",
       "        vertical-align: top;\n",
       "    }\n",
       "\n",
       "    .dataframe thead th {\n",
       "        text-align: right;\n",
       "    }\n",
       "</style>\n",
       "<table border=\"1\" class=\"dataframe\">\n",
       "  <thead>\n",
       "    <tr style=\"text-align: right;\">\n",
       "      <th></th>\n",
       "      <th>Date</th>\n",
       "      <th>Region</th>\n",
       "      <th>Housing Type</th>\n",
       "      <th>Benchmark HPI</th>\n",
       "      <th>Value</th>\n",
       "    </tr>\n",
       "  </thead>\n",
       "  <tbody>\n",
       "    <tr>\n",
       "      <th>0</th>\n",
       "      <td>2005-01-01</td>\n",
       "      <td>Aggregate</td>\n",
       "      <td>Apartment</td>\n",
       "      <td>Benchmark</td>\n",
       "      <td>190600</td>\n",
       "    </tr>\n",
       "    <tr>\n",
       "      <th>1</th>\n",
       "      <td>2005-02-01</td>\n",
       "      <td>Aggregate</td>\n",
       "      <td>Apartment</td>\n",
       "      <td>Benchmark</td>\n",
       "      <td>192300</td>\n",
       "    </tr>\n",
       "    <tr>\n",
       "      <th>2</th>\n",
       "      <td>2005-03-01</td>\n",
       "      <td>Aggregate</td>\n",
       "      <td>Apartment</td>\n",
       "      <td>Benchmark</td>\n",
       "      <td>193200</td>\n",
       "    </tr>\n",
       "    <tr>\n",
       "      <th>3</th>\n",
       "      <td>2005-04-01</td>\n",
       "      <td>Aggregate</td>\n",
       "      <td>Apartment</td>\n",
       "      <td>Benchmark</td>\n",
       "      <td>194600</td>\n",
       "    </tr>\n",
       "    <tr>\n",
       "      <th>4</th>\n",
       "      <td>2005-05-01</td>\n",
       "      <td>Aggregate</td>\n",
       "      <td>Apartment</td>\n",
       "      <td>Benchmark</td>\n",
       "      <td>196100</td>\n",
       "    </tr>\n",
       "  </tbody>\n",
       "</table>\n",
       "</div>"
      ],
      "text/plain": [
       "        Date     Region Housing Type Benchmark HPI   Value\n",
       "0 2005-01-01  Aggregate    Apartment     Benchmark  190600\n",
       "1 2005-02-01  Aggregate    Apartment     Benchmark  192300\n",
       "2 2005-03-01  Aggregate    Apartment     Benchmark  193200\n",
       "3 2005-04-01  Aggregate    Apartment     Benchmark  194600\n",
       "4 2005-05-01  Aggregate    Apartment     Benchmark  196100"
      ]
     },
     "execution_count": 119,
     "metadata": {},
     "output_type": "execute_result"
    }
   ],
   "source": [
    "# convert it to a pivot table, the columns to be moved as values of Indicators column: the values in columns_to_be_moved.append\n",
    "# create two new columns: \n",
    "# 'Date' and 'Region' \n",
    "# Column name 1: Housing Type\n",
    "# Values: Apartment, Single Family, Townhouse, etc.\n",
    "# Column name 2: Benchmark/HPI\n",
    "# Values: Benchmark, HPI.\n",
    "\n",
    "# try something like this : [x.replace('_Benchmark', '').replace('_HPI', '') for x in columns_to_be_moved]\n",
    "\n",
    "\n",
    "# create a new dataframe called real_estate_prices_all_pivot_cleaned\n",
    "real_estate_prices_all_pivot_cleaned = pd.melt(real_estate_prices_all_cleaned, id_vars=['Date', 'Region'], value_vars=columns_to_be_moved, var_name='Indicator 1', value_name='Value')\n",
    "\n",
    "# show the first 5 rows of the real_estate_prices_all_pivot_cleaned dataframe\n",
    "real_estate_prices_all_pivot_cleaned.head()\n",
    "\n",
    "# create a new column called 'Indicator 2' and assign the values of 'Indicator 1' column\n",
    "real_estate_prices_all_pivot_cleaned['Indicator 2'] = real_estate_prices_all_pivot_cleaned['Indicator 1']\n",
    "# reorder the columns of real_estate_prices_all_pivot_cleaned\n",
    "real_estate_prices_all_pivot_cleaned = real_estate_prices_all_pivot_cleaned[['Date', 'Region', 'Indicator 1', 'Indicator 2', 'Value']]\n",
    "\n",
    "# show the first 5 rows of the real_estate_prices_all_pivot_cleaned dataframe\n",
    "real_estate_prices_all_pivot_cleaned.head()\n",
    "\n",
    "# rename the values under the Indicator 1 column, remove everything after the last '_' include the last '_', replace the '_' with ' '\n",
    "real_estate_prices_all_pivot_cleaned['Indicator 1'] = real_estate_prices_all_pivot_cleaned['Indicator 1'].str.split('_').str[:-1].str.join(' ')\n",
    "\n",
    "# rename the values under the Indicator 2 column, remove everything before the last '_' include the last '_'\n",
    "real_estate_prices_all_pivot_cleaned['Indicator 2'] = real_estate_prices_all_pivot_cleaned['Indicator 2'].str.split('_').str[-1]\n",
    "\n",
    "# rename the column names: 'Indicator 1' to 'Housing Type', 'Indicator 2' to 'Benchmark/HPI'\n",
    "real_estate_prices_all_pivot_cleaned.rename(columns={'Indicator 1': 'Housing Type', 'Indicator 2': 'Benchmark HPI'}, inplace=True)\n",
    "\n",
    "# show the first 5 rows of the real_estate_prices_all_pivot_cleaned dataframe\n",
    "real_estate_prices_all_pivot_cleaned.head()\n",
    "\n",
    "\n"
   ]
  },
  {
   "cell_type": "code",
   "execution_count": 120,
   "metadata": {},
   "outputs": [
    {
     "data": {
      "text/plain": [
       "['Date',\n",
       " 'Region',\n",
       " 'Apartment_Benchmark',\n",
       " 'Apartment_HPI',\n",
       " 'Composite_Benchmark',\n",
       " 'Composite_HPI',\n",
       " 'One_Storey_Benchmark',\n",
       " 'One_Storey_HPI',\n",
       " 'Single_Family_Benchmark',\n",
       " 'Single_Family_HPI',\n",
       " 'Townhouse_Benchmark',\n",
       " 'Townhouse_HPI',\n",
       " 'Two_Storey_Benchmark',\n",
       " 'Two_Storey_HPI']"
      ]
     },
     "execution_count": 120,
     "metadata": {},
     "output_type": "execute_result"
    }
   ],
   "source": [
    "# show the column names: real_estate_prices_all_cleaned\n",
    "real_estate_prices_all_cleaned.columns.tolist()"
   ]
  },
  {
   "cell_type": "code",
   "execution_count": 121,
   "metadata": {},
   "outputs": [
    {
     "data": {
      "text/plain": [
       "array(['Apartment', 'Composite', 'One Storey', 'Single Family',\n",
       "       'Townhouse', 'Two Storey'], dtype=object)"
      ]
     },
     "execution_count": 121,
     "metadata": {},
     "output_type": "execute_result"
    }
   ],
   "source": [
    "# show the unique values of the Housing Type column\n",
    "real_estate_prices_all_pivot_cleaned['Housing Type'].unique()"
   ]
  },
  {
   "cell_type": "code",
   "execution_count": 122,
   "metadata": {},
   "outputs": [
    {
     "data": {
      "text/plain": [
       "array(['Benchmark', 'HPI'], dtype=object)"
      ]
     },
     "execution_count": 122,
     "metadata": {},
     "output_type": "execute_result"
    }
   ],
   "source": [
    "# show the unique values of Benchmark/HPI column\n",
    "real_estate_prices_all_pivot_cleaned['Benchmark HPI'].unique()"
   ]
  },
  {
   "cell_type": "code",
   "execution_count": 123,
   "metadata": {},
   "outputs": [
    {
     "data": {
      "text/plain": [
       "array([2005, 2006, 2007, 2008, 2009, 2010, 2011, 2012, 2013, 2014, 2015,\n",
       "       2016, 2017, 2018, 2019, 2020])"
      ]
     },
     "execution_count": 123,
     "metadata": {},
     "output_type": "execute_result"
    },
    {
     "data": {
      "text/plain": [
       "array([1, 2, 3, 4])"
      ]
     },
     "execution_count": 123,
     "metadata": {},
     "output_type": "execute_result"
    },
    {
     "data": {
      "text/plain": [
       "array([ 1,  2,  3,  4,  5,  6,  7,  8,  9, 10, 11, 12])"
      ]
     },
     "execution_count": 123,
     "metadata": {},
     "output_type": "execute_result"
    },
    {
     "name": "stderr",
     "output_type": "stream",
     "text": [
      "/var/folders/2z/xnw84j3s6677slw3jh12jk_c0000gp/T/ipykernel_65901/340290257.py:5: FutureWarning: Series.dt.weekofyear and Series.dt.week have been deprecated. Please use Series.dt.isocalendar().week instead.\n",
      "  real_estate_prices_all_pivot_cleaned['Date'].dt.week.unique()\n"
     ]
    },
    {
     "data": {
      "text/plain": [
       "array([53,  5,  9, 13, 17, 22, 26, 31, 35, 39, 44, 48, 52, 18,  1, 40, 14,\n",
       "       27, 36, 49, 23, 30])"
      ]
     },
     "execution_count": 123,
     "metadata": {},
     "output_type": "execute_result"
    },
    {
     "data": {
      "text/plain": [
       "array([1])"
      ]
     },
     "execution_count": 123,
     "metadata": {},
     "output_type": "execute_result"
    }
   ],
   "source": [
    "# check the precision of the date column: year, quarter, month, week, or day? .unique() method\n",
    "real_estate_prices_all_pivot_cleaned['Date'].dt.year.unique()\n",
    "real_estate_prices_all_pivot_cleaned['Date'].dt.quarter.unique()\n",
    "real_estate_prices_all_pivot_cleaned['Date'].dt.month.unique()\n",
    "real_estate_prices_all_pivot_cleaned['Date'].dt.week.unique()\n",
    "real_estate_prices_all_pivot_cleaned['Date'].dt.day.unique()\n",
    "\n"
   ]
  },
  {
   "cell_type": "code",
   "execution_count": 124,
   "metadata": {},
   "outputs": [
    {
     "data": {
      "text/plain": [
       "array(['Aggregate', 'Vancouver Island', 'Victoria', 'Lower Mainland',\n",
       "       'Greater Vancouver', 'Fraser Valley', 'Okanagan Valley', 'Calgary',\n",
       "       'Edmonton', 'Regina', 'Saskatoon', 'Winnipeg', 'Bancroft and Area',\n",
       "       'Barrie and District', 'Brantford Region', 'Cambridge',\n",
       "       'Grey Bruce Owen Sound', 'Guelph and District',\n",
       "       'Hamilton Burlington', 'Huron Perth', 'Kawartha Lakes',\n",
       "       'Kitchener Waterloo', 'Lakelands', 'London St Thomas',\n",
       "       'Mississauga', 'Niagara Region', 'North Bay',\n",
       "       'Northumberland Hills', 'Oakville Milton', 'Ottawa',\n",
       "       'Peterborough and Kawarthas', 'Quinte and District',\n",
       "       'Simcoe and District', 'Southern Georgian Bay',\n",
       "       'Tillsonburg District', 'Greater Toronto', 'Woodstock Ingersoll',\n",
       "       'Montreal CMA', 'Quebec CMA', 'Greater Moncton',\n",
       "       'Newfoundland and Labrador', 'St Johns NL'], dtype=object)"
      ]
     },
     "execution_count": 124,
     "metadata": {},
     "output_type": "execute_result"
    }
   ],
   "source": [
    "real_estate_prices_all_pivot_cleaned['Region'].unique()"
   ]
  },
  {
   "cell_type": "code",
   "execution_count": 125,
   "metadata": {},
   "outputs": [],
   "source": [
    "# rename columns names:\n",
    "# Date             --> \"Date (month) R.E.P.\"\n",
    "# Region           --> \"Region (inc. Aggregate) R.E.P.\"\n",
    "# Housing Type     --> \"Housing Type (R.E.P.)\"\n",
    "# Benchmark/HPI    --> \"Benchmark/HPI (R.E.P.)\"\n",
    "# Value            --> \"Real Estate Price\"\n",
    "\n",
    "# rename columns using .rename() method\n",
    "real_estate_prices_all_pivot_cleaned.rename(columns={'Date': 'Date (Month) R.E.P.', 'Region': 'Region (R.E.P)(inc. Aggregate)', 'Housing Type': 'Housing Type (R.E.P.)', 'Benchmark/HPI': 'Benchmark/HPI (R.E.P.)', 'Value': 'Real Estate Price'}, inplace=True)\n",
    "\n",
    "\n"
   ]
  },
  {
   "cell_type": "code",
   "execution_count": 126,
   "metadata": {},
   "outputs": [],
   "source": [
    "# write into csv file\n",
    "real_estate_prices_all_pivot_cleaned.to_csv('data_cleaned/real_estate_prices_all_pivot_cleaned.csv', index=False)"
   ]
  },
  {
   "attachments": {},
   "cell_type": "markdown",
   "metadata": {},
   "source": [
    "# Recheck the column names in each CSV file under the folder data_cleaned/\n"
   ]
  },
  {
   "cell_type": "code",
   "execution_count": 127,
   "metadata": {},
   "outputs": [
    {
     "data": {
      "text/plain": [
       "['data_cleaned/consumer_index_cleaned.csv',\n",
       " 'data_cleaned/housing_price_index_pivot_cleaned.csv',\n",
       " 'data_cleaned/monthly_earnings_pivot_cleaned.csv',\n",
       " 'data_cleaned/office_realestate_index_cleaned.csv',\n",
       " 'data_cleaned/real_estate_numbers_cleaned.csv',\n",
       " 'data_cleaned/real_estate_prices_all_pivot_cleaned.csv']"
      ]
     },
     "execution_count": 127,
     "metadata": {},
     "output_type": "execute_result"
    },
    {
     "data": {
      "text/plain": [
       "Date (Month) C.I.               object\n",
       "Region (C.I.) (Canada Only)     object\n",
       "Measures (C.I.)                 object\n",
       "Measure Baseline (C.I.)         object\n",
       "Consumer Index                 float64\n",
       "dtype: object"
      ]
     },
     "execution_count": 127,
     "metadata": {},
     "output_type": "execute_result"
    },
    {
     "data": {
      "text/plain": [
       "Date (Month) H.P.I.        object\n",
       "Property Type (H.P.I.)     object\n",
       "H.P.I.                    float64\n",
       "dtype: object"
      ]
     },
     "execution_count": 127,
     "metadata": {},
     "output_type": "execute_result"
    },
    {
     "data": {
      "text/plain": [
       "Date (Month) M.E.                 object\n",
       "Province (inc. Canada) (M.E.)     object\n",
       "Monthly Earnings                 float64\n",
       "dtype: object"
      ]
     },
     "execution_count": 127,
     "metadata": {},
     "output_type": "execute_result"
    },
    {
     "data": {
      "text/plain": [
       "Date (Quarter) O.R.I.          object\n",
       "Region(O.R.I.) (city prov)     object\n",
       "Property Type(O.R.I.)          object\n",
       "Measure Baseline (O.R.I.)      object\n",
       "O.R.I.                        float64\n",
       "dtype: object"
      ]
     },
     "execution_count": 127,
     "metadata": {},
     "output_type": "execute_result"
    },
    {
     "data": {
      "text/plain": [
       "Date (Year) R.E.N.                 object\n",
       "Province (R.E.N.) (inc. Canada)    object\n",
       "Dguid                              object\n",
       "Housing Estimates (R.E.N)          object\n",
       "Type Of Unit                       object\n",
       "Uom                                object\n",
       "Uom Id                              int64\n",
       "Scalar Factor                      object\n",
       "Scalar Id                           int64\n",
       "Vector                             object\n",
       "Coordinate                         object\n",
       "Real Estate Number                  int64\n",
       "Decimals                            int64\n",
       "dtype: object"
      ]
     },
     "execution_count": 127,
     "metadata": {},
     "output_type": "execute_result"
    },
    {
     "data": {
      "text/plain": [
       "Date (Month) R.E.P.                object\n",
       "Region (R.E.P)(inc. Aggregate)     object\n",
       "Housing Type (R.E.P.)              object\n",
       "Benchmark HPI                      object\n",
       "Real Estate Price                 float64\n",
       "dtype: object"
      ]
     },
     "execution_count": 127,
     "metadata": {},
     "output_type": "execute_result"
    }
   ],
   "source": [
    "# Recheck the column names in each CSV file under the folder data_cleaned/\n",
    "# Check the data types of each column in each CSV file under the folder data_cleaned/\n",
    "\n",
    "# read all the csv files under the folder data_cleaned/\n",
    "# create a list of dataframes: data_cleaned\n",
    "data_cleaned_csv = glob.glob('data_cleaned/*.csv')\n",
    "data_cleaned_csv\n",
    "\n",
    "for file in data_cleaned_csv:\n",
    "    # read the csv file into a temp_df_csv dataframe\n",
    "    temp_df_csv = pd.read_csv(file)\n",
    "    temp_df_csv.dtypes\n",
    "\n"
   ]
  },
  {
   "cell_type": "code",
   "execution_count": 128,
   "metadata": {},
   "outputs": [
    {
     "data": {
      "text/plain": [
       "['data_cleaned/consumer_index_cleaned.csv',\n",
       " 'data_cleaned/housing_price_index_pivot_cleaned.csv',\n",
       " 'data_cleaned/monthly_earnings_pivot_cleaned.csv',\n",
       " 'data_cleaned/office_realestate_index_cleaned.csv',\n",
       " 'data_cleaned/real_estate_numbers_cleaned.csv',\n",
       " 'data_cleaned/real_estate_prices_all_pivot_cleaned.csv']"
      ]
     },
     "execution_count": 128,
     "metadata": {},
     "output_type": "execute_result"
    }
   ],
   "source": [
    "data_cleaned_csv"
   ]
  },
  {
   "cell_type": "code",
   "execution_count": 129,
   "metadata": {},
   "outputs": [
    {
     "data": {
      "text/plain": [
       "<_io.TextIOWrapper name='data_cleaned//description/table_cleaned_names_and_column_names_head10.txt' mode='w' encoding='UTF-8'>"
      ]
     },
     "execution_count": 129,
     "metadata": {},
     "output_type": "execute_result"
    }
   ],
   "source": [
    "f"
   ]
  },
  {
   "attachments": {},
   "cell_type": "markdown",
   "metadata": {},
   "source": [
    "# Debug:"
   ]
  },
  {
   "cell_type": "code",
   "execution_count": 130,
   "metadata": {},
   "outputs": [],
   "source": [
    "\n",
    "# real_estate_prices_all_cleaned = real_estate_prices_all_cleaned.melt(id_vars=['Date', 'Region'], value_vars=columns_to_be_moved, var_name='In', value_name='Prices')"
   ]
  },
  {
   "cell_type": "code",
   "execution_count": 131,
   "metadata": {},
   "outputs": [],
   "source": [
    "# ## save the dataframe to a csv file\n",
    "# real_estate_prices_all_cleaned.to_csv('data_cleaned/real_estate_prices_all_cleaned.csv', index=False)\n"
   ]
  },
  {
   "cell_type": "code",
   "execution_count": 132,
   "metadata": {},
   "outputs": [
    {
     "data": {
      "text/plain": [
       "Apartment_Benchmark        1505869800\n",
       "Apartment_HPI                985351.0\n",
       "Composite_Benchmark        2570300700\n",
       "Composite_HPI               1268918.4\n",
       "One_Storey_Benchmark       2629473200\n",
       "One_Storey_HPI              1279233.7\n",
       "Single_Family_Benchmark    2828247200\n",
       "Single_Family_HPI           1277699.8\n",
       "Townhouse_Benchmark        1792923900\n",
       "Townhouse_HPI               1052447.6\n",
       "Two_Storey_Benchmark       3013215600\n",
       "Two_Storey_HPI              1274883.6\n",
       "dtype: object"
      ]
     },
     "execution_count": 132,
     "metadata": {},
     "output_type": "execute_result"
    }
   ],
   "source": [
    "# test the Region column = 'Aggregated' whether equals to the sum of the other rows.\n",
    "\n",
    "# for columns 2 to :, sum the rows where the Region is not 'Aggregated':\n",
    "real_estate_prices_all.iloc[:, 2:].sum(axis=0)"
   ]
  },
  {
   "cell_type": "code",
   "execution_count": 133,
   "metadata": {},
   "outputs": [
    {
     "data": {
      "text/plain": [
       "(189, 14)"
      ]
     },
     "execution_count": 133,
     "metadata": {},
     "output_type": "execute_result"
    }
   ],
   "source": [
    "# for columns 2 to :, sum the rows where the Region is 'Aggregated':\n",
    "real_estate_prices_all[real_estate_prices_all['Region'] == 'Aggregate'].shape"
   ]
  },
  {
   "cell_type": "code",
   "execution_count": 134,
   "metadata": {},
   "outputs": [
    {
     "data": {
      "text/html": [
       "<div>\n",
       "<style scoped>\n",
       "    .dataframe tbody tr th:only-of-type {\n",
       "        vertical-align: middle;\n",
       "    }\n",
       "\n",
       "    .dataframe tbody tr th {\n",
       "        vertical-align: top;\n",
       "    }\n",
       "\n",
       "    .dataframe thead th {\n",
       "        text-align: right;\n",
       "    }\n",
       "</style>\n",
       "<table border=\"1\" class=\"dataframe\">\n",
       "  <thead>\n",
       "    <tr style=\"text-align: right;\">\n",
       "      <th></th>\n",
       "      <th>Apartment_Benchmark</th>\n",
       "      <th>Apartment_HPI</th>\n",
       "      <th>Composite_Benchmark</th>\n",
       "      <th>Composite_HPI</th>\n",
       "      <th>One_Storey_Benchmark</th>\n",
       "      <th>One_Storey_HPI</th>\n",
       "      <th>Single_Family_Benchmark</th>\n",
       "      <th>Single_Family_HPI</th>\n",
       "      <th>Townhouse_Benchmark</th>\n",
       "      <th>Townhouse_HPI</th>\n",
       "      <th>Two_Storey_Benchmark</th>\n",
       "      <th>Two_Storey_HPI</th>\n",
       "    </tr>\n",
       "  </thead>\n",
       "  <tbody>\n",
       "    <tr>\n",
       "      <th>0</th>\n",
       "      <td>190600</td>\n",
       "      <td>100.0</td>\n",
       "      <td>248200</td>\n",
       "      <td>100.0</td>\n",
       "      <td>219800</td>\n",
       "      <td>100.0</td>\n",
       "      <td>267500</td>\n",
       "      <td>100.0</td>\n",
       "      <td>211800</td>\n",
       "      <td>100.0</td>\n",
       "      <td>307200</td>\n",
       "      <td>100.0</td>\n",
       "    </tr>\n",
       "    <tr>\n",
       "      <th>1</th>\n",
       "      <td>192300</td>\n",
       "      <td>100.9</td>\n",
       "      <td>250600</td>\n",
       "      <td>101.0</td>\n",
       "      <td>222000</td>\n",
       "      <td>101.0</td>\n",
       "      <td>270200</td>\n",
       "      <td>101.0</td>\n",
       "      <td>213100</td>\n",
       "      <td>100.6</td>\n",
       "      <td>310600</td>\n",
       "      <td>101.1</td>\n",
       "    </tr>\n",
       "    <tr>\n",
       "      <th>2</th>\n",
       "      <td>193200</td>\n",
       "      <td>101.4</td>\n",
       "      <td>253100</td>\n",
       "      <td>102.0</td>\n",
       "      <td>224600</td>\n",
       "      <td>102.2</td>\n",
       "      <td>273400</td>\n",
       "      <td>102.2</td>\n",
       "      <td>214300</td>\n",
       "      <td>101.2</td>\n",
       "      <td>313900</td>\n",
       "      <td>102.2</td>\n",
       "    </tr>\n",
       "    <tr>\n",
       "      <th>3</th>\n",
       "      <td>194600</td>\n",
       "      <td>102.1</td>\n",
       "      <td>255400</td>\n",
       "      <td>102.9</td>\n",
       "      <td>227100</td>\n",
       "      <td>103.3</td>\n",
       "      <td>276100</td>\n",
       "      <td>103.2</td>\n",
       "      <td>215800</td>\n",
       "      <td>101.9</td>\n",
       "      <td>317000</td>\n",
       "      <td>103.2</td>\n",
       "    </tr>\n",
       "    <tr>\n",
       "      <th>4</th>\n",
       "      <td>196100</td>\n",
       "      <td>102.9</td>\n",
       "      <td>257300</td>\n",
       "      <td>103.7</td>\n",
       "      <td>229300</td>\n",
       "      <td>104.3</td>\n",
       "      <td>277900</td>\n",
       "      <td>103.9</td>\n",
       "      <td>217300</td>\n",
       "      <td>102.6</td>\n",
       "      <td>318200</td>\n",
       "      <td>103.6</td>\n",
       "    </tr>\n",
       "    <tr>\n",
       "      <th>...</th>\n",
       "      <td>...</td>\n",
       "      <td>...</td>\n",
       "      <td>...</td>\n",
       "      <td>...</td>\n",
       "      <td>...</td>\n",
       "      <td>...</td>\n",
       "      <td>...</td>\n",
       "      <td>...</td>\n",
       "      <td>...</td>\n",
       "      <td>...</td>\n",
       "      <td>...</td>\n",
       "      <td>...</td>\n",
       "    </tr>\n",
       "    <tr>\n",
       "      <th>184</th>\n",
       "      <td>477700</td>\n",
       "      <td>250.7</td>\n",
       "      <td>606800</td>\n",
       "      <td>244.5</td>\n",
       "      <td>519600</td>\n",
       "      <td>236.4</td>\n",
       "      <td>648400</td>\n",
       "      <td>242.4</td>\n",
       "      <td>512900</td>\n",
       "      <td>242.2</td>\n",
       "      <td>757800</td>\n",
       "      <td>246.7</td>\n",
       "    </tr>\n",
       "    <tr>\n",
       "      <th>185</th>\n",
       "      <td>473900</td>\n",
       "      <td>248.7</td>\n",
       "      <td>609500</td>\n",
       "      <td>245.6</td>\n",
       "      <td>525500</td>\n",
       "      <td>239.1</td>\n",
       "      <td>654300</td>\n",
       "      <td>244.6</td>\n",
       "      <td>515700</td>\n",
       "      <td>243.5</td>\n",
       "      <td>763300</td>\n",
       "      <td>248.5</td>\n",
       "    </tr>\n",
       "    <tr>\n",
       "      <th>186</th>\n",
       "      <td>478100</td>\n",
       "      <td>250.9</td>\n",
       "      <td>622100</td>\n",
       "      <td>250.7</td>\n",
       "      <td>539200</td>\n",
       "      <td>245.3</td>\n",
       "      <td>671100</td>\n",
       "      <td>250.9</td>\n",
       "      <td>519300</td>\n",
       "      <td>245.2</td>\n",
       "      <td>782100</td>\n",
       "      <td>254.6</td>\n",
       "    </tr>\n",
       "    <tr>\n",
       "      <th>187</th>\n",
       "      <td>478700</td>\n",
       "      <td>251.2</td>\n",
       "      <td>631100</td>\n",
       "      <td>254.3</td>\n",
       "      <td>548400</td>\n",
       "      <td>249.5</td>\n",
       "      <td>683400</td>\n",
       "      <td>255.5</td>\n",
       "      <td>527300</td>\n",
       "      <td>249.0</td>\n",
       "      <td>797100</td>\n",
       "      <td>259.5</td>\n",
       "    </tr>\n",
       "    <tr>\n",
       "      <th>188</th>\n",
       "      <td>478900</td>\n",
       "      <td>251.3</td>\n",
       "      <td>637800</td>\n",
       "      <td>257.0</td>\n",
       "      <td>556300</td>\n",
       "      <td>253.1</td>\n",
       "      <td>693300</td>\n",
       "      <td>259.2</td>\n",
       "      <td>540500</td>\n",
       "      <td>255.2</td>\n",
       "      <td>808200</td>\n",
       "      <td>263.1</td>\n",
       "    </tr>\n",
       "  </tbody>\n",
       "</table>\n",
       "<p>189 rows × 12 columns</p>\n",
       "</div>"
      ],
      "text/plain": [
       "    Apartment_Benchmark  Apartment_HPI Composite_Benchmark  Composite_HPI  \\\n",
       "0                190600          100.0              248200          100.0   \n",
       "1                192300          100.9              250600          101.0   \n",
       "2                193200          101.4              253100          102.0   \n",
       "3                194600          102.1              255400          102.9   \n",
       "4                196100          102.9              257300          103.7   \n",
       "..                  ...            ...                 ...            ...   \n",
       "184              477700          250.7              606800          244.5   \n",
       "185              473900          248.7              609500          245.6   \n",
       "186              478100          250.9              622100          250.7   \n",
       "187              478700          251.2              631100          254.3   \n",
       "188              478900          251.3              637800          257.0   \n",
       "\n",
       "    One_Storey_Benchmark  One_Storey_HPI Single_Family_Benchmark  \\\n",
       "0                 219800           100.0                  267500   \n",
       "1                 222000           101.0                  270200   \n",
       "2                 224600           102.2                  273400   \n",
       "3                 227100           103.3                  276100   \n",
       "4                 229300           104.3                  277900   \n",
       "..                   ...             ...                     ...   \n",
       "184               519600           236.4                  648400   \n",
       "185               525500           239.1                  654300   \n",
       "186               539200           245.3                  671100   \n",
       "187               548400           249.5                  683400   \n",
       "188               556300           253.1                  693300   \n",
       "\n",
       "     Single_Family_HPI Townhouse_Benchmark  Townhouse_HPI  \\\n",
       "0                100.0              211800          100.0   \n",
       "1                101.0              213100          100.6   \n",
       "2                102.2              214300          101.2   \n",
       "3                103.2              215800          101.9   \n",
       "4                103.9              217300          102.6   \n",
       "..                 ...                 ...            ...   \n",
       "184              242.4              512900          242.2   \n",
       "185              244.6              515700          243.5   \n",
       "186              250.9              519300          245.2   \n",
       "187              255.5              527300          249.0   \n",
       "188              259.2              540500          255.2   \n",
       "\n",
       "    Two_Storey_Benchmark  Two_Storey_HPI  \n",
       "0                 307200           100.0  \n",
       "1                 310600           101.1  \n",
       "2                 313900           102.2  \n",
       "3                 317000           103.2  \n",
       "4                 318200           103.6  \n",
       "..                   ...             ...  \n",
       "184               757800           246.7  \n",
       "185               763300           248.5  \n",
       "186               782100           254.6  \n",
       "187               797100           259.5  \n",
       "188               808200           263.1  \n",
       "\n",
       "[189 rows x 12 columns]"
      ]
     },
     "execution_count": 134,
     "metadata": {},
     "output_type": "execute_result"
    }
   ],
   "source": [
    "# show the columns with the Region is 'Aggregated'\n",
    "real_estate_prices_all[real_estate_prices_all['Region'] == 'Aggregate'].iloc[:, 2:]"
   ]
  },
  {
   "cell_type": "code",
   "execution_count": 135,
   "metadata": {},
   "outputs": [
    {
     "data": {
      "text/plain": [
       "array(['Aggregate', 'Vancouver_Island', 'Victoria', 'Lower_Mainland',\n",
       "       'Greater_Vancouver', 'Fraser_Valley', 'Okanagan_Valley', 'Calgary',\n",
       "       'Edmonton', 'Regina', 'Saskatoon', 'Winnipeg', 'Bancroft_and_Area',\n",
       "       'Barrie_and_District', 'Brantford_Region', 'Cambridge',\n",
       "       'Grey_Bruce_Owen_Sound', 'Guelph_and_District',\n",
       "       'Hamilton_Burlington', 'Huron_Perth', 'Kawartha_Lakes',\n",
       "       'Kitchener_Waterloo', 'Lakelands', 'London_St_Thomas',\n",
       "       'Mississauga', 'Niagara_Region', 'North_Bay',\n",
       "       'Northumberland_Hills', 'Oakville_Milton', 'Ottawa',\n",
       "       'Peterborough_and_Kawarthas', 'Quinte_and_District',\n",
       "       'Simcoe_and_District', 'Southern_Georgian_Bay',\n",
       "       'Tillsonburg_District', 'Greater_Toronto', 'Woodstock_Ingersoll',\n",
       "       'Montreal_CMA', 'Quebec_CMA', 'Greater_Moncton',\n",
       "       'Newfoundland_and_Labrador', 'St_Johns_NL'], dtype=object)"
      ]
     },
     "execution_count": 135,
     "metadata": {},
     "output_type": "execute_result"
    },
    {
     "data": {
      "text/html": [
       "<div>\n",
       "<style scoped>\n",
       "    .dataframe tbody tr th:only-of-type {\n",
       "        vertical-align: middle;\n",
       "    }\n",
       "\n",
       "    .dataframe tbody tr th {\n",
       "        vertical-align: top;\n",
       "    }\n",
       "\n",
       "    .dataframe thead th {\n",
       "        text-align: right;\n",
       "    }\n",
       "</style>\n",
       "<table border=\"1\" class=\"dataframe\">\n",
       "  <thead>\n",
       "    <tr style=\"text-align: right;\">\n",
       "      <th></th>\n",
       "      <th>Date</th>\n",
       "      <th>Region</th>\n",
       "      <th>Apartment_Benchmark</th>\n",
       "      <th>Apartment_HPI</th>\n",
       "      <th>Composite_Benchmark</th>\n",
       "      <th>Composite_HPI</th>\n",
       "      <th>One_Storey_Benchmark</th>\n",
       "      <th>One_Storey_HPI</th>\n",
       "      <th>Single_Family_Benchmark</th>\n",
       "      <th>Single_Family_HPI</th>\n",
       "      <th>Townhouse_Benchmark</th>\n",
       "      <th>Townhouse_HPI</th>\n",
       "      <th>Two_Storey_Benchmark</th>\n",
       "      <th>Two_Storey_HPI</th>\n",
       "    </tr>\n",
       "  </thead>\n",
       "  <tbody>\n",
       "    <tr>\n",
       "      <th>0</th>\n",
       "      <td>2005-01-01</td>\n",
       "      <td>Aggregate</td>\n",
       "      <td>190600</td>\n",
       "      <td>100.0</td>\n",
       "      <td>248200</td>\n",
       "      <td>100.0</td>\n",
       "      <td>219800</td>\n",
       "      <td>100.0</td>\n",
       "      <td>267500</td>\n",
       "      <td>100.0</td>\n",
       "      <td>211800</td>\n",
       "      <td>100.0</td>\n",
       "      <td>307200</td>\n",
       "      <td>100.0</td>\n",
       "    </tr>\n",
       "    <tr>\n",
       "      <th>1</th>\n",
       "      <td>2005-02-01</td>\n",
       "      <td>Aggregate</td>\n",
       "      <td>192300</td>\n",
       "      <td>100.9</td>\n",
       "      <td>250600</td>\n",
       "      <td>101.0</td>\n",
       "      <td>222000</td>\n",
       "      <td>101.0</td>\n",
       "      <td>270200</td>\n",
       "      <td>101.0</td>\n",
       "      <td>213100</td>\n",
       "      <td>100.6</td>\n",
       "      <td>310600</td>\n",
       "      <td>101.1</td>\n",
       "    </tr>\n",
       "    <tr>\n",
       "      <th>2</th>\n",
       "      <td>2005-03-01</td>\n",
       "      <td>Aggregate</td>\n",
       "      <td>193200</td>\n",
       "      <td>101.4</td>\n",
       "      <td>253100</td>\n",
       "      <td>102.0</td>\n",
       "      <td>224600</td>\n",
       "      <td>102.2</td>\n",
       "      <td>273400</td>\n",
       "      <td>102.2</td>\n",
       "      <td>214300</td>\n",
       "      <td>101.2</td>\n",
       "      <td>313900</td>\n",
       "      <td>102.2</td>\n",
       "    </tr>\n",
       "    <tr>\n",
       "      <th>3</th>\n",
       "      <td>2005-04-01</td>\n",
       "      <td>Aggregate</td>\n",
       "      <td>194600</td>\n",
       "      <td>102.1</td>\n",
       "      <td>255400</td>\n",
       "      <td>102.9</td>\n",
       "      <td>227100</td>\n",
       "      <td>103.3</td>\n",
       "      <td>276100</td>\n",
       "      <td>103.2</td>\n",
       "      <td>215800</td>\n",
       "      <td>101.9</td>\n",
       "      <td>317000</td>\n",
       "      <td>103.2</td>\n",
       "    </tr>\n",
       "    <tr>\n",
       "      <th>4</th>\n",
       "      <td>2005-05-01</td>\n",
       "      <td>Aggregate</td>\n",
       "      <td>196100</td>\n",
       "      <td>102.9</td>\n",
       "      <td>257300</td>\n",
       "      <td>103.7</td>\n",
       "      <td>229300</td>\n",
       "      <td>104.3</td>\n",
       "      <td>277900</td>\n",
       "      <td>103.9</td>\n",
       "      <td>217300</td>\n",
       "      <td>102.6</td>\n",
       "      <td>318200</td>\n",
       "      <td>103.6</td>\n",
       "    </tr>\n",
       "    <tr>\n",
       "      <th>...</th>\n",
       "      <td>...</td>\n",
       "      <td>...</td>\n",
       "      <td>...</td>\n",
       "      <td>...</td>\n",
       "      <td>...</td>\n",
       "      <td>...</td>\n",
       "      <td>...</td>\n",
       "      <td>...</td>\n",
       "      <td>...</td>\n",
       "      <td>...</td>\n",
       "      <td>...</td>\n",
       "      <td>...</td>\n",
       "      <td>...</td>\n",
       "      <td>...</td>\n",
       "    </tr>\n",
       "    <tr>\n",
       "      <th>184</th>\n",
       "      <td>2020-05-01</td>\n",
       "      <td>Aggregate</td>\n",
       "      <td>477700</td>\n",
       "      <td>250.7</td>\n",
       "      <td>606800</td>\n",
       "      <td>244.5</td>\n",
       "      <td>519600</td>\n",
       "      <td>236.4</td>\n",
       "      <td>648400</td>\n",
       "      <td>242.4</td>\n",
       "      <td>512900</td>\n",
       "      <td>242.2</td>\n",
       "      <td>757800</td>\n",
       "      <td>246.7</td>\n",
       "    </tr>\n",
       "    <tr>\n",
       "      <th>185</th>\n",
       "      <td>2020-06-01</td>\n",
       "      <td>Aggregate</td>\n",
       "      <td>473900</td>\n",
       "      <td>248.7</td>\n",
       "      <td>609500</td>\n",
       "      <td>245.6</td>\n",
       "      <td>525500</td>\n",
       "      <td>239.1</td>\n",
       "      <td>654300</td>\n",
       "      <td>244.6</td>\n",
       "      <td>515700</td>\n",
       "      <td>243.5</td>\n",
       "      <td>763300</td>\n",
       "      <td>248.5</td>\n",
       "    </tr>\n",
       "    <tr>\n",
       "      <th>186</th>\n",
       "      <td>2020-07-01</td>\n",
       "      <td>Aggregate</td>\n",
       "      <td>478100</td>\n",
       "      <td>250.9</td>\n",
       "      <td>622100</td>\n",
       "      <td>250.7</td>\n",
       "      <td>539200</td>\n",
       "      <td>245.3</td>\n",
       "      <td>671100</td>\n",
       "      <td>250.9</td>\n",
       "      <td>519300</td>\n",
       "      <td>245.2</td>\n",
       "      <td>782100</td>\n",
       "      <td>254.6</td>\n",
       "    </tr>\n",
       "    <tr>\n",
       "      <th>187</th>\n",
       "      <td>2020-08-01</td>\n",
       "      <td>Aggregate</td>\n",
       "      <td>478700</td>\n",
       "      <td>251.2</td>\n",
       "      <td>631100</td>\n",
       "      <td>254.3</td>\n",
       "      <td>548400</td>\n",
       "      <td>249.5</td>\n",
       "      <td>683400</td>\n",
       "      <td>255.5</td>\n",
       "      <td>527300</td>\n",
       "      <td>249.0</td>\n",
       "      <td>797100</td>\n",
       "      <td>259.5</td>\n",
       "    </tr>\n",
       "    <tr>\n",
       "      <th>188</th>\n",
       "      <td>2020-09-01</td>\n",
       "      <td>Aggregate</td>\n",
       "      <td>478900</td>\n",
       "      <td>251.3</td>\n",
       "      <td>637800</td>\n",
       "      <td>257.0</td>\n",
       "      <td>556300</td>\n",
       "      <td>253.1</td>\n",
       "      <td>693300</td>\n",
       "      <td>259.2</td>\n",
       "      <td>540500</td>\n",
       "      <td>255.2</td>\n",
       "      <td>808200</td>\n",
       "      <td>263.1</td>\n",
       "    </tr>\n",
       "  </tbody>\n",
       "</table>\n",
       "<p>189 rows × 14 columns</p>\n",
       "</div>"
      ],
      "text/plain": [
       "          Date     Region Apartment_Benchmark  Apartment_HPI  \\\n",
       "0   2005-01-01  Aggregate              190600          100.0   \n",
       "1   2005-02-01  Aggregate              192300          100.9   \n",
       "2   2005-03-01  Aggregate              193200          101.4   \n",
       "3   2005-04-01  Aggregate              194600          102.1   \n",
       "4   2005-05-01  Aggregate              196100          102.9   \n",
       "..         ...        ...                 ...            ...   \n",
       "184 2020-05-01  Aggregate              477700          250.7   \n",
       "185 2020-06-01  Aggregate              473900          248.7   \n",
       "186 2020-07-01  Aggregate              478100          250.9   \n",
       "187 2020-08-01  Aggregate              478700          251.2   \n",
       "188 2020-09-01  Aggregate              478900          251.3   \n",
       "\n",
       "    Composite_Benchmark  Composite_HPI One_Storey_Benchmark  One_Storey_HPI  \\\n",
       "0                248200          100.0               219800           100.0   \n",
       "1                250600          101.0               222000           101.0   \n",
       "2                253100          102.0               224600           102.2   \n",
       "3                255400          102.9               227100           103.3   \n",
       "4                257300          103.7               229300           104.3   \n",
       "..                  ...            ...                  ...             ...   \n",
       "184              606800          244.5               519600           236.4   \n",
       "185              609500          245.6               525500           239.1   \n",
       "186              622100          250.7               539200           245.3   \n",
       "187              631100          254.3               548400           249.5   \n",
       "188              637800          257.0               556300           253.1   \n",
       "\n",
       "    Single_Family_Benchmark  Single_Family_HPI Townhouse_Benchmark  \\\n",
       "0                    267500              100.0              211800   \n",
       "1                    270200              101.0              213100   \n",
       "2                    273400              102.2              214300   \n",
       "3                    276100              103.2              215800   \n",
       "4                    277900              103.9              217300   \n",
       "..                      ...                ...                 ...   \n",
       "184                  648400              242.4              512900   \n",
       "185                  654300              244.6              515700   \n",
       "186                  671100              250.9              519300   \n",
       "187                  683400              255.5              527300   \n",
       "188                  693300              259.2              540500   \n",
       "\n",
       "     Townhouse_HPI Two_Storey_Benchmark  Two_Storey_HPI  \n",
       "0            100.0               307200           100.0  \n",
       "1            100.6               310600           101.1  \n",
       "2            101.2               313900           102.2  \n",
       "3            101.9               317000           103.2  \n",
       "4            102.6               318200           103.6  \n",
       "..             ...                  ...             ...  \n",
       "184          242.2               757800           246.7  \n",
       "185          243.5               763300           248.5  \n",
       "186          245.2               782100           254.6  \n",
       "187          249.0               797100           259.5  \n",
       "188          255.2               808200           263.1  \n",
       "\n",
       "[189 rows x 14 columns]"
      ]
     },
     "execution_count": 135,
     "metadata": {},
     "output_type": "execute_result"
    }
   ],
   "source": [
    "# unque values of the Region column\n",
    "real_estate_prices_all['Region'].unique()\n",
    "\n",
    "# rows there Region = Aggregate\n",
    "real_estate_prices_all[real_estate_prices_all['Region'] == 'Aggregate']"
   ]
  },
  {
   "attachments": {},
   "cell_type": "markdown",
   "metadata": {},
   "source": [
    "# Investigate the unique values in region of the real_estate_prices.xlsx and real_estate_numbers.csv\n",
    "\n"
   ]
  },
  {
   "cell_type": "code",
   "execution_count": 136,
   "metadata": {},
   "outputs": [
    {
     "data": {
      "text/plain": [
       "Index(['Date', 'Region', 'Apartment_Benchmark', 'Apartment_HPI',\n",
       "       'Composite_Benchmark', 'Composite_HPI', 'One_Storey_Benchmark',\n",
       "       'One_Storey_HPI', 'Single_Family_Benchmark', 'Single_Family_HPI',\n",
       "       'Townhouse_Benchmark', 'Townhouse_HPI', 'Two_Storey_Benchmark',\n",
       "       'Two_Storey_HPI'],\n",
       "      dtype='object')"
      ]
     },
     "execution_count": 136,
     "metadata": {},
     "output_type": "execute_result"
    },
    {
     "data": {
      "text/plain": [
       "array(['Aggregate', 'Vancouver_Island', 'Victoria', 'Lower_Mainland',\n",
       "       'Greater_Vancouver', 'Fraser_Valley', 'Okanagan_Valley', 'Calgary',\n",
       "       'Edmonton', 'Regina', 'Saskatoon', 'Winnipeg', 'Bancroft_and_Area',\n",
       "       'Barrie_and_District', 'Brantford_Region', 'Cambridge',\n",
       "       'Grey_Bruce_Owen_Sound', 'Guelph_and_District',\n",
       "       'Hamilton_Burlington', 'Huron_Perth', 'Kawartha_Lakes',\n",
       "       'Kitchener_Waterloo', 'Lakelands', 'London_St_Thomas',\n",
       "       'Mississauga', 'Niagara_Region', 'North_Bay',\n",
       "       'Northumberland_Hills', 'Oakville_Milton', 'Ottawa',\n",
       "       'Peterborough_and_Kawarthas', 'Quinte_and_District',\n",
       "       'Simcoe_and_District', 'Southern_Georgian_Bay',\n",
       "       'Tillsonburg_District', 'Greater_Toronto', 'Woodstock_Ingersoll',\n",
       "       'Montreal_CMA', 'Quebec_CMA', 'Greater_Moncton',\n",
       "       'Newfoundland_and_Labrador', 'St_Johns_NL'], dtype=object)"
      ]
     },
     "execution_count": 136,
     "metadata": {},
     "output_type": "execute_result"
    },
    {
     "data": {
      "text/plain": [
       "array(['Aggregate', 'Vancouver_Island', 'Victoria', 'Lower_Mainland',\n",
       "       'Greater_Vancouver', 'Fraser_Valley', 'Okanagan_Valley', 'Calgary',\n",
       "       'Edmonton', 'Regina', 'Saskatoon', 'Winnipeg', 'Bancroft_and_Area',\n",
       "       'Barrie_and_District', 'Brantford_Region', 'Cambridge',\n",
       "       'Grey_Bruce_Owen_Sound', 'Guelph_and_District',\n",
       "       'Hamilton_Burlington', 'Huron_Perth', 'Kawartha_Lakes',\n",
       "       'Kitchener_Waterloo', 'Lakelands', 'London_St_Thomas',\n",
       "       'Mississauga', 'Niagara_Region', 'North_Bay',\n",
       "       'Northumberland_Hills', 'Oakville_Milton', 'Ottawa',\n",
       "       'Peterborough_and_Kawarthas', 'Quinte_and_District',\n",
       "       'Simcoe_and_District', 'Southern_Georgian_Bay',\n",
       "       'Tillsonburg_District', 'Greater_Toronto', 'Woodstock_Ingersoll',\n",
       "       'Montreal_CMA', 'Quebec_CMA', 'Greater_Moncton',\n",
       "       'Newfoundland_and_Labrador', 'St_Johns_NL'], dtype=object)"
      ]
     },
     "execution_count": 136,
     "metadata": {},
     "output_type": "execute_result"
    }
   ],
   "source": [
    "real_estate_prices_all.columns\n",
    "\n",
    "# show the unique values of the Region column\n",
    "real_estate_prices_all['Region'].unique()\n",
    "\n",
    "# # rename the values under the Region column, replace the 'Aggregate' with 'Canada', replace the '_' with ' '\n",
    "# real_estate_prices_all['Region'] = real_estate_prices_all['Region'].str.replace('Aggregate', 'Canada').str.replace('_', ' ')\n",
    "\n",
    "unique_region_values_real_estate_price = real_estate_prices_all['Region'].unique()\n",
    "\n",
    "unique_region_values_real_estate_price"
   ]
  },
  {
   "cell_type": "code",
   "execution_count": 137,
   "metadata": {},
   "outputs": [
    {
     "data": {
      "text/plain": [
       "Index(['Date (Year) R.E.N.', 'Province (R.E.N.) (inc. Canada)', 'Dguid',\n",
       "       'Housing Estimates (R.E.N)', 'Type Of Unit', 'Uom', 'Uom Id',\n",
       "       'Scalar Factor', 'Scalar Id', 'Vector', 'Coordinate',\n",
       "       'Real Estate Number', 'Decimals'],\n",
       "      dtype='object')"
      ]
     },
     "execution_count": 137,
     "metadata": {},
     "output_type": "execute_result"
    }
   ],
   "source": [
    "real_estate_numbers_cleaned.columns\n"
   ]
  },
  {
   "cell_type": "code",
   "execution_count": null,
   "metadata": {},
   "outputs": [],
   "source": []
  },
  {
   "cell_type": "code",
   "execution_count": 138,
   "metadata": {},
   "outputs": [
    {
     "data": {
      "text/plain": [
       "array(['Canada', 'Newfoundland and Labrador', 'Prince Edward Island',\n",
       "       'Nova Scotia', 'New Brunswick', 'Quebec', 'Ontario', 'Manitoba',\n",
       "       'Saskatchewan', 'Alberta', 'British Columbia'], dtype=object)"
      ]
     },
     "execution_count": 138,
     "metadata": {},
     "output_type": "execute_result"
    }
   ],
   "source": [
    "\n",
    "unique_region_values_real_estate_numbers = real_estate_numbers_cleaned['Province (R.E.N.) (inc. Canada)'].unique()\n",
    "\n",
    "unique_region_values_real_estate_numbers"
   ]
  },
  {
   "attachments": {},
   "cell_type": "markdown",
   "metadata": {},
   "source": [
    "# A useful fuzz function to find the similar strings in a list"
   ]
  },
  {
   "cell_type": "code",
   "execution_count": 139,
   "metadata": {},
   "outputs": [
    {
     "name": "stdout",
     "output_type": "stream",
     "text": [
      "Newfoundland and Labrador = Newfoundland_and_Labrador\n",
      "Prince Edward Island = Vancouver_Island\n",
      "Quebec = Quebec_CMA\n",
      "Saskatchewan = Saskatoon\n"
     ]
    },
    {
     "name": "stderr",
     "output_type": "stream",
     "text": [
      "/Users/ds/opt/anaconda3/envs/THE_ONE/lib/python3.10/site-packages/fuzzywuzzy/fuzz.py:11: UserWarning: Using slow pure-python SequenceMatcher. Install python-Levenshtein to remove this warning\n",
      "  warnings.warn('Using slow pure-python SequenceMatcher. Install python-Levenshtein to remove this warning')\n"
     ]
    }
   ],
   "source": [
    "# fuzz compare the unique_region_values_real_estate_numbers and unique_region_values_real_estate_price, for the common elements, show the result\n",
    "from fuzzywuzzy import fuzz\n",
    "\n",
    "for region in unique_region_values_real_estate_numbers:\n",
    "    for region2 in unique_region_values_real_estate_price:\n",
    "        if fuzz.ratio(region, region2) > 50:\n",
    "            print(f'{region} = {region2}')\n",
    "        "
   ]
  },
  {
   "attachments": {},
   "cell_type": "markdown",
   "metadata": {},
   "source": [
    "# Test plot\n"
   ]
  },
  {
   "cell_type": "code",
   "execution_count": 140,
   "metadata": {},
   "outputs": [
    {
     "data": {
      "text/plain": [
       "Index(['Date (Month) R.E.P.', 'Region (R.E.P)(inc. Aggregate)',\n",
       "       'Housing Type (R.E.P.)', 'Benchmark HPI', 'Real Estate Price'],\n",
       "      dtype='object')"
      ]
     },
     "execution_count": 140,
     "metadata": {},
     "output_type": "execute_result"
    },
    {
     "data": {
      "text/plain": [
       "array(['Benchmark', 'HPI'], dtype=object)"
      ]
     },
     "execution_count": 140,
     "metadata": {},
     "output_type": "execute_result"
    },
    {
     "data": {
      "text/plain": [
       "array(['Apartment', 'Composite', 'One Storey', 'Single Family',\n",
       "       'Townhouse', 'Two Storey'], dtype=object)"
      ]
     },
     "execution_count": 140,
     "metadata": {},
     "output_type": "execute_result"
    }
   ],
   "source": [
    "# real_estate_prices_all_cleaned = real_estate_prices_all_cleaned \n",
    "# find out the unique values of the Benchmark/HPI column\n",
    "real_estate_prices_all_pivot_cleaned.columns\n",
    "real_estate_prices_all_pivot_cleaned['Benchmark HPI'].unique()\n",
    "real_estate_prices_all_pivot_cleaned['Housing Type (R.E.P.)'].unique()"
   ]
  },
  {
   "cell_type": "code",
   "execution_count": 142,
   "metadata": {},
   "outputs": [
    {
     "data": {
      "text/plain": [
       "<seaborn.axisgrid.FacetGrid at 0x7ff1fac80460>"
      ]
     },
     "execution_count": 142,
     "metadata": {},
     "output_type": "execute_result"
    },
    {
     "data": {
      "image/png": "[encoded data removed]",
      "text/plain": [
       "<Figure size 1080x360 with 1 Axes>"
      ]
     },
     "metadata": {
      "needs_background": "light"
     },
     "output_type": "display_data"
    }
   ],
   "source": [
    "# plot values'Composite' in the 'Housing Type (R.E.P.)' columns, and 'Benchmark' 'HPI' as two in subplot\n",
    "\n",
    "# use sns.relplot() to plot the data\n",
    "# subplot (1, 2)\n",
    "# one for 'Composite' 'Benchmark' and another for 'Composite' 'HPI'\n",
    "\n",
    "# import plot related libraries\n",
    "import matplotlib.pyplot as plt\n",
    "import seaborn as sns\n",
    "\n",
    "# subplot (1, 2)\n",
    "# subset: ['Housing Type (R.E.P.)'] = 'Composite',  ['Benchmark HPI'] = 'Benchmark' , 'Region (R.E.P)(inc. Aggregate).' = 'Aggregate'\n",
    "\n",
    "# use sns.relplot() to plot the data\n",
    "# fig, axes = plt.subplots(1, 2, figsize=(20, 10))\n",
    "sns.relplot(x='Date (Month) R.E.P.', y='Real Estate Price', data=real_estate_prices_all_pivot_cleaned[(real_estate_prices_all_pivot_cleaned['Housing Type (R.E.P.)'] == 'Composite') & (real_estate_prices_all_pivot_cleaned['Benchmark HPI'] == 'Benchmark') & (real_estate_prices_all_pivot_cleaned['Region (R.E.P)(inc. Aggregate)'] == 'Aggregate')], kind='line', col='Housing Type (R.E.P.)', col_wrap=2, height=5, aspect=1.5)\n",
    "\n"
   ]
  },
  {
   "cell_type": "code",
   "execution_count": 143,
   "metadata": {},
   "outputs": [
    {
     "data": {
      "text/plain": [
       "<seaborn.axisgrid.FacetGrid at 0x7ff1d9d9ab60>"
      ]
     },
     "execution_count": 143,
     "metadata": {},
     "output_type": "execute_result"
    },
    {
     "data": {
      "image/png": "[encoded data removed]",
      "text/plain": [
       "<Figure size 1080x360 with 1 Axes>"
      ]
     },
     "metadata": {
      "needs_background": "light"
     },
     "output_type": "display_data"
    }
   ],
   "source": [
    "# plot the HPI instead of Benchmark\n",
    "sns.relplot(x='Date (Month) R.E.P.', y='Real Estate Price', data=real_estate_prices_all_pivot_cleaned[(real_estate_prices_all_pivot_cleaned['Housing Type (R.E.P.)'] == 'Composite') & (real_estate_prices_all_pivot_cleaned['Benchmark HPI'] == 'HPI') & (real_estate_prices_all_pivot_cleaned['Region (R.E.P)(inc. Aggregate)'] == 'Aggregate')], kind='line', col='Housing Type (R.E.P.)', col_wrap=2, height=5, aspect=1.5)"
   ]
  },
  {
   "cell_type": "code",
   "execution_count": 159,
   "metadata": {},
   "outputs": [],
   "source": [
    "real_estate_prices_all_pivot_cleaned_benchmark = real_estate_prices_all_pivot_cleaned.copy()\n",
    "real_estate_prices_all_pivot_cleaned_hpi = real_estate_prices_all_pivot_cleaned.copy()\n",
    "\n",
    "# split the real_estate_prices_all_pivot_cleaned into two dataframes: real_estate_prices_all_pivot_cleaned_benchmark and real_estate_prices_all_pivot_cleaned_hpi\n",
    "\n",
    "real_estate_prices_all_pivot_cleaned_benchmark = real_estate_prices_all_pivot_cleaned_benchmark[real_estate_prices_all_pivot_cleaned_benchmark['Benchmark HPI'] == 'Benchmark']\n",
    "\n",
    "real_estate_prices_all_pivot_cleaned_hpi = real_estate_prices_all_pivot_cleaned_hpi[real_estate_prices_all_pivot_cleaned_hpi['Benchmark HPI'] == 'HPI']\n"
   ]
  },
  {
   "cell_type": "code",
   "execution_count": 160,
   "metadata": {},
   "outputs": [],
   "source": [
    "\n",
    "# drop the 'Benchmark HPI' column for both dataframes\n",
    "real_estate_prices_all_pivot_cleaned_benchmark.drop(columns=['Benchmark HPI'], inplace=True)\n",
    "real_estate_prices_all_pivot_cleaned_hpi.drop(columns=['Benchmark HPI'], inplace=True)\n",
    "\n"
   ]
  },
  {
   "cell_type": "code",
   "execution_count": 161,
   "metadata": {},
   "outputs": [],
   "source": [
    "\n",
    "# append \"Benchmark\" to the column names of real_estate_prices_all_pivot_cleaned_benchmark\n",
    "# append \"HPI\" to the column names of real_estate_prices_all_pivot_cleaned_hpi\n",
    "column_name_benchmark = real_estate_prices_all_pivot_cleaned_benchmark.columns\n",
    "column_name_hpi = real_estate_prices_all_pivot_cleaned_hpi.columns\n"
   ]
  },
  {
   "cell_type": "code",
   "execution_count": 162,
   "metadata": {},
   "outputs": [],
   "source": [
    "# rename the columns by adding 'Benchmark' to the column names\n",
    "real_estate_prices_all_pivot_cleaned_benchmark.columns = [column_name + ' Benchmark' for column_name in column_name_benchmark]\n"
   ]
  },
  {
   "cell_type": "code",
   "execution_count": 163,
   "metadata": {},
   "outputs": [],
   "source": [
    "# rename the columns by adding 'HPI' to the column names\n",
    "real_estate_prices_all_pivot_cleaned_hpi.columns = [column_name + ' HPI' for column_name in column_name_hpi]"
   ]
  },
  {
   "cell_type": "code",
   "execution_count": 164,
   "metadata": {},
   "outputs": [
    {
     "data": {
      "text/plain": [
       "Index(['Date (Month) R.E.P. Benchmark',\n",
       "       'Region (R.E.P)(inc. Aggregate) Benchmark',\n",
       "       'Housing Type (R.E.P.) Benchmark', 'Real Estate Price Benchmark'],\n",
       "      dtype='object')"
      ]
     },
     "execution_count": 164,
     "metadata": {},
     "output_type": "execute_result"
    },
    {
     "data": {
      "text/plain": [
       "Index(['Date (Month) R.E.P. HPI', 'Region (R.E.P)(inc. Aggregate) HPI',\n",
       "       'Housing Type (R.E.P.) HPI', 'Real Estate Price HPI'],\n",
       "      dtype='object')"
      ]
     },
     "execution_count": 164,
     "metadata": {},
     "output_type": "execute_result"
    }
   ],
   "source": [
    "\n",
    "\n",
    "real_estate_prices_all_pivot_cleaned_benchmark.columns\n",
    "real_estate_prices_all_pivot_cleaned_hpi.columns"
   ]
  },
  {
   "cell_type": "code",
   "execution_count": 165,
   "metadata": {},
   "outputs": [],
   "source": [
    "\n",
    "# write them to csv files\n",
    "real_estate_prices_all_pivot_cleaned_benchmark.to_csv('data_cleaned/real_estate_prices_all_pivot_cleaned_benchmark.csv', index=False)\n",
    "real_estate_prices_all_pivot_cleaned_hpi.to_csv('data_cleaned/real_estate_prices_all_pivot_cleaned_hpi.csv', index=False)\n",
    "\n",
    "\n",
    "\n",
    "\n"
   ]
  }
 ],
 "metadata": {
  "kernelspec": {
   "display_name": "THE_ONE",
   "language": "python",
   "name": "the_one"
  },
  "language_info": {
   "codemirror_mode": {
    "name": "ipython",
    "version": 3
   },
   "file_extension": ".py",
   "mimetype": "text/x-python",
   "name": "python",
   "nbconvert_exporter": "python",
   "pygments_lexer": "ipython3",
   "version": "3.10.4"
  },
  "orig_nbformat": 4
 },
 "nbformat": 4,
 "nbformat_minor": 2
}
